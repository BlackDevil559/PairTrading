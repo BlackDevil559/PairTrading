{
 "cells": [
  {
   "cell_type": "code",
   "execution_count": 1,
   "metadata": {},
   "outputs": [],
   "source": [
    "import yfinance as yf\n",
    "import pandas as pd\n",
    "import numpy as np\n",
    "pd.set_option('display.max_rows', 300)\n",
    "from sklearn.preprocessing import LabelEncoder\n",
    "from sklearn.preprocessing import OneHotEncoder\n",
    "from tqdm import tqdm\n",
    "from sklearn.manifold import TSNE\n",
    "import matplotlib.pyplot as plt\n",
    "import seaborn as sns\n",
    "from sklearn.cluster import DBSCAN\n",
    "from collections import Counter\n",
    "from prettytable import PrettyTable\n",
    "from statsmodels.tsa.stattools import coint\n",
    "import statsmodels.api as sm\n",
    "from sklearn.preprocessing import StandardScaler\n",
    "from numpy.fft import *\n",
    "from sklearn.metrics import mean_squared_error,make_scorer\n",
    "from sklearn.model_selection import GridSearchCV,RandomizedSearchCV"
   ]
  },
  {
   "cell_type": "code",
   "execution_count": 3,
   "metadata": {},
   "outputs": [],
   "source": [
    "data = pd.read_csv('assets/BSE-list-of-companies.csv')\n",
    "data_equity = data[data['Instrument'] == 'Equity'].dropna()\n",
    "data_equity_active = data_equity[data_equity['Status']=='Active']\n",
    "data_equity_active.to_csv('assets/Stock_data.csv')"
   ]
  },
  {
   "cell_type": "code",
   "execution_count": 5,
   "metadata": {},
   "outputs": [],
   "source": [
    "data_equity_active = pd.read_csv('assets/Stock_data.csv')\n",
    "data_equity_active  = data_equity_active.drop(['Unnamed: 0','Face Value','ISIN No','Instrument','Status','Security Code'],axis=1)"
   ]
  },
  {
   "cell_type": "code",
   "execution_count": 6,
   "metadata": {},
   "outputs": [],
   "source": [
    "from datetime import datetime\n",
    "def download_data(symbol, start_date, end_date):\n",
    "    try:\n",
    "        df = yf.download(symbol, start=start_date, end=end_date)\n",
    "        if df.empty:\n",
    "            raise ValueError(f\"No data found for {symbol} in the given date range.\")\n",
    "        return df\n",
    "    except Exception as e:\n",
    "        print(f\"Error downloading data: {e}\")\n",
    "        return None"
   ]
  },
  {
   "cell_type": "code",
   "execution_count": 7,
   "metadata": {},
   "outputs": [
    {
     "name": "stderr",
     "output_type": "stream",
     "text": [
      "Processing Stocks:   0%|          | 0/2919 [00:00<?, ?it/s]"
     ]
    },
    {
     "name": "stdout",
     "output_type": "stream",
     "text": [
      "YF.download() has changed argument auto_adjust default to True\n"
     ]
    },
    {
     "name": "stderr",
     "output_type": "stream",
     "text": [
      "[*********************100%***********************]  1 of 1 completed\n",
      "[*********************100%***********************]  1 of 1 completed]\n",
      "[*********************100%***********************]  1 of 1 completed]\n",
      "\n",
      "1 Failed download:\n",
      "['AMARAJABAT.BO']: YFTzMissingError('possibly delisted; no timezone found')\n",
      "Processing Stocks:   0%|          | 3/2919 [00:12<2:52:09,  3.54s/it]"
     ]
    },
    {
     "name": "stdout",
     "output_type": "stream",
     "text": [
      "Error downloading data: No data found for AMARAJABAT.BO in the given date range.\n"
     ]
    },
    {
     "name": "stderr",
     "output_type": "stream",
     "text": [
      "[*********************100%***********************]  1 of 1 completed\n",
      "\n",
      "1 Failed download:\n",
      "['HDFC.BO']: YFTzMissingError('possibly delisted; no timezone found')\n",
      "Processing Stocks:   0%|          | 4/2919 [00:13<2:10:48,  2.69s/it]"
     ]
    },
    {
     "name": "stdout",
     "output_type": "stream",
     "text": [
      "Error downloading data: No data found for HDFC.BO in the given date range.\n"
     ]
    },
    {
     "name": "stderr",
     "output_type": "stream",
     "text": [
      "[*********************100%***********************]  1 of 1 completed\n",
      "[*********************100%***********************]  1 of 1 completed]\n",
      "[*********************100%***********************]  1 of 1 completed]\n",
      "[*********************100%***********************]  1 of 1 completed \n",
      "\n",
      "1 Failed download:\n",
      "['ASSAMCO.BO']: YFTzMissingError('possibly delisted; no timezone found')\n",
      "Processing Stocks:   0%|          | 8/2919 [00:16<1:01:06,  1.26s/it]"
     ]
    },
    {
     "name": "stdout",
     "output_type": "stream",
     "text": [
      "Error downloading data: No data found for ASSAMCO.BO in the given date range.\n"
     ]
    },
    {
     "name": "stderr",
     "output_type": "stream",
     "text": [
      "[*********************100%***********************]  1 of 1 completed\n",
      "[*********************100%***********************]  1 of 1 completed \n",
      "[*********************100%***********************]  1 of 1 completed\n",
      "\n",
      "1 Failed download:\n",
      "['AUTOLITIND.BO']: YFTzMissingError('possibly delisted; no timezone found')\n",
      "Processing Stocks:   0%|          | 11/2919 [00:19<52:10,  1.08s/it]"
     ]
    },
    {
     "name": "stdout",
     "output_type": "stream",
     "text": [
      "Error downloading data: No data found for AUTOLITIND.BO in the given date range.\n"
     ]
    },
    {
     "name": "stderr",
     "output_type": "stream",
     "text": [
      "[*********************100%***********************]  1 of 1 completed\n",
      "[*********************100%***********************]  1 of 1 completed\n",
      "[*********************100%***********************]  1 of 1 completed\n",
      "[*********************100%***********************]  1 of 1 completed\n",
      "[*********************100%***********************]  1 of 1 completed\n",
      "[*********************100%***********************]  1 of 1 completed\n",
      "[*********************100%***********************]  1 of 1 completed\n",
      "\n",
      "1 Failed download:\n",
      "['CENTURYTEX.BO']: YFTzMissingError('possibly delisted; no timezone found')\n",
      "Processing Stocks:   1%|          | 18/2919 [00:24<48:22,  1.00s/it]"
     ]
    },
    {
     "name": "stdout",
     "output_type": "stream",
     "text": [
      "Error downloading data: No data found for CENTURYTEX.BO in the given date range.\n"
     ]
    },
    {
     "name": "stderr",
     "output_type": "stream",
     "text": [
      "[*********************100%***********************]  1 of 1 completed\n",
      "[*********************100%***********************]  1 of 1 completed\n",
      "[*********************100%***********************]  1 of 1 completed\n",
      "[*********************100%***********************]  1 of 1 completed\n",
      "[*********************100%***********************]  1 of 1 completed\n",
      "[*********************100%***********************]  1 of 1 completed\n",
      "[*********************100%***********************]  1 of 1 completed\n",
      "\n",
      "1 Failed download:\n",
      "['BHUSANSTL.BO']: YFTzMissingError('possibly delisted; no timezone found')\n",
      "Processing Stocks:   1%|          | 25/2919 [00:29<39:27,  1.22it/s]"
     ]
    },
    {
     "name": "stdout",
     "output_type": "stream",
     "text": [
      "Error downloading data: No data found for BHUSANSTL.BO in the given date range.\n"
     ]
    },
    {
     "name": "stderr",
     "output_type": "stream",
     "text": [
      "[*********************100%***********************]  1 of 1 completed\n",
      "[*********************100%***********************]  1 of 1 completed\n",
      "[*********************100%***********************]  1 of 1 completed\n",
      "[*********************100%***********************]  1 of 1 completed\n",
      "[*********************100%***********************]  1 of 1 completed\n",
      "[*********************100%***********************]  1 of 1 completed\n",
      "[*********************100%***********************]  1 of 1 completed\n",
      "[*********************100%***********************]  1 of 1 completed\n",
      "[*********************100%***********************]  1 of 1 completed\n",
      "[*********************100%***********************]  1 of 1 completed\n",
      "[*********************100%***********************]  1 of 1 completed\n",
      "[*********************100%***********************]  1 of 1 completed\n",
      "[*********************100%***********************]  1 of 1 completed\n",
      "[*********************100%***********************]  1 of 1 completed\n",
      "[*********************100%***********************]  1 of 1 completed\n",
      "[*********************100%***********************]  1 of 1 completed\n",
      "[*********************100%***********************]  1 of 1 completed\n",
      "[*********************100%***********************]  1 of 1 completed\n",
      "[*********************100%***********************]  1 of 1 completed\n",
      "[*********************100%***********************]  1 of 1 completed\n",
      "[*********************100%***********************]  1 of 1 completed\n",
      "[*********************100%***********************]  1 of 1 completed\n",
      "[*********************100%***********************]  1 of 1 completed\n",
      "[*********************100%***********************]  1 of 1 completed\n",
      "[*********************100%***********************]  1 of 1 completed\n",
      "[*********************100%***********************]  1 of 1 completed\n",
      "[*********************100%***********************]  1 of 1 completed\n",
      "[*********************100%***********************]  1 of 1 completed\n",
      "[*********************100%***********************]  1 of 1 completed\n",
      "[*********************100%***********************]  1 of 1 completed\n",
      "[*********************100%***********************]  1 of 1 completed\n",
      "[*********************100%***********************]  1 of 1 completed\n",
      "[*********************100%***********************]  1 of 1 completed\n",
      "[*********************100%***********************]  1 of 1 completed\n",
      "\n",
      "1 Failed download:\n",
      "['MERCK.BO']: YFTzMissingError('possibly delisted; no timezone found')\n",
      "Processing Stocks:   2%|▏         | 59/2919 [00:46<37:12,  1.28it/s]"
     ]
    },
    {
     "name": "stdout",
     "output_type": "stream",
     "text": [
      "Error downloading data: No data found for MERCK.BO in the given date range.\n"
     ]
    },
    {
     "name": "stderr",
     "output_type": "stream",
     "text": [
      "[*********************100%***********************]  1 of 1 completed\n",
      "[*********************100%***********************]  1 of 1 completed\n",
      "[*********************100%***********************]  1 of 1 completed\n",
      "\n",
      "1 Failed download:\n",
      "['ESSELPRO.BO']: YFTzMissingError('possibly delisted; no timezone found')\n",
      "Processing Stocks:   2%|▏         | 62/2919 [00:49<51:23,  1.08s/it]"
     ]
    },
    {
     "name": "stdout",
     "output_type": "stream",
     "text": [
      "Error downloading data: No data found for ESSELPRO.BO in the given date range.\n"
     ]
    },
    {
     "name": "stderr",
     "output_type": "stream",
     "text": [
      "[*********************100%***********************]  1 of 1 completed\n",
      "[*********************100%***********************]  1 of 1 completed\n",
      "[*********************100%***********************]  1 of 1 completed\n",
      "[*********************100%***********************]  1 of 1 completed\n",
      "[*********************100%***********************]  1 of 1 completed\n",
      "[*********************100%***********************]  1 of 1 completed\n",
      "[*********************100%***********************]  1 of 1 completed\n",
      "[*********************100%***********************]  1 of 1 completed\n",
      "\n",
      "1 Failed download:\n",
      "['GARDENSILK.BO']: YFTzMissingError('possibly delisted; no timezone found')\n",
      "Processing Stocks:   2%|▏         | 70/2919 [00:54<38:47,  1.22it/s]"
     ]
    },
    {
     "name": "stdout",
     "output_type": "stream",
     "text": [
      "Error downloading data: No data found for GARDENSILK.BO in the given date range.\n"
     ]
    },
    {
     "name": "stderr",
     "output_type": "stream",
     "text": [
      "[*********************100%***********************]  1 of 1 completed\n",
      "[*********************100%***********************]  1 of 1 completed\n",
      "[*********************100%***********************]  1 of 1 completed\n",
      "[*********************100%***********************]  1 of 1 completed\n",
      "[*********************100%***********************]  1 of 1 completed\n",
      "[*********************100%***********************]  1 of 1 completed\n",
      "[*********************100%***********************]  1 of 1 completed\n",
      "[*********************100%***********************]  1 of 1 completed\n",
      "\n",
      "1 Failed download:\n",
      "['GUJFLUORO.BO']: YFTzMissingError('possibly delisted; no timezone found')\n",
      "Processing Stocks:   3%|▎         | 78/2919 [00:59<32:26,  1.46it/s]"
     ]
    },
    {
     "name": "stdout",
     "output_type": "stream",
     "text": [
      "Error downloading data: No data found for GUJFLUORO.BO in the given date range.\n"
     ]
    },
    {
     "name": "stderr",
     "output_type": "stream",
     "text": [
      "[*********************100%***********************]  1 of 1 completed\n",
      "[*********************100%***********************]  1 of 1 completed\n",
      "[*********************100%***********************]  1 of 1 completed\n",
      "[*********************100%***********************]  1 of 1 completed\n",
      "[*********************100%***********************]  1 of 1 completed\n",
      "[*********************100%***********************]  1 of 1 completed\n",
      "[*********************100%***********************]  1 of 1 completed\n",
      "[*********************100%***********************]  1 of 1 completed\n",
      "[*********************100%***********************]  1 of 1 completed\n",
      "[*********************100%***********************]  1 of 1 completed\n",
      "[*********************100%***********************]  1 of 1 completed\n",
      "\n",
      "1 Failed download:\n",
      "['HINDUJAVEN.BO']: YFTzMissingError('possibly delisted; no timezone found')\n",
      "Processing Stocks:   3%|▎         | 89/2919 [01:05<37:08,  1.27it/s]"
     ]
    },
    {
     "name": "stdout",
     "output_type": "stream",
     "text": [
      "Error downloading data: No data found for HINDUJAVEN.BO in the given date range.\n"
     ]
    },
    {
     "name": "stderr",
     "output_type": "stream",
     "text": [
      "[*********************100%***********************]  1 of 1 completed\n",
      "[*********************100%***********************]  1 of 1 completed\n",
      "[*********************100%***********************]  1 of 1 completed\n",
      "\n",
      "1 Failed download:\n",
      "['HOTELEELA.BO']: YFTzMissingError('possibly delisted; no timezone found')\n",
      "Processing Stocks:   3%|▎         | 92/2919 [01:07<38:23,  1.23it/s]"
     ]
    },
    {
     "name": "stdout",
     "output_type": "stream",
     "text": [
      "Error downloading data: No data found for HOTELEELA.BO in the given date range.\n"
     ]
    },
    {
     "name": "stderr",
     "output_type": "stream",
     "text": [
      "[*********************100%***********************]  1 of 1 completed\n",
      "[*********************100%***********************]  1 of 1 completed\n",
      "[*********************100%***********************]  1 of 1 completed\n",
      "[*********************100%***********************]  1 of 1 completed\n",
      "[*********************100%***********************]  1 of 1 completed\n",
      "[*********************100%***********************]  1 of 1 completed\n",
      "[*********************100%***********************]  1 of 1 completed\n",
      "[*********************100%***********************]  1 of 1 completed\n",
      "\n",
      "1 Failed download:\n",
      "['INSILCO.BO']: YFTzMissingError('possibly delisted; no timezone found')\n",
      "Processing Stocks:   3%|▎         | 100/2919 [01:12<38:17,  1.23it/s]"
     ]
    },
    {
     "name": "stdout",
     "output_type": "stream",
     "text": [
      "Error downloading data: No data found for INSILCO.BO in the given date range.\n"
     ]
    },
    {
     "name": "stderr",
     "output_type": "stream",
     "text": [
      "[*********************100%***********************]  1 of 1 completed\n",
      "\n",
      "1 Failed download:\n",
      "['IFSL.BO']: YFTzMissingError('possibly delisted; no timezone found')\n",
      "Processing Stocks:   3%|▎         | 101/2919 [01:14<50:03,  1.07s/it]"
     ]
    },
    {
     "name": "stdout",
     "output_type": "stream",
     "text": [
      "Error downloading data: No data found for IFSL.BO in the given date range.\n"
     ]
    },
    {
     "name": "stderr",
     "output_type": "stream",
     "text": [
      "[*********************100%***********************]  1 of 1 completed\n",
      "[*********************100%***********************]  1 of 1 completed]\n",
      "[*********************100%***********************]  1 of 1 completed]\n",
      "[*********************100%***********************]  1 of 1 completed]\n",
      "[*********************100%***********************]  1 of 1 completed]\n",
      "[*********************100%***********************]  1 of 1 completed]\n",
      "\n",
      "1 Failed download:\n",
      "['UMANGDAIR.BO']: YFTzMissingError('possibly delisted; no timezone found')\n",
      "Processing Stocks:   4%|▎         | 107/2919 [01:19<47:33,  1.01s/it]"
     ]
    },
    {
     "name": "stdout",
     "output_type": "stream",
     "text": [
      "Error downloading data: No data found for UMANGDAIR.BO in the given date range.\n"
     ]
    },
    {
     "name": "stderr",
     "output_type": "stream",
     "text": [
      "[*********************100%***********************]  1 of 1 completed\n",
      "[*********************100%***********************]  1 of 1 completed]\n",
      "[*********************100%***********************]  1 of 1 completed]\n",
      "[*********************100%***********************]  1 of 1 completed]\n",
      "[*********************100%***********************]  1 of 1 completed]\n",
      "[*********************100%***********************]  1 of 1 completed]\n",
      "[*********************100%***********************]  1 of 1 completed]\n",
      "[*********************100%***********************]  1 of 1 completed]\n",
      "[*********************100%***********************]  1 of 1 completed]\n",
      "[*********************100%***********************]  1 of 1 completed]\n",
      "\n",
      "1 Failed download:\n",
      "['MAVIIND.BO']: YFTzMissingError('possibly delisted; no timezone found')\n",
      "Processing Stocks:   4%|▍         | 117/2919 [01:25<39:11,  1.19it/s]"
     ]
    },
    {
     "name": "stdout",
     "output_type": "stream",
     "text": [
      "Error downloading data: No data found for MAVIIND.BO in the given date range.\n"
     ]
    },
    {
     "name": "stderr",
     "output_type": "stream",
     "text": [
      "[*********************100%***********************]  1 of 1 completed\n",
      "\n",
      "1 Failed download:\n",
      "['KSBPUMPS.BO']: ValueError('Length mismatch: Expected axis has 2 elements, new values have 1 elements')\n",
      "Processing Stocks:   4%|▍         | 118/2919 [01:26<34:37,  1.35it/s]"
     ]
    },
    {
     "name": "stdout",
     "output_type": "stream",
     "text": [
      "Error downloading data: No data found for KSBPUMPS.BO in the given date range.\n"
     ]
    },
    {
     "name": "stderr",
     "output_type": "stream",
     "text": [
      "[*********************100%***********************]  1 of 1 completed\n",
      "[*********************100%***********************]  1 of 1 completed]\n",
      "[*********************100%***********************]  1 of 1 completed]\n",
      "\n",
      "1 Failed download:\n",
      "['LAXMIMACH.BO']: YFTzMissingError('possibly delisted; no timezone found')\n",
      "Processing Stocks:   4%|▍         | 121/2919 [01:29<43:43,  1.07it/s]"
     ]
    },
    {
     "name": "stdout",
     "output_type": "stream",
     "text": [
      "Error downloading data: No data found for LAXMIMACH.BO in the given date range.\n"
     ]
    },
    {
     "name": "stderr",
     "output_type": "stream",
     "text": [
      "[*********************100%***********************]  1 of 1 completed\n",
      "[*********************100%***********************]  1 of 1 completed]\n",
      "\n",
      "1 Failed download:\n",
      "['UTTAMVALUE.BO']: YFTzMissingError('possibly delisted; no timezone found')\n",
      "Processing Stocks:   4%|▍         | 123/2919 [01:31<53:07,  1.14s/it]"
     ]
    },
    {
     "name": "stdout",
     "output_type": "stream",
     "text": [
      "Error downloading data: No data found for UTTAMVALUE.BO in the given date range.\n"
     ]
    },
    {
     "name": "stderr",
     "output_type": "stream",
     "text": [
      "[*********************100%***********************]  1 of 1 completed\n",
      "[*********************100%***********************]  1 of 1 completed]\n",
      "[*********************100%***********************]  1 of 1 completed]\n",
      "[*********************100%***********************]  1 of 1 completed]\n",
      "[*********************100%***********************]  1 of 1 completed]\n",
      "[*********************100%***********************]  1 of 1 completed]\n",
      "[*********************100%***********************]  1 of 1 completed]\n",
      "[*********************100%***********************]  1 of 1 completed]\n",
      "[*********************100%***********************]  1 of 1 completed]\n",
      "[*********************100%***********************]  1 of 1 completed]\n",
      "[*********************100%***********************]  1 of 1 completed]\n",
      "[*********************100%***********************]  1 of 1 completed]\n",
      "[*********************100%***********************]  1 of 1 completed]\n",
      "[*********************100%***********************]  1 of 1 completed]\n",
      "[*********************100%***********************]  1 of 1 completed]\n",
      "[*********************100%***********************]  1 of 1 completed]\n",
      "[*********************100%***********************]  1 of 1 completed]\n",
      "[*********************100%***********************]  1 of 1 completed]\n",
      "[*********************100%***********************]  1 of 1 completed]\n",
      "[*********************100%***********************]  1 of 1 completed]\n",
      "[*********************100%***********************]  1 of 1 completed]\n",
      "[*********************100%***********************]  1 of 1 completed]\n",
      "[*********************100%***********************]  1 of 1 completed]\n",
      "[*********************100%***********************]  1 of 1 completed]\n",
      "[*********************100%***********************]  1 of 1 completed]\n",
      "[*********************100%***********************]  1 of 1 completed]\n",
      "[*********************100%***********************]  1 of 1 completed]\n",
      "\n",
      "1 Failed download:\n",
      "['ORIENTBANK.BO']: YFTzMissingError('possibly delisted; no timezone found')\n",
      "Processing Stocks:   5%|▌         | 150/2919 [01:45<39:21,  1.17it/s]"
     ]
    },
    {
     "name": "stdout",
     "output_type": "stream",
     "text": [
      "Error downloading data: No data found for ORIENTBANK.BO in the given date range.\n"
     ]
    },
    {
     "name": "stderr",
     "output_type": "stream",
     "text": [
      "[*********************100%***********************]  1 of 1 completed\n",
      "[*********************100%***********************]  1 of 1 completed]\n",
      "[*********************100%***********************]  1 of 1 completed]\n",
      "[*********************100%***********************]  1 of 1 completed]\n",
      "[*********************100%***********************]  1 of 1 completed]\n",
      "[*********************100%***********************]  1 of 1 completed]\n",
      "[*********************100%***********************]  1 of 1 completed]\n",
      "[*********************100%***********************]  1 of 1 completed]\n",
      "[*********************100%***********************]  1 of 1 completed]\n",
      "[*********************100%***********************]  1 of 1 completed]\n",
      "\n",
      "1 Failed download:\n",
      "['PRISMCEM.BO']: YFTzMissingError('possibly delisted; no timezone found')\n",
      "Processing Stocks:   5%|▌         | 160/2919 [01:51<35:54,  1.28it/s]"
     ]
    },
    {
     "name": "stdout",
     "output_type": "stream",
     "text": [
      "Error downloading data: No data found for PRISMCEM.BO in the given date range.\n"
     ]
    },
    {
     "name": "stderr",
     "output_type": "stream",
     "text": [
      "[*********************100%***********************]  1 of 1 completed\n",
      "[*********************100%***********************]  1 of 1 completed]\n",
      "\n",
      "1 Failed download:\n",
      "['PDUMJEPULP.BO']: YFTzMissingError('possibly delisted; no timezone found')\n",
      "Processing Stocks:   6%|▌         | 162/2919 [01:53<41:45,  1.10it/s]"
     ]
    },
    {
     "name": "stdout",
     "output_type": "stream",
     "text": [
      "Error downloading data: No data found for PDUMJEPULP.BO in the given date range.\n"
     ]
    },
    {
     "name": "stderr",
     "output_type": "stream",
     "text": [
      "[*********************100%***********************]  1 of 1 completed\n",
      "[*********************100%***********************]  1 of 1 completed]\n",
      "[*********************100%***********************]  1 of 1 completed]\n",
      "[*********************100%***********************]  1 of 1 completed]\n",
      "[*********************100%***********************]  1 of 1 completed]\n",
      "[*********************100%***********************]  1 of 1 completed]\n",
      "[*********************100%***********************]  1 of 1 completed]\n",
      "\n",
      "1 Failed download:\n",
      "['RUCHISOYA.BO']: YFTzMissingError('possibly delisted; no timezone found')\n",
      "Processing Stocks:   6%|▌         | 169/2919 [01:57<32:54,  1.39it/s]"
     ]
    },
    {
     "name": "stdout",
     "output_type": "stream",
     "text": [
      "Error downloading data: No data found for RUCHISOYA.BO in the given date range.\n"
     ]
    },
    {
     "name": "stderr",
     "output_type": "stream",
     "text": [
      "[*********************100%***********************]  1 of 1 completed\n",
      "[*********************100%***********************]  1 of 1 completed]\n",
      "\n",
      "1 Failed download:\n",
      "['SAMTELIN.BO']: YFTzMissingError('possibly delisted; no timezone found')\n",
      "Processing Stocks:   6%|▌         | 171/2919 [01:59<36:14,  1.26it/s]"
     ]
    },
    {
     "name": "stdout",
     "output_type": "stream",
     "text": [
      "Error downloading data: No data found for SAMTELIN.BO in the given date range.\n"
     ]
    },
    {
     "name": "stderr",
     "output_type": "stream",
     "text": [
      "[*********************100%***********************]  1 of 1 completed\n",
      "[*********************100%***********************]  1 of 1 completed]\n",
      "[*********************100%***********************]  1 of 1 completed]\n",
      "[*********************100%***********************]  1 of 1 completed]\n",
      "[*********************100%***********************]  1 of 1 completed]\n",
      "[*********************100%***********************]  1 of 1 completed]\n",
      "[*********************100%***********************]  1 of 1 completed]\n",
      "\n",
      "1 Failed download:\n",
      "['SOLCT.BO']: YFTzMissingError('possibly delisted; no timezone found')\n",
      "Processing Stocks:   6%|▌         | 178/2919 [02:03<38:46,  1.18it/s]"
     ]
    },
    {
     "name": "stdout",
     "output_type": "stream",
     "text": [
      "Error downloading data: No data found for SOLCT.BO in the given date range.\n"
     ]
    },
    {
     "name": "stderr",
     "output_type": "stream",
     "text": [
      "[*********************100%***********************]  1 of 1 completed\n",
      "[*********************100%***********************]  1 of 1 completed]\n",
      "[*********************100%***********************]  1 of 1 completed]\n",
      "[*********************100%***********************]  1 of 1 completed]\n",
      "[*********************100%***********************]  1 of 1 completed]\n",
      "\n",
      "1 Failed download:\n",
      "['SUPPETRO.BO']: YFTzMissingError('possibly delisted; no timezone found')\n",
      "Processing Stocks:   6%|▋         | 183/2919 [02:07<47:38,  1.04s/it]"
     ]
    },
    {
     "name": "stdout",
     "output_type": "stream",
     "text": [
      "Error downloading data: No data found for SUPPETRO.BO in the given date range.\n"
     ]
    },
    {
     "name": "stderr",
     "output_type": "stream",
     "text": [
      "[*********************100%***********************]  1 of 1 completed\n",
      "[*********************100%***********************]  1 of 1 completed]\n",
      "[*********************100%***********************]  1 of 1 completed]\n",
      "[*********************100%***********************]  1 of 1 completed]\n",
      "[*********************100%***********************]  1 of 1 completed]\n",
      "[*********************100%***********************]  1 of 1 completed]\n",
      "[*********************100%***********************]  1 of 1 completed]\n",
      "[*********************100%***********************]  1 of 1 completed]\n",
      "[*********************100%***********************]  1 of 1 completed]\n",
      "[*********************100%***********************]  1 of 1 completed]\n",
      "[*********************100%***********************]  1 of 1 completed]\n",
      "[*********************100%***********************]  1 of 1 completed]\n",
      "\n",
      "1 Failed download:\n",
      "['UNIPHOS.BO']: YFTzMissingError('possibly delisted; no timezone found')\n",
      "Processing Stocks:   7%|▋         | 195/2919 [02:14<35:35,  1.28it/s]"
     ]
    },
    {
     "name": "stdout",
     "output_type": "stream",
     "text": [
      "Error downloading data: No data found for UNIPHOS.BO in the given date range.\n"
     ]
    },
    {
     "name": "stderr",
     "output_type": "stream",
     "text": [
      "[*********************100%***********************]  1 of 1 completed\n",
      "[*********************100%***********************]  1 of 1 completed]\n",
      "[*********************100%***********************]  1 of 1 completed]\n",
      "[*********************100%***********************]  1 of 1 completed]\n",
      "[*********************100%***********************]  1 of 1 completed]\n",
      "[*********************100%***********************]  1 of 1 completed]\n",
      "[*********************100%***********************]  1 of 1 completed]\n",
      "[*********************100%***********************]  1 of 1 completed]\n",
      "\n",
      "1 Failed download:\n",
      "['AGCNET.BO']: YFTzMissingError('possibly delisted; no timezone found')\n",
      "Processing Stocks:   7%|▋         | 203/2919 [02:18<34:01,  1.33it/s]"
     ]
    },
    {
     "name": "stdout",
     "output_type": "stream",
     "text": [
      "Error downloading data: No data found for AGCNET.BO in the given date range.\n"
     ]
    },
    {
     "name": "stderr",
     "output_type": "stream",
     "text": [
      "[*********************100%***********************]  1 of 1 completed\n",
      "\n",
      "1 Failed download:\n",
      "['UCALFUEL.BO']: YFTzMissingError('possibly delisted; no timezone found')\n",
      "Processing Stocks:   7%|▋         | 204/2919 [02:20<43:01,  1.05it/s]"
     ]
    },
    {
     "name": "stdout",
     "output_type": "stream",
     "text": [
      "Error downloading data: No data found for UCALFUEL.BO in the given date range.\n"
     ]
    },
    {
     "name": "stderr",
     "output_type": "stream",
     "text": [
      "[*********************100%***********************]  1 of 1 completed\n",
      "[*********************100%***********************]  1 of 1 completed]\n",
      "[*********************100%***********************]  1 of 1 completed]\n",
      "[*********************100%***********************]  1 of 1 completed]\n",
      "[*********************100%***********************]  1 of 1 completed]\n",
      "[*********************100%***********************]  1 of 1 completed]\n",
      "[*********************100%***********************]  1 of 1 completed]\n",
      "[*********************100%***********************]  1 of 1 completed]\n",
      "[*********************100%***********************]  1 of 1 completed]\n",
      "[*********************100%***********************]  1 of 1 completed]\n",
      "[*********************100%***********************]  1 of 1 completed]\n",
      "[*********************100%***********************]  1 of 1 completed]\n",
      "[*********************100%***********************]  1 of 1 completed]\n",
      "[*********************100%***********************]  1 of 1 completed]\n",
      "\n",
      "1 Failed download:\n",
      "['M&AMP;M.BO']: YFTzMissingError('possibly delisted; no timezone found')\n",
      "Processing Stocks:   7%|▋         | 218/2919 [02:28<33:25,  1.35it/s]"
     ]
    },
    {
     "name": "stdout",
     "output_type": "stream",
     "text": [
      "Error downloading data: No data found for M&amp;M.BO in the given date range.\n"
     ]
    },
    {
     "name": "stderr",
     "output_type": "stream",
     "text": [
      "[*********************100%***********************]  1 of 1 completed\n",
      "[*********************100%***********************]  1 of 1 completed]\n",
      "[*********************100%***********************]  1 of 1 completed]\n",
      "[*********************100%***********************]  1 of 1 completed]\n",
      "[*********************100%***********************]  1 of 1 completed]\n",
      "[*********************100%***********************]  1 of 1 completed]\n",
      "[*********************100%***********************]  1 of 1 completed]\n",
      "[*********************100%***********************]  1 of 1 completed]\n",
      "[*********************100%***********************]  1 of 1 completed]\n",
      "[*********************100%***********************]  1 of 1 completed]\n",
      "\n",
      "1 Failed download:\n",
      "['GARWARPOLY.BO']: YFTzMissingError('possibly delisted; no timezone found')\n",
      "Processing Stocks:   8%|▊         | 228/2919 [02:34<32:34,  1.38it/s]"
     ]
    },
    {
     "name": "stdout",
     "output_type": "stream",
     "text": [
      "Error downloading data: No data found for GARWARPOLY.BO in the given date range.\n"
     ]
    },
    {
     "name": "stderr",
     "output_type": "stream",
     "text": [
      "[*********************100%***********************]  1 of 1 completed\n",
      "[*********************100%***********************]  1 of 1 completed]\n",
      "[*********************100%***********************]  1 of 1 completed]\n",
      "[*********************100%***********************]  1 of 1 completed]\n",
      "[*********************100%***********************]  1 of 1 completed]\n",
      "\n",
      "1 Failed download:\n",
      "['GSKCONS.BO']: YFTzMissingError('possibly delisted; no timezone found')\n",
      "Processing Stocks:   8%|▊         | 233/2919 [02:38<43:19,  1.03it/s]"
     ]
    },
    {
     "name": "stdout",
     "output_type": "stream",
     "text": [
      "Error downloading data: No data found for GSKCONS.BO in the given date range.\n"
     ]
    },
    {
     "name": "stderr",
     "output_type": "stream",
     "text": [
      "[*********************100%***********************]  1 of 1 completed\n",
      "[*********************100%***********************]  1 of 1 completed]\n",
      "[*********************100%***********************]  1 of 1 completed]\n",
      "[*********************100%***********************]  1 of 1 completed]\n",
      "[*********************100%***********************]  1 of 1 completed]\n",
      "[*********************100%***********************]  1 of 1 completed]\n",
      "[*********************100%***********************]  1 of 1 completed]\n",
      "[*********************100%***********************]  1 of 1 completed]\n",
      "\n",
      "1 Failed download:\n",
      "['ZUARIGLOB.BO']: YFTzMissingError('possibly delisted; no timezone found')\n",
      "Processing Stocks:   8%|▊         | 241/2919 [02:43<45:05,  1.01s/it]"
     ]
    },
    {
     "name": "stdout",
     "output_type": "stream",
     "text": [
      "Error downloading data: No data found for ZUARIGLOB.BO in the given date range.\n"
     ]
    },
    {
     "name": "stderr",
     "output_type": "stream",
     "text": [
      "[*********************100%***********************]  1 of 1 completed\n",
      "[*********************100%***********************]  1 of 1 completed]\n",
      "\n",
      "1 Failed download:\n",
      "['TATAGLOBAL.BO']: YFTzMissingError('possibly delisted; no timezone found')\n",
      "Processing Stocks:   8%|▊         | 243/2919 [02:45<46:07,  1.03s/it]"
     ]
    },
    {
     "name": "stdout",
     "output_type": "stream",
     "text": [
      "Error downloading data: No data found for TATAGLOBAL.BO in the given date range.\n"
     ]
    },
    {
     "name": "stderr",
     "output_type": "stream",
     "text": [
      "[*********************100%***********************]  1 of 1 completed\n",
      "[*********************100%***********************]  1 of 1 completed]\n",
      "[*********************100%***********************]  1 of 1 completed]\n",
      "[*********************100%***********************]  1 of 1 completed]\n",
      "[*********************100%***********************]  1 of 1 completed]\n",
      "[*********************100%***********************]  1 of 1 completed]\n",
      "[*********************100%***********************]  1 of 1 completed]\n",
      "[*********************100%***********************]  1 of 1 completed]\n",
      "[*********************100%***********************]  1 of 1 completedit]\n",
      "[*********************100%***********************]  1 of 1 completedit]\n",
      "[*********************100%***********************]  1 of 1 completed]  \n",
      "\n",
      "1 Failed download:\n",
      "['FINOLEXIND.BO']: YFTzMissingError('possibly delisted; no timezone found')\n",
      "Processing Stocks:   9%|▊         | 254/2919 [02:57<1:01:32,  1.39s/it]"
     ]
    },
    {
     "name": "stdout",
     "output_type": "stream",
     "text": [
      "Error downloading data: No data found for FINOLEXIND.BO in the given date range.\n"
     ]
    },
    {
     "name": "stderr",
     "output_type": "stream",
     "text": [
      "[*********************100%***********************]  1 of 1 completed\n",
      "[*********************100%***********************]  1 of 1 completed]  \n",
      "\n",
      "1 Failed download:\n",
      "['SUNRINV.BO']: YFTzMissingError('possibly delisted; no timezone found')\n",
      "Processing Stocks:   9%|▉         | 256/2919 [03:00<56:05,  1.26s/it]"
     ]
    },
    {
     "name": "stdout",
     "output_type": "stream",
     "text": [
      "Error downloading data: No data found for SUNRINV.BO in the given date range.\n"
     ]
    },
    {
     "name": "stderr",
     "output_type": "stream",
     "text": [
      "[*********************100%***********************]  1 of 1 completed\n",
      "[*********************100%***********************]  1 of 1 completed]\n",
      "[*********************100%***********************]  1 of 1 completed]\n",
      "[*********************100%***********************]  1 of 1 completed]\n",
      "[*********************100%***********************]  1 of 1 completed]\n",
      "[*********************100%***********************]  1 of 1 completed]\n",
      "[*********************100%***********************]  1 of 1 completed]\n",
      "[*********************100%***********************]  1 of 1 completed]\n",
      "\n",
      "1 Failed download:\n",
      "['ZCHANAIN.BO']: YFTzMissingError('possibly delisted; no timezone found')\n",
      "Processing Stocks:   9%|▉         | 264/2919 [03:04<33:30,  1.32it/s]"
     ]
    },
    {
     "name": "stdout",
     "output_type": "stream",
     "text": [
      "Error downloading data: No data found for ZCHANAIN.BO in the given date range.\n"
     ]
    },
    {
     "name": "stderr",
     "output_type": "stream",
     "text": [
      "[*********************100%***********************]  1 of 1 completed\n",
      "[*********************100%***********************]  1 of 1 completed]\n",
      "[*********************100%***********************]  1 of 1 completed]\n",
      "[*********************100%***********************]  1 of 1 completed]\n",
      "[*********************100%***********************]  1 of 1 completed]\n",
      "\n",
      "1 Failed download:\n",
      "['ZSWASTSA.BO']: YFTzMissingError('possibly delisted; no timezone found')\n",
      "Processing Stocks:   9%|▉         | 269/2919 [03:07<30:27,  1.45it/s]"
     ]
    },
    {
     "name": "stdout",
     "output_type": "stream",
     "text": [
      "Error downloading data: No data found for ZSWASTSA.BO in the given date range.\n"
     ]
    },
    {
     "name": "stderr",
     "output_type": "stream",
     "text": [
      "[*********************100%***********************]  1 of 1 completed\n",
      "[*********************100%***********************]  1 of 1 completed]\n",
      "[*********************100%***********************]  1 of 1 completed]\n",
      "[*********************100%***********************]  1 of 1 completed]\n",
      "\n",
      "1 Failed download:\n",
      "['MACK.BO']: YFTzMissingError('possibly delisted; no timezone found')\n",
      "Processing Stocks:   9%|▉         | 273/2919 [03:10<49:27,  1.12s/it]"
     ]
    },
    {
     "name": "stdout",
     "output_type": "stream",
     "text": [
      "Error downloading data: No data found for MACK.BO in the given date range.\n"
     ]
    },
    {
     "name": "stderr",
     "output_type": "stream",
     "text": [
      "[*********************100%***********************]  1 of 1 completed\n",
      "[*********************100%***********************]  1 of 1 completed]\n",
      "\n",
      "1 Failed download:\n",
      "['ZNEWSAGA.BO']: YFPricesMissingError('possibly delisted; no price data found  (1d 2012-01-01 -> 2025-01-01)')\n",
      "Processing Stocks:   9%|▉         | 275/2919 [03:11<30:14,  1.46it/s]"
     ]
    },
    {
     "name": "stdout",
     "output_type": "stream",
     "text": [
      "Error downloading data: No data found for ZNEWSAGA.BO in the given date range.\n"
     ]
    },
    {
     "name": "stderr",
     "output_type": "stream",
     "text": [
      "[*********************100%***********************]  1 of 1 completed\n",
      "\n",
      "1 Failed download:\n",
      "['ANANDPROJ.BO']: YFTzMissingError('possibly delisted; no timezone found')\n",
      "Processing Stocks:   9%|▉         | 276/2919 [03:13<50:56,  1.16s/it]"
     ]
    },
    {
     "name": "stdout",
     "output_type": "stream",
     "text": [
      "Error downloading data: No data found for ANANDPROJ.BO in the given date range.\n"
     ]
    },
    {
     "name": "stderr",
     "output_type": "stream",
     "text": [
      "[*********************100%***********************]  1 of 1 completed\n",
      "\n",
      "1 Failed download:\n",
      "['CENTPROV.BO']: YFTzMissingError('possibly delisted; no timezone found')\n",
      "Processing Stocks:   9%|▉         | 277/2919 [03:15<52:21,  1.19s/it]"
     ]
    },
    {
     "name": "stdout",
     "output_type": "stream",
     "text": [
      "Error downloading data: No data found for CENTPROV.BO in the given date range.\n"
     ]
    },
    {
     "name": "stderr",
     "output_type": "stream",
     "text": [
      "[*********************100%***********************]  1 of 1 completed\n",
      "[*********************100%***********************]  1 of 1 completed]\n",
      "[*********************100%***********************]  1 of 1 completed]\n",
      "[*********************100%***********************]  1 of 1 completed]\n",
      "[*********************100%***********************]  1 of 1 completed]\n",
      "[*********************100%***********************]  1 of 1 completed]\n",
      "[*********************100%***********************]  1 of 1 completed]\n",
      "\n",
      "1 Failed download:\n",
      "['OCL.BO']: ValueError('Length mismatch: Expected axis has 2 elements, new values have 1 elements')\n",
      "Processing Stocks:  10%|▉         | 284/2919 [03:17<20:45,  2.12it/s]"
     ]
    },
    {
     "name": "stdout",
     "output_type": "stream",
     "text": [
      "Error downloading data: No data found for OCL.BO in the given date range.\n"
     ]
    },
    {
     "name": "stderr",
     "output_type": "stream",
     "text": [
      "[*********************100%***********************]  1 of 1 completed\n",
      "[*********************100%***********************]  1 of 1 completed]\n",
      "\n",
      "1 Failed download:\n",
      "['BOMBPOT.BO']: YFTzMissingError('possibly delisted; no timezone found')\n",
      "Processing Stocks:  10%|▉         | 286/2919 [03:19<30:45,  1.43it/s]"
     ]
    },
    {
     "name": "stdout",
     "output_type": "stream",
     "text": [
      "Error downloading data: No data found for BOMBPOT.BO in the given date range.\n"
     ]
    },
    {
     "name": "stderr",
     "output_type": "stream",
     "text": [
      "[*********************100%***********************]  1 of 1 completed\n",
      "\n",
      "1 Failed download:\n",
      "['BOROSIL.BO']: YFTzMissingError('possibly delisted; no timezone found')\n",
      "Processing Stocks:  10%|▉         | 287/2919 [03:20<35:38,  1.23it/s]"
     ]
    },
    {
     "name": "stdout",
     "output_type": "stream",
     "text": [
      "Error downloading data: No data found for BOROSIL.BO in the given date range.\n"
     ]
    },
    {
     "name": "stderr",
     "output_type": "stream",
     "text": [
      "[*********************100%***********************]  1 of 1 completed\n",
      "[*********************100%***********************]  1 of 1 completed]\n",
      "[*********************100%***********************]  1 of 1 completed]\n",
      "\n",
      "1 Failed download:\n",
      "['IPAPPM.BO']: YFTzMissingError('possibly delisted; no timezone found')\n",
      "Processing Stocks:  10%|▉         | 290/2919 [03:22<32:06,  1.36it/s]"
     ]
    },
    {
     "name": "stdout",
     "output_type": "stream",
     "text": [
      "Error downloading data: No data found for IPAPPM.BO in the given date range.\n"
     ]
    },
    {
     "name": "stderr",
     "output_type": "stream",
     "text": [
      "[*********************100%***********************]  1 of 1 completed\n",
      "[*********************100%***********************]  1 of 1 completed]\n",
      "[*********************100%***********************]  1 of 1 completed]\n",
      "[*********************100%***********************]  1 of 1 completed]\n",
      "[*********************100%***********************]  1 of 1 completed]\n",
      "\n",
      "1 Failed download:\n",
      "['SHBHAWPA.BO']: YFTzMissingError('possibly delisted; no timezone found')\n",
      "Processing Stocks:  10%|█         | 295/2919 [03:26<44:54,  1.03s/it]"
     ]
    },
    {
     "name": "stdout",
     "output_type": "stream",
     "text": [
      "Error downloading data: No data found for SHBHAWPA.BO in the given date range.\n"
     ]
    },
    {
     "name": "stderr",
     "output_type": "stream",
     "text": [
      "[*********************100%***********************]  1 of 1 completed\n",
      "\n",
      "1 Failed download:\n",
      "['RAMAPULP.BO']: YFTzMissingError('possibly delisted; no timezone found')\n",
      "Processing Stocks:  10%|█         | 296/2919 [03:27<48:56,  1.12s/it]"
     ]
    },
    {
     "name": "stdout",
     "output_type": "stream",
     "text": [
      "Error downloading data: No data found for RAMAPULP.BO in the given date range.\n"
     ]
    },
    {
     "name": "stderr",
     "output_type": "stream",
     "text": [
      "[*********************100%***********************]  1 of 1 completed\n",
      "\n",
      "1 Failed download:\n",
      "['VAPIPPR.BO']: YFTzMissingError('possibly delisted; no timezone found')\n",
      "Processing Stocks:  10%|█         | 297/2919 [03:29<51:31,  1.18s/it]"
     ]
    },
    {
     "name": "stdout",
     "output_type": "stream",
     "text": [
      "Error downloading data: No data found for VAPIPPR.BO in the given date range.\n"
     ]
    },
    {
     "name": "stderr",
     "output_type": "stream",
     "text": [
      "[*********************100%***********************]  1 of 1 completed\n",
      "\n",
      "1 Failed download:\n",
      "['SINTEX.BO']: YFTzMissingError('possibly delisted; no timezone found')\n",
      "Processing Stocks:  10%|█         | 298/2919 [03:30<55:37,  1.27s/it]"
     ]
    },
    {
     "name": "stdout",
     "output_type": "stream",
     "text": [
      "Error downloading data: No data found for SINTEX.BO in the given date range.\n"
     ]
    },
    {
     "name": "stderr",
     "output_type": "stream",
     "text": [
      "[*********************100%***********************]  1 of 1 completed\n",
      "\n",
      "1 Failed download:\n",
      "['BLUBLND-B.BO']: YFTzMissingError('possibly delisted; no timezone found')\n",
      "Processing Stocks:  10%|█         | 299/2919 [03:31<53:50,  1.23s/it]"
     ]
    },
    {
     "name": "stdout",
     "output_type": "stream",
     "text": [
      "Error downloading data: No data found for BLUBLND-B.BO in the given date range.\n"
     ]
    },
    {
     "name": "stderr",
     "output_type": "stream",
     "text": [
      "[*********************100%***********************]  1 of 1 completed\n",
      "[*********************100%***********************]  1 of 1 completed]\n",
      "\n",
      "1 Failed download:\n",
      "['ZGAEKWAR.BO']: YFTzMissingError('possibly delisted; no timezone found')\n",
      "Processing Stocks:  10%|█         | 301/2919 [03:33<50:55,  1.17s/it]"
     ]
    },
    {
     "name": "stdout",
     "output_type": "stream",
     "text": [
      "Error downloading data: No data found for ZGAEKWAR.BO in the given date range.\n"
     ]
    },
    {
     "name": "stderr",
     "output_type": "stream",
     "text": [
      "[*********************100%***********************]  1 of 1 completed\n",
      "[*********************100%***********************]  1 of 1 completed]\n",
      "[*********************100%***********************]  1 of 1 completed]\n",
      "[*********************100%***********************]  1 of 1 completed]\n",
      "[*********************100%***********************]  1 of 1 completed]\n",
      "[*********************100%***********************]  1 of 1 completed]\n",
      "[*********************100%***********************]  1 of 1 completed]\n",
      "[*********************100%***********************]  1 of 1 completed]\n",
      "[*********************100%***********************]  1 of 1 completed]\n",
      "[*********************100%***********************]  1 of 1 completed]\n",
      "[*********************100%***********************]  1 of 1 completed]\n",
      "\n",
      "1 Failed download:\n",
      "['ZSVTRADI.BO']: YFTzMissingError('possibly delisted; no timezone found')\n",
      "Processing Stocks:  11%|█         | 312/2919 [03:39<32:56,  1.32it/s]"
     ]
    },
    {
     "name": "stdout",
     "output_type": "stream",
     "text": [
      "Error downloading data: No data found for ZSVTRADI.BO in the given date range.\n"
     ]
    },
    {
     "name": "stderr",
     "output_type": "stream",
     "text": [
      "[*********************100%***********************]  1 of 1 completed\n",
      "[*********************100%***********************]  1 of 1 completed]\n",
      "\n",
      "1 Failed download:\n",
      "['KSHITIJ.BO']: YFTzMissingError('possibly delisted; no timezone found')\n",
      "Processing Stocks:  11%|█         | 314/2919 [03:41<41:31,  1.05it/s]"
     ]
    },
    {
     "name": "stdout",
     "output_type": "stream",
     "text": [
      "Error downloading data: No data found for KSHITIJ.BO in the given date range.\n"
     ]
    },
    {
     "name": "stderr",
     "output_type": "stream",
     "text": [
      "[*********************100%***********************]  1 of 1 completed\n",
      "\n",
      "1 Failed download:\n",
      "['INDSOYA.BO']: YFTzMissingError('possibly delisted; no timezone found')\n",
      "Processing Stocks:  11%|█         | 315/2919 [03:42<45:27,  1.05s/it]"
     ]
    },
    {
     "name": "stdout",
     "output_type": "stream",
     "text": [
      "Error downloading data: No data found for INDSOYA.BO in the given date range.\n"
     ]
    },
    {
     "name": "stderr",
     "output_type": "stream",
     "text": [
      "[*********************100%***********************]  1 of 1 completed\n",
      "[*********************100%***********************]  1 of 1 completed]\n",
      "\n",
      "1 Failed download:\n",
      "['UNIJOLL.BO']: YFTzMissingError('possibly delisted; no timezone found')\n",
      "Processing Stocks:  11%|█         | 317/2919 [03:44<51:27,  1.19s/it]"
     ]
    },
    {
     "name": "stdout",
     "output_type": "stream",
     "text": [
      "Error downloading data: No data found for UNIJOLL.BO in the given date range.\n"
     ]
    },
    {
     "name": "stderr",
     "output_type": "stream",
     "text": [
      "[*********************100%***********************]  1 of 1 completed\n",
      "[*********************100%***********************]  1 of 1 completed]\n",
      "\n",
      "1 Failed download:\n",
      "['HEALINV.BO']: YFTzMissingError('possibly delisted; no timezone found')\n",
      "Processing Stocks:  11%|█         | 319/2919 [03:46<43:48,  1.01s/it]"
     ]
    },
    {
     "name": "stdout",
     "output_type": "stream",
     "text": [
      "Error downloading data: No data found for HEALINV.BO in the given date range.\n"
     ]
    },
    {
     "name": "stderr",
     "output_type": "stream",
     "text": [
      "[*********************100%***********************]  1 of 1 completed\n",
      "[*********************100%***********************]  1 of 1 completed]\n",
      "[*********************100%***********************]  1 of 1 completed]\n",
      "[*********************100%***********************]  1 of 1 completed]\n",
      "[*********************100%***********************]  1 of 1 completed]\n",
      "[*********************100%***********************]  1 of 1 completed]\n",
      "[*********************100%***********************]  1 of 1 completed]\n",
      "\n",
      "1 Failed download:\n",
      "['HINDSYNTEX.BO']: YFTzMissingError('possibly delisted; no timezone found')\n",
      "Processing Stocks:  11%|█         | 326/2919 [03:50<33:33,  1.29it/s]"
     ]
    },
    {
     "name": "stdout",
     "output_type": "stream",
     "text": [
      "Error downloading data: No data found for HINDSYNTEX.BO in the given date range.\n"
     ]
    },
    {
     "name": "stderr",
     "output_type": "stream",
     "text": [
      "[*********************100%***********************]  1 of 1 completed\n",
      "[*********************100%***********************]  1 of 1 completed]\n",
      "[*********************100%***********************]  1 of 1 completed]\n",
      "\n",
      "1 Failed download:\n",
      "['EMCO.BO']: YFTzMissingError('possibly delisted; no timezone found')\n",
      "Processing Stocks:  11%|█▏        | 329/2919 [03:53<44:11,  1.02s/it]"
     ]
    },
    {
     "name": "stdout",
     "output_type": "stream",
     "text": [
      "Error downloading data: No data found for EMCO.BO in the given date range.\n"
     ]
    },
    {
     "name": "stderr",
     "output_type": "stream",
     "text": [
      "[*********************100%***********************]  1 of 1 completed\n",
      "[*********************100%***********************]  1 of 1 completed]\n",
      "[*********************100%***********************]  1 of 1 completed]\n",
      "[*********************100%***********************]  1 of 1 completed]\n",
      "[*********************100%***********************]  1 of 1 completed]\n",
      "[*********************100%***********************]  1 of 1 completed]\n",
      "[*********************100%***********************]  1 of 1 completed]\n",
      "[*********************100%***********************]  1 of 1 completed]\n",
      "[*********************100%***********************]  1 of 1 completed]\n",
      "\n",
      "1 Failed download:\n",
      "['WSIND.BO']: YFTzMissingError('possibly delisted; no timezone found')\n",
      "Processing Stocks:  12%|█▏        | 338/2919 [03:58<30:11,  1.42it/s]"
     ]
    },
    {
     "name": "stdout",
     "output_type": "stream",
     "text": [
      "Error downloading data: No data found for WSIND.BO in the given date range.\n"
     ]
    },
    {
     "name": "stderr",
     "output_type": "stream",
     "text": [
      "[*********************100%***********************]  1 of 1 completed\n",
      "[*********************100%***********************]  1 of 1 completed]\n",
      "\n",
      "1 Failed download:\n",
      "['DELTRON.BO']: YFTzMissingError('possibly delisted; no timezone found')\n",
      "Processing Stocks:  12%|█▏        | 340/2919 [04:00<35:40,  1.20it/s]"
     ]
    },
    {
     "name": "stdout",
     "output_type": "stream",
     "text": [
      "Error downloading data: No data found for DELTRON.BO in the given date range.\n"
     ]
    },
    {
     "name": "stderr",
     "output_type": "stream",
     "text": [
      "[*********************100%***********************]  1 of 1 completed\n",
      "\n",
      "1 Failed download:\n",
      "['TUMUSEL.BO']: YFTzMissingError('possibly delisted; no timezone found')\n",
      "Processing Stocks:  12%|█▏        | 341/2919 [04:01<43:12,  1.01s/it]"
     ]
    },
    {
     "name": "stdout",
     "output_type": "stream",
     "text": [
      "Error downloading data: No data found for TUMUSEL.BO in the given date range.\n"
     ]
    },
    {
     "name": "stderr",
     "output_type": "stream",
     "text": [
      "[*********************100%***********************]  1 of 1 completed\n",
      "[*********************100%***********************]  1 of 1 completed]\n",
      "[*********************100%***********************]  1 of 1 completed]\n",
      "\n",
      "1 Failed download:\n",
      "['GDTRAGN.BO']: YFTzMissingError('possibly delisted; no timezone found')\n",
      "Processing Stocks:  12%|█▏        | 344/2919 [04:04<43:22,  1.01s/it]"
     ]
    },
    {
     "name": "stdout",
     "output_type": "stream",
     "text": [
      "Error downloading data: No data found for GDTRAGN.BO in the given date range.\n"
     ]
    },
    {
     "name": "stderr",
     "output_type": "stream",
     "text": [
      "[*********************100%***********************]  1 of 1 completed\n",
      "[*********************100%***********************]  1 of 1 completed]\n",
      "\n",
      "1 Failed download:\n",
      "['REMISIN.BO']: YFTzMissingError('possibly delisted; no timezone found')\n",
      "Processing Stocks:  12%|█▏        | 346/2919 [04:05<43:07,  1.01s/it]"
     ]
    },
    {
     "name": "stdout",
     "output_type": "stream",
     "text": [
      "Error downloading data: No data found for REMISIN.BO in the given date range.\n"
     ]
    },
    {
     "name": "stderr",
     "output_type": "stream",
     "text": [
      "[*********************100%***********************]  1 of 1 completed\n",
      "[*********************100%***********************]  1 of 1 completed]\n",
      "[*********************100%***********************]  1 of 1 completed]\n",
      "\n",
      "1 Failed download:\n",
      "['ZVINADTR.BO']: YFTzMissingError('possibly delisted; no timezone found')\n",
      "Processing Stocks:  12%|█▏        | 349/2919 [04:07<35:28,  1.21it/s]"
     ]
    },
    {
     "name": "stdout",
     "output_type": "stream",
     "text": [
      "Error downloading data: No data found for ZVINADTR.BO in the given date range.\n"
     ]
    },
    {
     "name": "stderr",
     "output_type": "stream",
     "text": [
      "[*********************100%***********************]  1 of 1 completed\n",
      "\n",
      "1 Failed download:\n",
      "['AVTIL.BO']: YFTzMissingError('possibly delisted; no timezone found')\n",
      "Processing Stocks:  12%|█▏        | 350/2919 [04:08<39:55,  1.07it/s]"
     ]
    },
    {
     "name": "stdout",
     "output_type": "stream",
     "text": [
      "Error downloading data: No data found for AVTIL.BO in the given date range.\n"
     ]
    },
    {
     "name": "stderr",
     "output_type": "stream",
     "text": [
      "[*********************100%***********************]  1 of 1 completed\n",
      "[*********************100%***********************]  1 of 1 completed]\n",
      "[*********************100%***********************]  1 of 1 completed]\n",
      "[*********************100%***********************]  1 of 1 completed]\n",
      "[*********************100%***********************]  1 of 1 completed]\n",
      "[*********************100%***********************]  1 of 1 completed]\n",
      "\n",
      "1 Failed download:\n",
      "['CHASBRT.BO']: YFTzMissingError('possibly delisted; no timezone found')\n",
      "Processing Stocks:  12%|█▏        | 356/2919 [04:12<41:35,  1.03it/s]"
     ]
    },
    {
     "name": "stdout",
     "output_type": "stream",
     "text": [
      "Error downloading data: No data found for CHASBRT.BO in the given date range.\n"
     ]
    },
    {
     "name": "stderr",
     "output_type": "stream",
     "text": [
      "[*********************100%***********************]  1 of 1 completed\n",
      "\n",
      "1 Failed download:\n",
      "['UNIVPRIM.BO']: YFTzMissingError('possibly delisted; no timezone found')\n",
      "Processing Stocks:  12%|█▏        | 357/2919 [04:14<45:02,  1.05s/it]"
     ]
    },
    {
     "name": "stdout",
     "output_type": "stream",
     "text": [
      "Error downloading data: No data found for UNIVPRIM.BO in the given date range.\n"
     ]
    },
    {
     "name": "stderr",
     "output_type": "stream",
     "text": [
      "[*********************100%***********************]  1 of 1 completed\n",
      "\n",
      "1 Failed download:\n",
      "['GALADA.BO']: YFTzMissingError('possibly delisted; no timezone found')\n",
      "Processing Stocks:  12%|█▏        | 358/2919 [04:15<47:49,  1.12s/it]"
     ]
    },
    {
     "name": "stdout",
     "output_type": "stream",
     "text": [
      "Error downloading data: No data found for GALADA.BO in the given date range.\n"
     ]
    },
    {
     "name": "stderr",
     "output_type": "stream",
     "text": [
      "[*********************100%***********************]  1 of 1 completed\n",
      "\n",
      "1 Failed download:\n",
      "['IBRIGST.BO']: YFTzMissingError('possibly delisted; no timezone found')\n",
      "Processing Stocks:  12%|█▏        | 359/2919 [04:17<58:47,  1.38s/it]"
     ]
    },
    {
     "name": "stdout",
     "output_type": "stream",
     "text": [
      "Error downloading data: No data found for IBRIGST.BO in the given date range.\n"
     ]
    },
    {
     "name": "stderr",
     "output_type": "stream",
     "text": [
      "[*********************100%***********************]  1 of 1 completed\n",
      "[*********************100%***********************]  1 of 1 completed]\n",
      "[*********************100%***********************]  1 of 1 completed]\n",
      "[*********************100%***********************]  1 of 1 completed]\n",
      "\n",
      "1 Failed download:\n",
      "['ORIENTABRA.BO']: YFTzMissingError('possibly delisted; no timezone found')\n",
      "Processing Stocks:  12%|█▏        | 363/2919 [04:20<43:08,  1.01s/it]"
     ]
    },
    {
     "name": "stdout",
     "output_type": "stream",
     "text": [
      "Error downloading data: No data found for ORIENTABRA.BO in the given date range.\n"
     ]
    },
    {
     "name": "stderr",
     "output_type": "stream",
     "text": [
      "[*********************100%***********************]  1 of 1 completed\n",
      "[*********************100%***********************]  1 of 1 completed]\n",
      "[*********************100%***********************]  1 of 1 completed]\n",
      "\n",
      "1 Failed download:\n",
      "['STEWARTQ.BO']: YFTzMissingError('possibly delisted; no timezone found')\n",
      "Processing Stocks:  13%|█▎        | 366/2919 [04:22<39:43,  1.07it/s]"
     ]
    },
    {
     "name": "stdout",
     "output_type": "stream",
     "text": [
      "Error downloading data: No data found for STEWARTQ.BO in the given date range.\n"
     ]
    },
    {
     "name": "stderr",
     "output_type": "stream",
     "text": [
      "[*********************100%***********************]  1 of 1 completed\n",
      "[*********************100%***********************]  1 of 1 completed]\n",
      "\n",
      "1 Failed download:\n",
      "['TIFHL.BO']: YFTzMissingError('possibly delisted; no timezone found')\n",
      "Processing Stocks:  13%|█▎        | 368/2919 [04:24<44:32,  1.05s/it]"
     ]
    },
    {
     "name": "stdout",
     "output_type": "stream",
     "text": [
      "Error downloading data: No data found for TIFHL.BO in the given date range.\n"
     ]
    },
    {
     "name": "stderr",
     "output_type": "stream",
     "text": [
      "[*********************100%***********************]  1 of 1 completed\n",
      "\n",
      "1 Failed download:\n",
      "['WMINIMT.BO']: YFTzMissingError('possibly delisted; no timezone found')\n",
      "Processing Stocks:  13%|█▎        | 369/2919 [04:26<54:10,  1.27s/it]"
     ]
    },
    {
     "name": "stdout",
     "output_type": "stream",
     "text": [
      "Error downloading data: No data found for WMINIMT.BO in the given date range.\n"
     ]
    },
    {
     "name": "stderr",
     "output_type": "stream",
     "text": [
      "[*********************100%***********************]  1 of 1 completed\n",
      "[*********************100%***********************]  1 of 1 completed]\n",
      "[*********************100%***********************]  1 of 1 completed]\n",
      "[*********************100%***********************]  1 of 1 completed]\n",
      "\n",
      "1 Failed download:\n",
      "['SCOOTER.BO']: YFTzMissingError('possibly delisted; no timezone found')\n",
      "Processing Stocks:  13%|█▎        | 373/2919 [04:29<41:09,  1.03it/s]"
     ]
    },
    {
     "name": "stdout",
     "output_type": "stream",
     "text": [
      "Error downloading data: No data found for SCOOTER.BO in the given date range.\n"
     ]
    },
    {
     "name": "stderr",
     "output_type": "stream",
     "text": [
      "[*********************100%***********************]  1 of 1 completed\n",
      "[*********************100%***********************]  1 of 1 completed]\n",
      "[*********************100%***********************]  1 of 1 completed]\n",
      "[*********************100%***********************]  1 of 1 completed]\n",
      "[*********************100%***********************]  1 of 1 completed]\n",
      "[*********************100%***********************]  1 of 1 completed]\n",
      "[*********************100%***********************]  1 of 1 completed]\n",
      "\n",
      "1 Failed download:\n",
      "['CIMMCO.BO']: YFTzMissingError('possibly delisted; no timezone found')\n",
      "Processing Stocks:  13%|█▎        | 380/2919 [04:33<30:49,  1.37it/s]"
     ]
    },
    {
     "name": "stdout",
     "output_type": "stream",
     "text": [
      "Error downloading data: No data found for CIMMCO.BO in the given date range.\n"
     ]
    },
    {
     "name": "stderr",
     "output_type": "stream",
     "text": [
      "[*********************100%***********************]  1 of 1 completed\n",
      "[*********************100%***********************]  1 of 1 completed]\n",
      "[*********************100%***********************]  1 of 1 completed]\n",
      "\n",
      "1 Failed download:\n",
      "['GGDANDE.BO']: YFTzMissingError('possibly delisted; no timezone found')\n",
      "Processing Stocks:  13%|█▎        | 383/2919 [04:35<32:33,  1.30it/s]"
     ]
    },
    {
     "name": "stdout",
     "output_type": "stream",
     "text": [
      "Error downloading data: No data found for GGDANDE.BO in the given date range.\n"
     ]
    },
    {
     "name": "stderr",
     "output_type": "stream",
     "text": [
      "[*********************100%***********************]  1 of 1 completed\n",
      "[*********************100%***********************]  1 of 1 completed]\n",
      "[*********************100%***********************]  1 of 1 completed]\n",
      "\n",
      "1 Failed download:\n",
      "['KULKPOWT.BO']: YFTzMissingError('possibly delisted; no timezone found')\n",
      "Processing Stocks:  13%|█▎        | 386/2919 [04:37<32:22,  1.30it/s]"
     ]
    },
    {
     "name": "stdout",
     "output_type": "stream",
     "text": [
      "Error downloading data: No data found for KULKPOWT.BO in the given date range.\n"
     ]
    },
    {
     "name": "stderr",
     "output_type": "stream",
     "text": [
      "[*********************100%***********************]  1 of 1 completed\n",
      "\n",
      "1 Failed download:\n",
      "['LXMIATO.BO']: YFTzMissingError('possibly delisted; no timezone found')\n",
      "Processing Stocks:  13%|█▎        | 387/2919 [04:38<37:52,  1.11it/s]"
     ]
    },
    {
     "name": "stdout",
     "output_type": "stream",
     "text": [
      "Error downloading data: No data found for LXMIATO.BO in the given date range.\n"
     ]
    },
    {
     "name": "stderr",
     "output_type": "stream",
     "text": [
      "[*********************100%***********************]  1 of 1 completed\n",
      "[*********************100%***********************]  1 of 1 completed]\n",
      "\n",
      "1 Failed download:\n",
      "['MIRCH.BO']: YFTzMissingError('possibly delisted; no timezone found')\n",
      "Processing Stocks:  13%|█▎        | 389/2919 [04:40<45:03,  1.07s/it]"
     ]
    },
    {
     "name": "stdout",
     "output_type": "stream",
     "text": [
      "Error downloading data: No data found for MIRCH.BO in the given date range.\n"
     ]
    },
    {
     "name": "stderr",
     "output_type": "stream",
     "text": [
      "[*********************100%***********************]  1 of 1 completed\n",
      "[*********************100%***********************]  1 of 1 completed]\n",
      "\n",
      "1 Failed download:\n",
      "['REVATHI.BO']: YFTzMissingError('possibly delisted; no timezone found')\n",
      "Processing Stocks:  13%|█▎        | 391/2919 [04:42<47:25,  1.13s/it]"
     ]
    },
    {
     "name": "stdout",
     "output_type": "stream",
     "text": [
      "Error downloading data: No data found for REVATHI.BO in the given date range.\n"
     ]
    },
    {
     "name": "stderr",
     "output_type": "stream",
     "text": [
      "[*********************100%***********************]  1 of 1 completed\n",
      "[*********************100%***********************]  1 of 1 completed]\n",
      "[*********************100%***********************]  1 of 1 completed]\n",
      "[*********************100%***********************]  1 of 1 completed]\n",
      "\n",
      "1 Failed download:\n",
      "['AXONVL.BO']: YFTzMissingError('possibly delisted; no timezone found')\n",
      "Processing Stocks:  14%|█▎        | 395/2919 [04:45<38:35,  1.09it/s]"
     ]
    },
    {
     "name": "stdout",
     "output_type": "stream",
     "text": [
      "Error downloading data: No data found for AXONVL.BO in the given date range.\n"
     ]
    },
    {
     "name": "stderr",
     "output_type": "stream",
     "text": [
      "[*********************100%***********************]  1 of 1 completed\n",
      "[*********************100%***********************]  1 of 1 completed]\n",
      "[*********************100%***********************]  1 of 1 completed]\n",
      "[*********************100%***********************]  1 of 1 completed]\n",
      "\n",
      "1 Failed download:\n",
      "['DOLAT.BO']: YFTzMissingError('possibly delisted; no timezone found')\n",
      "Processing Stocks:  14%|█▎        | 399/2919 [04:48<41:50,  1.00it/s]"
     ]
    },
    {
     "name": "stdout",
     "output_type": "stream",
     "text": [
      "Error downloading data: No data found for DOLAT.BO in the given date range.\n"
     ]
    },
    {
     "name": "stderr",
     "output_type": "stream",
     "text": [
      "[*********************100%***********************]  1 of 1 completed\n",
      "[*********************100%***********************]  1 of 1 completed]\n",
      "[*********************100%***********************]  1 of 1 completed]\n",
      "[*********************100%***********************]  1 of 1 completed]\n",
      "\n",
      "1 Failed download:\n",
      "['IMCFINA.BO']: YFTzMissingError('possibly delisted; no timezone found')\n",
      "Processing Stocks:  14%|█▍        | 403/2919 [04:51<38:28,  1.09it/s]"
     ]
    },
    {
     "name": "stdout",
     "output_type": "stream",
     "text": [
      "Error downloading data: No data found for IMCFINA.BO in the given date range.\n"
     ]
    },
    {
     "name": "stderr",
     "output_type": "stream",
     "text": [
      "[*********************100%***********************]  1 of 1 completed\n",
      "\n",
      "1 Failed download:\n",
      "['WWTECHHOL.BO']: YFPricesMissingError('possibly delisted; no price data found  (1d 2012-01-01 -> 2025-01-01)')\n",
      "Processing Stocks:  14%|█▍        | 404/2919 [04:52<30:02,  1.40it/s]"
     ]
    },
    {
     "name": "stdout",
     "output_type": "stream",
     "text": [
      "Error downloading data: No data found for WWTECHHOL.BO in the given date range.\n"
     ]
    },
    {
     "name": "stderr",
     "output_type": "stream",
     "text": [
      "[*********************100%***********************]  1 of 1 completed\n",
      "\n",
      "1 Failed download:\n",
      "['ZKOVALIN.BO']: YFTzMissingError('possibly delisted; no timezone found')\n",
      "Processing Stocks:  14%|█▍        | 405/2919 [04:53<42:43,  1.02s/it]"
     ]
    },
    {
     "name": "stdout",
     "output_type": "stream",
     "text": [
      "Error downloading data: No data found for ZKOVALIN.BO in the given date range.\n"
     ]
    },
    {
     "name": "stderr",
     "output_type": "stream",
     "text": [
      "[*********************100%***********************]  1 of 1 completed\n",
      "\n",
      "1 Failed download:\n",
      "['MULTIIN.BO']: YFTzMissingError('possibly delisted; no timezone found')\n",
      "Processing Stocks:  14%|█▍        | 406/2919 [04:55<49:25,  1.18s/it]"
     ]
    },
    {
     "name": "stdout",
     "output_type": "stream",
     "text": [
      "Error downloading data: No data found for MULTIIN.BO in the given date range.\n"
     ]
    },
    {
     "name": "stderr",
     "output_type": "stream",
     "text": [
      "[*********************100%***********************]  1 of 1 completed\n",
      "[*********************100%***********************]  1 of 1 completed]\n",
      "[*********************100%***********************]  1 of 1 completed]\n",
      "[*********************100%***********************]  1 of 1 completed]\n",
      "[*********************100%***********************]  1 of 1 completed]\n",
      "[*********************100%***********************]  1 of 1 completed]\n",
      "[*********************100%***********************]  1 of 1 completed]\n",
      "[*********************100%***********************]  1 of 1 completed]\n",
      "[*********************100%***********************]  1 of 1 completed]\n",
      "[*********************100%***********************]  1 of 1 completed]\n",
      "[*********************100%***********************]  1 of 1 completed]\n",
      "[*********************100%***********************]  1 of 1 completed]\n",
      "[*********************100%***********************]  1 of 1 completed]\n",
      "\n",
      "1 Failed download:\n",
      "['MPCOSEMB.BO']: YFPricesMissingError('possibly delisted; no price data found  (1d 2012-01-01 -> 2025-01-01) (Yahoo error = \"Data doesn\\'t exist for startDate = 1325356200, endDate = 1735669800\")')\n",
      "Processing Stocks:  14%|█▍        | 419/2919 [05:02<42:32,  1.02s/it]"
     ]
    },
    {
     "name": "stdout",
     "output_type": "stream",
     "text": [
      "Error downloading data: No data found for MPCOSEMB.BO in the given date range.\n"
     ]
    },
    {
     "name": "stderr",
     "output_type": "stream",
     "text": [
      "[*********************100%***********************]  1 of 1 completed\n",
      "[*********************100%***********************]  1 of 1 completed]\n",
      "[*********************100%***********************]  1 of 1 completed]\n",
      "[*********************100%***********************]  1 of 1 completed]\n",
      "[*********************100%***********************]  1 of 1 completed]\n",
      "[*********************100%***********************]  1 of 1 completed]\n",
      "[*********************100%***********************]  1 of 1 completed]\n",
      "\n",
      "1 Failed download:\n",
      "['JRIIIL.BO']: YFTzMissingError('possibly delisted; no timezone found')\n",
      "Processing Stocks:  15%|█▍        | 426/2919 [05:06<34:04,  1.22it/s]"
     ]
    },
    {
     "name": "stdout",
     "output_type": "stream",
     "text": [
      "Error downloading data: No data found for JRIIIL.BO in the given date range.\n"
     ]
    },
    {
     "name": "stderr",
     "output_type": "stream",
     "text": [
      "[*********************100%***********************]  1 of 1 completed\n",
      "[*********************100%***********************]  1 of 1 completed]\n",
      "[*********************100%***********************]  1 of 1 completed]\n",
      "\n",
      "1 Failed download:\n",
      "['ZPRBHSTE.BO']: YFTzMissingError('possibly delisted; no timezone found')\n",
      "Processing Stocks:  15%|█▍        | 429/2919 [05:08<32:55,  1.26it/s]"
     ]
    },
    {
     "name": "stdout",
     "output_type": "stream",
     "text": [
      "Error downloading data: No data found for ZPRBHSTE.BO in the given date range.\n"
     ]
    },
    {
     "name": "stderr",
     "output_type": "stream",
     "text": [
      "[*********************100%***********************]  1 of 1 completed\n",
      "[*********************100%***********************]  1 of 1 completed]\n",
      "[*********************100%***********************]  1 of 1 completed]\n",
      "[*********************100%***********************]  1 of 1 completed]\n",
      "\n",
      "1 Failed download:\n",
      "['ANUPMAL.BO']: YFTzMissingError('possibly delisted; no timezone found')\n",
      "Processing Stocks:  15%|█▍        | 433/2919 [05:11<36:47,  1.13it/s]"
     ]
    },
    {
     "name": "stdout",
     "output_type": "stream",
     "text": [
      "Error downloading data: No data found for ANUPMAL.BO in the given date range.\n"
     ]
    },
    {
     "name": "stderr",
     "output_type": "stream",
     "text": [
      "[*********************100%***********************]  1 of 1 completed\n",
      "\n",
      "1 Failed download:\n",
      "['PRECTRA.BO']: YFTzMissingError('possibly delisted; no timezone found')\n",
      "Processing Stocks:  15%|█▍        | 434/2919 [05:13<48:53,  1.18s/it]"
     ]
    },
    {
     "name": "stdout",
     "output_type": "stream",
     "text": [
      "Error downloading data: No data found for PRECTRA.BO in the given date range.\n"
     ]
    },
    {
     "name": "stderr",
     "output_type": "stream",
     "text": [
      "[*********************100%***********************]  1 of 1 completed\n",
      "[*********************100%***********************]  1 of 1 completedit]\n",
      "[*********************100%***********************]  1 of 1 completed]  \n",
      "\n",
      "1 Failed download:\n",
      "['INTELLCAP.BO']: YFTzMissingError('possibly delisted; no timezone found')\n",
      "Processing Stocks:  15%|█▍        | 437/2919 [05:17<52:41,  1.27s/it]"
     ]
    },
    {
     "name": "stdout",
     "output_type": "stream",
     "text": [
      "Error downloading data: No data found for INTELLCAP.BO in the given date range.\n"
     ]
    },
    {
     "name": "stderr",
     "output_type": "stream",
     "text": [
      "[*********************100%***********************]  1 of 1 completed\n",
      "[*********************100%***********************]  1 of 1 completed]\n",
      "[*********************100%***********************]  1 of 1 completed]\n",
      "\n",
      "1 Failed download:\n",
      "['TERRAFORM.BO']: YFPricesMissingError('possibly delisted; no price data found  (1d 2012-01-01 -> 2025-01-01)')\n",
      "Processing Stocks:  15%|█▌        | 440/2919 [05:18<26:40,  1.55it/s]"
     ]
    },
    {
     "name": "stdout",
     "output_type": "stream",
     "text": [
      "Error downloading data: No data found for TERRAFORM.BO in the given date range.\n"
     ]
    },
    {
     "name": "stderr",
     "output_type": "stream",
     "text": [
      "[*********************100%***********************]  1 of 1 completed\n",
      "\n",
      "1 Failed download:\n",
      "['APIS.BO']: YFTzMissingError('possibly delisted; no timezone found')\n",
      "Processing Stocks:  15%|█▌        | 441/2919 [05:20<39:38,  1.04it/s]"
     ]
    },
    {
     "name": "stdout",
     "output_type": "stream",
     "text": [
      "Error downloading data: No data found for APIS.BO in the given date range.\n"
     ]
    },
    {
     "name": "stderr",
     "output_type": "stream",
     "text": [
      "[*********************100%***********************]  1 of 1 completed\n",
      "\n",
      "1 Failed download:\n",
      "['ZKHATAUE.BO']: YFTzMissingError('possibly delisted; no timezone found')\n",
      "Processing Stocks:  15%|█▌        | 442/2919 [05:22<56:05,  1.36s/it]"
     ]
    },
    {
     "name": "stdout",
     "output_type": "stream",
     "text": [
      "Error downloading data: No data found for ZKHATAUE.BO in the given date range.\n"
     ]
    },
    {
     "name": "stderr",
     "output_type": "stream",
     "text": [
      "[*********************100%***********************]  1 of 1 completed\n",
      "\n",
      "1 Failed download:\n",
      "['SRIOMTR.BO']: YFTzMissingError('possibly delisted; no timezone found')\n",
      "Processing Stocks:  15%|█▌        | 443/2919 [05:24<57:19,  1.39s/it]"
     ]
    },
    {
     "name": "stdout",
     "output_type": "stream",
     "text": [
      "Error downloading data: No data found for SRIOMTR.BO in the given date range.\n"
     ]
    },
    {
     "name": "stderr",
     "output_type": "stream",
     "text": [
      "[*********************100%***********************]  1 of 1 completed\n",
      "[*********************100%***********************]  1 of 1 completed]\n",
      "\n",
      "1 Failed download:\n",
      "['ZSARVAMA.BO']: YFTzMissingError('possibly delisted; no timezone found')\n",
      "Processing Stocks:  15%|█▌        | 445/2919 [05:26<55:10,  1.34s/it]"
     ]
    },
    {
     "name": "stdout",
     "output_type": "stream",
     "text": [
      "Error downloading data: No data found for ZSARVAMA.BO in the given date range.\n"
     ]
    },
    {
     "name": "stderr",
     "output_type": "stream",
     "text": [
      "[*********************100%***********************]  1 of 1 completed\n",
      "\n",
      "1 Failed download:\n",
      "['ASL.BO']: YFTzMissingError('possibly delisted; no timezone found')\n",
      "Processing Stocks:  15%|█▌        | 446/2919 [05:28<57:45,  1.40s/it]"
     ]
    },
    {
     "name": "stdout",
     "output_type": "stream",
     "text": [
      "Error downloading data: No data found for ASL.BO in the given date range.\n"
     ]
    },
    {
     "name": "stderr",
     "output_type": "stream",
     "text": [
      "[*********************100%***********************]  1 of 1 completed\n",
      "\n",
      "1 Failed download:\n",
      "['VIKSHEN.BO']: YFTzMissingError('possibly delisted; no timezone found')\n",
      "Processing Stocks:  15%|█▌        | 447/2919 [05:29<56:58,  1.38s/it]"
     ]
    },
    {
     "name": "stdout",
     "output_type": "stream",
     "text": [
      "Error downloading data: No data found for VIKSHEN.BO in the given date range.\n"
     ]
    },
    {
     "name": "stderr",
     "output_type": "stream",
     "text": [
      "[*********************100%***********************]  1 of 1 completed\n",
      "[*********************100%***********************]  1 of 1 completed]\n",
      "\n",
      "1 Failed download:\n",
      "['INEOSSTYRO.BO']: YFTzMissingError('possibly delisted; no timezone found')\n",
      "Processing Stocks:  15%|█▌        | 449/2919 [05:31<48:27,  1.18s/it]"
     ]
    },
    {
     "name": "stdout",
     "output_type": "stream",
     "text": [
      "Error downloading data: No data found for INEOSSTYRO.BO in the given date range.\n"
     ]
    },
    {
     "name": "stderr",
     "output_type": "stream",
     "text": [
      "[*********************100%***********************]  1 of 1 completed\n",
      "[*********************100%***********************]  1 of 1 completed]\n",
      "[*********************100%***********************]  1 of 1 completed]\n",
      "[*********************100%***********************]  1 of 1 completed]\n",
      "[*********************100%***********************]  1 of 1 completed]\n",
      "\n",
      "1 Failed download:\n",
      "['CLNINDIA.BO']: YFTzMissingError('possibly delisted; no timezone found')\n",
      "Processing Stocks:  16%|█▌        | 454/2919 [05:34<37:36,  1.09it/s]"
     ]
    },
    {
     "name": "stdout",
     "output_type": "stream",
     "text": [
      "Error downloading data: No data found for CLNINDIA.BO in the given date range.\n"
     ]
    },
    {
     "name": "stderr",
     "output_type": "stream",
     "text": [
      "[*********************100%***********************]  1 of 1 completed\n",
      "[*********************100%***********************]  1 of 1 completed]\n",
      "\n",
      "1 Failed download:\n",
      "['DEEPAKNI.BO']: YFTzMissingError('possibly delisted; no timezone found')\n",
      "Processing Stocks:  16%|█▌        | 456/2919 [05:36<38:35,  1.06it/s]"
     ]
    },
    {
     "name": "stdout",
     "output_type": "stream",
     "text": [
      "Error downloading data: No data found for DEEPAKNI.BO in the given date range.\n"
     ]
    },
    {
     "name": "stderr",
     "output_type": "stream",
     "text": [
      "[*********************100%***********************]  1 of 1 completed\n",
      "\n",
      "1 Failed download:\n",
      "['DIL.BO']: YFTzMissingError('possibly delisted; no timezone found')\n",
      "Processing Stocks:  16%|█▌        | 457/2919 [05:38<49:38,  1.21s/it]"
     ]
    },
    {
     "name": "stdout",
     "output_type": "stream",
     "text": [
      "Error downloading data: No data found for DIL.BO in the given date range.\n"
     ]
    },
    {
     "name": "stderr",
     "output_type": "stream",
     "text": [
      "[*********************100%***********************]  1 of 1 completed\n",
      "[*********************100%***********************]  1 of 1 completed]\n",
      "[*********************100%***********************]  1 of 1 completed]\n",
      "[*********************100%***********************]  1 of 1 completed]\n",
      "[*********************100%***********************]  1 of 1 completed]\n",
      "\n",
      "1 Failed download:\n",
      "['ORIENTCQ.BO']: YFTzMissingError('possibly delisted; no timezone found')\n",
      "Processing Stocks:  16%|█▌        | 462/2919 [05:41<37:01,  1.11it/s]"
     ]
    },
    {
     "name": "stdout",
     "output_type": "stream",
     "text": [
      "Error downloading data: No data found for ORIENTCQ.BO in the given date range.\n"
     ]
    },
    {
     "name": "stderr",
     "output_type": "stream",
     "text": [
      "[*********************100%***********************]  1 of 1 completed\n",
      "\n",
      "1 Failed download:\n",
      "['PHILIPCARB.BO']: YFTzMissingError('possibly delisted; no timezone found')\n",
      "Processing Stocks:  16%|█▌        | 463/2919 [05:43<50:12,  1.23s/it]"
     ]
    },
    {
     "name": "stdout",
     "output_type": "stream",
     "text": [
      "Error downloading data: No data found for PHILIPCARB.BO in the given date range.\n"
     ]
    },
    {
     "name": "stderr",
     "output_type": "stream",
     "text": [
      "[*********************100%***********************]  1 of 1 completed\n",
      "[*********************100%***********************]  1 of 1 completed]\n",
      "[*********************100%***********************]  1 of 1 completed]\n",
      "[*********************100%***********************]  1 of 1 completed]\n",
      "[*********************100%***********************]  1 of 1 completed]\n",
      "[*********************100%***********************]  1 of 1 completed]\n",
      "[*********************100%***********************]  1 of 1 completed]\n",
      "[*********************100%***********************]  1 of 1 completed]\n",
      "\n",
      "1 Failed download:\n",
      "['PACL.BO']: YFTzMissingError('possibly delisted; no timezone found')\n",
      "Processing Stocks:  16%|█▌        | 471/2919 [05:48<33:50,  1.21it/s]"
     ]
    },
    {
     "name": "stdout",
     "output_type": "stream",
     "text": [
      "Error downloading data: No data found for PACL.BO in the given date range.\n"
     ]
    },
    {
     "name": "stderr",
     "output_type": "stream",
     "text": [
      "[*********************100%***********************]  1 of 1 completed\n",
      "[*********************100%***********************]  1 of 1 completed]\n",
      "[*********************100%***********************]  1 of 1 completed]\n",
      "\n",
      "1 Failed download:\n",
      "['MASCH.BO']: YFTzMissingError('possibly delisted; no timezone found')\n",
      "Processing Stocks:  16%|█▌        | 474/2919 [05:50<31:11,  1.31it/s]"
     ]
    },
    {
     "name": "stdout",
     "output_type": "stream",
     "text": [
      "Error downloading data: No data found for MASCH.BO in the given date range.\n"
     ]
    },
    {
     "name": "stderr",
     "output_type": "stream",
     "text": [
      "[*********************100%***********************]  1 of 1 completed\n",
      "[*********************100%***********************]  1 of 1 completed]\n",
      "[*********************100%***********************]  1 of 1 completed]\n",
      "\n",
      "1 Failed download:\n",
      "['IGLFXPL-B.BO']: YFTzMissingError('possibly delisted; no timezone found')\n",
      "Processing Stocks:  16%|█▋        | 477/2919 [05:52<33:48,  1.20it/s]"
     ]
    },
    {
     "name": "stdout",
     "output_type": "stream",
     "text": [
      "Error downloading data: No data found for IGLFXPL-B.BO in the given date range.\n"
     ]
    },
    {
     "name": "stderr",
     "output_type": "stream",
     "text": [
      "[*********************100%***********************]  1 of 1 completed\n",
      "\n",
      "1 Failed download:\n",
      "['ADVPETR-B.BO']: YFPricesMissingError('possibly delisted; no price data found  (1d 2012-01-01 -> 2025-01-01) (Yahoo error = \"Data doesn\\'t exist for startDate = 1325356200, endDate = 1735669800\")')\n",
      "Processing Stocks:  16%|█▋        | 478/2919 [05:54<48:10,  1.18s/it]"
     ]
    },
    {
     "name": "stdout",
     "output_type": "stream",
     "text": [
      "Error downloading data: No data found for ADVPETR-B.BO in the given date range.\n"
     ]
    },
    {
     "name": "stderr",
     "output_type": "stream",
     "text": [
      "[*********************100%***********************]  1 of 1 completed\n",
      "\n",
      "1 Failed download:\n",
      "['RAJSPTR.BO']: YFPricesMissingError('possibly delisted; no price data found  (1d 2012-01-01 -> 2025-01-01) (Yahoo error = \"Data doesn\\'t exist for startDate = 1325356200, endDate = 1735669800\")')\n",
      "Processing Stocks:  16%|█▋        | 479/2919 [05:55<50:07,  1.23s/it]"
     ]
    },
    {
     "name": "stdout",
     "output_type": "stream",
     "text": [
      "Error downloading data: No data found for RAJSPTR.BO in the given date range.\n"
     ]
    },
    {
     "name": "stderr",
     "output_type": "stream",
     "text": [
      "[*********************100%***********************]  1 of 1 completed\n",
      "[*********************100%***********************]  1 of 1 completed]\n",
      "[*********************100%***********************]  1 of 1 completed]\n",
      "[*********************100%***********************]  1 of 1 completed]\n",
      "[*********************100%***********************]  1 of 1 completed]\n",
      "[*********************100%***********************]  1 of 1 completed]\n",
      "[*********************100%***********************]  1 of 1 completed]\n",
      "\n",
      "1 Failed download:\n",
      "['KHODAY.BO']: YFTzMissingError('possibly delisted; no timezone found')\n",
      "Processing Stocks:  17%|█▋        | 486/2919 [05:59<31:09,  1.30it/s]"
     ]
    },
    {
     "name": "stdout",
     "output_type": "stream",
     "text": [
      "Error downloading data: No data found for KHODAY.BO in the given date range.\n"
     ]
    },
    {
     "name": "stderr",
     "output_type": "stream",
     "text": [
      "[*********************100%***********************]  1 of 1 completed\n",
      "[*********************100%***********************]  1 of 1 completed]\n",
      "[*********************100%***********************]  1 of 1 completed]\n",
      "\n",
      "1 Failed download:\n",
      "['THIRUSUGAR.BO']: YFTzMissingError('possibly delisted; no timezone found')\n",
      "Processing Stocks:  17%|█▋        | 489/2919 [06:01<35:30,  1.14it/s]"
     ]
    },
    {
     "name": "stdout",
     "output_type": "stream",
     "text": [
      "Error downloading data: No data found for THIRUSUGAR.BO in the given date range.\n"
     ]
    },
    {
     "name": "stderr",
     "output_type": "stream",
     "text": [
      "[*********************100%***********************]  1 of 1 completed\n",
      "[*********************100%***********************]  1 of 1 completed]\n",
      "[*********************100%***********************]  1 of 1 completed]\n",
      "[*********************100%***********************]  1 of 1 completed]\n",
      "\n",
      "1 Failed download:\n",
      "['GIRDSGA.BO']: YFTzMissingError('possibly delisted; no timezone found')\n",
      "Processing Stocks:  17%|█▋        | 493/2919 [06:04<32:23,  1.25it/s]"
     ]
    },
    {
     "name": "stdout",
     "output_type": "stream",
     "text": [
      "Error downloading data: No data found for GIRDSGA.BO in the given date range.\n"
     ]
    },
    {
     "name": "stderr",
     "output_type": "stream",
     "text": [
      "[*********************100%***********************]  1 of 1 completed\n",
      "[*********************100%***********************]  1 of 1 completed]\n",
      "[*********************100%***********************]  1 of 1 completed]\n",
      "\n",
      "1 Failed download:\n",
      "['AMRITCORP.BO']: YFTzMissingError('possibly delisted; no timezone found')\n",
      "Processing Stocks:  17%|█▋        | 496/2919 [06:06<41:22,  1.02s/it]"
     ]
    },
    {
     "name": "stdout",
     "output_type": "stream",
     "text": [
      "Error downloading data: No data found for AMRITCORP.BO in the given date range.\n"
     ]
    },
    {
     "name": "stderr",
     "output_type": "stream",
     "text": [
      "[*********************100%***********************]  1 of 1 completed\n",
      "\n",
      "1 Failed download:\n",
      "['CORAGRO.BO']: YFTzMissingError('possibly delisted; no timezone found')\n",
      "Processing Stocks:  17%|█▋        | 497/2919 [06:08<52:37,  1.30s/it]"
     ]
    },
    {
     "name": "stdout",
     "output_type": "stream",
     "text": [
      "Error downloading data: No data found for CORAGRO.BO in the given date range.\n"
     ]
    },
    {
     "name": "stderr",
     "output_type": "stream",
     "text": [
      "[*********************100%***********************]  1 of 1 completed\n",
      "[*********************100%***********************]  1 of 1 completed]\n",
      "[*********************100%***********************]  1 of 1 completed]\n",
      "[*********************100%***********************]  1 of 1 completed]\n",
      "\n",
      "1 Failed download:\n",
      "['RATNAMAGRO.BO']: YFTzMissingError('possibly delisted; no timezone found')\n",
      "Processing Stocks:  17%|█▋        | 501/2919 [06:11<35:35,  1.13it/s]"
     ]
    },
    {
     "name": "stdout",
     "output_type": "stream",
     "text": [
      "Error downloading data: No data found for RATNAMAGRO.BO in the given date range.\n"
     ]
    },
    {
     "name": "stderr",
     "output_type": "stream",
     "text": [
      "[*********************100%***********************]  1 of 1 completed\n",
      "[*********************100%***********************]  1 of 1 completed]\n",
      "[*********************100%***********************]  1 of 1 completed]\n",
      "[*********************100%***********************]  1 of 1 completed]\n",
      "\n",
      "1 Failed download:\n",
      "['TTKHEALTH.BO']: YFTzMissingError('possibly delisted; no timezone found')\n",
      "Processing Stocks:  17%|█▋        | 505/2919 [06:14<36:34,  1.10it/s]"
     ]
    },
    {
     "name": "stdout",
     "output_type": "stream",
     "text": [
      "Error downloading data: No data found for TTKHEALTH.BO in the given date range.\n"
     ]
    },
    {
     "name": "stderr",
     "output_type": "stream",
     "text": [
      "[*********************100%***********************]  1 of 1 completed\n",
      "[*********************100%***********************]  1 of 1 completed]\n",
      "[*********************100%***********************]  1 of 1 completed]\n",
      "[*********************100%***********************]  1 of 1 completed]\n",
      "[*********************100%***********************]  1 of 1 completed]\n",
      "[*********************100%***********************]  1 of 1 completed]\n",
      "[*********************100%***********************]  1 of 1 completed]\n",
      "[*********************100%***********************]  1 of 1 completed]\n",
      "[*********************100%***********************]  1 of 1 completed]\n",
      "[*********************100%***********************]  1 of 1 completed]\n",
      "[*********************100%***********************]  1 of 1 completed]\n",
      "[*********************100%***********************]  1 of 1 completed]\n",
      "\n",
      "1 Failed download:\n",
      "['DHRUVES.BO']: YFTzMissingError('possibly delisted; no timezone found')\n",
      "Processing Stocks:  18%|█▊        | 517/2919 [06:21<34:44,  1.15it/s]"
     ]
    },
    {
     "name": "stdout",
     "output_type": "stream",
     "text": [
      "Error downloading data: No data found for DHRUVES.BO in the given date range.\n"
     ]
    },
    {
     "name": "stderr",
     "output_type": "stream",
     "text": [
      "[*********************100%***********************]  1 of 1 completed\n",
      "[*********************100%***********************]  1 of 1 completed]\n",
      "\n",
      "1 Failed download:\n",
      "['MNPLFIN.BO']: YFPricesMissingError('possibly delisted; no price data found  (1d 2012-01-01 -> 2025-01-01) (Yahoo error = \"Data doesn\\'t exist for startDate = 1325356200, endDate = 1735669800\")')\n",
      "Processing Stocks:  18%|█▊        | 519/2919 [06:23<43:31,  1.09s/it]"
     ]
    },
    {
     "name": "stdout",
     "output_type": "stream",
     "text": [
      "Error downloading data: No data found for MNPLFIN.BO in the given date range.\n"
     ]
    },
    {
     "name": "stderr",
     "output_type": "stream",
     "text": [
      "[*********************100%***********************]  1 of 1 completed\n",
      "[*********************100%***********************]  1 of 1 completed]\n",
      "[*********************100%***********************]  1 of 1 completed]\n",
      "[*********************100%***********************]  1 of 1 completed]\n",
      "[*********************100%***********************]  1 of 1 completed]\n",
      "[*********************100%***********************]  1 of 1 completed]\n",
      "[*********************100%***********************]  1 of 1 completed]\n",
      "[*********************100%***********************]  1 of 1 completed]\n",
      "[*********************100%***********************]  1 of 1 completed]\n",
      "[*********************100%***********************]  1 of 1 completed]\n",
      "[*********************100%***********************]  1 of 1 completed]\n",
      "\n",
      "1 Failed download:\n",
      "['COSMOFILMS.BO']: YFTzMissingError('possibly delisted; no timezone found')\n",
      "Processing Stocks:  18%|█▊        | 530/2919 [06:29<40:45,  1.02s/it]"
     ]
    },
    {
     "name": "stdout",
     "output_type": "stream",
     "text": [
      "Error downloading data: No data found for COSMOFILMS.BO in the given date range.\n"
     ]
    },
    {
     "name": "stderr",
     "output_type": "stream",
     "text": [
      "[*********************100%***********************]  1 of 1 completed\n",
      "\n",
      "1 Failed download:\n",
      "['NEWMKTADV.BO']: YFTzMissingError('possibly delisted; no timezone found')\n",
      "Processing Stocks:  18%|█▊        | 531/2919 [06:30<50:15,  1.26s/it]"
     ]
    },
    {
     "name": "stdout",
     "output_type": "stream",
     "text": [
      "Error downloading data: No data found for NEWMKTADV.BO in the given date range.\n"
     ]
    },
    {
     "name": "stderr",
     "output_type": "stream",
     "text": [
      "[*********************100%***********************]  1 of 1 completed\n",
      "[*********************100%***********************]  1 of 1 completed]\n",
      "[*********************100%***********************]  1 of 1 completed]\n",
      "\n",
      "1 Failed download:\n",
      "['ZENCAP.BO']: YFTzMissingError('possibly delisted; no timezone found')\n",
      "Processing Stocks:  18%|█▊        | 534/2919 [06:33<43:04,  1.08s/it]"
     ]
    },
    {
     "name": "stdout",
     "output_type": "stream",
     "text": [
      "Error downloading data: No data found for ZENCAP.BO in the given date range.\n"
     ]
    },
    {
     "name": "stderr",
     "output_type": "stream",
     "text": [
      "[*********************100%***********************]  1 of 1 completed\n",
      "[*********************100%***********************]  1 of 1 completed]\n",
      "\n",
      "1 Failed download:\n",
      "['JOYREALTY.BO']: YFTzMissingError('possibly delisted; no timezone found')\n",
      "Processing Stocks:  18%|█▊        | 536/2919 [06:35<44:35,  1.12s/it]"
     ]
    },
    {
     "name": "stdout",
     "output_type": "stream",
     "text": [
      "Error downloading data: No data found for JOYREALTY.BO in the given date range.\n"
     ]
    },
    {
     "name": "stderr",
     "output_type": "stream",
     "text": [
      "[*********************100%***********************]  1 of 1 completed\n",
      "[*********************100%***********************]  1 of 1 completed]\n",
      "[*********************100%***********************]  1 of 1 completed]\n",
      "[*********************100%***********************]  1 of 1 completed]\n",
      "[*********************100%***********************]  1 of 1 completed]\n",
      "[*********************100%***********************]  1 of 1 completed]\n",
      "[*********************100%***********************]  1 of 1 completed]\n",
      "\n",
      "1 Failed download:\n",
      "['KEDIACN.BO']: YFTzMissingError('possibly delisted; no timezone found')\n",
      "Processing Stocks:  19%|█▊        | 543/2919 [06:39<37:18,  1.06it/s]"
     ]
    },
    {
     "name": "stdout",
     "output_type": "stream",
     "text": [
      "Error downloading data: No data found for KEDIACN.BO in the given date range.\n"
     ]
    },
    {
     "name": "stderr",
     "output_type": "stream",
     "text": [
      "[*********************100%***********************]  1 of 1 completed\n",
      "\n",
      "1 Failed download:\n",
      "['TRANOCE.BO']: YFTzMissingError('possibly delisted; no timezone found')\n",
      "Processing Stocks:  19%|█▊        | 544/2919 [06:41<40:53,  1.03s/it]"
     ]
    },
    {
     "name": "stdout",
     "output_type": "stream",
     "text": [
      "Error downloading data: No data found for TRANOCE.BO in the given date range.\n"
     ]
    },
    {
     "name": "stderr",
     "output_type": "stream",
     "text": [
      "[*********************100%***********************]  1 of 1 completed\n",
      "[*********************100%***********************]  1 of 1 completed]\n",
      "[*********************100%***********************]  1 of 1 completed]\n",
      "[*********************100%***********************]  1 of 1 completed]\n",
      "\n",
      "1 Failed download:\n",
      "['ZLEENCON.BO']: YFTzMissingError('possibly delisted; no timezone found')\n",
      "Processing Stocks:  19%|█▉        | 548/2919 [06:43<32:26,  1.22it/s]"
     ]
    },
    {
     "name": "stdout",
     "output_type": "stream",
     "text": [
      "Error downloading data: No data found for ZLEENCON.BO in the given date range.\n"
     ]
    },
    {
     "name": "stderr",
     "output_type": "stream",
     "text": [
      "[*********************100%***********************]  1 of 1 completed\n",
      "[*********************100%***********************]  1 of 1 completed]\n",
      "[*********************100%***********************]  1 of 1 completed]\n",
      "[*********************100%***********************]  1 of 1 completed]\n",
      "\n",
      "1 Failed download:\n",
      "['PRESSMN.BO']: YFTzMissingError('possibly delisted; no timezone found')\n",
      "Processing Stocks:  19%|█▉        | 552/2919 [06:46<30:33,  1.29it/s]"
     ]
    },
    {
     "name": "stdout",
     "output_type": "stream",
     "text": [
      "Error downloading data: No data found for PRESSMN.BO in the given date range.\n"
     ]
    },
    {
     "name": "stderr",
     "output_type": "stream",
     "text": [
      "[*********************100%***********************]  1 of 1 completed\n",
      "[*********************100%***********************]  1 of 1 completed]\n",
      "[*********************100%***********************]  1 of 1 completed]\n",
      "[*********************100%***********************]  1 of 1 completed]\n",
      "[*********************100%***********************]  1 of 1 completed]\n",
      "[*********************100%***********************]  1 of 1 completed]\n",
      "[*********************100%***********************]  1 of 1 completed]\n",
      "[*********************100%***********************]  1 of 1 completed]\n",
      "[*********************100%***********************]  1 of 1 completed]\n",
      "[*********************100%***********************]  1 of 1 completed]\n",
      "[*********************100%***********************]  1 of 1 completed]\n",
      "[*********************100%***********************]  1 of 1 completed]\n",
      "[*********************100%***********************]  1 of 1 completed]\n",
      "[*********************100%***********************]  1 of 1 completed]\n",
      "[*********************100%***********************]  1 of 1 completed]\n",
      "\n",
      "1 Failed download:\n",
      "['GAMMONIND.BO']: YFTzMissingError('possibly delisted; no timezone found')\n",
      "Processing Stocks:  19%|█▉        | 567/2919 [06:55<38:09,  1.03it/s]"
     ]
    },
    {
     "name": "stdout",
     "output_type": "stream",
     "text": [
      "Error downloading data: No data found for GAMMONIND.BO in the given date range.\n"
     ]
    },
    {
     "name": "stderr",
     "output_type": "stream",
     "text": [
      "[*********************100%***********************]  1 of 1 completed\n",
      "\n",
      "1 Failed download:\n",
      "['GARWALLROP.BO']: YFTzMissingError('possibly delisted; no timezone found')\n",
      "Processing Stocks:  19%|█▉        | 568/2919 [06:56<46:25,  1.18s/it]"
     ]
    },
    {
     "name": "stdout",
     "output_type": "stream",
     "text": [
      "Error downloading data: No data found for GARWALLROP.BO in the given date range.\n"
     ]
    },
    {
     "name": "stderr",
     "output_type": "stream",
     "text": [
      "[*********************100%***********************]  1 of 1 completed\n",
      "[*********************100%***********************]  1 of 1 completed]\n",
      "[*********************100%***********************]  1 of 1 completed]\n",
      "\n",
      "1 Failed download:\n",
      "['HINDDORROL.BO']: YFTzMissingError('possibly delisted; no timezone found')\n",
      "Processing Stocks:  20%|█▉        | 571/2919 [06:59<37:58,  1.03it/s]"
     ]
    },
    {
     "name": "stdout",
     "output_type": "stream",
     "text": [
      "Error downloading data: No data found for HINDDORROL.BO in the given date range.\n"
     ]
    },
    {
     "name": "stderr",
     "output_type": "stream",
     "text": [
      "[*********************100%***********************]  1 of 1 completed\n",
      "[*********************100%***********************]  1 of 1 completed]\n",
      "[*********************100%***********************]  1 of 1 completed]\n",
      "\n",
      "1 Failed download:\n",
      "['ZHINDHSG.BO']: YFTzMissingError('possibly delisted; no timezone found')\n",
      "Processing Stocks:  20%|█▉        | 574/2919 [07:03<48:34,  1.24s/it]"
     ]
    },
    {
     "name": "stdout",
     "output_type": "stream",
     "text": [
      "Error downloading data: No data found for ZHINDHSG.BO in the given date range.\n"
     ]
    },
    {
     "name": "stderr",
     "output_type": "stream",
     "text": [
      "[*********************100%***********************]  1 of 1 completed\n",
      "[*********************100%***********************]  1 of 1 completed]\n",
      "[*********************100%***********************]  1 of 1 completed]\n",
      "\n",
      "1 Failed download:\n",
      "['JAYSHREETEA.BO']: YFTzMissingError('possibly delisted; no timezone found')\n",
      "Processing Stocks:  20%|█▉        | 577/2919 [07:06<43:56,  1.13s/it]"
     ]
    },
    {
     "name": "stdout",
     "output_type": "stream",
     "text": [
      "Error downloading data: No data found for JAYSHREETEA.BO in the given date range.\n"
     ]
    },
    {
     "name": "stderr",
     "output_type": "stream",
     "text": [
      "[*********************100%***********************]  1 of 1 completed\n",
      "[*********************100%***********************]  1 of 1 completed]\n",
      "\n",
      "1 Failed download:\n",
      "['PAPERPROD.BO']: YFTzMissingError('possibly delisted; no timezone found')\n",
      "Processing Stocks:  20%|█▉        | 579/2919 [07:08<40:59,  1.05s/it]"
     ]
    },
    {
     "name": "stdout",
     "output_type": "stream",
     "text": [
      "Error downloading data: No data found for PAPERPROD.BO in the given date range.\n"
     ]
    },
    {
     "name": "stderr",
     "output_type": "stream",
     "text": [
      "[*********************100%***********************]  1 of 1 completed\n",
      "[*********************100%***********************]  1 of 1 completed]\n",
      "\n",
      "1 Failed download:\n",
      "['SHAHCON.BO']: YFPricesMissingError('possibly delisted; no price data found  (1d 2012-01-01 -> 2025-01-01)')\n",
      "Processing Stocks:  20%|█▉        | 581/2919 [07:08<26:06,  1.49it/s]"
     ]
    },
    {
     "name": "stdout",
     "output_type": "stream",
     "text": [
      "Error downloading data: No data found for SHAHCON.BO in the given date range.\n"
     ]
    },
    {
     "name": "stderr",
     "output_type": "stream",
     "text": [
      "[*********************100%***********************]  1 of 1 completed\n",
      "[*********************100%***********************]  1 of 1 completed]\n",
      "[*********************100%***********************]  1 of 1 completed]\n",
      "[*********************100%***********************]  1 of 1 completed]\n",
      "[*********************100%***********************]  1 of 1 completed]\n",
      "[*********************100%***********************]  1 of 1 completed]\n",
      "\n",
      "1 Failed download:\n",
      "['TRADWIN.BO']: YFTzMissingError('possibly delisted; no timezone found')\n",
      "Processing Stocks:  20%|██        | 587/2919 [07:11<26:20,  1.48it/s]"
     ]
    },
    {
     "name": "stdout",
     "output_type": "stream",
     "text": [
      "Error downloading data: No data found for TRADWIN.BO in the given date range.\n"
     ]
    },
    {
     "name": "stderr",
     "output_type": "stream",
     "text": [
      "[*********************100%***********************]  1 of 1 completed\n",
      "[*********************100%***********************]  1 of 1 completed]\n",
      "[*********************100%***********************]  1 of 1 completed]\n",
      "[*********************100%***********************]  1 of 1 completed]\n",
      "[*********************100%***********************]  1 of 1 completed]\n",
      "\n",
      "1 Failed download:\n",
      "['ZSUBWAYF.BO']: YFTzMissingError('possibly delisted; no timezone found')\n",
      "Processing Stocks:  20%|██        | 592/2919 [07:14<26:08,  1.48it/s]"
     ]
    },
    {
     "name": "stdout",
     "output_type": "stream",
     "text": [
      "Error downloading data: No data found for ZSUBWAYF.BO in the given date range.\n"
     ]
    },
    {
     "name": "stderr",
     "output_type": "stream",
     "text": [
      "[*********************100%***********************]  1 of 1 completed\n",
      "[*********************100%***********************]  1 of 1 completed]\n",
      "\n",
      "1 Failed download:\n",
      "['KUSUMEL.BO']: YFTzMissingError('possibly delisted; no timezone found')\n",
      "Processing Stocks:  20%|██        | 594/2919 [07:16<38:00,  1.02it/s]"
     ]
    },
    {
     "name": "stdout",
     "output_type": "stream",
     "text": [
      "Error downloading data: No data found for KUSUMEL.BO in the given date range.\n"
     ]
    },
    {
     "name": "stderr",
     "output_type": "stream",
     "text": [
      "[*********************100%***********************]  1 of 1 completed\n",
      "\n",
      "1 Failed download:\n",
      "['JUMBFNL.BO']: YFTzMissingError('possibly delisted; no timezone found')\n",
      "Processing Stocks:  20%|██        | 595/2919 [07:18<47:59,  1.24s/it]"
     ]
    },
    {
     "name": "stdout",
     "output_type": "stream",
     "text": [
      "Error downloading data: No data found for JUMBFNL.BO in the given date range.\n"
     ]
    },
    {
     "name": "stderr",
     "output_type": "stream",
     "text": [
      "[*********************100%***********************]  1 of 1 completed\n",
      "\n",
      "1 Failed download:\n",
      "['DHFL.BO']: YFTzMissingError('possibly delisted; no timezone found')\n",
      "Processing Stocks:  20%|██        | 596/2919 [07:20<51:58,  1.34s/it]"
     ]
    },
    {
     "name": "stdout",
     "output_type": "stream",
     "text": [
      "Error downloading data: No data found for DHFL.BO in the given date range.\n"
     ]
    },
    {
     "name": "stderr",
     "output_type": "stream",
     "text": [
      "[*********************100%***********************]  1 of 1 completed\n",
      "\n",
      "1 Failed download:\n",
      "['WEIZFIN.BO']: YFTzMissingError('possibly delisted; no timezone found')\n",
      "Processing Stocks:  20%|██        | 597/2919 [07:21<49:45,  1.29s/it]"
     ]
    },
    {
     "name": "stdout",
     "output_type": "stream",
     "text": [
      "Error downloading data: No data found for WEIZFIN.BO in the given date range.\n"
     ]
    },
    {
     "name": "stderr",
     "output_type": "stream",
     "text": [
      "[*********************100%***********************]  1 of 1 completed\n",
      "[*********************100%***********************]  1 of 1 completed]\n",
      "[*********************100%***********************]  1 of 1 completed]\n",
      "\n",
      "1 Failed download:\n",
      "['KOTHARIFIN.BO']: YFTzMissingError('possibly delisted; no timezone found')\n",
      "Processing Stocks:  21%|██        | 600/2919 [07:23<36:22,  1.06it/s]"
     ]
    },
    {
     "name": "stdout",
     "output_type": "stream",
     "text": [
      "Error downloading data: No data found for KOTHARIFIN.BO in the given date range.\n"
     ]
    },
    {
     "name": "stderr",
     "output_type": "stream",
     "text": [
      "[*********************100%***********************]  1 of 1 completed\n",
      "\n",
      "1 Failed download:\n",
      "['BAJRFIN.BO']: YFTzMissingError('possibly delisted; no timezone found')\n",
      "Processing Stocks:  21%|██        | 601/2919 [07:24<39:56,  1.03s/it]"
     ]
    },
    {
     "name": "stdout",
     "output_type": "stream",
     "text": [
      "Error downloading data: No data found for BAJRFIN.BO in the given date range.\n"
     ]
    },
    {
     "name": "stderr",
     "output_type": "stream",
     "text": [
      "[*********************100%***********************]  1 of 1 completed\n",
      "\n",
      "1 Failed download:\n",
      "['WSFIN.BO']: YFTzMissingError('possibly delisted; no timezone found')\n",
      "Processing Stocks:  21%|██        | 602/2919 [07:26<43:36,  1.13s/it]"
     ]
    },
    {
     "name": "stdout",
     "output_type": "stream",
     "text": [
      "Error downloading data: No data found for WSFIN.BO in the given date range.\n"
     ]
    },
    {
     "name": "stderr",
     "output_type": "stream",
     "text": [
      "[*********************100%***********************]  1 of 1 completed\n",
      "\n",
      "1 Failed download:\n",
      "['REMITR.BO']: YFTzMissingError('possibly delisted; no timezone found')\n",
      "Processing Stocks:  21%|██        | 603/2919 [07:27<49:27,  1.28s/it]"
     ]
    },
    {
     "name": "stdout",
     "output_type": "stream",
     "text": [
      "Error downloading data: No data found for REMITR.BO in the given date range.\n"
     ]
    },
    {
     "name": "stderr",
     "output_type": "stream",
     "text": [
      "[*********************100%***********************]  1 of 1 completed\n",
      "[*********************100%***********************]  1 of 1 completed]\n",
      "\n",
      "1 Failed download:\n",
      "['HIMALFD.BO']: YFTzMissingError('possibly delisted; no timezone found')\n",
      "Processing Stocks:  21%|██        | 605/2919 [07:29<39:59,  1.04s/it]"
     ]
    },
    {
     "name": "stdout",
     "output_type": "stream",
     "text": [
      "Error downloading data: No data found for HIMALFD.BO in the given date range.\n"
     ]
    },
    {
     "name": "stderr",
     "output_type": "stream",
     "text": [
      "[*********************100%***********************]  1 of 1 completed\n",
      "[*********************100%***********************]  1 of 1 completed]\n",
      "\n",
      "1 Failed download:\n",
      "['SURYAKR.BO']: YFTzMissingError('possibly delisted; no timezone found')\n",
      "Processing Stocks:  21%|██        | 607/2919 [07:31<45:05,  1.17s/it]"
     ]
    },
    {
     "name": "stdout",
     "output_type": "stream",
     "text": [
      "Error downloading data: No data found for SURYAKR.BO in the given date range.\n"
     ]
    },
    {
     "name": "stderr",
     "output_type": "stream",
     "text": [
      "[*********************100%***********************]  1 of 1 completed\n",
      "[*********************100%***********************]  1 of 1 completed]\n",
      "[*********************100%***********************]  1 of 1 completed]\n",
      "[*********************100%***********************]  1 of 1 completed]\n",
      "\n",
      "1 Failed download:\n",
      "['SRTRANSFIN.BO']: YFTzMissingError('possibly delisted; no timezone found')\n",
      "Processing Stocks:  21%|██        | 611/2919 [07:34<38:41,  1.01s/it]"
     ]
    },
    {
     "name": "stdout",
     "output_type": "stream",
     "text": [
      "Error downloading data: No data found for SRTRANSFIN.BO in the given date range.\n"
     ]
    },
    {
     "name": "stderr",
     "output_type": "stream",
     "text": [
      "[*********************100%***********************]  1 of 1 completed\n",
      "[*********************100%***********************]  1 of 1 completed]\n",
      "\n",
      "1 Failed download:\n",
      "['GRUH.BO']: YFTzMissingError('possibly delisted; no timezone found')\n",
      "Processing Stocks:  21%|██        | 613/2919 [07:36<41:59,  1.09s/it]"
     ]
    },
    {
     "name": "stdout",
     "output_type": "stream",
     "text": [
      "Error downloading data: No data found for GRUH.BO in the given date range.\n"
     ]
    },
    {
     "name": "stderr",
     "output_type": "stream",
     "text": [
      "[*********************100%***********************]  1 of 1 completed\n",
      "[*********************100%***********************]  1 of 1 completed]\n",
      "\n",
      "1 Failed download:\n",
      "['MEGLON.BO']: YFTzMissingError('possibly delisted; no timezone found')\n",
      "Processing Stocks:  21%|██        | 615/2919 [07:38<39:24,  1.03s/it]"
     ]
    },
    {
     "name": "stdout",
     "output_type": "stream",
     "text": [
      "Error downloading data: No data found for MEGLON.BO in the given date range.\n"
     ]
    },
    {
     "name": "stderr",
     "output_type": "stream",
     "text": [
      "[*********************100%***********************]  1 of 1 completed\n",
      "[*********************100%***********************]  1 of 1 completed]\n",
      "[*********************100%***********************]  1 of 1 completed]\n",
      "[*********************100%***********************]  1 of 1 completed]\n",
      "[*********************100%***********************]  1 of 1 completed]\n",
      "[*********************100%***********************]  1 of 1 completed]\n",
      "[*********************100%***********************]  1 of 1 completed]\n",
      "[*********************100%***********************]  1 of 1 completed]\n",
      "[*********************100%***********************]  1 of 1 completed]\n",
      "\n",
      "1 Failed download:\n",
      "['VCKCAP.BO']: YFTzMissingError('possibly delisted; no timezone found')\n",
      "Processing Stocks:  21%|██▏       | 624/2919 [07:43<25:58,  1.47it/s]"
     ]
    },
    {
     "name": "stdout",
     "output_type": "stream",
     "text": [
      "Error downloading data: No data found for VCKCAP.BO in the given date range.\n"
     ]
    },
    {
     "name": "stderr",
     "output_type": "stream",
     "text": [
      "[*********************100%***********************]  1 of 1 completed\n",
      "\n",
      "1 Failed download:\n",
      "['CAPITALT.BO']: YFTzMissingError('possibly delisted; no timezone found')\n",
      "Processing Stocks:  21%|██▏       | 625/2919 [07:44<31:41,  1.21it/s]"
     ]
    },
    {
     "name": "stdout",
     "output_type": "stream",
     "text": [
      "Error downloading data: No data found for CAPITALT.BO in the given date range.\n"
     ]
    },
    {
     "name": "stderr",
     "output_type": "stream",
     "text": [
      "[*********************100%***********************]  1 of 1 completed\n",
      "[*********************100%***********************]  1 of 1 completed]\n",
      "[*********************100%***********************]  1 of 1 completed]\n",
      "[*********************100%***********************]  1 of 1 completed]\n",
      "[*********************100%***********************]  1 of 1 completed]\n",
      "[*********************100%***********************]  1 of 1 completed]\n",
      "[*********************100%***********************]  1 of 1 completed]\n",
      "[*********************100%***********************]  1 of 1 completed]\n",
      "[*********************100%***********************]  1 of 1 completed]\n",
      "\n",
      "1 Failed download:\n",
      "['PALSOFT.BO']: YFTzMissingError('possibly delisted; no timezone found')\n",
      "Processing Stocks:  22%|██▏       | 634/2919 [07:48<25:48,  1.48it/s]"
     ]
    },
    {
     "name": "stdout",
     "output_type": "stream",
     "text": [
      "Error downloading data: No data found for PALSOFT.BO in the given date range.\n"
     ]
    },
    {
     "name": "stderr",
     "output_type": "stream",
     "text": [
      "[*********************100%***********************]  1 of 1 completed\n",
      "[*********************100%***********************]  1 of 1 completed]\n",
      "[*********************100%***********************]  1 of 1 completed]\n",
      "\n",
      "1 Failed download:\n",
      "['WISEC.BO']: YFTzMissingError('possibly delisted; no timezone found')\n",
      "Processing Stocks:  22%|██▏       | 637/2919 [07:50<30:55,  1.23it/s]"
     ]
    },
    {
     "name": "stdout",
     "output_type": "stream",
     "text": [
      "Error downloading data: No data found for WISEC.BO in the given date range.\n"
     ]
    },
    {
     "name": "stderr",
     "output_type": "stream",
     "text": [
      "[*********************100%***********************]  1 of 1 completed\n",
      "[*********************100%***********************]  1 of 1 completed]\n",
      "[*********************100%***********************]  1 of 1 completed]\n",
      "[*********************100%***********************]  1 of 1 completed]\n",
      "[*********************100%***********************]  1 of 1 completed]\n",
      "[*********************100%***********************]  1 of 1 completed]\n",
      "\n",
      "1 Failed download:\n",
      "['VIPUL.BO']: YFTzMissingError('possibly delisted; no timezone found')\n",
      "Processing Stocks:  22%|██▏       | 643/2919 [07:54<33:39,  1.13it/s]"
     ]
    },
    {
     "name": "stdout",
     "output_type": "stream",
     "text": [
      "Error downloading data: No data found for VIPUL.BO in the given date range.\n"
     ]
    },
    {
     "name": "stderr",
     "output_type": "stream",
     "text": [
      "[*********************100%***********************]  1 of 1 completed\n",
      "[*********************100%***********************]  1 of 1 completed]\n",
      "\n",
      "1 Failed download:\n",
      "['USHDI.BO']: YFTzMissingError('possibly delisted; no timezone found')\n",
      "Processing Stocks:  22%|██▏       | 645/2919 [07:57<41:35,  1.10s/it]"
     ]
    },
    {
     "name": "stdout",
     "output_type": "stream",
     "text": [
      "Error downloading data: No data found for USHDI.BO in the given date range.\n"
     ]
    },
    {
     "name": "stderr",
     "output_type": "stream",
     "text": [
      "[*********************100%***********************]  1 of 1 completed\n",
      "[*********************100%***********************]  1 of 1 completed]\n",
      "[*********************100%***********************]  1 of 1 completed]\n",
      "[*********************100%***********************]  1 of 1 completed]\n",
      "[*********************100%***********************]  1 of 1 completed]\n",
      "\n",
      "1 Failed download:\n",
      "['UPASAFN.BO']: YFTzMissingError('possibly delisted; no timezone found')\n",
      "Processing Stocks:  22%|██▏       | 650/2919 [07:59<26:37,  1.42it/s]"
     ]
    },
    {
     "name": "stdout",
     "output_type": "stream",
     "text": [
      "Error downloading data: No data found for UPASAFN.BO in the given date range.\n"
     ]
    },
    {
     "name": "stderr",
     "output_type": "stream",
     "text": [
      "[*********************100%***********************]  1 of 1 completed\n",
      "\n",
      "1 Failed download:\n",
      "['MUTHTFN.BO']: YFTzMissingError('possibly delisted; no timezone found')\n",
      "Processing Stocks:  22%|██▏       | 651/2919 [08:00<31:29,  1.20it/s]"
     ]
    },
    {
     "name": "stdout",
     "output_type": "stream",
     "text": [
      "Error downloading data: No data found for MUTHTFN.BO in the given date range.\n"
     ]
    },
    {
     "name": "stderr",
     "output_type": "stream",
     "text": [
      "[*********************100%***********************]  1 of 1 completed\n",
      "\n",
      "1 Failed download:\n",
      "['AMANITRA.BO']: YFTzMissingError('possibly delisted; no timezone found')\n",
      "Processing Stocks:  22%|██▏       | 652/2919 [08:02<38:01,  1.01s/it]"
     ]
    },
    {
     "name": "stdout",
     "output_type": "stream",
     "text": [
      "Error downloading data: No data found for AMANITRA.BO in the given date range.\n"
     ]
    },
    {
     "name": "stderr",
     "output_type": "stream",
     "text": [
      "[*********************100%***********************]  1 of 1 completed\n",
      "\n",
      "1 Failed download:\n",
      "['TEATIME.BO']: YFPricesMissingError('possibly delisted; no price data found  (1d 2012-01-01 -> 2025-01-01)')\n",
      "Processing Stocks:  22%|██▏       | 653/2919 [08:02<29:13,  1.29it/s]"
     ]
    },
    {
     "name": "stdout",
     "output_type": "stream",
     "text": [
      "Error downloading data: No data found for TEATIME.BO in the given date range.\n"
     ]
    },
    {
     "name": "stderr",
     "output_type": "stream",
     "text": [
      "[*********************100%***********************]  1 of 1 completed\n",
      "[*********************100%***********************]  1 of 1 completed]\n",
      "\n",
      "1 Failed download:\n",
      "['WINROC.BO']: YFTzMissingError('possibly delisted; no timezone found')\n",
      "Processing Stocks:  22%|██▏       | 655/2919 [08:04<35:30,  1.06it/s]"
     ]
    },
    {
     "name": "stdout",
     "output_type": "stream",
     "text": [
      "Error downloading data: No data found for WINROC.BO in the given date range.\n"
     ]
    },
    {
     "name": "stderr",
     "output_type": "stream",
     "text": [
      "[*********************100%***********************]  1 of 1 completed\n",
      "[*********************100%***********************]  1 of 1 completed]\n",
      "[*********************100%***********************]  1 of 1 completed]\n",
      "[*********************100%***********************]  1 of 1 completed]\n",
      "\n",
      "1 Failed download:\n",
      "['ASWTR.BO']: YFTzMissingError('possibly delisted; no timezone found')\n",
      "Processing Stocks:  23%|██▎       | 659/2919 [08:06<28:35,  1.32it/s]"
     ]
    },
    {
     "name": "stdout",
     "output_type": "stream",
     "text": [
      "Error downloading data: No data found for ASWTR.BO in the given date range.\n"
     ]
    },
    {
     "name": "stderr",
     "output_type": "stream",
     "text": [
      "[*********************100%***********************]  1 of 1 completed\n",
      "\n",
      "1 Failed download:\n",
      "['ZSANMCOM.BO']: YFTzMissingError('possibly delisted; no timezone found')\n",
      "Processing Stocks:  23%|██▎       | 660/2919 [08:08<37:56,  1.01s/it]"
     ]
    },
    {
     "name": "stdout",
     "output_type": "stream",
     "text": [
      "Error downloading data: No data found for ZSANMCOM.BO in the given date range.\n"
     ]
    },
    {
     "name": "stderr",
     "output_type": "stream",
     "text": [
      "[*********************100%***********************]  1 of 1 completed\n",
      "\n",
      "1 Failed download:\n",
      "['AYOME.BO']: YFTzMissingError('possibly delisted; no timezone found')\n",
      "Processing Stocks:  23%|██▎       | 661/2919 [08:09<42:21,  1.13s/it]"
     ]
    },
    {
     "name": "stdout",
     "output_type": "stream",
     "text": [
      "Error downloading data: No data found for AYOME.BO in the given date range.\n"
     ]
    },
    {
     "name": "stderr",
     "output_type": "stream",
     "text": [
      "[*********************100%***********************]  1 of 1 completed\n",
      "\n",
      "1 Failed download:\n",
      "['VISTR.BO']: YFTzMissingError('possibly delisted; no timezone found')\n",
      "Processing Stocks:  23%|██▎       | 662/2919 [08:10<44:22,  1.18s/it]"
     ]
    },
    {
     "name": "stdout",
     "output_type": "stream",
     "text": [
      "Error downloading data: No data found for VISTR.BO in the given date range.\n"
     ]
    },
    {
     "name": "stderr",
     "output_type": "stream",
     "text": [
      "[*********************100%***********************]  1 of 1 completed\n",
      "\n",
      "1 Failed download:\n",
      "['MRUTR.BO']: YFTzMissingError('possibly delisted; no timezone found')\n",
      "Processing Stocks:  23%|██▎       | 663/2919 [08:12<48:31,  1.29s/it]"
     ]
    },
    {
     "name": "stdout",
     "output_type": "stream",
     "text": [
      "Error downloading data: No data found for MRUTR.BO in the given date range.\n"
     ]
    },
    {
     "name": "stderr",
     "output_type": "stream",
     "text": [
      "[*********************100%***********************]  1 of 1 completed\n",
      "[*********************100%***********************]  1 of 1 completed]\n",
      "\n",
      "1 Failed download:\n",
      "['ANSHNCO.BO']: YFTzMissingError('possibly delisted; no timezone found')\n",
      "Processing Stocks:  23%|██▎       | 665/2919 [08:14<50:28,  1.34s/it]"
     ]
    },
    {
     "name": "stdout",
     "output_type": "stream",
     "text": [
      "Error downloading data: No data found for ANSHNCO.BO in the given date range.\n"
     ]
    },
    {
     "name": "stderr",
     "output_type": "stream",
     "text": [
      "[*********************100%***********************]  1 of 1 completed\n",
      "[*********************100%***********************]  1 of 1 completed]\n",
      "\n",
      "1 Failed download:\n",
      "['PUNITCO.BO']: YFTzMissingError('possibly delisted; no timezone found')\n",
      "Processing Stocks:  23%|██▎       | 667/2919 [08:16<45:05,  1.20s/it]"
     ]
    },
    {
     "name": "stdout",
     "output_type": "stream",
     "text": [
      "Error downloading data: No data found for PUNITCO.BO in the given date range.\n"
     ]
    },
    {
     "name": "stderr",
     "output_type": "stream",
     "text": [
      "[*********************100%***********************]  1 of 1 completed\n",
      "\n",
      "1 Failed download:\n",
      "['TRIPR.BO']: YFTzMissingError('possibly delisted; no timezone found')\n",
      "Processing Stocks:  23%|██▎       | 668/2919 [08:18<46:14,  1.23s/it]"
     ]
    },
    {
     "name": "stdout",
     "output_type": "stream",
     "text": [
      "Error downloading data: No data found for TRIPR.BO in the given date range.\n"
     ]
    },
    {
     "name": "stderr",
     "output_type": "stream",
     "text": [
      "[*********************100%***********************]  1 of 1 completed\n",
      "[*********************100%***********************]  1 of 1 completed]\n",
      "[*********************100%***********************]  1 of 1 completed]\n",
      "\n",
      "1 Failed download:\n",
      "['SIGNETIND.BO']: YFTzMissingError('possibly delisted; no timezone found')\n",
      "Processing Stocks:  23%|██▎       | 671/2919 [08:20<33:49,  1.11it/s]"
     ]
    },
    {
     "name": "stdout",
     "output_type": "stream",
     "text": [
      "Error downloading data: No data found for SIGNETIND.BO in the given date range.\n"
     ]
    },
    {
     "name": "stderr",
     "output_type": "stream",
     "text": [
      "[*********************100%***********************]  1 of 1 completed\n",
      "[*********************100%***********************]  1 of 1 completed]\n",
      "\n",
      "1 Failed download:\n",
      "['TERRAREAL.BO']: YFPricesMissingError('possibly delisted; no price data found  (1d 2012-01-01 -> 2025-01-01)')\n",
      "Processing Stocks:  23%|██▎       | 673/2919 [08:20<23:40,  1.58it/s]"
     ]
    },
    {
     "name": "stdout",
     "output_type": "stream",
     "text": [
      "Error downloading data: No data found for TERRAREAL.BO in the given date range.\n"
     ]
    },
    {
     "name": "stderr",
     "output_type": "stream",
     "text": [
      "[*********************100%***********************]  1 of 1 completed\n",
      "\n",
      "1 Failed download:\n",
      "['8KMILES.BO']: YFTzMissingError('possibly delisted; no timezone found')\n",
      "Processing Stocks:  23%|██▎       | 674/2919 [08:23<42:59,  1.15s/it]"
     ]
    },
    {
     "name": "stdout",
     "output_type": "stream",
     "text": [
      "Error downloading data: No data found for 8KMILES.BO in the given date range.\n"
     ]
    },
    {
     "name": "stderr",
     "output_type": "stream",
     "text": [
      "[*********************100%***********************]  1 of 1 completed\n",
      "[*********************100%***********************]  1 of 1 completed]\n",
      "\n",
      "1 Failed download:\n",
      "['MATRAREAL.BO']: YFTzMissingError('possibly delisted; no timezone found')\n",
      "Processing Stocks:  23%|██▎       | 676/2919 [08:24<40:17,  1.08s/it]"
     ]
    },
    {
     "name": "stdout",
     "output_type": "stream",
     "text": [
      "Error downloading data: No data found for MATRAREAL.BO in the given date range.\n"
     ]
    },
    {
     "name": "stderr",
     "output_type": "stream",
     "text": [
      "[*********************100%***********************]  1 of 1 completed\n",
      "[*********************100%***********************]  1 of 1 completed]\n",
      "[*********************100%***********************]  1 of 1 completed]\n",
      "[*********************100%***********************]  1 of 1 completed]\n",
      "[*********************100%***********************]  1 of 1 completed]\n",
      "[*********************100%***********************]  1 of 1 completed]\n",
      "[*********************100%***********************]  1 of 1 completed]\n",
      "\n",
      "1 Failed download:\n",
      "['VORACON.BO']: YFTzMissingError('possibly delisted; no timezone found')\n",
      "Processing Stocks:  23%|██▎       | 683/2919 [08:28<25:26,  1.47it/s]"
     ]
    },
    {
     "name": "stdout",
     "output_type": "stream",
     "text": [
      "Error downloading data: No data found for VORACON.BO in the given date range.\n"
     ]
    },
    {
     "name": "stderr",
     "output_type": "stream",
     "text": [
      "[*********************100%***********************]  1 of 1 completed\n",
      "[*********************100%***********************]  1 of 1 completed]\n",
      "\n",
      "1 Failed download:\n",
      "['JAYTEX.BO']: YFPricesMissingError('possibly delisted; no price data found  (1d 2012-01-01 -> 2025-01-01)')\n",
      "Processing Stocks:  23%|██▎       | 685/2919 [08:28<17:35,  2.12it/s]"
     ]
    },
    {
     "name": "stdout",
     "output_type": "stream",
     "text": [
      "Error downloading data: No data found for JAYTEX.BO in the given date range.\n"
     ]
    },
    {
     "name": "stderr",
     "output_type": "stream",
     "text": [
      "[*********************100%***********************]  1 of 1 completed\n",
      "[*********************100%***********************]  1 of 1 completed]\n",
      "[*********************100%***********************]  1 of 1 completed]\n",
      "\n",
      "1 Failed download:\n",
      "['BAJGLOB.BO']: YFTzMissingError('possibly delisted; no timezone found')\n",
      "Processing Stocks:  24%|██▎       | 688/2919 [08:31<27:33,  1.35it/s]"
     ]
    },
    {
     "name": "stdout",
     "output_type": "stream",
     "text": [
      "Error downloading data: No data found for BAJGLOB.BO in the given date range.\n"
     ]
    },
    {
     "name": "stderr",
     "output_type": "stream",
     "text": [
      "[*********************100%***********************]  1 of 1 completed\n",
      "\n",
      "1 Failed download:\n",
      "['TASHIND.BO']: YFTzMissingError('possibly delisted; no timezone found')\n",
      "Processing Stocks:  24%|██▎       | 689/2919 [08:32<33:03,  1.12it/s]"
     ]
    },
    {
     "name": "stdout",
     "output_type": "stream",
     "text": [
      "Error downloading data: No data found for TASHIND.BO in the given date range.\n"
     ]
    },
    {
     "name": "stderr",
     "output_type": "stream",
     "text": [
      "[*********************100%***********************]  1 of 1 completed\n",
      "[*********************100%***********************]  1 of 1 completed]\n",
      "[*********************100%***********************]  1 of 1 completed]\n",
      "[*********************100%***********************]  1 of 1 completed]\n",
      "\n",
      "1 Failed download:\n",
      "['ZSPEEDCO.BO']: YFTzMissingError('possibly delisted; no timezone found')\n",
      "Processing Stocks:  24%|██▎       | 693/2919 [08:34<30:40,  1.21it/s]"
     ]
    },
    {
     "name": "stdout",
     "output_type": "stream",
     "text": [
      "Error downloading data: No data found for ZSPEEDCO.BO in the given date range.\n"
     ]
    },
    {
     "name": "stderr",
     "output_type": "stream",
     "text": [
      "[*********************100%***********************]  1 of 1 completed\n",
      "\n",
      "1 Failed download:\n",
      "['BHAGYNAGAR.BO']: YFTzMissingError('possibly delisted; no timezone found')\n",
      "Processing Stocks:  24%|██▍       | 694/2919 [08:36<42:56,  1.16s/it]"
     ]
    },
    {
     "name": "stdout",
     "output_type": "stream",
     "text": [
      "Error downloading data: No data found for BHAGYNAGAR.BO in the given date range.\n"
     ]
    },
    {
     "name": "stderr",
     "output_type": "stream",
     "text": [
      "[*********************100%***********************]  1 of 1 completed\n",
      "\n",
      "1 Failed download:\n",
      "['STERLINBIO.BO']: YFTzMissingError('possibly delisted; no timezone found')\n",
      "Processing Stocks:  24%|██▍       | 695/2919 [08:38<44:41,  1.21s/it]"
     ]
    },
    {
     "name": "stdout",
     "output_type": "stream",
     "text": [
      "Error downloading data: No data found for STERLINBIO.BO in the given date range.\n"
     ]
    },
    {
     "name": "stderr",
     "output_type": "stream",
     "text": [
      "[*********************100%***********************]  1 of 1 completed\n",
      "\n",
      "1 Failed download:\n",
      "['KRL.BO']: YFTzMissingError('possibly delisted; no timezone found')\n",
      "Processing Stocks:  24%|██▍       | 696/2919 [08:39<44:47,  1.21s/it]"
     ]
    },
    {
     "name": "stdout",
     "output_type": "stream",
     "text": [
      "Error downloading data: No data found for KRL.BO in the given date range.\n"
     ]
    },
    {
     "name": "stderr",
     "output_type": "stream",
     "text": [
      "[*********************100%***********************]  1 of 1 completed\n",
      "\n",
      "1 Failed download:\n",
      "['MAHSHRE.BO']: YFPricesMissingError('possibly delisted; no price data found  (1d 2012-01-01 -> 2025-01-01)')\n",
      "Processing Stocks:  24%|██▍       | 697/2919 [08:39<33:58,  1.09it/s]"
     ]
    },
    {
     "name": "stdout",
     "output_type": "stream",
     "text": [
      "Error downloading data: No data found for MAHSHRE.BO in the given date range.\n"
     ]
    },
    {
     "name": "stderr",
     "output_type": "stream",
     "text": [
      "[*********************100%***********************]  1 of 1 completed\n",
      "\n",
      "1 Failed download:\n",
      "['CESL.BO']: YFTzMissingError('possibly delisted; no timezone found')\n",
      "Processing Stocks:  24%|██▍       | 698/2919 [08:41<40:52,  1.10s/it]"
     ]
    },
    {
     "name": "stdout",
     "output_type": "stream",
     "text": [
      "Error downloading data: No data found for CESL.BO in the given date range.\n"
     ]
    },
    {
     "name": "stderr",
     "output_type": "stream",
     "text": [
      "[*********************100%***********************]  1 of 1 completed\n",
      "[*********************100%***********************]  1 of 1 completed]\n",
      "\n",
      "1 Failed download:\n",
      "['ZSHERAPR.BO']: YFTzMissingError('possibly delisted; no timezone found')\n",
      "Processing Stocks:  24%|██▍       | 700/2919 [08:42<37:19,  1.01s/it]"
     ]
    },
    {
     "name": "stdout",
     "output_type": "stream",
     "text": [
      "Error downloading data: No data found for ZSHERAPR.BO in the given date range.\n"
     ]
    },
    {
     "name": "stderr",
     "output_type": "stream",
     "text": [
      "[*********************100%***********************]  1 of 1 completed\n",
      "\n",
      "1 Failed download:\n",
      "['MAGANTR.BO']: YFTzMissingError('possibly delisted; no timezone found')\n",
      "Processing Stocks:  24%|██▍       | 701/2919 [08:43<39:24,  1.07s/it]"
     ]
    },
    {
     "name": "stdout",
     "output_type": "stream",
     "text": [
      "Error downloading data: No data found for MAGANTR.BO in the given date range.\n"
     ]
    },
    {
     "name": "stderr",
     "output_type": "stream",
     "text": [
      "[*********************100%***********************]  1 of 1 completed\n",
      "\n",
      "1 Failed download:\n",
      "['ZNIVEMER.BO']: YFTzMissingError('possibly delisted; no timezone found')\n",
      "Processing Stocks:  24%|██▍       | 702/2919 [08:45<41:34,  1.13s/it]"
     ]
    },
    {
     "name": "stdout",
     "output_type": "stream",
     "text": [
      "Error downloading data: No data found for ZNIVEMER.BO in the given date range.\n"
     ]
    },
    {
     "name": "stderr",
     "output_type": "stream",
     "text": [
      "[*********************100%***********************]  1 of 1 completed\n",
      "\n",
      "1 Failed download:\n",
      "['KAPASHI.BO']: YFTzMissingError('possibly delisted; no timezone found')\n",
      "Processing Stocks:  24%|██▍       | 703/2919 [08:46<48:25,  1.31s/it]"
     ]
    },
    {
     "name": "stdout",
     "output_type": "stream",
     "text": [
      "Error downloading data: No data found for KAPASHI.BO in the given date range.\n"
     ]
    },
    {
     "name": "stderr",
     "output_type": "stream",
     "text": [
      "[*********************100%***********************]  1 of 1 completed\n",
      "\n",
      "1 Failed download:\n",
      "['IPOWER.BO']: YFPricesMissingError('possibly delisted; no price data found  (1d 2012-01-01 -> 2025-01-01) (Yahoo error = \"Data doesn\\'t exist for startDate = 1325356200, endDate = 1735669800\")')\n",
      "Processing Stocks:  24%|██▍       | 704/2919 [08:48<49:34,  1.34s/it]"
     ]
    },
    {
     "name": "stdout",
     "output_type": "stream",
     "text": [
      "Error downloading data: No data found for IPOWER.BO in the given date range.\n"
     ]
    },
    {
     "name": "stderr",
     "output_type": "stream",
     "text": [
      "[*********************100%***********************]  1 of 1 completed\n",
      "\n",
      "1 Failed download:\n",
      "['UNIWSEC.BO']: YFTzMissingError('possibly delisted; no timezone found')\n",
      "Processing Stocks:  24%|██▍       | 705/2919 [08:49<47:11,  1.28s/it]"
     ]
    },
    {
     "name": "stdout",
     "output_type": "stream",
     "text": [
      "Error downloading data: No data found for UNIWSEC.BO in the given date range.\n"
     ]
    },
    {
     "name": "stderr",
     "output_type": "stream",
     "text": [
      "[*********************100%***********************]  1 of 1 completed\n",
      "\n",
      "1 Failed download:\n",
      "['RAJSAN.BO']: YFTzMissingError('possibly delisted; no timezone found')\n",
      "Processing Stocks:  24%|██▍       | 706/2919 [08:51<54:44,  1.48s/it]"
     ]
    },
    {
     "name": "stdout",
     "output_type": "stream",
     "text": [
      "Error downloading data: No data found for RAJSAN.BO in the given date range.\n"
     ]
    },
    {
     "name": "stderr",
     "output_type": "stream",
     "text": [
      "[*********************100%***********************]  1 of 1 completed\n",
      "[*********************100%***********************]  1 of 1 completed]\n",
      "\n",
      "1 Failed download:\n",
      "['TRITRADE.BO']: YFTzMissingError('possibly delisted; no timezone found')\n",
      "Processing Stocks:  24%|██▍       | 708/2919 [08:53<50:15,  1.36s/it]"
     ]
    },
    {
     "name": "stdout",
     "output_type": "stream",
     "text": [
      "Error downloading data: No data found for TRITRADE.BO in the given date range.\n"
     ]
    },
    {
     "name": "stderr",
     "output_type": "stream",
     "text": [
      "[*********************100%***********************]  1 of 1 completed\n",
      "[*********************100%***********************]  1 of 1 completed]\n",
      "\n",
      "1 Failed download:\n",
      "['GANONTR.BO']: YFTzMissingError('possibly delisted; no timezone found')\n",
      "Processing Stocks:  24%|██▍       | 710/2919 [08:55<43:27,  1.18s/it]"
     ]
    },
    {
     "name": "stdout",
     "output_type": "stream",
     "text": [
      "Error downloading data: No data found for GANONTR.BO in the given date range.\n"
     ]
    },
    {
     "name": "stderr",
     "output_type": "stream",
     "text": [
      "[*********************100%***********************]  1 of 1 completed\n",
      "\n",
      "1 Failed download:\n",
      "['DEVITRD.BO']: YFTzMissingError('possibly delisted; no timezone found')\n",
      "Processing Stocks:  24%|██▍       | 711/2919 [08:56<45:00,  1.22s/it]"
     ]
    },
    {
     "name": "stdout",
     "output_type": "stream",
     "text": [
      "Error downloading data: No data found for DEVITRD.BO in the given date range.\n"
     ]
    },
    {
     "name": "stderr",
     "output_type": "stream",
     "text": [
      "[*********************100%***********************]  1 of 1 completed\n",
      "[*********************100%***********************]  1 of 1 completed]\n",
      "\n",
      "1 Failed download:\n",
      "['SHRGLTR.BO']: YFTzMissingError('possibly delisted; no timezone found')\n",
      "Processing Stocks:  24%|██▍       | 713/2919 [08:58<37:36,  1.02s/it]"
     ]
    },
    {
     "name": "stdout",
     "output_type": "stream",
     "text": [
      "Error downloading data: No data found for SHRGLTR.BO in the given date range.\n"
     ]
    },
    {
     "name": "stderr",
     "output_type": "stream",
     "text": [
      "[*********************100%***********************]  1 of 1 completed\n",
      "\n",
      "1 Failed download:\n",
      "['GYTRIPA.BO']: YFTzMissingError('possibly delisted; no timezone found')\n",
      "Processing Stocks:  24%|██▍       | 714/2919 [08:59<41:55,  1.14s/it]"
     ]
    },
    {
     "name": "stdout",
     "output_type": "stream",
     "text": [
      "Error downloading data: No data found for GYTRIPA.BO in the given date range.\n"
     ]
    },
    {
     "name": "stderr",
     "output_type": "stream",
     "text": [
      "[*********************100%***********************]  1 of 1 completed\n",
      "\n",
      "1 Failed download:\n",
      "['REMIELEK.BO']: YFTzMissingError('possibly delisted; no timezone found')\n",
      "Processing Stocks:  24%|██▍       | 715/2919 [09:01<43:28,  1.18s/it]"
     ]
    },
    {
     "name": "stdout",
     "output_type": "stream",
     "text": [
      "Error downloading data: No data found for REMIELEK.BO in the given date range.\n"
     ]
    },
    {
     "name": "stderr",
     "output_type": "stream",
     "text": [
      "[*********************100%***********************]  1 of 1 completed\n",
      "[*********************100%***********************]  1 of 1 completed]\n",
      "\n",
      "1 Failed download:\n",
      "['VARUNME.BO']: YFTzMissingError('possibly delisted; no timezone found')\n",
      "Processing Stocks:  25%|██▍       | 717/2919 [09:03<41:30,  1.13s/it]"
     ]
    },
    {
     "name": "stdout",
     "output_type": "stream",
     "text": [
      "Error downloading data: No data found for VARUNME.BO in the given date range.\n"
     ]
    },
    {
     "name": "stderr",
     "output_type": "stream",
     "text": [
      "[*********************100%***********************]  1 of 1 completed\n",
      "[*********************100%***********************]  1 of 1 completed]\n",
      "[*********************100%***********************]  1 of 1 completed]\n",
      "[*********************100%***********************]  1 of 1 completed]\n",
      "[*********************100%***********************]  1 of 1 completed]\n",
      "[*********************100%***********************]  1 of 1 completed]\n",
      "\n",
      "1 Failed download:\n",
      "['AVANTI.BO']: YFTzMissingError('possibly delisted; no timezone found')\n",
      "Processing Stocks:  25%|██▍       | 723/2919 [09:06<28:51,  1.27it/s]"
     ]
    },
    {
     "name": "stdout",
     "output_type": "stream",
     "text": [
      "Error downloading data: No data found for AVANTI.BO in the given date range.\n"
     ]
    },
    {
     "name": "stderr",
     "output_type": "stream",
     "text": [
      "[*********************100%***********************]  1 of 1 completed\n",
      "\n",
      "1 Failed download:\n",
      "['GUJNRECOKE.BO']: ValueError('Length mismatch: Expected axis has 2 elements, new values have 1 elements')\n",
      "Processing Stocks:  25%|██▍       | 724/2919 [09:07<25:00,  1.46it/s]"
     ]
    },
    {
     "name": "stdout",
     "output_type": "stream",
     "text": [
      "Error downloading data: No data found for GUJNRECOKE.BO in the given date range.\n"
     ]
    },
    {
     "name": "stderr",
     "output_type": "stream",
     "text": [
      "[*********************100%***********************]  1 of 1 completed\n",
      "[*********************100%***********************]  1 of 1 completed]\n",
      "[*********************100%***********************]  1 of 1 completed]\n",
      "\n",
      "1 Failed download:\n",
      "['KEYCORPSER.BO']: YFTzMissingError('possibly delisted; no timezone found')\n",
      "Processing Stocks:  25%|██▍       | 727/2919 [09:09<25:39,  1.42it/s]"
     ]
    },
    {
     "name": "stdout",
     "output_type": "stream",
     "text": [
      "Error downloading data: No data found for KEYCORPSER.BO in the given date range.\n"
     ]
    },
    {
     "name": "stderr",
     "output_type": "stream",
     "text": [
      "[*********************100%***********************]  1 of 1 completed\n",
      "[*********************100%***********************]  1 of 1 completed]\n",
      "\n",
      "1 Failed download:\n",
      "['MACINTR.BO']: YFTzMissingError('possibly delisted; no timezone found')\n",
      "Processing Stocks:  25%|██▍       | 729/2919 [09:11<34:30,  1.06it/s]"
     ]
    },
    {
     "name": "stdout",
     "output_type": "stream",
     "text": [
      "Error downloading data: No data found for MACINTR.BO in the given date range.\n"
     ]
    },
    {
     "name": "stderr",
     "output_type": "stream",
     "text": [
      "[*********************100%***********************]  1 of 1 completed\n",
      "\n",
      "1 Failed download:\n",
      "['BHANDHOS.BO']: YFTzMissingError('possibly delisted; no timezone found')\n",
      "Processing Stocks:  25%|██▌       | 730/2919 [09:12<37:23,  1.03s/it]"
     ]
    },
    {
     "name": "stdout",
     "output_type": "stream",
     "text": [
      "Error downloading data: No data found for BHANDHOS.BO in the given date range.\n"
     ]
    },
    {
     "name": "stderr",
     "output_type": "stream",
     "text": [
      "[*********************100%***********************]  1 of 1 completed\n",
      "[*********************100%***********************]  1 of 1 completed]\n",
      "[*********************100%***********************]  1 of 1 completed]\n",
      "[*********************100%***********************]  1 of 1 completed]\n",
      "\n",
      "1 Failed download:\n",
      "['VBCFERROQ.BO']: YFTzMissingError('possibly delisted; no timezone found')\n",
      "Processing Stocks:  25%|██▌       | 734/2919 [09:15<34:06,  1.07it/s]"
     ]
    },
    {
     "name": "stdout",
     "output_type": "stream",
     "text": [
      "Error downloading data: No data found for VBCFERROQ.BO in the given date range.\n"
     ]
    },
    {
     "name": "stderr",
     "output_type": "stream",
     "text": [
      "[*********************100%***********************]  1 of 1 completed\n",
      "\n",
      "1 Failed download:\n",
      "['TATASPONGE.BO']: YFTzMissingError('possibly delisted; no timezone found')\n",
      "Processing Stocks:  25%|██▌       | 735/2919 [09:16<42:28,  1.17s/it]"
     ]
    },
    {
     "name": "stdout",
     "output_type": "stream",
     "text": [
      "Error downloading data: No data found for TATASPONGE.BO in the given date range.\n"
     ]
    },
    {
     "name": "stderr",
     "output_type": "stream",
     "text": [
      "[*********************100%***********************]  1 of 1 completed\n",
      "[*********************100%***********************]  1 of 1 completed]\n",
      "\n",
      "1 Failed download:\n",
      "['NBVENTURES.BO']: YFTzMissingError('possibly delisted; no timezone found')\n",
      "Processing Stocks:  25%|██▌       | 737/2919 [09:18<36:38,  1.01s/it]"
     ]
    },
    {
     "name": "stdout",
     "output_type": "stream",
     "text": [
      "Error downloading data: No data found for NBVENTURES.BO in the given date range.\n"
     ]
    },
    {
     "name": "stderr",
     "output_type": "stream",
     "text": [
      "[*********************100%***********************]  1 of 1 completed\n",
      "\n",
      "1 Failed download:\n",
      "['ZHINUDYP.BO']: YFTzMissingError('possibly delisted; no timezone found')\n",
      "Processing Stocks:  25%|██▌       | 738/2919 [09:20<42:48,  1.18s/it]"
     ]
    },
    {
     "name": "stdout",
     "output_type": "stream",
     "text": [
      "Error downloading data: No data found for ZHINUDYP.BO in the given date range.\n"
     ]
    },
    {
     "name": "stderr",
     "output_type": "stream",
     "text": [
      "[*********************100%***********************]  1 of 1 completed\n",
      "[*********************100%***********************]  1 of 1 completed]\n",
      "[*********************100%***********************]  1 of 1 completed]\n",
      "\n",
      "1 Failed download:\n",
      "['ABCGAS.BO']: YFTzMissingError('possibly delisted; no timezone found')\n",
      "Processing Stocks:  25%|██▌       | 741/2919 [09:22<33:57,  1.07it/s]"
     ]
    },
    {
     "name": "stdout",
     "output_type": "stream",
     "text": [
      "Error downloading data: No data found for ABCGAS.BO in the given date range.\n"
     ]
    },
    {
     "name": "stderr",
     "output_type": "stream",
     "text": [
      "[*********************100%***********************]  1 of 1 completed\n",
      "\n",
      "1 Failed download:\n",
      "['ORICON.BO']: YFTzMissingError('possibly delisted; no timezone found')\n",
      "Processing Stocks:  25%|██▌       | 742/2919 [09:23<37:57,  1.05s/it]"
     ]
    },
    {
     "name": "stdout",
     "output_type": "stream",
     "text": [
      "Error downloading data: No data found for ORICON.BO in the given date range.\n"
     ]
    },
    {
     "name": "stderr",
     "output_type": "stream",
     "text": [
      "[*********************100%***********************]  1 of 1 completed\n",
      "[*********************100%***********************]  1 of 1 completed]\n",
      "\n",
      "1 Failed download:\n",
      "['STINDIA.BO']: YFTzMissingError('possibly delisted; no timezone found')\n",
      "Processing Stocks:  25%|██▌       | 744/2919 [09:25<37:03,  1.02s/it]"
     ]
    },
    {
     "name": "stdout",
     "output_type": "stream",
     "text": [
      "Error downloading data: No data found for STINDIA.BO in the given date range.\n"
     ]
    },
    {
     "name": "stderr",
     "output_type": "stream",
     "text": [
      "[*********************100%***********************]  1 of 1 completed\n",
      "\n",
      "1 Failed download:\n",
      "['NATNLSTEEL.BO']: YFTzMissingError('possibly delisted; no timezone found')\n",
      "Processing Stocks:  26%|██▌       | 745/2919 [09:26<41:07,  1.14s/it]"
     ]
    },
    {
     "name": "stdout",
     "output_type": "stream",
     "text": [
      "Error downloading data: No data found for NATNLSTEEL.BO in the given date range.\n"
     ]
    },
    {
     "name": "stderr",
     "output_type": "stream",
     "text": [
      "[*********************100%***********************]  1 of 1 completed\n",
      "\n",
      "1 Failed download:\n",
      "['UTTAMSTL.BO']: YFTzMissingError('possibly delisted; no timezone found')\n",
      "Processing Stocks:  26%|██▌       | 746/2919 [09:27<43:38,  1.20s/it]"
     ]
    },
    {
     "name": "stdout",
     "output_type": "stream",
     "text": [
      "Error downloading data: No data found for UTTAMSTL.BO in the given date range.\n"
     ]
    },
    {
     "name": "stderr",
     "output_type": "stream",
     "text": [
      "[*********************100%***********************]  1 of 1 completed\n",
      "[*********************100%***********************]  1 of 1 completed]\n",
      "[*********************100%***********************]  1 of 1 completed]\n",
      "[*********************100%***********************]  1 of 1 completed]\n",
      "[*********************100%***********************]  1 of 1 completed]\n",
      "[*********************100%***********************]  1 of 1 completed]\n",
      "\n",
      "1 Failed download:\n",
      "['PREMPIPES.BO']: YFTzMissingError('possibly delisted; no timezone found')\n",
      "Processing Stocks:  26%|██▌       | 752/2919 [09:32<36:06,  1.00it/s]"
     ]
    },
    {
     "name": "stdout",
     "output_type": "stream",
     "text": [
      "Error downloading data: No data found for PREMPIPES.BO in the given date range.\n"
     ]
    },
    {
     "name": "stderr",
     "output_type": "stream",
     "text": [
      "[*********************100%***********************]  1 of 1 completed\n",
      "[*********************100%***********************]  1 of 1 completed]\n",
      "[*********************100%***********************]  1 of 1 completed]\n",
      "[*********************100%***********************]  1 of 1 completed]\n",
      "[*********************100%***********************]  1 of 1 completed]\n",
      "[*********************100%***********************]  1 of 1 completed]\n",
      "\n",
      "1 Failed download:\n",
      "['RJKMRFR.BO']: YFTzMissingError('possibly delisted; no timezone found')\n",
      "Processing Stocks:  26%|██▌       | 758/2919 [09:35<28:01,  1.29it/s]"
     ]
    },
    {
     "name": "stdout",
     "output_type": "stream",
     "text": [
      "Error downloading data: No data found for RJKMRFR.BO in the given date range.\n"
     ]
    },
    {
     "name": "stderr",
     "output_type": "stream",
     "text": [
      "[*********************100%***********************]  1 of 1 completed\n",
      "[*********************100%***********************]  1 of 1 completed]\n",
      "[*********************100%***********************]  1 of 1 completed]\n",
      "[*********************100%***********************]  1 of 1 completed]\n",
      "\n",
      "1 Failed download:\n",
      "['SMPL.BO']: YFTzMissingError('possibly delisted; no timezone found')\n",
      "Processing Stocks:  26%|██▌       | 762/2919 [09:38<29:21,  1.22it/s]"
     ]
    },
    {
     "name": "stdout",
     "output_type": "stream",
     "text": [
      "Error downloading data: No data found for SMPL.BO in the given date range.\n"
     ]
    },
    {
     "name": "stderr",
     "output_type": "stream",
     "text": [
      "[*********************100%***********************]  1 of 1 completed\n",
      "[*********************100%***********************]  1 of 1 completed]\n",
      "[*********************100%***********************]  1 of 1 completed]\n",
      "[*********************100%***********************]  1 of 1 completed]\n",
      "[*********************100%***********************]  1 of 1 completed]\n",
      "[*********************100%***********************]  1 of 1 completed]\n",
      "\n",
      "1 Failed download:\n",
      "['MONNETISPA.BO']: YFTzMissingError('possibly delisted; no timezone found')\n",
      "Processing Stocks:  26%|██▋       | 768/2919 [09:42<31:10,  1.15it/s]"
     ]
    },
    {
     "name": "stdout",
     "output_type": "stream",
     "text": [
      "Error downloading data: No data found for MONNETISPA.BO in the given date range.\n"
     ]
    },
    {
     "name": "stderr",
     "output_type": "stream",
     "text": [
      "[*********************100%***********************]  1 of 1 completed\n",
      "[*********************100%***********************]  1 of 1 completed]\n",
      "[*********************100%***********************]  1 of 1 completed]\n",
      "[*********************100%***********************]  1 of 1 completed]\n",
      "[*********************100%***********************]  1 of 1 completed]\n",
      "\n",
      "1 Failed download:\n",
      "['MEWATZI.BO']: YFTzMissingError('possibly delisted; no timezone found')\n",
      "Processing Stocks:  26%|██▋       | 773/2919 [09:44<26:00,  1.38it/s]"
     ]
    },
    {
     "name": "stdout",
     "output_type": "stream",
     "text": [
      "Error downloading data: No data found for MEWATZI.BO in the given date range.\n"
     ]
    },
    {
     "name": "stderr",
     "output_type": "stream",
     "text": [
      "[*********************100%***********************]  1 of 1 completed\n",
      "[*********************100%***********************]  1 of 1 completed]\n",
      "[*********************100%***********************]  1 of 1 completed]\n",
      "[*********************100%***********************]  1 of 1 completed]\n",
      "[*********************100%***********************]  1 of 1 completed]\n",
      "[*********************100%***********************]  1 of 1 completed]\n",
      "\n",
      "1 Failed download:\n",
      "['PITTILAM.BO']: YFTzMissingError('possibly delisted; no timezone found')\n",
      "Processing Stocks:  27%|██▋       | 779/2919 [09:48<26:27,  1.35it/s]"
     ]
    },
    {
     "name": "stdout",
     "output_type": "stream",
     "text": [
      "Error downloading data: No data found for PITTILAM.BO in the given date range.\n"
     ]
    },
    {
     "name": "stderr",
     "output_type": "stream",
     "text": [
      "[*********************100%***********************]  1 of 1 completed\n",
      "[*********************100%***********************]  1 of 1 completed]\n",
      "[*********************100%***********************]  1 of 1 completed]\n",
      "[*********************100%***********************]  1 of 1 completed]\n",
      "[*********************100%***********************]  1 of 1 completed]\n",
      "\n",
      "1 Failed download:\n",
      "['REALSTR.BO']: YFTzMissingError('possibly delisted; no timezone found')\n",
      "Processing Stocks:  27%|██▋       | 784/2919 [09:51<34:38,  1.03it/s]"
     ]
    },
    {
     "name": "stdout",
     "output_type": "stream",
     "text": [
      "Error downloading data: No data found for REALSTR.BO in the given date range.\n"
     ]
    },
    {
     "name": "stderr",
     "output_type": "stream",
     "text": [
      "[*********************100%***********************]  1 of 1 completed\n",
      "[*********************100%***********************]  1 of 1 completed]\n",
      "[*********************100%***********************]  1 of 1 completed]\n",
      "[*********************100%***********************]  1 of 1 completed]\n",
      "\n",
      "1 Failed download:\n",
      "['SURANAIND.BO']: ValueError('Length mismatch: Expected axis has 2 elements, new values have 1 elements')\n",
      "Processing Stocks:  27%|██▋       | 788/2919 [09:53<19:04,  1.86it/s]"
     ]
    },
    {
     "name": "stdout",
     "output_type": "stream",
     "text": [
      "Error downloading data: No data found for SURANAIND.BO in the given date range.\n"
     ]
    },
    {
     "name": "stderr",
     "output_type": "stream",
     "text": [
      "[*********************100%***********************]  1 of 1 completed\n",
      "[*********************100%***********************]  1 of 1 completed]\n",
      "\n",
      "1 Failed download:\n",
      "['SRIPIPES.BO']: YFTzMissingError('possibly delisted; no timezone found')\n",
      "Processing Stocks:  27%|██▋       | 790/2919 [09:55<32:26,  1.09it/s]"
     ]
    },
    {
     "name": "stdout",
     "output_type": "stream",
     "text": [
      "Error downloading data: No data found for SRIPIPES.BO in the given date range.\n"
     ]
    },
    {
     "name": "stderr",
     "output_type": "stream",
     "text": [
      "[*********************100%***********************]  1 of 1 completed\n",
      "[*********************100%***********************]  1 of 1 completed]\n",
      "\n",
      "1 Failed download:\n",
      "['MARGPROIN.BO']: YFTzMissingError('possibly delisted; no timezone found')\n",
      "Processing Stocks:  27%|██▋       | 792/2919 [09:58<39:55,  1.13s/it]"
     ]
    },
    {
     "name": "stdout",
     "output_type": "stream",
     "text": [
      "Error downloading data: No data found for MARGPROIN.BO in the given date range.\n"
     ]
    },
    {
     "name": "stderr",
     "output_type": "stream",
     "text": [
      "[*********************100%***********************]  1 of 1 completed\n",
      "[*********************100%***********************]  1 of 1 completed]\n",
      "\n",
      "1 Failed download:\n",
      "['JMTAUTOLTD.BO']: YFTzMissingError('possibly delisted; no timezone found')\n",
      "Processing Stocks:  27%|██▋       | 794/2919 [10:00<36:25,  1.03s/it]"
     ]
    },
    {
     "name": "stdout",
     "output_type": "stream",
     "text": [
      "Error downloading data: No data found for JMTAUTOLTD.BO in the given date range.\n"
     ]
    },
    {
     "name": "stderr",
     "output_type": "stream",
     "text": [
      "[*********************100%***********************]  1 of 1 completed\n",
      "\n",
      "1 Failed download:\n",
      "['KUMARWI.BO']: YFTzMissingError('possibly delisted; no timezone found')\n",
      "Processing Stocks:  27%|██▋       | 795/2919 [10:01<38:28,  1.09s/it]"
     ]
    },
    {
     "name": "stdout",
     "output_type": "stream",
     "text": [
      "Error downloading data: No data found for KUMARWI.BO in the given date range.\n"
     ]
    },
    {
     "name": "stderr",
     "output_type": "stream",
     "text": [
      "[*********************100%***********************]  1 of 1 completed\n",
      "[*********************100%***********************]  1 of 1 completed]\n",
      "[*********************100%***********************]  1 of 1 completed]\n",
      "\n",
      "1 Failed download:\n",
      "['HIMGRANI.BO']: YFTzMissingError('possibly delisted; no timezone found')\n",
      "Processing Stocks:  27%|██▋       | 798/2919 [10:03<32:34,  1.08it/s]"
     ]
    },
    {
     "name": "stdout",
     "output_type": "stream",
     "text": [
      "Error downloading data: No data found for HIMGRANI.BO in the given date range.\n"
     ]
    },
    {
     "name": "stderr",
     "output_type": "stream",
     "text": [
      "[*********************100%***********************]  1 of 1 completed\n",
      "[*********************100%***********************]  1 of 1 completed]\n",
      "[*********************100%***********************]  1 of 1 completed]\n",
      "[*********************100%***********************]  1 of 1 completed]\n",
      "[*********************100%***********************]  1 of 1 completed]\n",
      "[*********************100%***********************]  1 of 1 completed]\n",
      "\n",
      "1 Failed download:\n",
      "['EVERTEX.BO']: YFTzMissingError('possibly delisted; no timezone found')\n",
      "Processing Stocks:  28%|██▊       | 804/2919 [10:08<44:05,  1.25s/it]"
     ]
    },
    {
     "name": "stdout",
     "output_type": "stream",
     "text": [
      "Error downloading data: No data found for EVERTEX.BO in the given date range.\n"
     ]
    },
    {
     "name": "stderr",
     "output_type": "stream",
     "text": [
      "[*********************100%***********************]  1 of 1 completed\n",
      "[*********************100%***********************]  1 of 1 completed]\n",
      "\n",
      "1 Failed download:\n",
      "['ESKAY.BO']: YFTzMissingError('possibly delisted; no timezone found')\n",
      "Processing Stocks:  28%|██▊       | 806/2919 [10:10<41:04,  1.17s/it]"
     ]
    },
    {
     "name": "stdout",
     "output_type": "stream",
     "text": [
      "Error downloading data: No data found for ESKAY.BO in the given date range.\n"
     ]
    },
    {
     "name": "stderr",
     "output_type": "stream",
     "text": [
      "[*********************100%***********************]  1 of 1 completed\n",
      "[*********************100%***********************]  1 of 1 completed]\n",
      "[*********************100%***********************]  1 of 1 completed]\n",
      "[*********************100%***********************]  1 of 1 completed]\n",
      "\n",
      "1 Failed download:\n",
      "['WELSPUNIND.BO']: YFTzMissingError('possibly delisted; no timezone found')\n",
      "Processing Stocks:  28%|██▊       | 810/2919 [10:12<30:02,  1.17it/s]"
     ]
    },
    {
     "name": "stdout",
     "output_type": "stream",
     "text": [
      "Error downloading data: No data found for WELSPUNIND.BO in the given date range.\n"
     ]
    },
    {
     "name": "stderr",
     "output_type": "stream",
     "text": [
      "[*********************100%***********************]  1 of 1 completed\n",
      "[*********************100%***********************]  1 of 1 completed]\n",
      "[*********************100%***********************]  1 of 1 completed]\n",
      "[*********************100%***********************]  1 of 1 completed]\n",
      "[*********************100%***********************]  1 of 1 completed]\n",
      "[*********************100%***********************]  1 of 1 completed]\n",
      "[*********************100%***********************]  1 of 1 completed]\n",
      "\n",
      "1 Failed download:\n",
      "['BINNY.BO']: YFTzMissingError('possibly delisted; no timezone found')\n",
      "Processing Stocks:  28%|██▊       | 817/2919 [10:16<28:10,  1.24it/s]"
     ]
    },
    {
     "name": "stdout",
     "output_type": "stream",
     "text": [
      "Error downloading data: No data found for BINNY.BO in the given date range.\n"
     ]
    },
    {
     "name": "stderr",
     "output_type": "stream",
     "text": [
      "[*********************100%***********************]  1 of 1 completed\n",
      "[*********************100%***********************]  1 of 1 completed]\n",
      "[*********************100%***********************]  1 of 1 completed]\n",
      "[*********************100%***********************]  1 of 1 completed]\n",
      "[*********************100%***********************]  1 of 1 completed]\n",
      "\n",
      "1 Failed download:\n",
      "['SRECR.BO']: YFPricesMissingError('possibly delisted; no price data found  (1d 2012-01-01 -> 2025-01-01) (Yahoo error = \"Data doesn\\'t exist for startDate = 1325356200, endDate = 1735669800\")')\n",
      "Processing Stocks:  28%|██▊       | 822/2919 [10:19<29:24,  1.19it/s]"
     ]
    },
    {
     "name": "stdout",
     "output_type": "stream",
     "text": [
      "Error downloading data: No data found for SRECR.BO in the given date range.\n"
     ]
    },
    {
     "name": "stderr",
     "output_type": "stream",
     "text": [
      "[*********************100%***********************]  1 of 1 completed\n",
      "[*********************100%***********************]  1 of 1 completed]\n",
      "[*********************100%***********************]  1 of 1 completed]\n",
      "[*********************100%***********************]  1 of 1 completed]\n",
      "[*********************100%***********************]  1 of 1 completed]\n",
      "[*********************100%***********************]  1 of 1 completed]\n",
      "[*********************100%***********************]  1 of 1 completed]\n",
      "[*********************100%***********************]  1 of 1 completed]\n",
      "[*********************100%***********************]  1 of 1 completed]\n",
      "[*********************100%***********************]  1 of 1 completed]\n",
      "[*********************100%***********************]  1 of 1 completed]\n",
      "\n",
      "1 Failed download:\n",
      "['OBRSESY.BO']: YFTzMissingError('possibly delisted; no timezone found')\n",
      "Processing Stocks:  29%|██▊       | 833/2919 [10:24<20:52,  1.67it/s]"
     ]
    },
    {
     "name": "stdout",
     "output_type": "stream",
     "text": [
      "Error downloading data: No data found for OBRSESY.BO in the given date range.\n"
     ]
    },
    {
     "name": "stderr",
     "output_type": "stream",
     "text": [
      "[*********************100%***********************]  1 of 1 completed\n",
      "[*********************100%***********************]  1 of 1 completed]\n",
      "[*********************100%***********************]  1 of 1 completed]\n",
      "[*********************100%***********************]  1 of 1 completed]\n",
      "\n",
      "1 Failed download:\n",
      "['AXISRAIL.BO']: YFTzMissingError('possibly delisted; no timezone found')\n",
      "Processing Stocks:  29%|██▊       | 837/2919 [10:27<29:30,  1.18it/s]"
     ]
    },
    {
     "name": "stdout",
     "output_type": "stream",
     "text": [
      "Error downloading data: No data found for AXISRAIL.BO in the given date range.\n"
     ]
    },
    {
     "name": "stderr",
     "output_type": "stream",
     "text": [
      "[*********************100%***********************]  1 of 1 completed\n",
      "\n",
      "1 Failed download:\n",
      "['CITIZYN.BO']: YFTzMissingError('possibly delisted; no timezone found')\n",
      "Processing Stocks:  29%|██▊       | 838/2919 [10:29<43:09,  1.24s/it]"
     ]
    },
    {
     "name": "stdout",
     "output_type": "stream",
     "text": [
      "Error downloading data: No data found for CITIZYN.BO in the given date range.\n"
     ]
    },
    {
     "name": "stderr",
     "output_type": "stream",
     "text": [
      "[*********************100%***********************]  1 of 1 completed\n",
      "[*********************100%***********************]  1 of 1 completed]\n",
      "\n",
      "1 Failed download:\n",
      "['SHARDFI.BO']: YFTzMissingError('possibly delisted; no timezone found')\n",
      "Processing Stocks:  29%|██▉       | 840/2919 [10:31<39:14,  1.13s/it]"
     ]
    },
    {
     "name": "stdout",
     "output_type": "stream",
     "text": [
      "Error downloading data: No data found for SHARDFI.BO in the given date range.\n"
     ]
    },
    {
     "name": "stderr",
     "output_type": "stream",
     "text": [
      "[*********************100%***********************]  1 of 1 completed\n",
      "\n",
      "1 Failed download:\n",
      "['BPTEX.BO']: YFTzMissingError('possibly delisted; no timezone found')\n",
      "Processing Stocks:  29%|██▉       | 841/2919 [10:32<39:07,  1.13s/it]"
     ]
    },
    {
     "name": "stdout",
     "output_type": "stream",
     "text": [
      "Error downloading data: No data found for BPTEX.BO in the given date range.\n"
     ]
    },
    {
     "name": "stderr",
     "output_type": "stream",
     "text": [
      "[*********************100%***********************]  1 of 1 completed\n",
      "[*********************100%***********************]  1 of 1 completed]\n",
      "[*********************100%***********************]  1 of 1 completed]\n",
      "[*********************100%***********************]  1 of 1 completed]\n",
      "[*********************100%***********************]  1 of 1 completed]\n",
      "\n",
      "1 Failed download:\n",
      "['ASAHIIND.BO']: YFTzMissingError('possibly delisted; no timezone found')\n",
      "Processing Stocks:  29%|██▉       | 846/2919 [10:35<30:03,  1.15it/s]"
     ]
    },
    {
     "name": "stdout",
     "output_type": "stream",
     "text": [
      "Error downloading data: No data found for ASAHIIND.BO in the given date range.\n"
     ]
    },
    {
     "name": "stderr",
     "output_type": "stream",
     "text": [
      "[*********************100%***********************]  1 of 1 completed\n",
      "\n",
      "1 Failed download:\n",
      "['THAMBBI.BO']: YFTzMissingError('possibly delisted; no timezone found')\n",
      "Processing Stocks:  29%|██▉       | 847/2919 [10:36<35:34,  1.03s/it]"
     ]
    },
    {
     "name": "stdout",
     "output_type": "stream",
     "text": [
      "Error downloading data: No data found for THAMBBI.BO in the given date range.\n"
     ]
    },
    {
     "name": "stderr",
     "output_type": "stream",
     "text": [
      "[*********************100%***********************]  1 of 1 completed\n",
      "\n",
      "1 Failed download:\n",
      "['POLTC.BO']: YFTzMissingError('possibly delisted; no timezone found')\n",
      "Processing Stocks:  29%|██▉       | 848/2919 [10:38<47:32,  1.38s/it]"
     ]
    },
    {
     "name": "stdout",
     "output_type": "stream",
     "text": [
      "Error downloading data: No data found for POLTC.BO in the given date range.\n"
     ]
    },
    {
     "name": "stderr",
     "output_type": "stream",
     "text": [
      "[*********************100%***********************]  1 of 1 completed\n",
      "[*********************100%***********************]  1 of 1 completed]\n",
      "[*********************100%***********************]  1 of 1 completed]\n",
      "[*********************100%***********************]  1 of 1 completed]\n",
      "[*********************100%***********************]  1 of 1 completed]\n",
      "[*********************100%***********************]  1 of 1 completed]\n",
      "[*********************100%***********************]  1 of 1 completed]\n",
      "\n",
      "1 Failed download:\n",
      "['SRIVAJRA.BO']: YFTzMissingError('possibly delisted; no timezone found')\n",
      "Processing Stocks:  29%|██▉       | 855/2919 [10:43<33:23,  1.03it/s]"
     ]
    },
    {
     "name": "stdout",
     "output_type": "stream",
     "text": [
      "Error downloading data: No data found for SRIVAJRA.BO in the given date range.\n"
     ]
    },
    {
     "name": "stderr",
     "output_type": "stream",
     "text": [
      "[*********************100%***********************]  1 of 1 completed\n",
      "[*********************100%***********************]  1 of 1 completed]\n",
      "\n",
      "1 Failed download:\n",
      "['VERTICLIND.BO']: YFTzMissingError('possibly delisted; no timezone found')\n",
      "Processing Stocks:  29%|██▉       | 857/2919 [10:45<39:30,  1.15s/it]"
     ]
    },
    {
     "name": "stdout",
     "output_type": "stream",
     "text": [
      "Error downloading data: No data found for VERTICLIND.BO in the given date range.\n"
     ]
    },
    {
     "name": "stderr",
     "output_type": "stream",
     "text": [
      "[*********************100%***********************]  1 of 1 completed\n",
      "\n",
      "1 Failed download:\n",
      "['RAMMA.BO']: YFPricesMissingError('possibly delisted; no price data found  (1d 2012-01-01 -> 2025-01-01)')\n",
      "Processing Stocks:  29%|██▉       | 858/2919 [10:45<30:10,  1.14it/s]"
     ]
    },
    {
     "name": "stdout",
     "output_type": "stream",
     "text": [
      "Error downloading data: No data found for RAMMA.BO in the given date range.\n"
     ]
    },
    {
     "name": "stderr",
     "output_type": "stream",
     "text": [
      "[*********************100%***********************]  1 of 1 completed\n",
      "[*********************100%***********************]  1 of 1 completed]\n",
      "\n",
      "1 Failed download:\n",
      "['MANGTIMBER.BO']: YFTzMissingError('possibly delisted; no timezone found')\n",
      "Processing Stocks:  29%|██▉       | 860/2919 [10:47<29:17,  1.17it/s]"
     ]
    },
    {
     "name": "stdout",
     "output_type": "stream",
     "text": [
      "Error downloading data: No data found for MANGTIMBER.BO in the given date range.\n"
     ]
    },
    {
     "name": "stderr",
     "output_type": "stream",
     "text": [
      "[*********************100%***********************]  1 of 1 completed\n",
      "[*********************100%***********************]  1 of 1 completed]\n",
      "[*********************100%***********************]  1 of 1 completed]\n",
      "\n",
      "1 Failed download:\n",
      "['SARDAPPR.BO']: YFTzMissingError('possibly delisted; no timezone found')\n",
      "Processing Stocks:  30%|██▉       | 863/2919 [10:49<32:14,  1.06it/s]"
     ]
    },
    {
     "name": "stdout",
     "output_type": "stream",
     "text": [
      "Error downloading data: No data found for SARDAPPR.BO in the given date range.\n"
     ]
    },
    {
     "name": "stderr",
     "output_type": "stream",
     "text": [
      "[*********************100%***********************]  1 of 1 completed\n",
      "[*********************100%***********************]  1 of 1 completed]\n",
      "[*********************100%***********************]  1 of 1 completed]\n",
      "[*********************100%***********************]  1 of 1 completed]\n",
      "\n",
      "1 Failed download:\n",
      "['NRAGRINDQ.BO']: YFTzMissingError('possibly delisted; no timezone found')\n",
      "Processing Stocks:  30%|██▉       | 867/2919 [10:52<29:49,  1.15it/s]"
     ]
    },
    {
     "name": "stdout",
     "output_type": "stream",
     "text": [
      "Error downloading data: No data found for NRAGRINDQ.BO in the given date range.\n"
     ]
    },
    {
     "name": "stderr",
     "output_type": "stream",
     "text": [
      "[*********************100%***********************]  1 of 1 completed\n",
      "\n",
      "1 Failed download:\n",
      "['SRPML.BO']: YFTzMissingError('possibly delisted; no timezone found')\n",
      "Processing Stocks:  30%|██▉       | 868/2919 [10:53<34:29,  1.01s/it]"
     ]
    },
    {
     "name": "stdout",
     "output_type": "stream",
     "text": [
      "Error downloading data: No data found for SRPML.BO in the given date range.\n"
     ]
    },
    {
     "name": "stderr",
     "output_type": "stream",
     "text": [
      "[*********************100%***********************]  1 of 1 completed\n",
      "[*********************100%***********************]  1 of 1 completed]\n",
      "[*********************100%***********************]  1 of 1 completed]\n",
      "[*********************100%***********************]  1 of 1 completed]\n",
      "[*********************100%***********************]  1 of 1 completed]\n",
      "\n",
      "1 Failed download:\n",
      "['SCANDENT.BO']: YFTzMissingError('possibly delisted; no timezone found')\n",
      "Processing Stocks:  30%|██▉       | 873/2919 [10:56<27:48,  1.23it/s]"
     ]
    },
    {
     "name": "stdout",
     "output_type": "stream",
     "text": [
      "Error downloading data: No data found for SCANDENT.BO in the given date range.\n"
     ]
    },
    {
     "name": "stderr",
     "output_type": "stream",
     "text": [
      "[*********************100%***********************]  1 of 1 completed\n",
      "[*********************100%***********************]  1 of 1 completed]\n",
      "[*********************100%***********************]  1 of 1 completed]\n",
      "[*********************100%***********************]  1 of 1 completed]\n",
      "\n",
      "1 Failed download:\n",
      "['IDM.BO']: YFPricesMissingError('possibly delisted; no price data found  (1d 2012-01-01 -> 2025-01-01) (Yahoo error = \"Data doesn\\'t exist for startDate = 1325356200, endDate = 1735669800\")')\n",
      "Processing Stocks:  30%|███       | 877/2919 [10:59<29:53,  1.14it/s]"
     ]
    },
    {
     "name": "stdout",
     "output_type": "stream",
     "text": [
      "Error downloading data: No data found for IDM.BO in the given date range.\n"
     ]
    },
    {
     "name": "stderr",
     "output_type": "stream",
     "text": [
      "[*********************100%***********************]  1 of 1 completed\n",
      "\n",
      "1 Failed download:\n",
      "['SALZER.BO']: YFTzMissingError('possibly delisted; no timezone found')\n",
      "Processing Stocks:  30%|███       | 878/2919 [11:01<39:04,  1.15s/it]"
     ]
    },
    {
     "name": "stdout",
     "output_type": "stream",
     "text": [
      "Error downloading data: No data found for SALZER.BO in the given date range.\n"
     ]
    },
    {
     "name": "stderr",
     "output_type": "stream",
     "text": [
      "[*********************100%***********************]  1 of 1 completed\n",
      "\n",
      "1 Failed download:\n",
      "['INDAGIV.BO']: YFPricesMissingError('possibly delisted; no price data found  (1d 2012-01-01 -> 2025-01-01) (Yahoo error = \"Data doesn\\'t exist for startDate = 1325356200, endDate = 1735669800\")')\n",
      "Processing Stocks:  30%|███       | 879/2919 [11:03<45:07,  1.33s/it]"
     ]
    },
    {
     "name": "stdout",
     "output_type": "stream",
     "text": [
      "Error downloading data: No data found for INDAGIV.BO in the given date range.\n"
     ]
    },
    {
     "name": "stderr",
     "output_type": "stream",
     "text": [
      "[*********************100%***********************]  1 of 1 completed\n",
      "\n",
      "1 Failed download:\n",
      "['HIGHGROUND.BO']: YFTzMissingError('possibly delisted; no timezone found')\n",
      "Processing Stocks:  30%|███       | 880/2919 [11:05<53:30,  1.57s/it]"
     ]
    },
    {
     "name": "stdout",
     "output_type": "stream",
     "text": [
      "Error downloading data: No data found for HIGHGROUND.BO in the given date range.\n"
     ]
    },
    {
     "name": "stderr",
     "output_type": "stream",
     "text": [
      "[*********************100%***********************]  1 of 1 completed\n",
      "\n",
      "1 Failed download:\n",
      "['MOSERBAER.BO']: YFTzMissingError('possibly delisted; no timezone found')\n",
      "Processing Stocks:  30%|███       | 881/2919 [11:06<49:41,  1.46s/it]"
     ]
    },
    {
     "name": "stdout",
     "output_type": "stream",
     "text": [
      "Error downloading data: No data found for MOSERBAER.BO in the given date range.\n"
     ]
    },
    {
     "name": "stderr",
     "output_type": "stream",
     "text": [
      "[*********************100%***********************]  1 of 1 completed\n",
      "[*********************100%***********************]  1 of 1 completed]\n",
      "\n",
      "1 Failed download:\n",
      "['ZENITHCOMP.BO']: YFTzMissingError('possibly delisted; no timezone found')\n",
      "Processing Stocks:  30%|███       | 883/2919 [11:08<45:24,  1.34s/it]"
     ]
    },
    {
     "name": "stdout",
     "output_type": "stream",
     "text": [
      "Error downloading data: No data found for ZENITHCOMP.BO in the given date range.\n"
     ]
    },
    {
     "name": "stderr",
     "output_type": "stream",
     "text": [
      "[*********************100%***********************]  1 of 1 completed\n",
      "[*********************100%***********************]  1 of 1 completed]\n",
      "[*********************100%***********************]  1 of 1 completed]\n",
      "\n",
      "1 Failed download:\n",
      "['KLKELEC.BO']: YFTzMissingError('possibly delisted; no timezone found')\n",
      "Processing Stocks:  30%|███       | 886/2919 [11:11<37:31,  1.11s/it]"
     ]
    },
    {
     "name": "stdout",
     "output_type": "stream",
     "text": [
      "Error downloading data: No data found for KLKELEC.BO in the given date range.\n"
     ]
    },
    {
     "name": "stderr",
     "output_type": "stream",
     "text": [
      "[*********************100%***********************]  1 of 1 completed\n",
      "\n",
      "1 Failed download:\n",
      "['PERVASIVE.BO']: YFTzMissingError('possibly delisted; no timezone found')\n",
      "Processing Stocks:  30%|███       | 887/2919 [11:12<39:57,  1.18s/it]"
     ]
    },
    {
     "name": "stdout",
     "output_type": "stream",
     "text": [
      "Error downloading data: No data found for PERVASIVE.BO in the given date range.\n"
     ]
    },
    {
     "name": "stderr",
     "output_type": "stream",
     "text": [
      "[*********************100%***********************]  1 of 1 completed\n",
      "[*********************100%***********************]  1 of 1 completed]\n",
      "[*********************100%***********************]  1 of 1 completed]\n",
      "[*********************100%***********************]  1 of 1 completed]\n",
      "\n",
      "1 Failed download:\n",
      "['SPICEMOBI.BO']: YFTzMissingError('possibly delisted; no timezone found')\n",
      "Processing Stocks:  31%|███       | 891/2919 [11:15<30:50,  1.10it/s]"
     ]
    },
    {
     "name": "stdout",
     "output_type": "stream",
     "text": [
      "Error downloading data: No data found for SPICEMOBI.BO in the given date range.\n"
     ]
    },
    {
     "name": "stderr",
     "output_type": "stream",
     "text": [
      "[*********************100%***********************]  1 of 1 completed\n",
      "\n",
      "1 Failed download:\n",
      "['SUJANAUNI.BO']: YFTzMissingError('possibly delisted; no timezone found')\n",
      "Processing Stocks:  31%|███       | 892/2919 [11:16<36:57,  1.09s/it]"
     ]
    },
    {
     "name": "stdout",
     "output_type": "stream",
     "text": [
      "Error downloading data: No data found for SUJANAUNI.BO in the given date range.\n"
     ]
    },
    {
     "name": "stderr",
     "output_type": "stream",
     "text": [
      "[*********************100%***********************]  1 of 1 completed\n",
      "[*********************100%***********************]  1 of 1 completed]\n",
      "[*********************100%***********************]  1 of 1 completed]\n",
      "[*********************100%***********************]  1 of 1 completed]\n",
      "[*********************100%***********************]  1 of 1 completed]\n",
      "\n",
      "1 Failed download:\n",
      "['HBLPOWER.BO']: YFTzMissingError('possibly delisted; no timezone found')\n",
      "Processing Stocks:  31%|███       | 897/2919 [11:19<31:10,  1.08it/s]"
     ]
    },
    {
     "name": "stdout",
     "output_type": "stream",
     "text": [
      "Error downloading data: No data found for HBLPOWER.BO in the given date range.\n"
     ]
    },
    {
     "name": "stderr",
     "output_type": "stream",
     "text": [
      "[*********************100%***********************]  1 of 1 completed\n",
      "[*********************100%***********************]  1 of 1 completed]\n",
      "[*********************100%***********************]  1 of 1 completed]\n",
      "\n",
      "1 Failed download:\n",
      "['SAVINFOCO.BO']: YFTzMissingError('possibly delisted; no timezone found')\n",
      "Processing Stocks:  31%|███       | 900/2919 [11:22<30:07,  1.12it/s]"
     ]
    },
    {
     "name": "stdout",
     "output_type": "stream",
     "text": [
      "Error downloading data: No data found for SAVINFOCO.BO in the given date range.\n"
     ]
    },
    {
     "name": "stderr",
     "output_type": "stream",
     "text": [
      "[*********************100%***********************]  1 of 1 completed\n",
      "\n",
      "1 Failed download:\n",
      "['CMI.BO']: YFTzMissingError('possibly delisted; no timezone found')\n",
      "Processing Stocks:  31%|███       | 901/2919 [11:23<37:06,  1.10s/it]"
     ]
    },
    {
     "name": "stdout",
     "output_type": "stream",
     "text": [
      "Error downloading data: No data found for CMI.BO in the given date range.\n"
     ]
    },
    {
     "name": "stderr",
     "output_type": "stream",
     "text": [
      "[*********************100%***********************]  1 of 1 completed\n",
      "\n",
      "1 Failed download:\n",
      "['MOTHERSUMI.BO']: YFTzMissingError('possibly delisted; no timezone found')\n",
      "Processing Stocks:  31%|███       | 902/2919 [11:25<40:03,  1.19s/it]"
     ]
    },
    {
     "name": "stdout",
     "output_type": "stream",
     "text": [
      "Error downloading data: No data found for MOTHERSUMI.BO in the given date range.\n"
     ]
    },
    {
     "name": "stderr",
     "output_type": "stream",
     "text": [
      "[*********************100%***********************]  1 of 1 completed\n",
      "[*********************100%***********************]  1 of 1 completed]\n",
      "[*********************100%***********************]  1 of 1 completed]\n",
      "[*********************100%***********************]  1 of 1 completed]\n",
      "[*********************100%***********************]  1 of 1 completed]\n",
      "[*********************100%***********************]  1 of 1 completed]\n",
      "[*********************100%***********************]  1 of 1 completed]\n",
      "[*********************100%***********************]  1 of 1 completed]\n",
      "[*********************100%***********************]  1 of 1 completed]\n",
      "[*********************100%***********************]  1 of 1 completed]\n",
      "\n",
      "1 Failed download:\n",
      "['SUNSOUI.BO']: YFTzMissingError('possibly delisted; no timezone found')\n",
      "Processing Stocks:  31%|███       | 912/2919 [11:31<31:11,  1.07it/s]"
     ]
    },
    {
     "name": "stdout",
     "output_type": "stream",
     "text": [
      "Error downloading data: No data found for SUNSOUI.BO in the given date range.\n"
     ]
    },
    {
     "name": "stderr",
     "output_type": "stream",
     "text": [
      "[*********************100%***********************]  1 of 1 completed\n",
      "[*********************100%***********************]  1 of 1 completed]\n",
      "[*********************100%***********************]  1 of 1 completed]\n",
      "[*********************100%***********************]  1 of 1 completed]\n",
      "[*********************100%***********************]  1 of 1 completed]\n",
      "[*********************100%***********************]  1 of 1 completed]\n",
      "[*********************100%***********************]  1 of 1 completed]\n",
      "[*********************100%***********************]  1 of 1 completed]\n",
      "\n",
      "1 Failed download:\n",
      "['LINAKS.BO']: YFTzMissingError('possibly delisted; no timezone found')\n",
      "Processing Stocks:  32%|███▏      | 920/2919 [11:35<25:21,  1.31it/s]"
     ]
    },
    {
     "name": "stdout",
     "output_type": "stream",
     "text": [
      "Error downloading data: No data found for LINAKS.BO in the given date range.\n"
     ]
    },
    {
     "name": "stderr",
     "output_type": "stream",
     "text": [
      "[*********************100%***********************]  1 of 1 completed\n",
      "\n",
      "1 Failed download:\n",
      "['APTL.BO']: YFTzMissingError('possibly delisted; no timezone found')\n",
      "Processing Stocks:  32%|███▏      | 921/2919 [11:36<30:01,  1.11it/s]"
     ]
    },
    {
     "name": "stdout",
     "output_type": "stream",
     "text": [
      "Error downloading data: No data found for APTL.BO in the given date range.\n"
     ]
    },
    {
     "name": "stderr",
     "output_type": "stream",
     "text": [
      "[*********************100%***********************]  1 of 1 completed\n",
      "[*********************100%***********************]  1 of 1 completed]\n",
      "[*********************100%***********************]  1 of 1 completed]\n",
      "[*********************100%***********************]  1 of 1 completed]\n",
      "[*********************100%***********************]  1 of 1 completed]\n",
      "\n",
      "1 Failed download:\n",
      "['SURANAT&AMP;P.BO']: YFTzMissingError('possibly delisted; no timezone found')\n",
      "Processing Stocks:  32%|███▏      | 926/2919 [11:39<25:35,  1.30it/s]"
     ]
    },
    {
     "name": "stdout",
     "output_type": "stream",
     "text": [
      "Error downloading data: No data found for SURANAT&amp;P.BO in the given date range.\n"
     ]
    },
    {
     "name": "stderr",
     "output_type": "stream",
     "text": [
      "[*********************100%***********************]  1 of 1 completed\n",
      "[*********************100%***********************]  1 of 1 completed]\n",
      "[*********************100%***********************]  1 of 1 completed]\n",
      "\n",
      "1 Failed download:\n",
      "['ADVNCMIC.BO']: YFTzMissingError('possibly delisted; no timezone found')\n",
      "Processing Stocks:  32%|███▏      | 929/2919 [11:41<28:25,  1.17it/s]"
     ]
    },
    {
     "name": "stdout",
     "output_type": "stream",
     "text": [
      "Error downloading data: No data found for ADVNCMIC.BO in the given date range.\n"
     ]
    },
    {
     "name": "stderr",
     "output_type": "stream",
     "text": [
      "[*********************100%***********************]  1 of 1 completed\n",
      "[*********************100%***********************]  1 of 1 completed]\n",
      "[*********************100%***********************]  1 of 1 completed]\n",
      "[*********************100%***********************]  1 of 1 completed]\n",
      "[*********************100%***********************]  1 of 1 completed]\n",
      "[*********************100%***********************]  1 of 1 completed]\n",
      "\n",
      "1 Failed download:\n",
      "['GSCLCEMENT.BO']: YFTzMissingError('possibly delisted; no timezone found')\n",
      "Processing Stocks:  32%|███▏      | 935/2919 [11:45<29:22,  1.13it/s]"
     ]
    },
    {
     "name": "stdout",
     "output_type": "stream",
     "text": [
      "Error downloading data: No data found for GSCLCEMENT.BO in the given date range.\n"
     ]
    },
    {
     "name": "stderr",
     "output_type": "stream",
     "text": [
      "[*********************100%***********************]  1 of 1 completed\n",
      "[*********************100%***********************]  1 of 1 completed]\n",
      "[*********************100%***********************]  1 of 1 completed]\n",
      "[*********************100%***********************]  1 of 1 completed]\n",
      "\n",
      "1 Failed download:\n",
      "['TASTYBIT.BO']: YFTzMissingError('possibly delisted; no timezone found')\n",
      "Processing Stocks:  32%|███▏      | 939/2919 [11:47<27:07,  1.22it/s]"
     ]
    },
    {
     "name": "stdout",
     "output_type": "stream",
     "text": [
      "Error downloading data: No data found for TASTYBIT.BO in the given date range.\n"
     ]
    },
    {
     "name": "stderr",
     "output_type": "stream",
     "text": [
      "[*********************100%***********************]  1 of 1 completed\n",
      "[*********************100%***********************]  1 of 1 completed]\n",
      "[*********************100%***********************]  1 of 1 completed]\n",
      "[*********************100%***********************]  1 of 1 completed]\n",
      "[*********************100%***********************]  1 of 1 completed]\n",
      "[*********************100%***********************]  1 of 1 completed]\n",
      "[*********************100%***********************]  1 of 1 completed]\n",
      "[*********************100%***********************]  1 of 1 completed]\n",
      "[*********************100%***********************]  1 of 1 completed]\n",
      "[*********************100%***********************]  1 of 1 completed]\n",
      "\n",
      "1 Failed download:\n",
      "['RICHIRICH.BO']: YFTzMissingError('possibly delisted; no timezone found')\n",
      "Processing Stocks:  33%|███▎      | 949/2919 [11:52<25:41,  1.28it/s]"
     ]
    },
    {
     "name": "stdout",
     "output_type": "stream",
     "text": [
      "Error downloading data: No data found for RICHIRICH.BO in the given date range.\n"
     ]
    },
    {
     "name": "stderr",
     "output_type": "stream",
     "text": [
      "[*********************100%***********************]  1 of 1 completed\n",
      "[*********************100%***********************]  1 of 1 completed]\n",
      "\n",
      "1 Failed download:\n",
      "['JVLAGRO.BO']: YFTzMissingError('possibly delisted; no timezone found')\n",
      "Processing Stocks:  33%|███▎      | 951/2919 [11:54<26:09,  1.25it/s]"
     ]
    },
    {
     "name": "stdout",
     "output_type": "stream",
     "text": [
      "Error downloading data: No data found for JVLAGRO.BO in the given date range.\n"
     ]
    },
    {
     "name": "stderr",
     "output_type": "stream",
     "text": [
      "[*********************100%***********************]  1 of 1 completed\n",
      "[*********************100%***********************]  1 of 1 completed]\n",
      "[*********************100%***********************]  1 of 1 completed]\n",
      "[*********************100%***********************]  1 of 1 completed]\n",
      "[*********************100%***********************]  1 of 1 completed]\n",
      "\n",
      "1 Failed download:\n",
      "['TROMBOEXT.BO']: YFTzMissingError('possibly delisted; no timezone found')\n",
      "Processing Stocks:  33%|███▎      | 956/2919 [11:57<22:45,  1.44it/s]"
     ]
    },
    {
     "name": "stdout",
     "output_type": "stream",
     "text": [
      "Error downloading data: No data found for TROMBOEXT.BO in the given date range.\n"
     ]
    },
    {
     "name": "stderr",
     "output_type": "stream",
     "text": [
      "[*********************100%***********************]  1 of 1 completed\n",
      "\n",
      "1 Failed download:\n",
      "['AASHEE.BO']: YFTzMissingError('possibly delisted; no timezone found')\n",
      "Processing Stocks:  33%|███▎      | 957/2919 [11:58<31:05,  1.05it/s]"
     ]
    },
    {
     "name": "stdout",
     "output_type": "stream",
     "text": [
      "Error downloading data: No data found for AASHEE.BO in the given date range.\n"
     ]
    },
    {
     "name": "stderr",
     "output_type": "stream",
     "text": [
      "[*********************100%***********************]  1 of 1 completed\n",
      "[*********************100%***********************]  1 of 1 completed]\n",
      "[*********************100%***********************]  1 of 1 completed]\n",
      "[*********************100%***********************]  1 of 1 completed]\n",
      "[*********************100%***********************]  1 of 1 completed]\n",
      "[*********************100%***********************]  1 of 1 completed]\n",
      "[*********************100%***********************]  1 of 1 completed]\n",
      "[*********************100%***********************]  1 of 1 completed]\n",
      "[*********************100%***********************]  1 of 1 completed]\n",
      "[*********************100%***********************]  1 of 1 completed]\n",
      "[*********************100%***********************]  1 of 1 completed]\n",
      "[*********************100%***********************]  1 of 1 completed]\n",
      "[*********************100%***********************]  1 of 1 completed]\n",
      "[*********************100%***********************]  1 of 1 completed]\n",
      "[*********************100%***********************]  1 of 1 completed]\n",
      "[*********************100%***********************]  1 of 1 completed]\n",
      "[*********************100%***********************]  1 of 1 completed]\n",
      "\n",
      "1 Failed download:\n",
      "['LAKSHMIO.BO']: YFTzMissingError('possibly delisted; no timezone found')\n",
      "Processing Stocks:  33%|███▎      | 974/2919 [12:05<21:20,  1.52it/s]"
     ]
    },
    {
     "name": "stdout",
     "output_type": "stream",
     "text": [
      "Error downloading data: No data found for LAKSHMIO.BO in the given date range.\n"
     ]
    },
    {
     "name": "stderr",
     "output_type": "stream",
     "text": [
      "[*********************100%***********************]  1 of 1 completed\n",
      "\n",
      "1 Failed download:\n",
      "['DFM.BO']: YFTzMissingError('possibly delisted; no timezone found')\n",
      "Processing Stocks:  33%|███▎      | 975/2919 [12:06<26:53,  1.21it/s]"
     ]
    },
    {
     "name": "stdout",
     "output_type": "stream",
     "text": [
      "Error downloading data: No data found for DFM.BO in the given date range.\n"
     ]
    },
    {
     "name": "stderr",
     "output_type": "stream",
     "text": [
      "[*********************100%***********************]  1 of 1 completed\n",
      "[*********************100%***********************]  1 of 1 completed]\n",
      "[*********************100%***********************]  1 of 1 completed]\n",
      "[*********************100%***********************]  1 of 1 completed]\n",
      "[*********************100%***********************]  1 of 1 completed]\n",
      "[*********************100%***********************]  1 of 1 completed]\n",
      "[*********************100%***********************]  1 of 1 completed]\n",
      "[*********************100%***********************]  1 of 1 completed]\n",
      "[*********************100%***********************]  1 of 1 completed]\n",
      "\n",
      "1 Failed download:\n",
      "['SUNCLAYLTD.BO']: YFTzMissingError('possibly delisted; no timezone found')\n",
      "Processing Stocks:  34%|███▎      | 984/2919 [12:12<32:58,  1.02s/it]"
     ]
    },
    {
     "name": "stdout",
     "output_type": "stream",
     "text": [
      "Error downloading data: No data found for SUNCLAYLTD.BO in the given date range.\n"
     ]
    },
    {
     "name": "stderr",
     "output_type": "stream",
     "text": [
      "[*********************100%***********************]  1 of 1 completed\n",
      "\n",
      "1 Failed download:\n",
      "['SONASTEER.BO']: YFTzMissingError('possibly delisted; no timezone found')\n",
      "Processing Stocks:  34%|███▎      | 985/2919 [12:13<35:24,  1.10s/it]"
     ]
    },
    {
     "name": "stdout",
     "output_type": "stream",
     "text": [
      "Error downloading data: No data found for SONASTEER.BO in the given date range.\n"
     ]
    },
    {
     "name": "stderr",
     "output_type": "stream",
     "text": [
      "[*********************100%***********************]  1 of 1 completed\n",
      "[*********************100%***********************]  1 of 1 completed]\n",
      "[*********************100%***********************]  1 of 1 completed]\n",
      "\n",
      "1 Failed download:\n",
      "['AMTEKAUTO.BO']: YFTzMissingError('possibly delisted; no timezone found')\n",
      "Processing Stocks:  34%|███▍      | 988/2919 [12:15<30:57,  1.04it/s]"
     ]
    },
    {
     "name": "stdout",
     "output_type": "stream",
     "text": [
      "Error downloading data: No data found for AMTEKAUTO.BO in the given date range.\n"
     ]
    },
    {
     "name": "stderr",
     "output_type": "stream",
     "text": [
      "[*********************100%***********************]  1 of 1 completed\n",
      "\n",
      "1 Failed download:\n",
      "['ECSTSTL.BO']: YFPricesMissingError('possibly delisted; no price data found  (1d 2012-01-01 -> 2025-01-01) (Yahoo error = \"Data doesn\\'t exist for startDate = 1325356200, endDate = 1735669800\")')\n",
      "Processing Stocks:  34%|███▍      | 989/2919 [12:17<41:37,  1.29s/it]"
     ]
    },
    {
     "name": "stdout",
     "output_type": "stream",
     "text": [
      "Error downloading data: No data found for ECSTSTL.BO in the given date range.\n"
     ]
    },
    {
     "name": "stderr",
     "output_type": "stream",
     "text": [
      "[*********************100%***********************]  1 of 1 completed\n",
      "\n",
      "1 Failed download:\n",
      "['SICAL.BO']: YFTzMissingError('possibly delisted; no timezone found')\n",
      "Processing Stocks:  34%|███▍      | 990/2919 [12:19<45:28,  1.41s/it]"
     ]
    },
    {
     "name": "stdout",
     "output_type": "stream",
     "text": [
      "Error downloading data: No data found for SICAL.BO in the given date range.\n"
     ]
    },
    {
     "name": "stderr",
     "output_type": "stream",
     "text": [
      "[*********************100%***********************]  1 of 1 completed\n",
      "[*********************100%***********************]  1 of 1 completed]\n",
      "[*********************100%***********************]  1 of 1 completed]\n",
      "[*********************100%***********************]  1 of 1 completed]\n",
      "[*********************100%***********************]  1 of 1 completed]\n",
      "[*********************100%***********************]  1 of 1 completed]\n",
      "[*********************100%***********************]  1 of 1 completed]\n",
      "\n",
      "1 Failed download:\n",
      "['JAGSONAI.BO']: YFTzMissingError('possibly delisted; no timezone found')\n",
      "Processing Stocks:  34%|███▍      | 997/2919 [12:23<22:21,  1.43it/s]"
     ]
    },
    {
     "name": "stdout",
     "output_type": "stream",
     "text": [
      "Error downloading data: No data found for JAGSONAI.BO in the given date range.\n"
     ]
    },
    {
     "name": "stderr",
     "output_type": "stream",
     "text": [
      "[*********************100%***********************]  1 of 1 completed\n",
      "\n",
      "1 Failed download:\n",
      "['SHREYAS.BO']: YFTzMissingError('possibly delisted; no timezone found')\n",
      "Processing Stocks:  34%|███▍      | 998/2919 [12:24<31:25,  1.02it/s]"
     ]
    },
    {
     "name": "stdout",
     "output_type": "stream",
     "text": [
      "Error downloading data: No data found for SHREYAS.BO in the given date range.\n"
     ]
    },
    {
     "name": "stderr",
     "output_type": "stream",
     "text": [
      "[*********************100%***********************]  1 of 1 completed\n",
      "[*********************100%***********************]  1 of 1 completed]\n",
      "\n",
      "1 Failed download:\n",
      "['INDOVATION.BO']: YFTzMissingError('possibly delisted; no timezone found')\n",
      "Processing Stocks:  34%|███▍      | 1000/2919 [12:26<31:16,  1.02it/s]"
     ]
    },
    {
     "name": "stdout",
     "output_type": "stream",
     "text": [
      "Error downloading data: No data found for INDOVATION.BO in the given date range.\n"
     ]
    },
    {
     "name": "stderr",
     "output_type": "stream",
     "text": [
      "[*********************100%***********************]  1 of 1 completed\n",
      "[*********************100%***********************]  1 of 1 completeds]\n",
      "[*********************100%***********************]  1 of 1 completeds]\n",
      "[*********************100%***********************]  1 of 1 completeds]\n",
      "[*********************100%***********************]  1 of 1 completeds]\n",
      "[*********************100%***********************]  1 of 1 completeds]\n",
      "[*********************100%***********************]  1 of 1 completeds]\n",
      "\n",
      "1 Failed download:\n",
      "['TAMJAIM.BO']: YFTzMissingError('possibly delisted; no timezone found')\n",
      "Processing Stocks:  34%|███▍      | 1007/2919 [12:32<36:49,  1.16s/it]"
     ]
    },
    {
     "name": "stdout",
     "output_type": "stream",
     "text": [
      "Error downloading data: No data found for TAMJAIM.BO in the given date range.\n"
     ]
    },
    {
     "name": "stderr",
     "output_type": "stream",
     "text": [
      "[*********************100%***********************]  1 of 1 completed\n",
      "[*********************100%***********************]  1 of 1 completeds]\n",
      "[*********************100%***********************]  1 of 1 completeds]\n",
      "[*********************100%***********************]  1 of 1 completeds]\n",
      "\n",
      "1 Failed download:\n",
      "['HISARSP.BO']: YFPricesMissingError('possibly delisted; no price data found  (1d 2012-01-01 -> 2025-01-01) (Yahoo error = \"Data doesn\\'t exist for startDate = 1325356200, endDate = 1735669800\")')\n",
      "Processing Stocks:  35%|███▍      | 1011/2919 [12:35<32:35,  1.02s/it]"
     ]
    },
    {
     "name": "stdout",
     "output_type": "stream",
     "text": [
      "Error downloading data: No data found for HISARSP.BO in the given date range.\n"
     ]
    },
    {
     "name": "stderr",
     "output_type": "stream",
     "text": [
      "[*********************100%***********************]  1 of 1 completed\n",
      "\n",
      "1 Failed download:\n",
      "['ALOKTEXT.BO']: YFTzMissingError('possibly delisted; no timezone found')\n",
      "Processing Stocks:  35%|███▍      | 1012/2919 [12:36<39:07,  1.23s/it]"
     ]
    },
    {
     "name": "stdout",
     "output_type": "stream",
     "text": [
      "Error downloading data: No data found for ALOKTEXT.BO in the given date range.\n"
     ]
    },
    {
     "name": "stderr",
     "output_type": "stream",
     "text": [
      "[*********************100%***********************]  1 of 1 completed\n",
      "[*********************100%***********************]  1 of 1 completeds]\n",
      "[*********************100%***********************]  1 of 1 completeds]\n",
      "[*********************100%***********************]  1 of 1 completeds]\n",
      "[*********************100%***********************]  1 of 1 completeds]\n",
      "\n",
      "1 Failed download:\n",
      "['KHTRFIB.BO']: YFTzMissingError('possibly delisted; no timezone found')\n",
      "Processing Stocks:  35%|███▍      | 1017/2919 [12:40<30:15,  1.05it/s]"
     ]
    },
    {
     "name": "stdout",
     "output_type": "stream",
     "text": [
      "Error downloading data: No data found for KHTRFIB.BO in the given date range.\n"
     ]
    },
    {
     "name": "stderr",
     "output_type": "stream",
     "text": [
      "[*********************100%***********************]  1 of 1 completed\n",
      "[*********************100%***********************]  1 of 1 completeds]\n",
      "[*********************100%***********************]  1 of 1 completeds]\n",
      "[*********************100%***********************]  1 of 1 completeds]\n",
      "[*********************100%***********************]  1 of 1 completeds]\n",
      "[*********************100%***********************]  1 of 1 completeds]\n",
      "[*********************100%***********************]  1 of 1 completeds]\n",
      "[*********************100%***********************]  1 of 1 completeds]\n",
      "[*********************100%***********************]  1 of 1 completeds]\n",
      "[*********************100%***********************]  1 of 1 completeds]\n",
      "\n",
      "1 Failed download:\n",
      "['DAMOINDUS.BO']: YFTzMissingError('possibly delisted; no timezone found')\n",
      "Processing Stocks:  35%|███▌      | 1027/2919 [12:45<27:33,  1.14it/s]"
     ]
    },
    {
     "name": "stdout",
     "output_type": "stream",
     "text": [
      "Error downloading data: No data found for DAMOINDUS.BO in the given date range.\n"
     ]
    },
    {
     "name": "stderr",
     "output_type": "stream",
     "text": [
      "[*********************100%***********************]  1 of 1 completed\n",
      "[*********************100%***********************]  1 of 1 completeds]\n",
      "\n",
      "1 Failed download:\n",
      "['KDL.BO']: YFTzMissingError('possibly delisted; no timezone found')\n",
      "Processing Stocks:  35%|███▌      | 1029/2919 [12:47<30:26,  1.03it/s]"
     ]
    },
    {
     "name": "stdout",
     "output_type": "stream",
     "text": [
      "Error downloading data: No data found for KDL.BO in the given date range.\n"
     ]
    },
    {
     "name": "stderr",
     "output_type": "stream",
     "text": [
      "[*********************100%***********************]  1 of 1 completed\n",
      "\n",
      "1 Failed download:\n",
      "['CHITRTX.BO']: YFTzMissingError('possibly delisted; no timezone found')\n",
      "Processing Stocks:  35%|███▌      | 1030/2919 [12:48<35:43,  1.13s/it]"
     ]
    },
    {
     "name": "stdout",
     "output_type": "stream",
     "text": [
      "Error downloading data: No data found for CHITRTX.BO in the given date range.\n"
     ]
    },
    {
     "name": "stderr",
     "output_type": "stream",
     "text": [
      "[*********************100%***********************]  1 of 1 completed\n",
      "[*********************100%***********************]  1 of 1 completeds]\n",
      "[*********************100%***********************]  1 of 1 completeds]\n",
      "\n",
      "1 Failed download:\n",
      "['VCCLLTD.BO']: YFTzMissingError('possibly delisted; no timezone found')\n",
      "Processing Stocks:  35%|███▌      | 1033/2919 [12:51<37:48,  1.20s/it]"
     ]
    },
    {
     "name": "stdout",
     "output_type": "stream",
     "text": [
      "Error downloading data: No data found for VCCLLTD.BO in the given date range.\n"
     ]
    },
    {
     "name": "stderr",
     "output_type": "stream",
     "text": [
      "[*********************100%***********************]  1 of 1 completed\n",
      "[*********************100%***********************]  1 of 1 completedt]\n",
      "[*********************100%***********************]  1 of 1 completeds]\n",
      "[*********************100%***********************]  1 of 1 completeds]\n",
      "\n",
      "1 Failed download:\n",
      "['SMENER.BO']: YFTzMissingError('possibly delisted; no timezone found')\n",
      "Processing Stocks:  36%|███▌      | 1037/2919 [12:54<28:59,  1.08it/s]"
     ]
    },
    {
     "name": "stdout",
     "output_type": "stream",
     "text": [
      "Error downloading data: No data found for SMENER.BO in the given date range.\n"
     ]
    },
    {
     "name": "stderr",
     "output_type": "stream",
     "text": [
      "[*********************100%***********************]  1 of 1 completed\n",
      "[*********************100%***********************]  1 of 1 completeds]\n",
      "[*********************100%***********************]  1 of 1 completeds]\n",
      "[*********************100%***********************]  1 of 1 completeds]\n",
      "\n",
      "1 Failed download:\n",
      "['STONEIN.BO']: YFTzMissingError('possibly delisted; no timezone found')\n",
      "Processing Stocks:  36%|███▌      | 1041/2919 [12:57<28:09,  1.11it/s]"
     ]
    },
    {
     "name": "stdout",
     "output_type": "stream",
     "text": [
      "Error downloading data: No data found for STONEIN.BO in the given date range.\n"
     ]
    },
    {
     "name": "stderr",
     "output_type": "stream",
     "text": [
      "[*********************100%***********************]  1 of 1 completed\n",
      "[*********************100%***********************]  1 of 1 completeds]\n",
      "[*********************100%***********************]  1 of 1 completeds]\n",
      "[*********************100%***********************]  1 of 1 completeds]\n",
      "\n",
      "1 Failed download:\n",
      "['DIAPOWER.BO']: YFTzMissingError('possibly delisted; no timezone found')\n",
      "Processing Stocks:  36%|███▌      | 1045/2919 [13:00<27:11,  1.15it/s]"
     ]
    },
    {
     "name": "stdout",
     "output_type": "stream",
     "text": [
      "Error downloading data: No data found for DIAPOWER.BO in the given date range.\n"
     ]
    },
    {
     "name": "stderr",
     "output_type": "stream",
     "text": [
      "[*********************100%***********************]  1 of 1 completed\n",
      "[*********************100%***********************]  1 of 1 completeds]\n",
      "[*********************100%***********************]  1 of 1 completeds]\n",
      "[*********************100%***********************]  1 of 1 completeds]\n",
      "[*********************100%***********************]  1 of 1 completeds]\n",
      "[*********************100%***********************]  1 of 1 completeds]\n",
      "[*********************100%***********************]  1 of 1 completeds]\n",
      "[*********************100%***********************]  1 of 1 completeds]\n",
      "\n",
      "1 Failed download:\n",
      "['DOLPHINOFF.BO']: YFTzMissingError('possibly delisted; no timezone found')\n",
      "Processing Stocks:  36%|███▌      | 1053/2919 [13:06<27:57,  1.11it/s]"
     ]
    },
    {
     "name": "stdout",
     "output_type": "stream",
     "text": [
      "Error downloading data: No data found for DOLPHINOFF.BO in the given date range.\n"
     ]
    },
    {
     "name": "stderr",
     "output_type": "stream",
     "text": [
      "[*********************100%***********************]  1 of 1 completed\n",
      "\n",
      "1 Failed download:\n",
      "['JMCPROJECT.BO']: YFTzMissingError('possibly delisted; no timezone found')\n",
      "Processing Stocks:  36%|███▌      | 1054/2919 [13:08<40:46,  1.31s/it]"
     ]
    },
    {
     "name": "stdout",
     "output_type": "stream",
     "text": [
      "Error downloading data: No data found for JMCPROJECT.BO in the given date range.\n"
     ]
    },
    {
     "name": "stderr",
     "output_type": "stream",
     "text": [
      "[*********************100%***********************]  1 of 1 completed\n",
      "[*********************100%***********************]  1 of 1 completedt]\n",
      "\n",
      "1 Failed download:\n",
      "['GET&AMP;D.BO']: YFTzMissingError('possibly delisted; no timezone found')\n",
      "Processing Stocks:  36%|███▌      | 1056/2919 [13:10<36:38,  1.18s/it]"
     ]
    },
    {
     "name": "stdout",
     "output_type": "stream",
     "text": [
      "Error downloading data: No data found for GET&amp;D.BO in the given date range.\n"
     ]
    },
    {
     "name": "stderr",
     "output_type": "stream",
     "text": [
      "[*********************100%***********************]  1 of 1 completed\n",
      "[*********************100%***********************]  1 of 1 completeds]\n",
      "\n",
      "1 Failed download:\n",
      "['KALPATPOWR.BO']: YFTzMissingError('possibly delisted; no timezone found')\n",
      "Processing Stocks:  36%|███▌      | 1058/2919 [13:12<37:04,  1.20s/it]"
     ]
    },
    {
     "name": "stdout",
     "output_type": "stream",
     "text": [
      "Error downloading data: No data found for KALPATPOWR.BO in the given date range.\n"
     ]
    },
    {
     "name": "stderr",
     "output_type": "stream",
     "text": [
      "[*********************100%***********************]  1 of 1 completed\n",
      "\n",
      "1 Failed download:\n",
      "['IFMIMPX.BO']: YFTzMissingError('possibly delisted; no timezone found')\n",
      "Processing Stocks:  36%|███▋      | 1059/2919 [13:13<40:01,  1.29s/it]"
     ]
    },
    {
     "name": "stdout",
     "output_type": "stream",
     "text": [
      "Error downloading data: No data found for IFMIMPX.BO in the given date range.\n"
     ]
    },
    {
     "name": "stderr",
     "output_type": "stream",
     "text": [
      "[*********************100%***********************]  1 of 1 completed\n",
      "\n",
      "1 Failed download:\n",
      "['CHANDNI.BO']: YFTzMissingError('possibly delisted; no timezone found')\n",
      "Processing Stocks:  36%|███▋      | 1060/2919 [13:15<44:24,  1.43s/it]"
     ]
    },
    {
     "name": "stdout",
     "output_type": "stream",
     "text": [
      "Error downloading data: No data found for CHANDNI.BO in the given date range.\n"
     ]
    },
    {
     "name": "stderr",
     "output_type": "stream",
     "text": [
      "[*********************100%***********************]  1 of 1 completed\n",
      "[*********************100%***********************]  1 of 1 completedt]\n",
      "[*********************100%***********************]  1 of 1 completeds]\n",
      "[*********************100%***********************]  1 of 1 completeds]\n",
      "\n",
      "1 Failed download:\n",
      "['ZBINTXPP.BO']: YFPricesMissingError('possibly delisted; no price data found  (1d 2012-01-01 -> 2025-01-01) (Yahoo error = \"Data doesn\\'t exist for startDate = 1325356200, endDate = 1735669800\")')\n",
      "Processing Stocks:  36%|███▋      | 1064/2919 [13:19<35:57,  1.16s/it]"
     ]
    },
    {
     "name": "stdout",
     "output_type": "stream",
     "text": [
      "Error downloading data: No data found for ZBINTXPP.BO in the given date range.\n"
     ]
    },
    {
     "name": "stderr",
     "output_type": "stream",
     "text": [
      "[*********************100%***********************]  1 of 1 completed\n",
      "[*********************100%***********************]  1 of 1 completeds]\n",
      "[*********************100%***********************]  1 of 1 completeds]\n",
      "\n",
      "1 Failed download:\n",
      "['ZPPOLYSA.BO']: YFTzMissingError('possibly delisted; no timezone found')\n",
      "Processing Stocks:  37%|███▋      | 1067/2919 [13:21<30:13,  1.02it/s]"
     ]
    },
    {
     "name": "stdout",
     "output_type": "stream",
     "text": [
      "Error downloading data: No data found for ZPPOLYSA.BO in the given date range.\n"
     ]
    },
    {
     "name": "stderr",
     "output_type": "stream",
     "text": [
      "[*********************100%***********************]  1 of 1 completed\n",
      "[*********************100%***********************]  1 of 1 completeds]\n",
      "[*********************100%***********************]  1 of 1 completeds]\n",
      "\n",
      "1 Failed download:\n",
      "['BONINDL.BO']: YFTzMissingError('possibly delisted; no timezone found')\n",
      "Processing Stocks:  37%|███▋      | 1070/2919 [13:24<32:36,  1.06s/it]"
     ]
    },
    {
     "name": "stdout",
     "output_type": "stream",
     "text": [
      "Error downloading data: No data found for BONINDL.BO in the given date range.\n"
     ]
    },
    {
     "name": "stderr",
     "output_type": "stream",
     "text": [
      "[*********************100%***********************]  1 of 1 completed\n",
      "[*********************100%***********************]  1 of 1 completeds]\n",
      "[*********************100%***********************]  1 of 1 completeds]\n",
      "\n",
      "1 Failed download:\n",
      "['AYPLAMI.BO']: YFPricesMissingError('possibly delisted; no price data found  (1d 2012-01-01 -> 2025-01-01)')\n",
      "Processing Stocks:  37%|███▋      | 1073/2919 [13:25<16:36,  1.85it/s]"
     ]
    },
    {
     "name": "stdout",
     "output_type": "stream",
     "text": [
      "Error downloading data: No data found for AYPLAMI.BO in the given date range.\n"
     ]
    },
    {
     "name": "stderr",
     "output_type": "stream",
     "text": [
      "[*********************100%***********************]  1 of 1 completed\n",
      "[*********************100%***********************]  1 of 1 completeds]\n",
      "[*********************100%***********************]  1 of 1 completeds]\n",
      "[*********************100%***********************]  1 of 1 completeds]\n",
      "[*********************100%***********************]  1 of 1 completeds]\n",
      "[*********************100%***********************]  1 of 1 completeds]\n",
      "[*********************100%***********************]  1 of 1 completeds]\n",
      "\n",
      "1 Failed download:\n",
      "['VENKYS.BO']: YFTzMissingError('possibly delisted; no timezone found')\n",
      "Processing Stocks:  37%|███▋      | 1080/2919 [13:29<22:12,  1.38it/s]"
     ]
    },
    {
     "name": "stdout",
     "output_type": "stream",
     "text": [
      "Error downloading data: No data found for VENKYS.BO in the given date range.\n"
     ]
    },
    {
     "name": "stderr",
     "output_type": "stream",
     "text": [
      "[*********************100%***********************]  1 of 1 completed\n",
      "[*********************100%***********************]  1 of 1 completeds]\n",
      "[*********************100%***********************]  1 of 1 completeds]\n",
      "[*********************100%***********************]  1 of 1 completeds]\n",
      "\n",
      "1 Failed download:\n",
      "['PURITY.BO']: YFTzMissingError('possibly delisted; no timezone found')\n",
      "Processing Stocks:  37%|███▋      | 1084/2919 [13:34<44:15,  1.45s/it]"
     ]
    },
    {
     "name": "stdout",
     "output_type": "stream",
     "text": [
      "Error downloading data: No data found for PURITY.BO in the given date range.\n"
     ]
    },
    {
     "name": "stderr",
     "output_type": "stream",
     "text": [
      "[*********************100%***********************]  1 of 1 completed\n",
      "[*********************100%***********************]  1 of 1 completedt]\n",
      "[*********************100%***********************]  1 of 1 completedt]\n",
      "[*********************100%***********************]  1 of 1 completeds]\n",
      "\n",
      "1 Failed download:\n",
      "['MICROSE.BO']: YFTzMissingError('possibly delisted; no timezone found')\n",
      "Processing Stocks:  37%|███▋      | 1088/2919 [13:37<35:24,  1.16s/it]"
     ]
    },
    {
     "name": "stdout",
     "output_type": "stream",
     "text": [
      "Error downloading data: No data found for MICROSE.BO in the given date range.\n"
     ]
    },
    {
     "name": "stderr",
     "output_type": "stream",
     "text": [
      "[*********************100%***********************]  1 of 1 completed\n",
      "[*********************100%***********************]  1 of 1 completeds]\n",
      "[*********************100%***********************]  1 of 1 completeds]\n",
      "[*********************100%***********************]  1 of 1 completeds]\n",
      "[*********************100%***********************]  1 of 1 completeds]\n",
      "[*********************100%***********************]  1 of 1 completeds]\n",
      "[*********************100%***********************]  1 of 1 completeds]\n",
      "[*********************100%***********************]  1 of 1 completeds]\n",
      "[*********************100%***********************]  1 of 1 completeds]\n",
      "\n",
      "1 Failed download:\n",
      "['COVENTRY.BO']: YFTzMissingError('possibly delisted; no timezone found')\n",
      "Processing Stocks:  38%|███▊      | 1097/2919 [13:44<30:40,  1.01s/it]"
     ]
    },
    {
     "name": "stdout",
     "output_type": "stream",
     "text": [
      "Error downloading data: No data found for COVENTRY.BO in the given date range.\n"
     ]
    },
    {
     "name": "stderr",
     "output_type": "stream",
     "text": [
      "[*********************100%***********************]  1 of 1 completed\n",
      "[*********************100%***********************]  1 of 1 completeds]\n",
      "[*********************100%***********************]  1 of 1 completeds]\n",
      "[*********************100%***********************]  1 of 1 completeds]\n",
      "[*********************100%***********************]  1 of 1 completeds]\n",
      "[*********************100%***********************]  1 of 1 completeds]\n",
      "[*********************100%***********************]  1 of 1 completeds]\n",
      "[*********************100%***********************]  1 of 1 completeds]\n",
      "[*********************100%***********************]  1 of 1 completeds]\n",
      "\n",
      "1 Failed download:\n",
      "['NETWORK.BO']: YFTzMissingError('possibly delisted; no timezone found')\n",
      "Processing Stocks:  38%|███▊      | 1106/2919 [13:49<24:09,  1.25it/s]"
     ]
    },
    {
     "name": "stdout",
     "output_type": "stream",
     "text": [
      "Error downloading data: No data found for NETWORK.BO in the given date range.\n"
     ]
    },
    {
     "name": "stderr",
     "output_type": "stream",
     "text": [
      "[*********************100%***********************]  1 of 1 completed\n",
      "[*********************100%***********************]  1 of 1 completeds]\n",
      "\n",
      "1 Failed download:\n",
      "['JENSONICOL.BO']: YFTzMissingError('possibly delisted; no timezone found')\n",
      "Processing Stocks:  38%|███▊      | 1108/2919 [13:51<29:32,  1.02it/s]"
     ]
    },
    {
     "name": "stdout",
     "output_type": "stream",
     "text": [
      "Error downloading data: No data found for JENSONICOL.BO in the given date range.\n"
     ]
    },
    {
     "name": "stderr",
     "output_type": "stream",
     "text": [
      "[*********************100%***********************]  1 of 1 completed\n",
      "[*********************100%***********************]  1 of 1 completeds]\n",
      "[*********************100%***********************]  1 of 1 completeds]\n",
      "[*********************100%***********************]  1 of 1 completeds]\n",
      "[*********************100%***********************]  1 of 1 completeds]\n",
      "\n",
      "1 Failed download:\n",
      "['PODDAR.BO']: YFTzMissingError('possibly delisted; no timezone found')\n",
      "Processing Stocks:  38%|███▊      | 1113/2919 [13:54<22:17,  1.35it/s]"
     ]
    },
    {
     "name": "stdout",
     "output_type": "stream",
     "text": [
      "Error downloading data: No data found for PODDAR.BO in the given date range.\n"
     ]
    },
    {
     "name": "stderr",
     "output_type": "stream",
     "text": [
      "[*********************100%***********************]  1 of 1 completed\n",
      "[*********************100%***********************]  1 of 1 completeds]\n",
      "[*********************100%***********************]  1 of 1 completeds]\n",
      "[*********************100%***********************]  1 of 1 completeds]\n",
      "\n",
      "1 Failed download:\n",
      "['REDEXPR.BO']: YFTzMissingError('possibly delisted; no timezone found')\n",
      "Processing Stocks:  38%|███▊      | 1117/2919 [13:58<32:55,  1.10s/it]"
     ]
    },
    {
     "name": "stdout",
     "output_type": "stream",
     "text": [
      "Error downloading data: No data found for REDEXPR.BO in the given date range.\n"
     ]
    },
    {
     "name": "stderr",
     "output_type": "stream",
     "text": [
      "[*********************100%***********************]  1 of 1 completed\n",
      "[*********************100%***********************]  1 of 1 completeds]\n",
      "[*********************100%***********************]  1 of 1 completeds]\n",
      "[*********************100%***********************]  1 of 1 completeds]\n",
      "[*********************100%***********************]  1 of 1 completeds]\n",
      "[*********************100%***********************]  1 of 1 completeds]\n",
      "[*********************100%***********************]  1 of 1 completeds]\n",
      "[*********************100%***********************]  1 of 1 completeds]\n",
      "[*********************100%***********************]  1 of 1 completeds]\n",
      "\n",
      "1 Failed download:\n",
      "['VIJSHAN.BO']: YFTzMissingError('possibly delisted; no timezone found')\n",
      "Processing Stocks:  39%|███▊      | 1126/2919 [14:02<22:13,  1.34it/s]"
     ]
    },
    {
     "name": "stdout",
     "output_type": "stream",
     "text": [
      "Error downloading data: No data found for VIJSHAN.BO in the given date range.\n"
     ]
    },
    {
     "name": "stderr",
     "output_type": "stream",
     "text": [
      "[*********************100%***********************]  1 of 1 completed\n",
      "[*********************100%***********************]  1 of 1 completeds]\n",
      "[*********************100%***********************]  1 of 1 completeds]\n",
      "\n",
      "1 Failed download:\n",
      "['SREINFRA.BO']: YFTzMissingError('possibly delisted; no timezone found')\n",
      "Processing Stocks:  39%|███▊      | 1129/2919 [14:05<29:47,  1.00it/s]"
     ]
    },
    {
     "name": "stdout",
     "output_type": "stream",
     "text": [
      "Error downloading data: No data found for SREINFRA.BO in the given date range.\n"
     ]
    },
    {
     "name": "stderr",
     "output_type": "stream",
     "text": [
      "[*********************100%***********************]  1 of 1 completed\n",
      "\n",
      "1 Failed download:\n",
      "['GUJBOROS.BO']: YFTzMissingError('possibly delisted; no timezone found')\n",
      "Processing Stocks:  39%|███▊      | 1130/2919 [14:06<33:41,  1.13s/it]"
     ]
    },
    {
     "name": "stdout",
     "output_type": "stream",
     "text": [
      "Error downloading data: No data found for GUJBOROS.BO in the given date range.\n"
     ]
    },
    {
     "name": "stderr",
     "output_type": "stream",
     "text": [
      "[*********************100%***********************]  1 of 1 completed\n",
      "[*********************100%***********************]  1 of 1 completeds]\n",
      "[*********************100%***********************]  1 of 1 completeds]\n",
      "\n",
      "1 Failed download:\n",
      "['MAZDALTD.BO']: YFTzMissingError('possibly delisted; no timezone found')\n",
      "Processing Stocks:  39%|███▉      | 1133/2919 [14:08<27:42,  1.07it/s]"
     ]
    },
    {
     "name": "stdout",
     "output_type": "stream",
     "text": [
      "Error downloading data: No data found for MAZDALTD.BO in the given date range.\n"
     ]
    },
    {
     "name": "stderr",
     "output_type": "stream",
     "text": [
      "[*********************100%***********************]  1 of 1 completed\n",
      "\n",
      "1 Failed download:\n",
      "['VICEROY.BO']: YFTzMissingError('possibly delisted; no timezone found')\n",
      "Processing Stocks:  39%|███▉      | 1134/2919 [14:10<36:53,  1.24s/it]"
     ]
    },
    {
     "name": "stdout",
     "output_type": "stream",
     "text": [
      "Error downloading data: No data found for VICEROY.BO in the given date range.\n"
     ]
    },
    {
     "name": "stderr",
     "output_type": "stream",
     "text": [
      "[*********************100%***********************]  1 of 1 completed\n",
      "\n",
      "1 Failed download:\n",
      "['NEOCORP.BO']: YFTzMissingError('possibly delisted; no timezone found')\n",
      "Processing Stocks:  39%|███▉      | 1135/2919 [14:12<39:14,  1.32s/it]"
     ]
    },
    {
     "name": "stdout",
     "output_type": "stream",
     "text": [
      "Error downloading data: No data found for NEOCORP.BO in the given date range.\n"
     ]
    },
    {
     "name": "stderr",
     "output_type": "stream",
     "text": [
      "[*********************100%***********************]  1 of 1 completed\n",
      "[*********************100%***********************]  1 of 1 completedt]\n",
      "\n",
      "1 Failed download:\n",
      "['GUJRAFIA.BO']: YFTzMissingError('possibly delisted; no timezone found')\n",
      "Processing Stocks:  39%|███▉      | 1137/2919 [14:14<35:11,  1.19s/it]"
     ]
    },
    {
     "name": "stdout",
     "output_type": "stream",
     "text": [
      "Error downloading data: No data found for GUJRAFIA.BO in the given date range.\n"
     ]
    },
    {
     "name": "stderr",
     "output_type": "stream",
     "text": [
      "[*********************100%***********************]  1 of 1 completed\n",
      "[*********************100%***********************]  1 of 1 completeds]\n",
      "\n",
      "1 Failed download:\n",
      "['INVICTA.BO']: YFTzMissingError('possibly delisted; no timezone found')\n",
      "Processing Stocks:  39%|███▉      | 1139/2919 [14:15<32:04,  1.08s/it]"
     ]
    },
    {
     "name": "stdout",
     "output_type": "stream",
     "text": [
      "Error downloading data: No data found for INVICTA.BO in the given date range.\n"
     ]
    },
    {
     "name": "stderr",
     "output_type": "stream",
     "text": [
      "[*********************100%***********************]  1 of 1 completed\n",
      "\n",
      "1 Failed download:\n",
      "['SKYSS.BO']: YFTzMissingError('possibly delisted; no timezone found')\n",
      "Processing Stocks:  39%|███▉      | 1140/2919 [14:17<34:12,  1.15s/it]"
     ]
    },
    {
     "name": "stdout",
     "output_type": "stream",
     "text": [
      "Error downloading data: No data found for SKYSS.BO in the given date range.\n"
     ]
    },
    {
     "name": "stderr",
     "output_type": "stream",
     "text": [
      "[*********************100%***********************]  1 of 1 completed\n",
      "[*********************100%***********************]  1 of 1 completeds]\n",
      "\n",
      "1 Failed download:\n",
      "['JYOTIOVR.BO']: YFTzMissingError('possibly delisted; no timezone found')\n",
      "Processing Stocks:  39%|███▉      | 1142/2919 [14:19<36:35,  1.24s/it]"
     ]
    },
    {
     "name": "stdout",
     "output_type": "stream",
     "text": [
      "Error downloading data: No data found for JYOTIOVR.BO in the given date range.\n"
     ]
    },
    {
     "name": "stderr",
     "output_type": "stream",
     "text": [
      "[*********************100%***********************]  1 of 1 completed\n",
      "[*********************100%***********************]  1 of 1 completedt]\n",
      "\n",
      "1 Failed download:\n",
      "['AVIPHOT.BO']: YFTzMissingError('possibly delisted; no timezone found')\n",
      "Processing Stocks:  39%|███▉      | 1144/2919 [14:21<35:49,  1.21s/it]"
     ]
    },
    {
     "name": "stdout",
     "output_type": "stream",
     "text": [
      "Error downloading data: No data found for AVIPHOT.BO in the given date range.\n"
     ]
    },
    {
     "name": "stderr",
     "output_type": "stream",
     "text": [
      "[*********************100%***********************]  1 of 1 completed\n",
      "\n",
      "1 Failed download:\n",
      "['MAGMA.BO']: YFTzMissingError('possibly delisted; no timezone found')\n",
      "Processing Stocks:  39%|███▉      | 1145/2919 [14:23<43:57,  1.49s/it]"
     ]
    },
    {
     "name": "stdout",
     "output_type": "stream",
     "text": [
      "Error downloading data: No data found for MAGMA.BO in the given date range.\n"
     ]
    },
    {
     "name": "stderr",
     "output_type": "stream",
     "text": [
      "[*********************100%***********************]  1 of 1 completed\n",
      "[*********************100%***********************]  1 of 1 completedt]\n",
      "[*********************100%***********************]  1 of 1 completeds]\n",
      "[*********************100%***********************]  1 of 1 completeds]\n",
      "[*********************100%***********************]  1 of 1 completeds]\n",
      "\n",
      "1 Failed download:\n",
      "['ALBERTDA.BO']: YFTzMissingError('possibly delisted; no timezone found')\n",
      "Processing Stocks:  39%|███▉      | 1150/2919 [14:27<28:02,  1.05it/s]"
     ]
    },
    {
     "name": "stdout",
     "output_type": "stream",
     "text": [
      "Error downloading data: No data found for ALBERTDA.BO in the given date range.\n"
     ]
    },
    {
     "name": "stderr",
     "output_type": "stream",
     "text": [
      "[*********************100%***********************]  1 of 1 completed\n",
      "[*********************100%***********************]  1 of 1 completeds]\n",
      "\n",
      "1 Failed download:\n",
      "['MONSANTO.BO']: YFTzMissingError('possibly delisted; no timezone found')\n",
      "Processing Stocks:  39%|███▉      | 1152/2919 [14:28<29:04,  1.01it/s]"
     ]
    },
    {
     "name": "stdout",
     "output_type": "stream",
     "text": [
      "Error downloading data: No data found for MONSANTO.BO in the given date range.\n"
     ]
    },
    {
     "name": "stderr",
     "output_type": "stream",
     "text": [
      "[*********************100%***********************]  1 of 1 completed\n",
      "[*********************100%***********************]  1 of 1 completeds]\n",
      "[*********************100%***********************]  1 of 1 completeds]\n",
      "[*********************100%***********************]  1 of 1 completeds]\n",
      "[*********************100%***********************]  1 of 1 completeds]\n",
      "[*********************100%***********************]  1 of 1 completeds]\n",
      "[*********************100%***********************]  1 of 1 completeds]\n",
      "[*********************100%***********************]  1 of 1 completeds]\n",
      "[*********************100%***********************]  1 of 1 completeds]\n",
      "[*********************100%***********************]  1 of 1 completeds]\n",
      "[*********************100%***********************]  1 of 1 completeds]\n",
      "[*********************100%***********************]  1 of 1 completeds]\n",
      "[*********************100%***********************]  1 of 1 completeds]\n",
      "[*********************100%***********************]  1 of 1 completeds]\n",
      "[*********************100%***********************]  1 of 1 completeds]\n",
      "[*********************100%***********************]  1 of 1 completeds]\n",
      "[*********************100%***********************]  1 of 1 completeds]\n",
      "[*********************100%***********************]  1 of 1 completeds]\n",
      "[*********************100%***********************]  1 of 1 completeds]\n",
      "[*********************100%***********************]  1 of 1 completeds]\n",
      "\n",
      "1 Failed download:\n",
      "['ORCHIDPHAR.BO']: YFTzMissingError('possibly delisted; no timezone found')\n",
      "Processing Stocks:  40%|████      | 1172/2919 [14:39<26:30,  1.10it/s]"
     ]
    },
    {
     "name": "stdout",
     "output_type": "stream",
     "text": [
      "Error downloading data: No data found for ORCHIDPHAR.BO in the given date range.\n"
     ]
    },
    {
     "name": "stderr",
     "output_type": "stream",
     "text": [
      "[*********************100%***********************]  1 of 1 completed\n",
      "[*********************100%***********************]  1 of 1 completeds]\n",
      "[*********************100%***********************]  1 of 1 completeds]\n",
      "[*********************100%***********************]  1 of 1 completeds]\n",
      "[*********************100%***********************]  1 of 1 completeds]\n",
      "[*********************100%***********************]  1 of 1 completeds]\n",
      "[*********************100%***********************]  1 of 1 completeds]\n",
      "\n",
      "1 Failed download:\n",
      "['KAVITIND.BO']: YFTzMissingError('possibly delisted; no timezone found')\n",
      "Processing Stocks:  40%|████      | 1179/2919 [14:42<20:39,  1.40it/s]"
     ]
    },
    {
     "name": "stdout",
     "output_type": "stream",
     "text": [
      "Error downloading data: No data found for KAVITIND.BO in the given date range.\n"
     ]
    },
    {
     "name": "stderr",
     "output_type": "stream",
     "text": [
      "[*********************100%***********************]  1 of 1 completed\n",
      "[*********************100%***********************]  1 of 1 completeds]\n",
      "[*********************100%***********************]  1 of 1 completeds]\n",
      "[*********************100%***********************]  1 of 1 completeds]\n",
      "[*********************100%***********************]  1 of 1 completeds]\n",
      "[*********************100%***********************]  1 of 1 completeds]\n",
      "[*********************100%***********************]  1 of 1 completeds]\n",
      "[*********************100%***********************]  1 of 1 completeds]\n",
      "[*********************100%***********************]  1 of 1 completeds]\n",
      "\n",
      "1 Failed download:\n",
      "['SHABCHM.BO']: YFTzMissingError('possibly delisted; no timezone found')\n",
      "Processing Stocks:  41%|████      | 1188/2919 [14:47<22:20,  1.29it/s]"
     ]
    },
    {
     "name": "stdout",
     "output_type": "stream",
     "text": [
      "Error downloading data: No data found for SHABCHM.BO in the given date range.\n"
     ]
    },
    {
     "name": "stderr",
     "output_type": "stream",
     "text": [
      "[*********************100%***********************]  1 of 1 completed\n",
      "[*********************100%***********************]  1 of 1 completeds]\n",
      "\n",
      "1 Failed download:\n",
      "['PODARPIGQ.BO']: YFTzMissingError('possibly delisted; no timezone found')\n",
      "Processing Stocks:  41%|████      | 1190/2919 [14:49<24:55,  1.16it/s]"
     ]
    },
    {
     "name": "stdout",
     "output_type": "stream",
     "text": [
      "Error downloading data: No data found for PODARPIGQ.BO in the given date range.\n"
     ]
    },
    {
     "name": "stderr",
     "output_type": "stream",
     "text": [
      "[*********************100%***********************]  1 of 1 completed\n",
      "[*********************100%***********************]  1 of 1 completeds]\n",
      "[*********************100%***********************]  1 of 1 completeds]\n",
      "[*********************100%***********************]  1 of 1 completeds]\n",
      "\n",
      "1 Failed download:\n",
      "['EMEDTECH.BO']: YFTzMissingError('possibly delisted; no timezone found')\n",
      "Processing Stocks:  41%|████      | 1194/2919 [14:51<25:15,  1.14it/s]"
     ]
    },
    {
     "name": "stdout",
     "output_type": "stream",
     "text": [
      "Error downloading data: No data found for EMEDTECH.BO in the given date range.\n"
     ]
    },
    {
     "name": "stderr",
     "output_type": "stream",
     "text": [
      "[*********************100%***********************]  1 of 1 completed\n",
      "[*********************100%***********************]  1 of 1 completeds]\n",
      "\n",
      "1 Failed download:\n",
      "['AKSCHEM.BO']: YFTzMissingError('possibly delisted; no timezone found')\n",
      "Processing Stocks:  41%|████      | 1196/2919 [14:53<23:49,  1.21it/s]"
     ]
    },
    {
     "name": "stdout",
     "output_type": "stream",
     "text": [
      "Error downloading data: No data found for AKSCHEM.BO in the given date range.\n"
     ]
    },
    {
     "name": "stderr",
     "output_type": "stream",
     "text": [
      "[*********************100%***********************]  1 of 1 completed\n",
      "\n",
      "1 Failed download:\n",
      "['SHIVMED.BO']: YFTzMissingError('possibly delisted; no timezone found')\n",
      "Processing Stocks:  41%|████      | 1197/2919 [14:55<36:08,  1.26s/it]"
     ]
    },
    {
     "name": "stdout",
     "output_type": "stream",
     "text": [
      "Error downloading data: No data found for SHIVMED.BO in the given date range.\n"
     ]
    },
    {
     "name": "stderr",
     "output_type": "stream",
     "text": [
      "[*********************100%***********************]  1 of 1 completed\n",
      "\n",
      "1 Failed download:\n",
      "['KAMRLAB.BO']: YFTzMissingError('possibly delisted; no timezone found')\n",
      "Processing Stocks:  41%|████      | 1198/2919 [14:56<36:56,  1.29s/it]"
     ]
    },
    {
     "name": "stdout",
     "output_type": "stream",
     "text": [
      "Error downloading data: No data found for KAMRLAB.BO in the given date range.\n"
     ]
    },
    {
     "name": "stderr",
     "output_type": "stream",
     "text": [
      "[*********************100%***********************]  1 of 1 completed\n",
      "[*********************100%***********************]  1 of 1 completeds]\n",
      "\n",
      "1 Failed download:\n",
      "['ISTRNETWK.BO']: YFPricesMissingError('possibly delisted; no price data found  (1d 2012-01-01 -> 2025-01-01) (Yahoo error = \"Data doesn\\'t exist for startDate = 1325356200, endDate = 1735669800\")')\n",
      "Processing Stocks:  41%|████      | 1200/2919 [14:59<40:24,  1.41s/it]"
     ]
    },
    {
     "name": "stdout",
     "output_type": "stream",
     "text": [
      "Error downloading data: No data found for ISTRNETWK.BO in the given date range.\n"
     ]
    },
    {
     "name": "stderr",
     "output_type": "stream",
     "text": [
      "[*********************100%***********************]  1 of 1 completed\n",
      "[*********************100%***********************]  1 of 1 completedt]\n",
      "[*********************100%***********************]  1 of 1 completeds]\n",
      "\n",
      "1 Failed download:\n",
      "['SSORGS.BO']: YFTzMissingError('possibly delisted; no timezone found')\n",
      "Processing Stocks:  41%|████      | 1203/2919 [15:02<32:55,  1.15s/it]"
     ]
    },
    {
     "name": "stdout",
     "output_type": "stream",
     "text": [
      "Error downloading data: No data found for SSORGS.BO in the given date range.\n"
     ]
    },
    {
     "name": "stderr",
     "output_type": "stream",
     "text": [
      "[*********************100%***********************]  1 of 1 completed\n",
      "[*********************100%***********************]  1 of 1 completeds]\n",
      "[*********************100%***********************]  1 of 1 completeds]\n",
      "[*********************100%***********************]  1 of 1 completeds]\n",
      "[*********************100%***********************]  1 of 1 completeds]\n",
      "[*********************100%***********************]  1 of 1 completeds]\n",
      "[*********************100%***********************]  1 of 1 completeds]\n",
      "[*********************100%***********************]  1 of 1 completeds]\n",
      "\n",
      "1 Failed download:\n",
      "['PARENTLD.BO']: YFTzMissingError('possibly delisted; no timezone found')\n",
      "Processing Stocks:  41%|████▏     | 1211/2919 [15:06<21:51,  1.30it/s]"
     ]
    },
    {
     "name": "stdout",
     "output_type": "stream",
     "text": [
      "Error downloading data: No data found for PARENTLD.BO in the given date range.\n"
     ]
    },
    {
     "name": "stderr",
     "output_type": "stream",
     "text": [
      "[*********************100%***********************]  1 of 1 completed\n",
      "[*********************100%***********************]  1 of 1 completeds]\n",
      "[*********************100%***********************]  1 of 1 completeds]\n",
      "[*********************100%***********************]  1 of 1 completeds]\n",
      "\n",
      "1 Failed download:\n",
      "['BIJHANS.BO']: YFTzMissingError('possibly delisted; no timezone found')\n",
      "Processing Stocks:  42%|████▏     | 1215/2919 [15:09<24:32,  1.16it/s]"
     ]
    },
    {
     "name": "stdout",
     "output_type": "stream",
     "text": [
      "Error downloading data: No data found for BIJHANS.BO in the given date range.\n"
     ]
    },
    {
     "name": "stderr",
     "output_type": "stream",
     "text": [
      "[*********************100%***********************]  1 of 1 completed\n",
      "[*********************100%***********************]  1 of 1 completeds]\n",
      "\n",
      "1 Failed download:\n",
      "['CAPPL.BO']: YFTzMissingError('possibly delisted; no timezone found')\n",
      "Processing Stocks:  42%|████▏     | 1217/2919 [15:11<26:53,  1.06it/s]"
     ]
    },
    {
     "name": "stdout",
     "output_type": "stream",
     "text": [
      "Error downloading data: No data found for CAPPL.BO in the given date range.\n"
     ]
    },
    {
     "name": "stderr",
     "output_type": "stream",
     "text": [
      "[*********************100%***********************]  1 of 1 completed\n",
      "\n",
      "1 Failed download:\n",
      "['GUJMEDI.BO']: YFTzMissingError('possibly delisted; no timezone found')\n",
      "Processing Stocks:  42%|████▏     | 1218/2919 [15:12<29:09,  1.03s/it]"
     ]
    },
    {
     "name": "stdout",
     "output_type": "stream",
     "text": [
      "Error downloading data: No data found for GUJMEDI.BO in the given date range.\n"
     ]
    },
    {
     "name": "stderr",
     "output_type": "stream",
     "text": [
      "[*********************100%***********************]  1 of 1 completed\n",
      "[*********************100%***********************]  1 of 1 completeds]\n",
      "\n",
      "1 Failed download:\n",
      "['VARDHCH.BO']: YFTzMissingError('possibly delisted; no timezone found')\n",
      "Processing Stocks:  42%|████▏     | 1220/2919 [15:13<25:25,  1.11it/s]"
     ]
    },
    {
     "name": "stdout",
     "output_type": "stream",
     "text": [
      "Error downloading data: No data found for VARDHCH.BO in the given date range.\n"
     ]
    },
    {
     "name": "stderr",
     "output_type": "stream",
     "text": [
      "[*********************100%***********************]  1 of 1 completed\n",
      "[*********************100%***********************]  1 of 1 completeds]\n",
      "[*********************100%***********************]  1 of 1 completeds]\n",
      "[*********************100%***********************]  1 of 1 completeds]\n",
      "[*********************100%***********************]  1 of 1 completeds]\n",
      "[*********************100%***********************]  1 of 1 completeds]\n",
      "[*********************100%***********************]  1 of 1 completeds]\n",
      "[*********************100%***********************]  1 of 1 completeds]\n",
      "[*********************100%***********************]  1 of 1 completeds]\n",
      "\n",
      "1 Failed download:\n",
      "['KCCLPLASTC.BO']: YFTzMissingError('possibly delisted; no timezone found')\n",
      "Processing Stocks:  42%|████▏     | 1229/2919 [15:17<17:47,  1.58it/s]"
     ]
    },
    {
     "name": "stdout",
     "output_type": "stream",
     "text": [
      "Error downloading data: No data found for KCCLPLASTC.BO in the given date range.\n"
     ]
    },
    {
     "name": "stderr",
     "output_type": "stream",
     "text": [
      "[*********************100%***********************]  1 of 1 completed\n",
      "[*********************100%***********************]  1 of 1 completeds]\n",
      "[*********************100%***********************]  1 of 1 completeds]\n",
      "\n",
      "1 Failed download:\n",
      "['VINRKLB.BO']: YFTzMissingError('possibly delisted; no timezone found')\n",
      "Processing Stocks:  42%|████▏     | 1232/2919 [15:20<27:05,  1.04it/s]"
     ]
    },
    {
     "name": "stdout",
     "output_type": "stream",
     "text": [
      "Error downloading data: No data found for VINRKLB.BO in the given date range.\n"
     ]
    },
    {
     "name": "stderr",
     "output_type": "stream",
     "text": [
      "[*********************100%***********************]  1 of 1 completed\n",
      "[*********************100%***********************]  1 of 1 completeds]\n",
      "[*********************100%***********************]  1 of 1 completeds]\n",
      "[*********************100%***********************]  1 of 1 completeds]\n",
      "[*********************100%***********************]  1 of 1 completeds]\n",
      "[*********************100%***********************]  1 of 1 completeds]\n",
      "[*********************100%***********************]  1 of 1 completeds]\n",
      "\n",
      "1 Failed download:\n",
      "['ARHNTTO.BO']: YFTzMissingError('possibly delisted; no timezone found')\n",
      "Processing Stocks:  42%|████▏     | 1239/2919 [15:24<23:05,  1.21it/s]"
     ]
    },
    {
     "name": "stdout",
     "output_type": "stream",
     "text": [
      "Error downloading data: No data found for ARHNTTO.BO in the given date range.\n"
     ]
    },
    {
     "name": "stderr",
     "output_type": "stream",
     "text": [
      "[*********************100%***********************]  1 of 1 completed\n",
      "[*********************100%***********************]  1 of 1 completeds]\n",
      "[*********************100%***********************]  1 of 1 completeds]\n",
      "[*********************100%***********************]  1 of 1 completeds]\n",
      "[*********************100%***********************]  1 of 1 completeds]\n",
      "[*********************100%***********************]  1 of 1 completeds]\n",
      "[*********************100%***********************]  1 of 1 completeds]\n",
      "[*********************100%***********************]  1 of 1 completeds]\n",
      "[*********************100%***********************]  1 of 1 completeds]\n",
      "[*********************100%***********************]  1 of 1 completeds]\n",
      "[*********************100%***********************]  1 of 1 completeds]\n",
      "[*********************100%***********************]  1 of 1 completeds]\n",
      "\n",
      "1 Failed download:\n",
      "['PREMEXPLQ.BO']: YFTzMissingError('possibly delisted; no timezone found')\n",
      "Processing Stocks:  43%|████▎     | 1251/2919 [15:29<19:40,  1.41it/s]"
     ]
    },
    {
     "name": "stdout",
     "output_type": "stream",
     "text": [
      "Error downloading data: No data found for PREMEXPLQ.BO in the given date range.\n"
     ]
    },
    {
     "name": "stderr",
     "output_type": "stream",
     "text": [
      "[*********************100%***********************]  1 of 1 completed\n",
      "\n",
      "1 Failed download:\n",
      "['MOLDTEK.BO']: YFTzMissingError('possibly delisted; no timezone found')\n",
      "Processing Stocks:  43%|████▎     | 1252/2919 [15:30<23:34,  1.18it/s]"
     ]
    },
    {
     "name": "stdout",
     "output_type": "stream",
     "text": [
      "Error downloading data: No data found for MOLDTEK.BO in the given date range.\n"
     ]
    },
    {
     "name": "stderr",
     "output_type": "stream",
     "text": [
      "[*********************100%***********************]  1 of 1 completed\n",
      "[*********************100%***********************]  1 of 1 completeds]\n",
      "[*********************100%***********************]  1 of 1 completeds]\n",
      "[*********************100%***********************]  1 of 1 completeds]\n",
      "[*********************100%***********************]  1 of 1 completeds]\n",
      "[*********************100%***********************]  1 of 1 completeds]\n",
      "\n",
      "1 Failed download:\n",
      "['PARTIND.BO']: ValueError('Length mismatch: Expected axis has 2 elements, new values have 1 elements')\n",
      "Processing Stocks:  43%|████▎     | 1258/2919 [15:32<11:08,  2.48it/s]"
     ]
    },
    {
     "name": "stdout",
     "output_type": "stream",
     "text": [
      "Error downloading data: No data found for PARTIND.BO in the given date range.\n"
     ]
    },
    {
     "name": "stderr",
     "output_type": "stream",
     "text": [
      "[*********************100%***********************]  1 of 1 completed\n",
      "[*********************100%***********************]  1 of 1 completeds]\n",
      "[*********************100%***********************]  1 of 1 completeds]\n",
      "[*********************100%***********************]  1 of 1 completeds]\n",
      "[*********************100%***********************]  1 of 1 completeds]\n",
      "[*********************100%***********************]  1 of 1 completeds]\n",
      "[*********************100%***********************]  1 of 1 completeds]\n",
      "[*********************100%***********************]  1 of 1 completeds]\n",
      "[*********************100%***********************]  1 of 1 completeds]\n",
      "[*********************100%***********************]  1 of 1 completeds]\n",
      "[*********************100%***********************]  1 of 1 completeds]\n",
      "[*********************100%***********************]  1 of 1 completeds]\n",
      "[*********************100%***********************]  1 of 1 completeds]\n",
      "\n",
      "1 Failed download:\n",
      "['EDUEXEL.BO']: YFTzMissingError('possibly delisted; no timezone found')\n",
      "Processing Stocks:  44%|████▎     | 1271/2919 [15:39<22:19,  1.23it/s]"
     ]
    },
    {
     "name": "stdout",
     "output_type": "stream",
     "text": [
      "Error downloading data: No data found for EDUEXEL.BO in the given date range.\n"
     ]
    },
    {
     "name": "stderr",
     "output_type": "stream",
     "text": [
      "[*********************100%***********************]  1 of 1 completed\n",
      "\n",
      "1 Failed download:\n",
      "['AARVINFRA.BO']: YFTzMissingError('possibly delisted; no timezone found')\n",
      "Processing Stocks:  44%|████▎     | 1272/2919 [15:40<28:38,  1.04s/it]"
     ]
    },
    {
     "name": "stdout",
     "output_type": "stream",
     "text": [
      "Error downloading data: No data found for AARVINFRA.BO in the given date range.\n"
     ]
    },
    {
     "name": "stderr",
     "output_type": "stream",
     "text": [
      "[*********************100%***********************]  1 of 1 completed\n",
      "[*********************100%***********************]  1 of 1 completeds]\n",
      "[*********************100%***********************]  1 of 1 completeds]\n",
      "\n",
      "1 Failed download:\n",
      "['INTLNKP.BO']: YFTzMissingError('possibly delisted; no timezone found')\n",
      "Processing Stocks:  44%|████▎     | 1275/2919 [15:42<27:18,  1.00it/s]"
     ]
    },
    {
     "name": "stdout",
     "output_type": "stream",
     "text": [
      "Error downloading data: No data found for INTLNKP.BO in the given date range.\n"
     ]
    },
    {
     "name": "stderr",
     "output_type": "stream",
     "text": [
      "[*********************100%***********************]  1 of 1 completed\n",
      "[*********************100%***********************]  1 of 1 completeds]\n",
      "[*********************100%***********************]  1 of 1 completeds]\n",
      "\n",
      "1 Failed download:\n",
      "['SALGUTI.BO']: YFPricesMissingError('possibly delisted; no price data found  (1d 2012-01-01 -> 2025-01-01) (Yahoo error = \"Data doesn\\'t exist for startDate = 1325356200, endDate = 1735669800\")')\n",
      "Processing Stocks:  44%|████▍     | 1278/2919 [15:45<25:16,  1.08it/s]"
     ]
    },
    {
     "name": "stdout",
     "output_type": "stream",
     "text": [
      "Error downloading data: No data found for SALGUTI.BO in the given date range.\n"
     ]
    },
    {
     "name": "stderr",
     "output_type": "stream",
     "text": [
      "[*********************100%***********************]  1 of 1 completed\n",
      "\n",
      "1 Failed download:\n",
      "['JAMEHOT.BO']: YFTzMissingError('possibly delisted; no timezone found')\n",
      "Processing Stocks:  44%|████▍     | 1279/2919 [15:47<35:18,  1.29s/it]"
     ]
    },
    {
     "name": "stdout",
     "output_type": "stream",
     "text": [
      "Error downloading data: No data found for JAMEHOT.BO in the given date range.\n"
     ]
    },
    {
     "name": "stderr",
     "output_type": "stream",
     "text": [
      "[*********************100%***********************]  1 of 1 completed\n",
      "[*********************100%***********************]  1 of 1 completeds]\n",
      "[*********************100%***********************]  1 of 1 completeds]\n",
      "[*********************100%***********************]  1 of 1 completeds]\n",
      "\n",
      "1 Failed download:\n",
      "['TPLPLAST.BO']: YFTzMissingError('possibly delisted; no timezone found')\n",
      "Processing Stocks:  44%|████▍     | 1283/2919 [15:50<30:59,  1.14s/it]"
     ]
    },
    {
     "name": "stdout",
     "output_type": "stream",
     "text": [
      "Error downloading data: No data found for TPLPLAST.BO in the given date range.\n"
     ]
    },
    {
     "name": "stderr",
     "output_type": "stream",
     "text": [
      "[*********************100%***********************]  1 of 1 completed\n",
      "[*********************100%***********************]  1 of 1 completeds]\n",
      "\n",
      "1 Failed download:\n",
      "['BNANJEN.BO']: YFTzMissingError('possibly delisted; no timezone found')\n",
      "Processing Stocks:  44%|████▍     | 1285/2919 [15:52<28:34,  1.05s/it]"
     ]
    },
    {
     "name": "stdout",
     "output_type": "stream",
     "text": [
      "Error downloading data: No data found for BNANJEN.BO in the given date range.\n"
     ]
    },
    {
     "name": "stderr",
     "output_type": "stream",
     "text": [
      "[*********************100%***********************]  1 of 1 completed\n",
      "[*********************100%***********************]  1 of 1 completeds]\n",
      "[*********************100%***********************]  1 of 1 completeds]\n",
      "[*********************100%***********************]  1 of 1 completeds]\n",
      "[*********************100%***********************]  1 of 1 completeds]\n",
      "[*********************100%***********************]  1 of 1 completeds]\n",
      "[*********************100%***********************]  1 of 1 completeds]\n",
      "[*********************100%***********************]  1 of 1 completeds]\n",
      "[*********************100%***********************]  1 of 1 completeds]\n",
      "[*********************100%***********************]  1 of 1 completeds]\n",
      "[*********************100%***********************]  1 of 1 completeds]\n",
      "[*********************100%***********************]  1 of 1 completeds]\n",
      "[*********************100%***********************]  1 of 1 completeds]\n",
      "[*********************100%***********************]  1 of 1 completeds]\n",
      "\n",
      "1 Failed download:\n",
      "['HOTELRUGBY.BO']: YFTzMissingError('possibly delisted; no timezone found')\n",
      "Processing Stocks:  45%|████▍     | 1299/2919 [15:59<20:14,  1.33it/s]"
     ]
    },
    {
     "name": "stdout",
     "output_type": "stream",
     "text": [
      "Error downloading data: No data found for HOTELRUGBY.BO in the given date range.\n"
     ]
    },
    {
     "name": "stderr",
     "output_type": "stream",
     "text": [
      "[*********************100%***********************]  1 of 1 completed\n",
      "\n",
      "1 Failed download:\n",
      "['FENOPLAS.BO']: YFTzMissingError('possibly delisted; no timezone found')\n",
      "Processing Stocks:  45%|████▍     | 1300/2919 [16:00<23:29,  1.15it/s]"
     ]
    },
    {
     "name": "stdout",
     "output_type": "stream",
     "text": [
      "Error downloading data: No data found for FENOPLAS.BO in the given date range.\n"
     ]
    },
    {
     "name": "stderr",
     "output_type": "stream",
     "text": [
      "[*********************100%***********************]  1 of 1 completed\n",
      "[*********************100%***********************]  1 of 1 completeds]\n",
      "[*********************100%***********************]  1 of 1 completeds]\n",
      "[*********************100%***********************]  1 of 1 completeds]\n",
      "[*********************100%***********************]  1 of 1 completeds]\n",
      "[*********************100%***********************]  1 of 1 completeds]\n",
      "\n",
      "1 Failed download:\n",
      "['EXCAST.BO']: YFTzMissingError('possibly delisted; no timezone found')\n",
      "Processing Stocks:  45%|████▍     | 1306/2919 [16:04<22:33,  1.19it/s]"
     ]
    },
    {
     "name": "stdout",
     "output_type": "stream",
     "text": [
      "Error downloading data: No data found for EXCAST.BO in the given date range.\n"
     ]
    },
    {
     "name": "stderr",
     "output_type": "stream",
     "text": [
      "[*********************100%***********************]  1 of 1 completed\n",
      "\n",
      "1 Failed download:\n",
      "['CORPOCO.BO']: YFTzMissingError('possibly delisted; no timezone found')\n",
      "Processing Stocks:  45%|████▍     | 1307/2919 [16:06<29:46,  1.11s/it]"
     ]
    },
    {
     "name": "stdout",
     "output_type": "stream",
     "text": [
      "Error downloading data: No data found for CORPOCO.BO in the given date range.\n"
     ]
    },
    {
     "name": "stderr",
     "output_type": "stream",
     "text": [
      "[*********************100%***********************]  1 of 1 completed\n",
      "[*********************100%***********************]  1 of 1 completeds]\n",
      "[*********************100%***********************]  1 of 1 completeds]\n",
      "\n",
      "1 Failed download:\n",
      "['MHSGRMS.BO']: YFPricesMissingError('possibly delisted; no price data found  (1d 2012-01-01 -> 2025-01-01) (Yahoo error = \"Data doesn\\'t exist for startDate = 1325356200, endDate = 1735669800\")')\n",
      "Processing Stocks:  45%|████▍     | 1310/2919 [16:10<37:03,  1.38s/it]"
     ]
    },
    {
     "name": "stdout",
     "output_type": "stream",
     "text": [
      "Error downloading data: No data found for MHSGRMS.BO in the given date range.\n"
     ]
    },
    {
     "name": "stderr",
     "output_type": "stream",
     "text": [
      "[*********************100%***********************]  1 of 1 completed\n",
      "[*********************100%***********************]  1 of 1 completedt]\n",
      "\n",
      "1 Failed download:\n",
      "['UNQTYMI.BO']: YFPricesMissingError('possibly delisted; no price data found  (1d 2012-01-01 -> 2025-01-01) (Yahoo error = \"Data doesn\\'t exist for startDate = 1325356200, endDate = 1735669800\")')\n",
      "Processing Stocks:  45%|████▍     | 1312/2919 [16:12<35:27,  1.32s/it]"
     ]
    },
    {
     "name": "stdout",
     "output_type": "stream",
     "text": [
      "Error downloading data: No data found for UNQTYMI.BO in the given date range.\n"
     ]
    },
    {
     "name": "stderr",
     "output_type": "stream",
     "text": [
      "[*********************100%***********************]  1 of 1 completed\n",
      "\n",
      "1 Failed download:\n",
      "['PSL.BO']: YFTzMissingError('possibly delisted; no timezone found')\n",
      "Processing Stocks:  45%|████▍     | 1313/2919 [16:13<36:31,  1.36s/it]"
     ]
    },
    {
     "name": "stdout",
     "output_type": "stream",
     "text": [
      "Error downloading data: No data found for PSL.BO in the given date range.\n"
     ]
    },
    {
     "name": "stderr",
     "output_type": "stream",
     "text": [
      "[*********************100%***********************]  1 of 1 completed\n",
      "[*********************100%***********************]  1 of 1 completedt]\n",
      "[*********************100%***********************]  1 of 1 completeds]\n",
      "[*********************100%***********************]  1 of 1 completeds]\n",
      "\n",
      "1 Failed download:\n",
      "['ATLANTADEV.BO']: YFTzMissingError('possibly delisted; no timezone found')\n",
      "Processing Stocks:  45%|████▌     | 1317/2919 [16:16<23:07,  1.16it/s]"
     ]
    },
    {
     "name": "stdout",
     "output_type": "stream",
     "text": [
      "Error downloading data: No data found for ATLANTADEV.BO in the given date range.\n"
     ]
    },
    {
     "name": "stderr",
     "output_type": "stream",
     "text": [
      "[*********************100%***********************]  1 of 1 completed\n",
      "[*********************100%***********************]  1 of 1 completeds]\n",
      "[*********************100%***********************]  1 of 1 completeds]\n",
      "[*********************100%***********************]  1 of 1 completeds]\n",
      "[*********************100%***********************]  1 of 1 completeds]\n",
      "[*********************100%***********************]  1 of 1 completeds]\n",
      "[*********************100%***********************]  1 of 1 completeds]\n",
      "[*********************100%***********************]  1 of 1 completeds]\n",
      "\n",
      "1 Failed download:\n",
      "['INDOCRED.BO']: YFPricesMissingError('possibly delisted; no price data found  (1d 2012-01-01 -> 2025-01-01)')\n",
      "Processing Stocks:  45%|████▌     | 1325/2919 [16:19<11:39,  2.28it/s]"
     ]
    },
    {
     "name": "stdout",
     "output_type": "stream",
     "text": [
      "Error downloading data: No data found for INDOCRED.BO in the given date range.\n"
     ]
    },
    {
     "name": "stderr",
     "output_type": "stream",
     "text": [
      "[*********************100%***********************]  1 of 1 completed\n",
      "[*********************100%***********************]  1 of 1 completeds]\n",
      "[*********************100%***********************]  1 of 1 completeds]\n",
      "[*********************100%***********************]  1 of 1 completeds]\n",
      "\n",
      "1 Failed download:\n",
      "['MBPARIKH.BO']: YFTzMissingError('possibly delisted; no timezone found')\n",
      "Processing Stocks:  46%|████▌     | 1329/2919 [16:22<17:39,  1.50it/s]"
     ]
    },
    {
     "name": "stdout",
     "output_type": "stream",
     "text": [
      "Error downloading data: No data found for MBPARIKH.BO in the given date range.\n"
     ]
    },
    {
     "name": "stderr",
     "output_type": "stream",
     "text": [
      "[*********************100%***********************]  1 of 1 completed\n",
      "\n",
      "1 Failed download:\n",
      "['VAICC.BO']: YFTzMissingError('possibly delisted; no timezone found')\n",
      "Processing Stocks:  46%|████▌     | 1330/2919 [16:23<22:52,  1.16it/s]"
     ]
    },
    {
     "name": "stdout",
     "output_type": "stream",
     "text": [
      "Error downloading data: No data found for VAICC.BO in the given date range.\n"
     ]
    },
    {
     "name": "stderr",
     "output_type": "stream",
     "text": [
      "[*********************100%***********************]  1 of 1 completed\n",
      "[*********************100%***********************]  1 of 1 completeds]\n",
      "[*********************100%***********************]  1 of 1 completeds]\n",
      "[*********************100%***********************]  1 of 1 completeds]\n",
      "\n",
      "1 Failed download:\n",
      "['TRANSFIN.BO']: YFTzMissingError('possibly delisted; no timezone found')\n",
      "Processing Stocks:  46%|████▌     | 1334/2919 [16:26<20:02,  1.32it/s]"
     ]
    },
    {
     "name": "stdout",
     "output_type": "stream",
     "text": [
      "Error downloading data: No data found for TRANSFIN.BO in the given date range.\n"
     ]
    },
    {
     "name": "stderr",
     "output_type": "stream",
     "text": [
      "[*********************100%***********************]  1 of 1 completed\n",
      "[*********************100%***********************]  1 of 1 completeds]\n",
      "[*********************100%***********************]  1 of 1 completeds]\n",
      "\n",
      "1 Failed download:\n",
      "['CRIMSON.BO']: YFTzMissingError('possibly delisted; no timezone found')\n",
      "Processing Stocks:  46%|████▌     | 1337/2919 [16:28<22:32,  1.17it/s]"
     ]
    },
    {
     "name": "stdout",
     "output_type": "stream",
     "text": [
      "Error downloading data: No data found for CRIMSON.BO in the given date range.\n"
     ]
    },
    {
     "name": "stderr",
     "output_type": "stream",
     "text": [
      "[*********************100%***********************]  1 of 1 completed\n",
      "[*********************100%***********************]  1 of 1 completeds]\n",
      "\n",
      "1 Failed download:\n",
      "['URJAGLOBA.BO']: YFTzMissingError('possibly delisted; no timezone found')\n",
      "Processing Stocks:  46%|████▌     | 1339/2919 [16:30<25:46,  1.02it/s]"
     ]
    },
    {
     "name": "stdout",
     "output_type": "stream",
     "text": [
      "Error downloading data: No data found for URJAGLOBA.BO in the given date range.\n"
     ]
    },
    {
     "name": "stderr",
     "output_type": "stream",
     "text": [
      "[*********************100%***********************]  1 of 1 completed\n",
      "[*********************100%***********************]  1 of 1 completeds]\n",
      "[*********************100%***********************]  1 of 1 completeds]\n",
      "[*********************100%***********************]  1 of 1 completeds]\n",
      "[*********************100%***********************]  1 of 1 completeds]\n",
      "[*********************100%***********************]  1 of 1 completeds]\n",
      "[*********************100%***********************]  1 of 1 completeds]\n",
      "[*********************100%***********************]  1 of 1 completeds]\n",
      "\n",
      "1 Failed download:\n",
      "['JUBILANT.BO']: YFTzMissingError('possibly delisted; no timezone found')\n",
      "Processing Stocks:  46%|████▌     | 1347/2919 [16:35<21:43,  1.21it/s]"
     ]
    },
    {
     "name": "stdout",
     "output_type": "stream",
     "text": [
      "Error downloading data: No data found for JUBILANT.BO in the given date range.\n"
     ]
    },
    {
     "name": "stderr",
     "output_type": "stream",
     "text": [
      "[*********************100%***********************]  1 of 1 completed\n",
      "\n",
      "1 Failed download:\n",
      "['FORTUNEF.BO']: YFTzMissingError('possibly delisted; no timezone found')\n",
      "Processing Stocks:  46%|████▌     | 1348/2919 [16:37<29:43,  1.14s/it]"
     ]
    },
    {
     "name": "stdout",
     "output_type": "stream",
     "text": [
      "Error downloading data: No data found for FORTUNEF.BO in the given date range.\n"
     ]
    },
    {
     "name": "stderr",
     "output_type": "stream",
     "text": [
      "[*********************100%***********************]  1 of 1 completed\n",
      "[*********************100%***********************]  1 of 1 completeds]\n",
      "[*********************100%***********************]  1 of 1 completeds]\n",
      "[*********************100%***********************]  1 of 1 completeds]\n",
      "[*********************100%***********************]  1 of 1 completeds]\n",
      "\n",
      "1 Failed download:\n",
      "['RAIREKMOH.BO']: YFTzMissingError('possibly delisted; no timezone found')\n",
      "Processing Stocks:  46%|████▋     | 1353/2919 [16:39<20:02,  1.30it/s]"
     ]
    },
    {
     "name": "stdout",
     "output_type": "stream",
     "text": [
      "Error downloading data: No data found for RAIREKMOH.BO in the given date range.\n"
     ]
    },
    {
     "name": "stderr",
     "output_type": "stream",
     "text": [
      "[*********************100%***********************]  1 of 1 completed\n",
      "[*********************100%***********************]  1 of 1 completeds]\n",
      "[*********************100%***********************]  1 of 1 completeds]\n",
      "[*********************100%***********************]  1 of 1 completeds]\n",
      "[*********************100%***********************]  1 of 1 completeds]\n",
      "[*********************100%***********************]  1 of 1 completeds]\n",
      "[*********************100%***********************]  1 of 1 completeds]\n",
      "\n",
      "1 Failed download:\n",
      "['FAIRCHEM.BO']: YFTzMissingError('possibly delisted; no timezone found')\n",
      "Processing Stocks:  47%|████▋     | 1360/2919 [16:43<20:35,  1.26it/s]"
     ]
    },
    {
     "name": "stdout",
     "output_type": "stream",
     "text": [
      "Error downloading data: No data found for FAIRCHEM.BO in the given date range.\n"
     ]
    },
    {
     "name": "stderr",
     "output_type": "stream",
     "text": [
      "[*********************100%***********************]  1 of 1 completed\n",
      "[*********************100%***********************]  1 of 1 completeds]\n",
      "[*********************100%***********************]  1 of 1 completeds]\n",
      "[*********************100%***********************]  1 of 1 completeds]\n",
      "[*********************100%***********************]  1 of 1 completeds]\n",
      "[*********************100%***********************]  1 of 1 completeds]\n",
      "[*********************100%***********************]  1 of 1 completeds]\n",
      "[*********************100%***********************]  1 of 1 completeds]\n",
      "[*********************100%***********************]  1 of 1 completeds]\n",
      "\n",
      "1 Failed download:\n",
      "['CHROMATIC.BO']: YFTzMissingError('possibly delisted; no timezone found')\n",
      "Processing Stocks:  47%|████▋     | 1369/2919 [16:47<17:09,  1.50it/s]"
     ]
    },
    {
     "name": "stdout",
     "output_type": "stream",
     "text": [
      "Error downloading data: No data found for CHROMATIC.BO in the given date range.\n"
     ]
    },
    {
     "name": "stderr",
     "output_type": "stream",
     "text": [
      "[*********************100%***********************]  1 of 1 completed\n",
      "[*********************100%***********************]  1 of 1 completeds]\n",
      "[*********************100%***********************]  1 of 1 completeds]\n",
      "[*********************100%***********************]  1 of 1 completeds]\n",
      "[*********************100%***********************]  1 of 1 completeds]\n",
      "[*********************100%***********************]  1 of 1 completeds]\n",
      "[*********************100%***********************]  1 of 1 completeds]\n",
      "\n",
      "1 Failed download:\n",
      "['MANGASOF.BO']: YFTzMissingError('possibly delisted; no timezone found')\n",
      "Processing Stocks:  47%|████▋     | 1376/2919 [16:51<18:22,  1.40it/s]"
     ]
    },
    {
     "name": "stdout",
     "output_type": "stream",
     "text": [
      "Error downloading data: No data found for MANGASOF.BO in the given date range.\n"
     ]
    },
    {
     "name": "stderr",
     "output_type": "stream",
     "text": [
      "[*********************100%***********************]  1 of 1 completed\n",
      "[*********************100%***********************]  1 of 1 completeds]\n",
      "[*********************100%***********************]  1 of 1 completeds]\n",
      "\n",
      "1 Failed download:\n",
      "['ARCUTTIP.BO']: YFTzMissingError('possibly delisted; no timezone found')\n",
      "Processing Stocks:  47%|████▋     | 1379/2919 [16:53<21:04,  1.22it/s]"
     ]
    },
    {
     "name": "stdout",
     "output_type": "stream",
     "text": [
      "Error downloading data: No data found for ARCUTTIP.BO in the given date range.\n"
     ]
    },
    {
     "name": "stderr",
     "output_type": "stream",
     "text": [
      "[*********************100%***********************]  1 of 1 completed\n",
      "[*********************100%***********************]  1 of 1 completeds]\n",
      "[*********************100%***********************]  1 of 1 completeds]\n",
      "\n",
      "1 Failed download:\n",
      "['SABOOBR.BO']: YFTzMissingError('possibly delisted; no timezone found')\n",
      "Processing Stocks:  47%|████▋     | 1382/2919 [16:55<21:13,  1.21it/s]"
     ]
    },
    {
     "name": "stdout",
     "output_type": "stream",
     "text": [
      "Error downloading data: No data found for SABOOBR.BO in the given date range.\n"
     ]
    },
    {
     "name": "stderr",
     "output_type": "stream",
     "text": [
      "[*********************100%***********************]  1 of 1 completed\n",
      "[*********************100%***********************]  1 of 1 completeds]\n",
      "[*********************100%***********************]  1 of 1 completeds]\n",
      "[*********************100%***********************]  1 of 1 completeds]\n",
      "[*********************100%***********************]  1 of 1 completeds]\n",
      "\n",
      "1 Failed download:\n",
      "['EMGEECA.BO']: YFTzMissingError('possibly delisted; no timezone found')\n",
      "Processing Stocks:  48%|████▊     | 1387/2919 [16:58<17:14,  1.48it/s]"
     ]
    },
    {
     "name": "stdout",
     "output_type": "stream",
     "text": [
      "Error downloading data: No data found for EMGEECA.BO in the given date range.\n"
     ]
    },
    {
     "name": "stderr",
     "output_type": "stream",
     "text": [
      "[*********************100%***********************]  1 of 1 completed\n",
      "[*********************100%***********************]  1 of 1 completeds]\n",
      "\n",
      "1 Failed download:\n",
      "['MAGNUML.BO']: YFTzMissingError('possibly delisted; no timezone found')\n",
      "Processing Stocks:  48%|████▊     | 1389/2919 [17:00<22:04,  1.15it/s]"
     ]
    },
    {
     "name": "stdout",
     "output_type": "stream",
     "text": [
      "Error downloading data: No data found for MAGNUML.BO in the given date range.\n"
     ]
    },
    {
     "name": "stderr",
     "output_type": "stream",
     "text": [
      "[*********************100%***********************]  1 of 1 completed\n",
      "\n",
      "1 Failed download:\n",
      "['SEAGOLD.BO']: YFTzMissingError('possibly delisted; no timezone found')\n",
      "Processing Stocks:  48%|████▊     | 1390/2919 [17:01<25:36,  1.00s/it]"
     ]
    },
    {
     "name": "stdout",
     "output_type": "stream",
     "text": [
      "Error downloading data: No data found for SEAGOLD.BO in the given date range.\n"
     ]
    },
    {
     "name": "stderr",
     "output_type": "stream",
     "text": [
      "[*********************100%***********************]  1 of 1 completed\n",
      "[*********************100%***********************]  1 of 1 completeds]\n",
      "[*********************100%***********************]  1 of 1 completeds]\n",
      "[*********************100%***********************]  1 of 1 completeds]\n",
      "\n",
      "1 Failed download:\n",
      "['NILA.BO']: YFTzMissingError('possibly delisted; no timezone found')\n",
      "Processing Stocks:  48%|████▊     | 1394/2919 [17:04<24:02,  1.06it/s]"
     ]
    },
    {
     "name": "stdout",
     "output_type": "stream",
     "text": [
      "Error downloading data: No data found for NILA.BO in the given date range.\n"
     ]
    },
    {
     "name": "stderr",
     "output_type": "stream",
     "text": [
      "[*********************100%***********************]  1 of 1 completed\n",
      "\n",
      "1 Failed download:\n",
      "['PETRONENGG.BO']: YFTzMissingError('possibly delisted; no timezone found')\n",
      "Processing Stocks:  48%|████▊     | 1395/2919 [17:05<25:53,  1.02s/it]"
     ]
    },
    {
     "name": "stdout",
     "output_type": "stream",
     "text": [
      "Error downloading data: No data found for PETRONENGG.BO in the given date range.\n"
     ]
    },
    {
     "name": "stderr",
     "output_type": "stream",
     "text": [
      "[*********************100%***********************]  1 of 1 completed\n",
      "[*********************100%***********************]  1 of 1 completeds]\n",
      "\n",
      "1 Failed download:\n",
      "['VALLABH.BO']: YFTzMissingError('possibly delisted; no timezone found')\n",
      "Processing Stocks:  48%|████▊     | 1397/2919 [17:07<23:43,  1.07it/s]"
     ]
    },
    {
     "name": "stdout",
     "output_type": "stream",
     "text": [
      "Error downloading data: No data found for VALLABH.BO in the given date range.\n"
     ]
    },
    {
     "name": "stderr",
     "output_type": "stream",
     "text": [
      "[*********************100%***********************]  1 of 1 completed\n",
      "[*********************100%***********************]  1 of 1 completeds]\n",
      "[*********************100%***********************]  1 of 1 completeds]\n",
      "[*********************100%***********************]  1 of 1 completeds]\n",
      "[*********************100%***********************]  1 of 1 completeds]\n",
      "\n",
      "1 Failed download:\n",
      "['MAHAN.BO']: YFTzMissingError('possibly delisted; no timezone found')\n",
      "Processing Stocks:  48%|████▊     | 1402/2919 [17:11<27:41,  1.10s/it]"
     ]
    },
    {
     "name": "stdout",
     "output_type": "stream",
     "text": [
      "Error downloading data: No data found for MAHAN.BO in the given date range.\n"
     ]
    },
    {
     "name": "stderr",
     "output_type": "stream",
     "text": [
      "[*********************100%***********************]  1 of 1 completed\n",
      "[*********************100%***********************]  1 of 1 completeds]\n",
      "[*********************100%***********************]  1 of 1 completeds]\n",
      "[*********************100%***********************]  1 of 1 completeds]\n",
      "[*********************100%***********************]  1 of 1 completeds]\n",
      "[*********************100%***********************]  1 of 1 completeds]\n",
      "\n",
      "1 Failed download:\n",
      "['SHEETAL.BO']: YFTzMissingError('possibly delisted; no timezone found')\n",
      "Processing Stocks:  48%|████▊     | 1408/2919 [17:14<20:25,  1.23it/s]"
     ]
    },
    {
     "name": "stdout",
     "output_type": "stream",
     "text": [
      "Error downloading data: No data found for SHEETAL.BO in the given date range.\n"
     ]
    },
    {
     "name": "stderr",
     "output_type": "stream",
     "text": [
      "[*********************100%***********************]  1 of 1 completed\n",
      "[*********************100%***********************]  1 of 1 completeds]\n",
      "[*********************100%***********************]  1 of 1 completeds]\n",
      "[*********************100%***********************]  1 of 1 completeds]\n",
      "\n",
      "1 Failed download:\n",
      "['SSLFINANCE.BO']: YFTzMissingError('possibly delisted; no timezone found')\n",
      "Processing Stocks:  48%|████▊     | 1412/2919 [17:16<19:14,  1.30it/s]"
     ]
    },
    {
     "name": "stdout",
     "output_type": "stream",
     "text": [
      "Error downloading data: No data found for SSLFINANCE.BO in the given date range.\n"
     ]
    },
    {
     "name": "stderr",
     "output_type": "stream",
     "text": [
      "[*********************100%***********************]  1 of 1 completed\n",
      "[*********************100%***********************]  1 of 1 completeds]\n",
      "[*********************100%***********************]  1 of 1 completeds]\n",
      "[*********************100%***********************]  1 of 1 completeds]\n",
      "[*********************100%***********************]  1 of 1 completeds]\n",
      "[*********************100%***********************]  1 of 1 completeds]\n",
      "[*********************100%***********************]  1 of 1 completeds]\n",
      "\n",
      "1 Failed download:\n",
      "['PRESOFI.BO']: YFTzMissingError('possibly delisted; no timezone found')\n",
      "Processing Stocks:  49%|████▊     | 1419/2919 [17:20<16:55,  1.48it/s]"
     ]
    },
    {
     "name": "stdout",
     "output_type": "stream",
     "text": [
      "Error downloading data: No data found for PRESOFI.BO in the given date range.\n"
     ]
    },
    {
     "name": "stderr",
     "output_type": "stream",
     "text": [
      "[*********************100%***********************]  1 of 1 completed\n",
      "[*********************100%***********************]  1 of 1 completeds]\n",
      "[*********************100%***********************]  1 of 1 completeds]\n",
      "[*********************100%***********************]  1 of 1 completeds]\n",
      "[*********************100%***********************]  1 of 1 completeds]\n",
      "\n",
      "1 Failed download:\n",
      "['RAJRAYON.BO']: YFTzMissingError('possibly delisted; no timezone found')\n",
      "Processing Stocks:  49%|████▉     | 1424/2919 [17:22<17:05,  1.46it/s]"
     ]
    },
    {
     "name": "stdout",
     "output_type": "stream",
     "text": [
      "Error downloading data: No data found for RAJRAYON.BO in the given date range.\n"
     ]
    },
    {
     "name": "stderr",
     "output_type": "stream",
     "text": [
      "[*********************100%***********************]  1 of 1 completed\n",
      "[*********************100%***********************]  1 of 1 completeds]\n",
      "[*********************100%***********************]  1 of 1 completeds]\n",
      "[*********************100%***********************]  1 of 1 completeds]\n",
      "[*********************100%***********************]  1 of 1 completeds]\n",
      "[*********************100%***********************]  1 of 1 completeds]\n",
      "\n",
      "1 Failed download:\n",
      "['ANGIND.BO']: YFTzMissingError('possibly delisted; no timezone found')\n",
      "Processing Stocks:  49%|████▉     | 1430/2919 [17:25<15:51,  1.57it/s]"
     ]
    },
    {
     "name": "stdout",
     "output_type": "stream",
     "text": [
      "Error downloading data: No data found for ANGIND.BO in the given date range.\n"
     ]
    },
    {
     "name": "stderr",
     "output_type": "stream",
     "text": [
      "[*********************100%***********************]  1 of 1 completed\n",
      "[*********************100%***********************]  1 of 1 completeds]\n",
      "\n",
      "1 Failed download:\n",
      "['NOVAPUB.BO']: YFTzMissingError('possibly delisted; no timezone found')\n",
      "Processing Stocks:  49%|████▉     | 1432/2919 [17:26<18:53,  1.31it/s]"
     ]
    },
    {
     "name": "stdout",
     "output_type": "stream",
     "text": [
      "Error downloading data: No data found for NOVAPUB.BO in the given date range.\n"
     ]
    },
    {
     "name": "stderr",
     "output_type": "stream",
     "text": [
      "[*********************100%***********************]  1 of 1 completed\n",
      "[*********************100%***********************]  1 of 1 completeds]\n",
      "\n",
      "1 Failed download:\n",
      "['INDOASIAF.BO']: YFTzMissingError('possibly delisted; no timezone found')\n",
      "Processing Stocks:  49%|████▉     | 1434/2919 [17:28<22:49,  1.08it/s]"
     ]
    },
    {
     "name": "stdout",
     "output_type": "stream",
     "text": [
      "Error downloading data: No data found for INDOASIAF.BO in the given date range.\n"
     ]
    },
    {
     "name": "stderr",
     "output_type": "stream",
     "text": [
      "[*********************100%***********************]  1 of 1 completed\n",
      "[*********************100%***********************]  1 of 1 completeds]\n",
      "\n",
      "1 Failed download:\n",
      "['DEVKI.BO']: YFTzMissingError('possibly delisted; no timezone found')\n",
      "Processing Stocks:  49%|████▉     | 1436/2919 [17:30<24:05,  1.03it/s]"
     ]
    },
    {
     "name": "stdout",
     "output_type": "stream",
     "text": [
      "Error downloading data: No data found for DEVKI.BO in the given date range.\n"
     ]
    },
    {
     "name": "stderr",
     "output_type": "stream",
     "text": [
      "[*********************100%***********************]  1 of 1 completed\n",
      "[*********************100%***********************]  1 of 1 completeds]\n",
      "\n",
      "1 Failed download:\n",
      "['INFRAIND.BO']: YFTzMissingError('possibly delisted; no timezone found')\n",
      "Processing Stocks:  49%|████▉     | 1438/2919 [17:33<27:08,  1.10s/it]"
     ]
    },
    {
     "name": "stdout",
     "output_type": "stream",
     "text": [
      "Error downloading data: No data found for INFRAIND.BO in the given date range.\n"
     ]
    },
    {
     "name": "stderr",
     "output_type": "stream",
     "text": [
      "[*********************100%***********************]  1 of 1 completed\n",
      "\n",
      "1 Failed download:\n",
      "['INTERHG.BO']: YFTzMissingError('possibly delisted; no timezone found')\n",
      "Processing Stocks:  49%|████▉     | 1439/2919 [17:35<35:02,  1.42s/it]"
     ]
    },
    {
     "name": "stdout",
     "output_type": "stream",
     "text": [
      "Error downloading data: No data found for INTERHG.BO in the given date range.\n"
     ]
    },
    {
     "name": "stderr",
     "output_type": "stream",
     "text": [
      "[*********************100%***********************]  1 of 1 completed\n",
      "\n",
      "1 Failed download:\n",
      "['TRANSASIA.BO']: YFTzMissingError('possibly delisted; no timezone found')\n",
      "Processing Stocks:  49%|████▉     | 1440/2919 [17:36<34:16,  1.39s/it]"
     ]
    },
    {
     "name": "stdout",
     "output_type": "stream",
     "text": [
      "Error downloading data: No data found for TRANSASIA.BO in the given date range.\n"
     ]
    },
    {
     "name": "stderr",
     "output_type": "stream",
     "text": [
      "[*********************100%***********************]  1 of 1 completed\n",
      "[*********************100%***********************]  1 of 1 completedt]\n",
      "[*********************100%***********************]  1 of 1 completeds]\n",
      "[*********************100%***********************]  1 of 1 completeds]\n",
      "\n",
      "1 Failed download:\n",
      "['DIAMOND.BO']: YFTzMissingError('possibly delisted; no timezone found')\n",
      "Processing Stocks:  49%|████▉     | 1444/2919 [17:39<25:54,  1.05s/it]"
     ]
    },
    {
     "name": "stdout",
     "output_type": "stream",
     "text": [
      "Error downloading data: No data found for DIAMOND.BO in the given date range.\n"
     ]
    },
    {
     "name": "stderr",
     "output_type": "stream",
     "text": [
      "[*********************100%***********************]  1 of 1 completed\n",
      "\n",
      "1 Failed download:\n",
      "['BHAGIL.BO']: YFTzMissingError('possibly delisted; no timezone found')\n",
      "Processing Stocks:  50%|████▉     | 1445/2919 [17:41<33:39,  1.37s/it]"
     ]
    },
    {
     "name": "stdout",
     "output_type": "stream",
     "text": [
      "Error downloading data: No data found for BHAGIL.BO in the given date range.\n"
     ]
    },
    {
     "name": "stderr",
     "output_type": "stream",
     "text": [
      "[*********************100%***********************]  1 of 1 completed\n",
      "\n",
      "1 Failed download:\n",
      "['NETVISTAIT.BO']: YFTzMissingError('possibly delisted; no timezone found')\n",
      "Processing Stocks:  50%|████▉     | 1446/2919 [17:43<38:16,  1.56s/it]"
     ]
    },
    {
     "name": "stdout",
     "output_type": "stream",
     "text": [
      "Error downloading data: No data found for NETVISTAIT.BO in the given date range.\n"
     ]
    },
    {
     "name": "stderr",
     "output_type": "stream",
     "text": [
      "[*********************100%***********************]  1 of 1 completed\n",
      "[*********************100%***********************]  1 of 1 completedt]\n",
      "\n",
      "1 Failed download:\n",
      "['SHRIBCL.BO']: YFTzMissingError('possibly delisted; no timezone found')\n",
      "Processing Stocks:  50%|████▉     | 1448/2919 [17:45<32:27,  1.32s/it]"
     ]
    },
    {
     "name": "stdout",
     "output_type": "stream",
     "text": [
      "Error downloading data: No data found for SHRIBCL.BO in the given date range.\n"
     ]
    },
    {
     "name": "stderr",
     "output_type": "stream",
     "text": [
      "[*********************100%***********************]  1 of 1 completed\n",
      "[*********************100%***********************]  1 of 1 completedt]\n",
      "[*********************100%***********************]  1 of 1 completeds]\n",
      "\n",
      "1 Failed download:\n",
      "['GDLLEAS.BO']: YFTzMissingError('possibly delisted; no timezone found')\n",
      "Processing Stocks:  50%|████▉     | 1451/2919 [17:47<23:47,  1.03it/s]"
     ]
    },
    {
     "name": "stdout",
     "output_type": "stream",
     "text": [
      "Error downloading data: No data found for GDLLEAS.BO in the given date range.\n"
     ]
    },
    {
     "name": "stderr",
     "output_type": "stream",
     "text": [
      "[*********************100%***********************]  1 of 1 completed\n",
      "[*********************100%***********************]  1 of 1 completeds]\n",
      "[*********************100%***********************]  1 of 1 completeds]\n",
      "\n",
      "1 Failed download:\n",
      "['AURUMSOFT.BO']: YFTzMissingError('possibly delisted; no timezone found')\n",
      "Processing Stocks:  50%|████▉     | 1454/2919 [17:50<23:43,  1.03it/s]"
     ]
    },
    {
     "name": "stdout",
     "output_type": "stream",
     "text": [
      "Error downloading data: No data found for AURUMSOFT.BO in the given date range.\n"
     ]
    },
    {
     "name": "stderr",
     "output_type": "stream",
     "text": [
      "[*********************100%***********************]  1 of 1 completed\n",
      "[*********************100%***********************]  1 of 1 completeds]\n",
      "\n",
      "1 Failed download:\n",
      "['SAINDUS.BO']: YFPricesMissingError('possibly delisted; no price data found  (1d 2012-01-01 -> 2025-01-01)')\n",
      "Processing Stocks:  50%|████▉     | 1456/2919 [17:50<15:14,  1.60it/s]"
     ]
    },
    {
     "name": "stdout",
     "output_type": "stream",
     "text": [
      "Error downloading data: No data found for SAINDUS.BO in the given date range.\n"
     ]
    },
    {
     "name": "stderr",
     "output_type": "stream",
     "text": [
      "[*********************100%***********************]  1 of 1 completed\n",
      "[*********************100%***********************]  1 of 1 completeds]\n",
      "\n",
      "1 Failed download:\n",
      "['JRFOODS.BO']: YFTzMissingError('possibly delisted; no timezone found')\n",
      "Processing Stocks:  50%|████▉     | 1458/2919 [17:52<19:17,  1.26it/s]"
     ]
    },
    {
     "name": "stdout",
     "output_type": "stream",
     "text": [
      "Error downloading data: No data found for JRFOODS.BO in the given date range.\n"
     ]
    },
    {
     "name": "stderr",
     "output_type": "stream",
     "text": [
      "[*********************100%***********************]  1 of 1 completed\n",
      "[*********************100%***********************]  1 of 1 completeds]\n",
      "[*********************100%***********************]  1 of 1 completeds]\n",
      "\n",
      "1 Failed download:\n",
      "['INTETHR.BO']: YFTzMissingError('possibly delisted; no timezone found')\n",
      "Processing Stocks:  50%|█████     | 1461/2919 [17:55<26:42,  1.10s/it]"
     ]
    },
    {
     "name": "stdout",
     "output_type": "stream",
     "text": [
      "Error downloading data: No data found for INTETHR.BO in the given date range.\n"
     ]
    },
    {
     "name": "stderr",
     "output_type": "stream",
     "text": [
      "[*********************100%***********************]  1 of 1 completed\n",
      "[*********************100%***********************]  1 of 1 completeds]\n",
      "[*********************100%***********************]  1 of 1 completeds]\n",
      "[*********************100%***********************]  1 of 1 completeds]\n",
      "\n",
      "1 Failed download:\n",
      "['SABTN.BO']: YFTzMissingError('possibly delisted; no timezone found')\n",
      "Processing Stocks:  50%|█████     | 1465/2919 [17:58<21:41,  1.12it/s]"
     ]
    },
    {
     "name": "stdout",
     "output_type": "stream",
     "text": [
      "Error downloading data: No data found for SABTN.BO in the given date range.\n"
     ]
    },
    {
     "name": "stderr",
     "output_type": "stream",
     "text": [
      "[*********************100%***********************]  1 of 1 completed\n",
      "\n",
      "1 Failed download:\n",
      "['MINDVISCAP.BO']: YFTzMissingError('possibly delisted; no timezone found')\n",
      "Processing Stocks:  50%|█████     | 1466/2919 [17:59<24:44,  1.02s/it]"
     ]
    },
    {
     "name": "stdout",
     "output_type": "stream",
     "text": [
      "Error downloading data: No data found for MINDVISCAP.BO in the given date range.\n"
     ]
    },
    {
     "name": "stderr",
     "output_type": "stream",
     "text": [
      "[*********************100%***********************]  1 of 1 completed\n",
      "[*********************100%***********************]  1 of 1 completeds]\n",
      "[*********************100%***********************]  1 of 1 completeds]\n",
      "\n",
      "1 Failed download:\n",
      "['NIMBUSI.BO']: YFTzMissingError('possibly delisted; no timezone found')\n",
      "Processing Stocks:  50%|█████     | 1469/2919 [18:02<22:46,  1.06it/s]"
     ]
    },
    {
     "name": "stdout",
     "output_type": "stream",
     "text": [
      "Error downloading data: No data found for NIMBUSI.BO in the given date range.\n"
     ]
    },
    {
     "name": "stderr",
     "output_type": "stream",
     "text": [
      "[*********************100%***********************]  1 of 1 completed\n",
      "[*********************100%***********************]  1 of 1 completeds]\n",
      "[*********************100%***********************]  1 of 1 completeds]\n",
      "[*********************100%***********************]  1 of 1 completeds]\n",
      "[*********************100%***********************]  1 of 1 completeds]\n",
      "[*********************100%***********************]  1 of 1 completeds]\n",
      "[*********************100%***********************]  1 of 1 completeds]\n",
      "\n",
      "1 Failed download:\n",
      "['BHATEXT.BO']: YFPricesMissingError('possibly delisted; no price data found  (1d 2012-01-01 -> 2025-01-01)')\n",
      "Processing Stocks:  51%|█████     | 1476/2919 [18:05<10:10,  2.36it/s]"
     ]
    },
    {
     "name": "stdout",
     "output_type": "stream",
     "text": [
      "Error downloading data: No data found for BHATEXT.BO in the given date range.\n"
     ]
    },
    {
     "name": "stderr",
     "output_type": "stream",
     "text": [
      "[*********************100%***********************]  1 of 1 completed\n",
      "\n",
      "1 Failed download:\n",
      "['JRELTD.BO']: YFTzMissingError('possibly delisted; no timezone found')\n",
      "Processing Stocks:  51%|█████     | 1477/2919 [18:06<19:18,  1.24it/s]"
     ]
    },
    {
     "name": "stdout",
     "output_type": "stream",
     "text": [
      "Error downloading data: No data found for JRELTD.BO in the given date range.\n"
     ]
    },
    {
     "name": "stderr",
     "output_type": "stream",
     "text": [
      "[*********************100%***********************]  1 of 1 completed\n",
      "[*********************100%***********************]  1 of 1 completeds]\n",
      "[*********************100%***********************]  1 of 1 completeds]\n",
      "\n",
      "1 Failed download:\n",
      "['GFLFIN.BO']: YFTzMissingError('possibly delisted; no timezone found')\n",
      "Processing Stocks:  51%|█████     | 1480/2919 [18:09<25:17,  1.05s/it]"
     ]
    },
    {
     "name": "stdout",
     "output_type": "stream",
     "text": [
      "Error downloading data: No data found for GFLFIN.BO in the given date range.\n"
     ]
    },
    {
     "name": "stderr",
     "output_type": "stream",
     "text": [
      "[*********************100%***********************]  1 of 1 completed\n",
      "[*********************100%***********************]  1 of 1 completeds]\n",
      "[*********************100%***********************]  1 of 1 completeds]\n",
      "[*********************100%***********************]  1 of 1 completeds]\n",
      "[*********************100%***********************]  1 of 1 completeds]\n",
      "\n",
      "1 Failed download:\n",
      "['OMMETALS.BO']: YFTzMissingError('possibly delisted; no timezone found')\n",
      "Processing Stocks:  51%|█████     | 1485/2919 [18:12<21:10,  1.13it/s]"
     ]
    },
    {
     "name": "stdout",
     "output_type": "stream",
     "text": [
      "Error downloading data: No data found for OMMETALS.BO in the given date range.\n"
     ]
    },
    {
     "name": "stderr",
     "output_type": "stream",
     "text": [
      "[*********************100%***********************]  1 of 1 completed\n",
      "\n",
      "1 Failed download:\n",
      "['RUBRAME.BO']: YFTzMissingError('possibly delisted; no timezone found')\n",
      "Processing Stocks:  51%|█████     | 1486/2919 [18:14<30:39,  1.28s/it]"
     ]
    },
    {
     "name": "stdout",
     "output_type": "stream",
     "text": [
      "Error downloading data: No data found for RUBRAME.BO in the given date range.\n"
     ]
    },
    {
     "name": "stderr",
     "output_type": "stream",
     "text": [
      "[*********************100%***********************]  1 of 1 completed\n",
      "\n",
      "1 Failed download:\n",
      "['SURANACORP.BO']: YFTzMissingError('possibly delisted; no timezone found')\n",
      "Processing Stocks:  51%|█████     | 1487/2919 [18:16<31:15,  1.31s/it]"
     ]
    },
    {
     "name": "stdout",
     "output_type": "stream",
     "text": [
      "Error downloading data: No data found for SURANACORP.BO in the given date range.\n"
     ]
    },
    {
     "name": "stderr",
     "output_type": "stream",
     "text": [
      "[*********************100%***********************]  1 of 1 completed\n",
      "[*********************100%***********************]  1 of 1 completeds]\n",
      "\n",
      "1 Failed download:\n",
      "['AMAZEENT.BO']: YFTzMissingError('possibly delisted; no timezone found')\n",
      "Processing Stocks:  51%|█████     | 1489/2919 [18:17<24:26,  1.03s/it]"
     ]
    },
    {
     "name": "stdout",
     "output_type": "stream",
     "text": [
      "Error downloading data: No data found for AMAZEENT.BO in the given date range.\n"
     ]
    },
    {
     "name": "stderr",
     "output_type": "stream",
     "text": [
      "[*********************100%***********************]  1 of 1 completed\n",
      "[*********************100%***********************]  1 of 1 completeds]\n",
      "[*********************100%***********************]  1 of 1 completeds]\n",
      "[*********************100%***********************]  1 of 1 completeds]\n",
      "[*********************100%***********************]  1 of 1 completeds]\n",
      "[*********************100%***********************]  1 of 1 completeds]\n",
      "\n",
      "1 Failed download:\n",
      "['SAUMYACAP.BO']: YFTzMissingError('possibly delisted; no timezone found')\n",
      "Processing Stocks:  51%|█████     | 1495/2919 [18:21<19:40,  1.21it/s]"
     ]
    },
    {
     "name": "stdout",
     "output_type": "stream",
     "text": [
      "Error downloading data: No data found for SAUMYACAP.BO in the given date range.\n"
     ]
    },
    {
     "name": "stderr",
     "output_type": "stream",
     "text": [
      "[*********************100%***********************]  1 of 1 completed\n",
      "[*********************100%***********************]  1 of 1 completeds]\n",
      "[*********************100%***********************]  1 of 1 completeds]\n",
      "\n",
      "1 Failed download:\n",
      "['LADIAMO.BO']: YFPricesMissingError('possibly delisted; no price data found  (1d 2012-01-01 -> 2025-01-01)')\n",
      "Processing Stocks:  51%|█████▏    | 1498/2919 [18:22<11:58,  1.98it/s]"
     ]
    },
    {
     "name": "stdout",
     "output_type": "stream",
     "text": [
      "Error downloading data: No data found for LADIAMO.BO in the given date range.\n"
     ]
    },
    {
     "name": "stderr",
     "output_type": "stream",
     "text": [
      "[*********************100%***********************]  1 of 1 completed\n",
      "[*********************100%***********************]  1 of 1 completeds]\n",
      "[*********************100%***********************]  1 of 1 completeds]\n",
      "\n",
      "1 Failed download:\n",
      "['MIDINFRA.BO']: YFTzMissingError('possibly delisted; no timezone found')\n",
      "Processing Stocks:  51%|█████▏    | 1501/2919 [18:24<16:12,  1.46it/s]"
     ]
    },
    {
     "name": "stdout",
     "output_type": "stream",
     "text": [
      "Error downloading data: No data found for MIDINFRA.BO in the given date range.\n"
     ]
    },
    {
     "name": "stderr",
     "output_type": "stream",
     "text": [
      "[*********************100%***********************]  1 of 1 completed\n",
      "\n",
      "1 Failed download:\n",
      "['DHANADACO.BO']: YFTzMissingError('possibly delisted; no timezone found')\n",
      "Processing Stocks:  51%|█████▏    | 1502/2919 [18:27<33:17,  1.41s/it]"
     ]
    },
    {
     "name": "stdout",
     "output_type": "stream",
     "text": [
      "Error downloading data: No data found for DHANADACO.BO in the given date range.\n"
     ]
    },
    {
     "name": "stderr",
     "output_type": "stream",
     "text": [
      "[*********************100%***********************]  1 of 1 completed\n",
      "\n",
      "1 Failed download:\n",
      "['BRANDREAL.BO']: YFTzMissingError('possibly delisted; no timezone found')\n",
      "Processing Stocks:  51%|█████▏    | 1503/2919 [18:29<35:45,  1.52s/it]"
     ]
    },
    {
     "name": "stdout",
     "output_type": "stream",
     "text": [
      "Error downloading data: No data found for BRANDREAL.BO in the given date range.\n"
     ]
    },
    {
     "name": "stderr",
     "output_type": "stream",
     "text": [
      "[*********************100%***********************]  1 of 1 completed\n",
      "[*********************100%***********************]  1 of 1 completedt]\n",
      "[*********************100%***********************]  1 of 1 completedt]\n",
      "[*********************100%***********************]  1 of 1 completedt]\n",
      "\n",
      "1 Failed download:\n",
      "['WELLNESS.BO']: YFTzMissingError('possibly delisted; no timezone found')\n",
      "Processing Stocks:  52%|█████▏    | 1507/2919 [18:33<30:51,  1.31s/it]"
     ]
    },
    {
     "name": "stdout",
     "output_type": "stream",
     "text": [
      "Error downloading data: No data found for WELLNESS.BO in the given date range.\n"
     ]
    },
    {
     "name": "stderr",
     "output_type": "stream",
     "text": [
      "[*********************100%***********************]  1 of 1 completed\n",
      "[*********************100%***********************]  1 of 1 completedt]\n",
      "[*********************100%***********************]  1 of 1 completeds]\n",
      "\n",
      "1 Failed download:\n",
      "['FRONTIER.BO']: YFTzMissingError('possibly delisted; no timezone found')\n",
      "Processing Stocks:  52%|█████▏    | 1510/2919 [18:36<23:32,  1.00s/it]"
     ]
    },
    {
     "name": "stdout",
     "output_type": "stream",
     "text": [
      "Error downloading data: No data found for FRONTIER.BO in the given date range.\n"
     ]
    },
    {
     "name": "stderr",
     "output_type": "stream",
     "text": [
      "[*********************100%***********************]  1 of 1 completed\n",
      "[*********************100%***********************]  1 of 1 completeds]\n",
      "\n",
      "1 Failed download:\n",
      "['VICTORYPP.BO']: YFTzMissingError('possibly delisted; no timezone found')\n",
      "Processing Stocks:  52%|█████▏    | 1512/2919 [18:38<24:18,  1.04s/it]"
     ]
    },
    {
     "name": "stdout",
     "output_type": "stream",
     "text": [
      "Error downloading data: No data found for VICTORYPP.BO in the given date range.\n"
     ]
    },
    {
     "name": "stderr",
     "output_type": "stream",
     "text": [
      "[*********************100%***********************]  1 of 1 completed\n",
      "[*********************100%***********************]  1 of 1 completeds]\n",
      "\n",
      "1 Failed download:\n",
      "['LINCPENQ.BO']: YFTzMissingError('possibly delisted; no timezone found')\n",
      "Processing Stocks:  52%|█████▏    | 1514/2919 [18:40<27:37,  1.18s/it]"
     ]
    },
    {
     "name": "stdout",
     "output_type": "stream",
     "text": [
      "Error downloading data: No data found for LINCPENQ.BO in the given date range.\n"
     ]
    },
    {
     "name": "stderr",
     "output_type": "stream",
     "text": [
      "[*********************100%***********************]  1 of 1 completed\n",
      "[*********************100%***********************]  1 of 1 completedt]\n",
      "[*********************100%***********************]  1 of 1 completeds]\n",
      "[*********************100%***********************]  1 of 1 completeds]\n",
      "[*********************100%***********************]  1 of 1 completeds]\n",
      "\n",
      "1 Failed download:\n",
      "['PROGRESV.BO']: YFTzMissingError('possibly delisted; no timezone found')\n",
      "Processing Stocks:  52%|█████▏    | 1519/2919 [18:43<21:41,  1.08it/s]"
     ]
    },
    {
     "name": "stdout",
     "output_type": "stream",
     "text": [
      "Error downloading data: No data found for PROGRESV.BO in the given date range.\n"
     ]
    },
    {
     "name": "stderr",
     "output_type": "stream",
     "text": [
      "[*********************100%***********************]  1 of 1 completed\n",
      "[*********************100%***********************]  1 of 1 completeds]\n",
      "[*********************100%***********************]  1 of 1 completeds]\n",
      "[*********************100%***********************]  1 of 1 completeds]\n",
      "[*********************100%***********************]  1 of 1 completeds]\n",
      "[*********************100%***********************]  1 of 1 completeds]\n",
      "[*********************100%***********************]  1 of 1 completeds]\n",
      "[*********************100%***********************]  1 of 1 completeds]\n",
      "[*********************100%***********************]  1 of 1 completeds]\n",
      "\n",
      "1 Failed download:\n",
      "['INTCAPM.BO']: YFTzMissingError('possibly delisted; no timezone found')\n",
      "Processing Stocks:  52%|█████▏    | 1528/2919 [18:48<20:25,  1.14it/s]"
     ]
    },
    {
     "name": "stdout",
     "output_type": "stream",
     "text": [
      "Error downloading data: No data found for INTCAPM.BO in the given date range.\n"
     ]
    },
    {
     "name": "stderr",
     "output_type": "stream",
     "text": [
      "[*********************100%***********************]  1 of 1 completed\n",
      "[*********************100%***********************]  1 of 1 completeds]\n",
      "[*********************100%***********************]  1 of 1 completeds]\n",
      "\n",
      "1 Failed download:\n",
      "['AUROCOK.BO']: YFTzMissingError('possibly delisted; no timezone found')\n",
      "Processing Stocks:  52%|█████▏    | 1531/2919 [18:51<22:53,  1.01it/s]"
     ]
    },
    {
     "name": "stdout",
     "output_type": "stream",
     "text": [
      "Error downloading data: No data found for AUROCOK.BO in the given date range.\n"
     ]
    },
    {
     "name": "stderr",
     "output_type": "stream",
     "text": [
      "[*********************100%***********************]  1 of 1 completed\n",
      "\n",
      "1 Failed download:\n",
      "['IRISMEDIA.BO']: YFTzMissingError('possibly delisted; no timezone found')\n",
      "Processing Stocks:  52%|█████▏    | 1532/2919 [18:52<25:01,  1.08s/it]"
     ]
    },
    {
     "name": "stdout",
     "output_type": "stream",
     "text": [
      "Error downloading data: No data found for IRISMEDIA.BO in the given date range.\n"
     ]
    },
    {
     "name": "stderr",
     "output_type": "stream",
     "text": [
      "[*********************100%***********************]  1 of 1 completed\n",
      "[*********************100%***********************]  1 of 1 completeds]\n",
      "\n",
      "1 Failed download:\n",
      "['JAIHINDPRO.BO']: YFTzMissingError('possibly delisted; no timezone found')\n",
      "Processing Stocks:  53%|█████▎    | 1534/2919 [18:54<22:53,  1.01it/s]"
     ]
    },
    {
     "name": "stdout",
     "output_type": "stream",
     "text": [
      "Error downloading data: No data found for JAIHINDPRO.BO in the given date range.\n"
     ]
    },
    {
     "name": "stderr",
     "output_type": "stream",
     "text": [
      "[*********************100%***********************]  1 of 1 completed\n",
      "[*********************100%***********************]  1 of 1 completeds]\n",
      "[*********************100%***********************]  1 of 1 completeds]\n",
      "[*********************100%***********************]  1 of 1 completeds]\n",
      "[*********************100%***********************]  1 of 1 completeds]\n",
      "\n",
      "1 Failed download:\n",
      "['MERMETL.BO']: YFTzMissingError('possibly delisted; no timezone found')\n",
      "Processing Stocks:  53%|█████▎    | 1539/2919 [18:57<24:40,  1.07s/it]"
     ]
    },
    {
     "name": "stdout",
     "output_type": "stream",
     "text": [
      "Error downloading data: No data found for MERMETL.BO in the given date range.\n"
     ]
    },
    {
     "name": "stderr",
     "output_type": "stream",
     "text": [
      "[*********************100%***********************]  1 of 1 completed\n",
      "[*********************100%***********************]  1 of 1 completeds]\n",
      "\n",
      "1 Failed download:\n",
      "['SPARCSYS.BO']: YFTzMissingError('possibly delisted; no timezone found')\n",
      "Processing Stocks:  53%|█████▎    | 1541/2919 [18:59<22:20,  1.03it/s]"
     ]
    },
    {
     "name": "stdout",
     "output_type": "stream",
     "text": [
      "Error downloading data: No data found for SPARCSYS.BO in the given date range.\n"
     ]
    },
    {
     "name": "stderr",
     "output_type": "stream",
     "text": [
      "[*********************100%***********************]  1 of 1 completed\n",
      "\n",
      "1 Failed download:\n",
      "['THEBYKE.BO']: YFTzMissingError('possibly delisted; no timezone found')\n",
      "Processing Stocks:  53%|█████▎    | 1542/2919 [19:01<28:01,  1.22s/it]"
     ]
    },
    {
     "name": "stdout",
     "output_type": "stream",
     "text": [
      "Error downloading data: No data found for THEBYKE.BO in the given date range.\n"
     ]
    },
    {
     "name": "stderr",
     "output_type": "stream",
     "text": [
      "[*********************100%***********************]  1 of 1 completed\n",
      "[*********************100%***********************]  1 of 1 completeds]\n",
      "[*********************100%***********************]  1 of 1 completeds]\n",
      "[*********************100%***********************]  1 of 1 completeds]\n",
      "\n",
      "1 Failed download:\n",
      "['ASFLORA.BO']: YFTzMissingError('possibly delisted; no timezone found')\n",
      "Processing Stocks:  53%|█████▎    | 1546/2919 [19:03<18:57,  1.21it/s]"
     ]
    },
    {
     "name": "stdout",
     "output_type": "stream",
     "text": [
      "Error downloading data: No data found for ASFLORA.BO in the given date range.\n"
     ]
    },
    {
     "name": "stderr",
     "output_type": "stream",
     "text": [
      "[*********************100%***********************]  1 of 1 completed\n",
      "[*********************100%***********************]  1 of 1 completeds]\n",
      "[*********************100%***********************]  1 of 1 completeds]\n",
      "[*********************100%***********************]  1 of 1 completeds]\n",
      "[*********************100%***********************]  1 of 1 completeds]\n",
      "[*********************100%***********************]  1 of 1 completeds]\n",
      "[*********************100%***********************]  1 of 1 completeds]\n",
      "[*********************100%***********************]  1 of 1 completeds]\n",
      "\n",
      "1 Failed download:\n",
      "['BMBMUMG.BO']: YFTzMissingError('possibly delisted; no timezone found')\n",
      "Processing Stocks:  53%|█████▎    | 1554/2919 [19:08<22:14,  1.02it/s]"
     ]
    },
    {
     "name": "stdout",
     "output_type": "stream",
     "text": [
      "Error downloading data: No data found for BMBMUMG.BO in the given date range.\n"
     ]
    },
    {
     "name": "stderr",
     "output_type": "stream",
     "text": [
      "[*********************100%***********************]  1 of 1 completed\n",
      "[*********************100%***********************]  1 of 1 completeds]\n",
      "[*********************100%***********************]  1 of 1 completeds]\n",
      "[*********************100%***********************]  1 of 1 completeds]\n",
      "[*********************100%***********************]  1 of 1 completeds]\n",
      "[*********************100%***********************]  1 of 1 completeds]\n",
      "[*********************100%***********************]  1 of 1 completeds]\n",
      "[*********************100%***********************]  1 of 1 completeds]\n",
      "\n",
      "1 Failed download:\n",
      "['SAFALSEC.BO']: YFTzMissingError('possibly delisted; no timezone found')\n",
      "Processing Stocks:  54%|█████▎    | 1562/2919 [19:12<16:13,  1.39it/s]"
     ]
    },
    {
     "name": "stdout",
     "output_type": "stream",
     "text": [
      "Error downloading data: No data found for SAFALSEC.BO in the given date range.\n"
     ]
    },
    {
     "name": "stderr",
     "output_type": "stream",
     "text": [
      "[*********************100%***********************]  1 of 1 completed\n",
      "[*********************100%***********************]  1 of 1 completeds]\n",
      "[*********************100%***********************]  1 of 1 completeds]\n",
      "[*********************100%***********************]  1 of 1 completeds]\n",
      "[*********************100%***********************]  1 of 1 completeds]\n",
      "\n",
      "1 Failed download:\n",
      "['GLOBAL.BO']: YFTzMissingError('possibly delisted; no timezone found')\n",
      "Processing Stocks:  54%|█████▎    | 1567/2919 [19:15<17:38,  1.28it/s]"
     ]
    },
    {
     "name": "stdout",
     "output_type": "stream",
     "text": [
      "Error downloading data: No data found for GLOBAL.BO in the given date range.\n"
     ]
    },
    {
     "name": "stderr",
     "output_type": "stream",
     "text": [
      "[*********************100%***********************]  1 of 1 completed\n",
      "[*********************100%***********************]  1 of 1 completeds]\n",
      "[*********************100%***********************]  1 of 1 completeds]\n",
      "[*********************100%***********************]  1 of 1 completeds]\n",
      "[*********************100%***********************]  1 of 1 completeds]\n",
      "[*********************100%***********************]  1 of 1 completeds]\n",
      "[*********************100%***********************]  1 of 1 completeds]\n",
      "[*********************100%***********************]  1 of 1 completeds]\n",
      "\n",
      "1 Failed download:\n",
      "['VIKASGRAN.BO']: ValueError('Length mismatch: Expected axis has 2 elements, new values have 1 elements')\n",
      "Processing Stocks:  54%|█████▍    | 1575/2919 [19:19<11:13,  1.99it/s]"
     ]
    },
    {
     "name": "stdout",
     "output_type": "stream",
     "text": [
      "Error downloading data: No data found for VIKASGRAN.BO in the given date range.\n"
     ]
    },
    {
     "name": "stderr",
     "output_type": "stream",
     "text": [
      "[*********************100%***********************]  1 of 1 completed\n",
      "\n",
      "1 Failed download:\n",
      "['ANKUSHFI.BO']: YFTzMissingError('possibly delisted; no timezone found')\n",
      "Processing Stocks:  54%|█████▍    | 1576/2919 [19:21<18:51,  1.19it/s]"
     ]
    },
    {
     "name": "stdout",
     "output_type": "stream",
     "text": [
      "Error downloading data: No data found for ANKUSHFI.BO in the given date range.\n"
     ]
    },
    {
     "name": "stderr",
     "output_type": "stream",
     "text": [
      "[*********************100%***********************]  1 of 1 completed\n",
      "[*********************100%***********************]  1 of 1 completeds]\n",
      "[*********************100%***********************]  1 of 1 completeds]\n",
      "[*********************100%***********************]  1 of 1 completeds]\n",
      "\n",
      "1 Failed download:\n",
      "['ECOM.BO']: YFTzMissingError('possibly delisted; no timezone found')\n",
      "Processing Stocks:  54%|█████▍    | 1580/2919 [19:24<20:23,  1.09it/s]"
     ]
    },
    {
     "name": "stdout",
     "output_type": "stream",
     "text": [
      "Error downloading data: No data found for ECOM.BO in the given date range.\n"
     ]
    },
    {
     "name": "stderr",
     "output_type": "stream",
     "text": [
      "[*********************100%***********************]  1 of 1 completed\n",
      "[*********************100%***********************]  1 of 1 completeds]\n",
      "[*********************100%***********************]  1 of 1 completeds]\n",
      "[*********************100%***********************]  1 of 1 completeds]\n",
      "[*********************100%***********************]  1 of 1 completeds]\n",
      "[*********************100%***********************]  1 of 1 completeds]\n",
      "[*********************100%***********************]  1 of 1 completeds]\n",
      "\n",
      "1 Failed download:\n",
      "['AMITSEC.BO']: YFTzMissingError('possibly delisted; no timezone found')\n",
      "Processing Stocks:  54%|█████▍    | 1587/2919 [19:29<22:45,  1.02s/it]"
     ]
    },
    {
     "name": "stdout",
     "output_type": "stream",
     "text": [
      "Error downloading data: No data found for AMITSEC.BO in the given date range.\n"
     ]
    },
    {
     "name": "stderr",
     "output_type": "stream",
     "text": [
      "[*********************100%***********************]  1 of 1 completed\n",
      "\n",
      "1 Failed download:\n",
      "['AROMAENT.BO']: YFTzMissingError('possibly delisted; no timezone found')\n",
      "Processing Stocks:  54%|█████▍    | 1588/2919 [19:30<26:36,  1.20s/it]"
     ]
    },
    {
     "name": "stdout",
     "output_type": "stream",
     "text": [
      "Error downloading data: No data found for AROMAENT.BO in the given date range.\n"
     ]
    },
    {
     "name": "stderr",
     "output_type": "stream",
     "text": [
      "[*********************100%***********************]  1 of 1 completed\n",
      "[*********************100%***********************]  1 of 1 completeds]\n",
      "[*********************100%***********************]  1 of 1 completeds]\n",
      "\n",
      "1 Failed download:\n",
      "['ALKADIA.BO']: YFTzMissingError('possibly delisted; no timezone found')\n",
      "Processing Stocks:  55%|█████▍    | 1591/2919 [19:33<21:25,  1.03it/s]"
     ]
    },
    {
     "name": "stdout",
     "output_type": "stream",
     "text": [
      "Error downloading data: No data found for ALKADIA.BO in the given date range.\n"
     ]
    },
    {
     "name": "stderr",
     "output_type": "stream",
     "text": [
      "[*********************100%***********************]  1 of 1 completed\n",
      "[*********************100%***********************]  1 of 1 completeds]\n",
      "\n",
      "1 Failed download:\n",
      "['BILPOWER.BO']: YFTzMissingError('possibly delisted; no timezone found')\n",
      "Processing Stocks:  55%|█████▍    | 1593/2919 [19:35<24:53,  1.13s/it]"
     ]
    },
    {
     "name": "stdout",
     "output_type": "stream",
     "text": [
      "Error downloading data: No data found for BILPOWER.BO in the given date range.\n"
     ]
    },
    {
     "name": "stderr",
     "output_type": "stream",
     "text": [
      "[*********************100%***********************]  1 of 1 completed\n",
      "[*********************100%***********************]  1 of 1 completeds]\n",
      "[*********************100%***********************]  1 of 1 completeds]\n",
      "[*********************100%***********************]  1 of 1 completeds]\n",
      "[*********************100%***********************]  1 of 1 completeds]\n",
      "[*********************100%***********************]  1 of 1 completeds]\n",
      "[*********************100%***********************]  1 of 1 completeds]\n",
      "\n",
      "1 Failed download:\n",
      "['KGNIND.BO']: YFTzMissingError('possibly delisted; no timezone found')\n",
      "Processing Stocks:  55%|█████▍    | 1600/2919 [19:38<15:20,  1.43it/s]"
     ]
    },
    {
     "name": "stdout",
     "output_type": "stream",
     "text": [
      "Error downloading data: No data found for KGNIND.BO in the given date range.\n"
     ]
    },
    {
     "name": "stderr",
     "output_type": "stream",
     "text": [
      "[*********************100%***********************]  1 of 1 completed\n",
      "[*********************100%***********************]  1 of 1 completeds]\n",
      "\n",
      "1 Failed download:\n",
      "['CENTERAC.BO']: YFTzMissingError('possibly delisted; no timezone found')\n",
      "Processing Stocks:  55%|█████▍    | 1602/2919 [19:41<21:32,  1.02it/s]"
     ]
    },
    {
     "name": "stdout",
     "output_type": "stream",
     "text": [
      "Error downloading data: No data found for CENTERAC.BO in the given date range.\n"
     ]
    },
    {
     "name": "stderr",
     "output_type": "stream",
     "text": [
      "[*********************100%***********************]  1 of 1 completed\n",
      "[*********************100%***********************]  1 of 1 completeds]\n",
      "[*********************100%***********************]  1 of 1 completeds]\n",
      "\n",
      "1 Failed download:\n",
      "['STERSPN.BO']: YFInvalidPeriodError(\"STERSPN.BO: Period 'max' is invalid, must be of the format 1d, 5d, etc.\")\n",
      "Processing Stocks:  55%|█████▍    | 1605/2919 [19:42<11:32,  1.90it/s]"
     ]
    },
    {
     "name": "stdout",
     "output_type": "stream",
     "text": [
      "Error downloading data: No data found for STERSPN.BO in the given date range.\n"
     ]
    },
    {
     "name": "stderr",
     "output_type": "stream",
     "text": [
      "[*********************100%***********************]  1 of 1 completed\n",
      "\n",
      "1 Failed download:\n",
      "['LINCOPH.BO']: YFTzMissingError('possibly delisted; no timezone found')\n",
      "Processing Stocks:  55%|█████▌    | 1606/2919 [19:43<20:20,  1.08it/s]"
     ]
    },
    {
     "name": "stdout",
     "output_type": "stream",
     "text": [
      "Error downloading data: No data found for LINCOPH.BO in the given date range.\n"
     ]
    },
    {
     "name": "stderr",
     "output_type": "stream",
     "text": [
      "[*********************100%***********************]  1 of 1 completed\n",
      "[*********************100%***********************]  1 of 1 completeds]\n",
      "\n",
      "1 Failed download:\n",
      "['SWORDNSH.BO']: YFTzMissingError('possibly delisted; no timezone found')\n",
      "Processing Stocks:  55%|█████▌    | 1608/2919 [19:45<21:50,  1.00it/s]"
     ]
    },
    {
     "name": "stdout",
     "output_type": "stream",
     "text": [
      "Error downloading data: No data found for SWORDNSH.BO in the given date range.\n"
     ]
    },
    {
     "name": "stderr",
     "output_type": "stream",
     "text": [
      "[*********************100%***********************]  1 of 1 completed\n",
      "[*********************100%***********************]  1 of 1 completeds]\n",
      "[*********************100%***********************]  1 of 1 completeds]\n",
      "\n",
      "1 Failed download:\n",
      "['MAHAVIRIND.BO']: YFTzMissingError('possibly delisted; no timezone found')\n",
      "Processing Stocks:  55%|█████▌    | 1611/2919 [19:48<23:15,  1.07s/it]"
     ]
    },
    {
     "name": "stdout",
     "output_type": "stream",
     "text": [
      "Error downloading data: No data found for MAHAVIRIND.BO in the given date range.\n"
     ]
    },
    {
     "name": "stderr",
     "output_type": "stream",
     "text": [
      "[*********************100%***********************]  1 of 1 completed\n",
      "[*********************100%***********************]  1 of 1 completeds]\n",
      "[*********************100%***********************]  1 of 1 completeds]\n",
      "[*********************100%***********************]  1 of 1 completeds]\n",
      "\n",
      "1 Failed download:\n",
      "['TRIJAL.BO']: YFTzMissingError('possibly delisted; no timezone found')\n",
      "Processing Stocks:  55%|█████▌    | 1615/2919 [19:51<19:59,  1.09it/s]"
     ]
    },
    {
     "name": "stdout",
     "output_type": "stream",
     "text": [
      "Error downloading data: No data found for TRIJAL.BO in the given date range.\n"
     ]
    },
    {
     "name": "stderr",
     "output_type": "stream",
     "text": [
      "[*********************100%***********************]  1 of 1 completed\n",
      "[*********************100%***********************]  1 of 1 completeds]\n",
      "[*********************100%***********************]  1 of 1 completeds]\n",
      "\n",
      "1 Failed download:\n",
      "['SHGOVTR.BO']: YFTzMissingError('possibly delisted; no timezone found')\n",
      "Processing Stocks:  55%|█████▌    | 1618/2919 [19:53<17:23,  1.25it/s]"
     ]
    },
    {
     "name": "stdout",
     "output_type": "stream",
     "text": [
      "Error downloading data: No data found for SHGOVTR.BO in the given date range.\n"
     ]
    },
    {
     "name": "stderr",
     "output_type": "stream",
     "text": [
      "[*********************100%***********************]  1 of 1 completed\n",
      "[*********************100%***********************]  1 of 1 completeds]\n",
      "[*********************100%***********************]  1 of 1 completeds]\n",
      "\n",
      "1 Failed download:\n",
      "['ARISINT.BO']: YFPricesMissingError('possibly delisted; no price data found  (1d 2012-01-01 -> 2025-01-01) (Yahoo error = \"Data doesn\\'t exist for startDate = 1325356200, endDate = 1735669800\")')\n",
      "Processing Stocks:  56%|█████▌    | 1621/2919 [19:55<19:43,  1.10it/s]"
     ]
    },
    {
     "name": "stdout",
     "output_type": "stream",
     "text": [
      "Error downloading data: No data found for ARISINT.BO in the given date range.\n"
     ]
    },
    {
     "name": "stderr",
     "output_type": "stream",
     "text": [
      "[*********************100%***********************]  1 of 1 completed\n",
      "\n",
      "1 Failed download:\n",
      "['MAYUR.BO']: YFTzMissingError('possibly delisted; no timezone found')\n",
      "Processing Stocks:  56%|█████▌    | 1622/2919 [19:56<23:13,  1.07s/it]"
     ]
    },
    {
     "name": "stdout",
     "output_type": "stream",
     "text": [
      "Error downloading data: No data found for MAYUR.BO in the given date range.\n"
     ]
    },
    {
     "name": "stderr",
     "output_type": "stream",
     "text": [
      "[*********************100%***********************]  1 of 1 completed\n",
      "\n",
      "1 Failed download:\n",
      "['AMARDEE.BO']: YFTzMissingError('possibly delisted; no timezone found')\n",
      "Processing Stocks:  56%|█████▌    | 1623/2919 [19:58<26:08,  1.21s/it]"
     ]
    },
    {
     "name": "stdout",
     "output_type": "stream",
     "text": [
      "Error downloading data: No data found for AMARDEE.BO in the given date range.\n"
     ]
    },
    {
     "name": "stderr",
     "output_type": "stream",
     "text": [
      "[*********************100%***********************]  1 of 1 completed\n",
      "\n",
      "1 Failed download:\n",
      "['CATECH.BO']: YFTzMissingError('possibly delisted; no timezone found')\n",
      "Processing Stocks:  56%|█████▌    | 1624/2919 [20:00<30:23,  1.41s/it]"
     ]
    },
    {
     "name": "stdout",
     "output_type": "stream",
     "text": [
      "Error downloading data: No data found for CATECH.BO in the given date range.\n"
     ]
    },
    {
     "name": "stderr",
     "output_type": "stream",
     "text": [
      "[*********************100%***********************]  1 of 1 completed\n",
      "[*********************100%***********************]  1 of 1 completedt]\n",
      "[*********************100%***********************]  1 of 1 completeds]\n",
      "\n",
      "1 Failed download:\n",
      "['SUPRDOM.BO']: YFTzMissingError('possibly delisted; no timezone found')\n",
      "Processing Stocks:  56%|█████▌    | 1627/2919 [20:02<22:50,  1.06s/it]"
     ]
    },
    {
     "name": "stdout",
     "output_type": "stream",
     "text": [
      "Error downloading data: No data found for SUPRDOM.BO in the given date range.\n"
     ]
    },
    {
     "name": "stderr",
     "output_type": "stream",
     "text": [
      "[*********************100%***********************]  1 of 1 completed\n",
      "\n",
      "1 Failed download:\n",
      "['TRILOGIC.BO']: YFTzMissingError('possibly delisted; no timezone found')\n",
      "Processing Stocks:  56%|█████▌    | 1628/2919 [20:04<27:07,  1.26s/it]"
     ]
    },
    {
     "name": "stdout",
     "output_type": "stream",
     "text": [
      "Error downloading data: No data found for TRILOGIC.BO in the given date range.\n"
     ]
    },
    {
     "name": "stderr",
     "output_type": "stream",
     "text": [
      "[*********************100%***********************]  1 of 1 completed\n",
      "\n",
      "1 Failed download:\n",
      "['BLUCHIP.BO']: YFTzMissingError('possibly delisted; no timezone found')\n",
      "Processing Stocks:  56%|█████▌    | 1629/2919 [20:05<27:09,  1.26s/it]"
     ]
    },
    {
     "name": "stdout",
     "output_type": "stream",
     "text": [
      "Error downloading data: No data found for BLUCHIP.BO in the given date range.\n"
     ]
    },
    {
     "name": "stderr",
     "output_type": "stream",
     "text": [
      "[*********************100%***********************]  1 of 1 completed\n",
      "[*********************100%***********************]  1 of 1 completeds]\n",
      "[*********************100%***********************]  1 of 1 completeds]\n",
      "\n",
      "1 Failed download:\n",
      "['STAMPEDE.BO']: YFTzMissingError('possibly delisted; no timezone found')\n",
      "Processing Stocks:  56%|█████▌    | 1632/2919 [20:07<22:28,  1.05s/it]"
     ]
    },
    {
     "name": "stdout",
     "output_type": "stream",
     "text": [
      "Error downloading data: No data found for STAMPEDE.BO in the given date range.\n"
     ]
    },
    {
     "name": "stderr",
     "output_type": "stream",
     "text": [
      "[*********************100%***********************]  1 of 1 completed\n",
      "\n",
      "1 Failed download:\n",
      "['HRBFLOR.BO']: YFTzMissingError('possibly delisted; no timezone found')\n",
      "Processing Stocks:  56%|█████▌    | 1633/2919 [20:09<24:29,  1.14s/it]"
     ]
    },
    {
     "name": "stdout",
     "output_type": "stream",
     "text": [
      "Error downloading data: No data found for HRBFLOR.BO in the given date range.\n"
     ]
    },
    {
     "name": "stderr",
     "output_type": "stream",
     "text": [
      "[*********************100%***********************]  1 of 1 completed\n",
      "[*********************100%***********************]  1 of 1 completeds]\n",
      "[*********************100%***********************]  1 of 1 completeds]\n",
      "[*********************100%***********************]  1 of 1 completeds]\n",
      "[*********************100%***********************]  1 of 1 completeds]\n",
      "[*********************100%***********************]  1 of 1 completeds]\n",
      "\n",
      "1 Failed download:\n",
      "['AMULEAS.BO']: YFPricesMissingError('possibly delisted; no price data found  (1d 2012-01-01 -> 2025-01-01)')\n",
      "Processing Stocks:  56%|█████▌    | 1639/2919 [20:11<09:13,  2.31it/s]"
     ]
    },
    {
     "name": "stdout",
     "output_type": "stream",
     "text": [
      "Error downloading data: No data found for AMULEAS.BO in the given date range.\n"
     ]
    },
    {
     "name": "stderr",
     "output_type": "stream",
     "text": [
      "[*********************100%***********************]  1 of 1 completed\n",
      "[*********************100%***********************]  1 of 1 completeds]\n",
      "[*********************100%***********************]  1 of 1 completeds]\n",
      "[*********************100%***********************]  1 of 1 completeds]\n",
      "\n",
      "1 Failed download:\n",
      "['TOWASOK.BO']: YFTzMissingError('possibly delisted; no timezone found')\n",
      "Processing Stocks:  56%|█████▋    | 1643/2919 [20:14<18:21,  1.16it/s]"
     ]
    },
    {
     "name": "stdout",
     "output_type": "stream",
     "text": [
      "Error downloading data: No data found for TOWASOK.BO in the given date range.\n"
     ]
    },
    {
     "name": "stderr",
     "output_type": "stream",
     "text": [
      "[*********************100%***********************]  1 of 1 completed\n",
      "[*********************100%***********************]  1 of 1 completeds]\n",
      "[*********************100%***********************]  1 of 1 completeds]\n",
      "\n",
      "1 Failed download:\n",
      "['SAPANCHEM.BO']: YFTzMissingError('possibly delisted; no timezone found')\n",
      "Processing Stocks:  56%|█████▋    | 1646/2919 [20:16<18:35,  1.14it/s]"
     ]
    },
    {
     "name": "stdout",
     "output_type": "stream",
     "text": [
      "Error downloading data: No data found for SAPANCHEM.BO in the given date range.\n"
     ]
    },
    {
     "name": "stderr",
     "output_type": "stream",
     "text": [
      "[*********************100%***********************]  1 of 1 completed\n",
      "[*********************100%***********************]  1 of 1 completeds]\n",
      "[*********************100%***********************]  1 of 1 completeds]\n",
      "[*********************100%***********************]  1 of 1 completeds]\n",
      "[*********************100%***********************]  1 of 1 completeds]\n",
      "\n",
      "1 Failed download:\n",
      "['PANORAMUNI.BO']: YFTzMissingError('possibly delisted; no timezone found')\n",
      "Processing Stocks:  57%|█████▋    | 1651/2919 [20:19<18:46,  1.13it/s]"
     ]
    },
    {
     "name": "stdout",
     "output_type": "stream",
     "text": [
      "Error downloading data: No data found for PANORAMUNI.BO in the given date range.\n"
     ]
    },
    {
     "name": "stderr",
     "output_type": "stream",
     "text": [
      "[*********************100%***********************]  1 of 1 completed\n",
      "\n",
      "1 Failed download:\n",
      "['NUWAY.BO']: YFTzMissingError('possibly delisted; no timezone found')\n",
      "Processing Stocks:  57%|█████▋    | 1652/2919 [20:21<22:08,  1.05s/it]"
     ]
    },
    {
     "name": "stdout",
     "output_type": "stream",
     "text": [
      "Error downloading data: No data found for NUWAY.BO in the given date range.\n"
     ]
    },
    {
     "name": "stderr",
     "output_type": "stream",
     "text": [
      "[*********************100%***********************]  1 of 1 completed\n",
      "\n",
      "1 Failed download:\n",
      "['RCCEMEN.BO']: YFTzMissingError('possibly delisted; no timezone found')\n",
      "Processing Stocks:  57%|█████▋    | 1653/2919 [20:22<26:02,  1.23s/it]"
     ]
    },
    {
     "name": "stdout",
     "output_type": "stream",
     "text": [
      "Error downloading data: No data found for RCCEMEN.BO in the given date range.\n"
     ]
    },
    {
     "name": "stderr",
     "output_type": "stream",
     "text": [
      "[*********************100%***********************]  1 of 1 completed\n",
      "\n",
      "1 Failed download:\n",
      "['TODAYS.BO']: YFTzMissingError('possibly delisted; no timezone found')\n",
      "Processing Stocks:  57%|█████▋    | 1654/2919 [20:24<29:01,  1.38s/it]"
     ]
    },
    {
     "name": "stdout",
     "output_type": "stream",
     "text": [
      "Error downloading data: No data found for TODAYS.BO in the given date range.\n"
     ]
    },
    {
     "name": "stderr",
     "output_type": "stream",
     "text": [
      "[*********************100%***********************]  1 of 1 completed\n",
      "[*********************100%***********************]  1 of 1 completedt]\n",
      "[*********************100%***********************]  1 of 1 completeds]\n",
      "\n",
      "1 Failed download:\n",
      "['FUNWTRD.BO']: YFPricesMissingError('possibly delisted; no price data found  (1d 2012-01-01 -> 2025-01-01)')\n",
      "Processing Stocks:  57%|█████▋    | 1657/2919 [20:25<13:51,  1.52it/s]"
     ]
    },
    {
     "name": "stdout",
     "output_type": "stream",
     "text": [
      "Error downloading data: No data found for FUNWTRD.BO in the given date range.\n"
     ]
    },
    {
     "name": "stderr",
     "output_type": "stream",
     "text": [
      "[*********************100%***********************]  1 of 1 completed\n",
      "[*********************100%***********************]  1 of 1 completeds]\n",
      "[*********************100%***********************]  1 of 1 completeds]\n",
      "\n",
      "1 Failed download:\n",
      "['PIONDIST.BO']: YFTzMissingError('possibly delisted; no timezone found')\n",
      "Processing Stocks:  57%|█████▋    | 1660/2919 [20:27<14:17,  1.47it/s]"
     ]
    },
    {
     "name": "stdout",
     "output_type": "stream",
     "text": [
      "Error downloading data: No data found for PIONDIST.BO in the given date range.\n"
     ]
    },
    {
     "name": "stderr",
     "output_type": "stream",
     "text": [
      "[*********************100%***********************]  1 of 1 completed\n",
      "\n",
      "1 Failed download:\n",
      "['GMETCOAL.BO']: YFTzMissingError('possibly delisted; no timezone found')\n",
      "Processing Stocks:  57%|█████▋    | 1661/2919 [20:28<18:34,  1.13it/s]"
     ]
    },
    {
     "name": "stdout",
     "output_type": "stream",
     "text": [
      "Error downloading data: No data found for GMETCOAL.BO in the given date range.\n"
     ]
    },
    {
     "name": "stderr",
     "output_type": "stream",
     "text": [
      "[*********************100%***********************]  1 of 1 completed\n",
      "\n",
      "1 Failed download:\n",
      "['KWALITY.BO']: YFTzMissingError('possibly delisted; no timezone found')\n",
      "Processing Stocks:  57%|█████▋    | 1662/2919 [20:29<20:18,  1.03it/s]"
     ]
    },
    {
     "name": "stdout",
     "output_type": "stream",
     "text": [
      "Error downloading data: No data found for KWALITY.BO in the given date range.\n"
     ]
    },
    {
     "name": "stderr",
     "output_type": "stream",
     "text": [
      "[*********************100%***********************]  1 of 1 completed\n",
      "\n",
      "1 Failed download:\n",
      "['SVAINDIA.BO']: YFTzMissingError('possibly delisted; no timezone found')\n",
      "Processing Stocks:  57%|█████▋    | 1663/2919 [20:31<24:57,  1.19s/it]"
     ]
    },
    {
     "name": "stdout",
     "output_type": "stream",
     "text": [
      "Error downloading data: No data found for SVAINDIA.BO in the given date range.\n"
     ]
    },
    {
     "name": "stderr",
     "output_type": "stream",
     "text": [
      "[*********************100%***********************]  1 of 1 completed\n",
      "[*********************100%***********************]  1 of 1 completeds]\n",
      "[*********************100%***********************]  1 of 1 completeds]\n",
      "[*********************100%***********************]  1 of 1 completeds]\n",
      "\n",
      "1 Failed download:\n",
      "['SWAGRUHA.BO']: YFTzMissingError('possibly delisted; no timezone found')\n",
      "Processing Stocks:  57%|█████▋    | 1667/2919 [20:34<20:43,  1.01it/s]"
     ]
    },
    {
     "name": "stdout",
     "output_type": "stream",
     "text": [
      "Error downloading data: No data found for SWAGRUHA.BO in the given date range.\n"
     ]
    },
    {
     "name": "stderr",
     "output_type": "stream",
     "text": [
      "[*********************100%***********************]  1 of 1 completed\n",
      "\n",
      "1 Failed download:\n",
      "['TOHELPH.BO']: YFTzMissingError('possibly delisted; no timezone found')\n",
      "Processing Stocks:  57%|█████▋    | 1668/2919 [20:35<22:45,  1.09s/it]"
     ]
    },
    {
     "name": "stdout",
     "output_type": "stream",
     "text": [
      "Error downloading data: No data found for TOHELPH.BO in the given date range.\n"
     ]
    },
    {
     "name": "stderr",
     "output_type": "stream",
     "text": [
      "[*********************100%***********************]  1 of 1 completed\n",
      "[*********************100%***********************]  1 of 1 completeds]\n",
      "[*********************100%***********************]  1 of 1 completeds]\n",
      "\n",
      "1 Failed download:\n",
      "['TWINSTAR.BO']: YFTzMissingError('possibly delisted; no timezone found')\n",
      "Processing Stocks:  57%|█████▋    | 1671/2919 [20:37<17:53,  1.16it/s]"
     ]
    },
    {
     "name": "stdout",
     "output_type": "stream",
     "text": [
      "Error downloading data: No data found for TWINSTAR.BO in the given date range.\n"
     ]
    },
    {
     "name": "stderr",
     "output_type": "stream",
     "text": [
      "[*********************100%***********************]  1 of 1 completed\n",
      "[*********************100%***********************]  1 of 1 completeds]\n",
      "[*********************100%***********************]  1 of 1 completeds]\n",
      "[*********************100%***********************]  1 of 1 completeds]\n",
      "[*********************100%***********************]  1 of 1 completeds]\n",
      "[*********************100%***********************]  1 of 1 completeds]\n",
      "\n",
      "1 Failed download:\n",
      "['SUPREMETEX.BO']: YFTzMissingError('possibly delisted; no timezone found')\n",
      "Processing Stocks:  57%|█████▋    | 1677/2919 [20:40<14:07,  1.47it/s]"
     ]
    },
    {
     "name": "stdout",
     "output_type": "stream",
     "text": [
      "Error downloading data: No data found for SUPREMETEX.BO in the given date range.\n"
     ]
    },
    {
     "name": "stderr",
     "output_type": "stream",
     "text": [
      "[*********************100%***********************]  1 of 1 completed\n",
      "\n",
      "1 Failed download:\n",
      "['SERVOTEC.BO']: YFPricesMissingError('possibly delisted; no price data found  (1d 2012-01-01 -> 2025-01-01)')\n",
      "Processing Stocks:  57%|█████▋    | 1678/2919 [20:40<11:32,  1.79it/s]"
     ]
    },
    {
     "name": "stdout",
     "output_type": "stream",
     "text": [
      "Error downloading data: No data found for SERVOTEC.BO in the given date range.\n"
     ]
    },
    {
     "name": "stderr",
     "output_type": "stream",
     "text": [
      "[*********************100%***********************]  1 of 1 completed\n",
      "[*********************100%***********************]  1 of 1 completeds]\n",
      "\n",
      "1 Failed download:\n",
      "['UNICRSE.BO']: YFTzMissingError('possibly delisted; no timezone found')\n",
      "Processing Stocks:  58%|█████▊    | 1680/2919 [20:42<14:00,  1.47it/s]"
     ]
    },
    {
     "name": "stdout",
     "output_type": "stream",
     "text": [
      "Error downloading data: No data found for UNICRSE.BO in the given date range.\n"
     ]
    },
    {
     "name": "stderr",
     "output_type": "stream",
     "text": [
      "[*********************100%***********************]  1 of 1 completed\n",
      "[*********************100%***********************]  1 of 1 completeds]\n",
      "\n",
      "1 Failed download:\n",
      "['HARIGOV.BO']: YFPricesMissingError('possibly delisted; no price data found  (1d 2012-01-01 -> 2025-01-01)')\n",
      "Processing Stocks:  58%|█████▊    | 1682/2919 [20:42<09:25,  2.19it/s]"
     ]
    },
    {
     "name": "stdout",
     "output_type": "stream",
     "text": [
      "Error downloading data: No data found for HARIGOV.BO in the given date range.\n"
     ]
    },
    {
     "name": "stderr",
     "output_type": "stream",
     "text": [
      "[*********************100%***********************]  1 of 1 completed\n",
      "[*********************100%***********************]  1 of 1 completeds]\n",
      "[*********************100%***********************]  1 of 1 completeds]\n",
      "[*********************100%***********************]  1 of 1 completeds]\n",
      "[*********************100%***********************]  1 of 1 completeds]\n",
      "[*********************100%***********************]  1 of 1 completeds]\n",
      "[*********************100%***********************]  1 of 1 completeds]\n",
      "[*********************100%***********************]  1 of 1 completeds]\n",
      "[*********************100%***********************]  1 of 1 completeds]\n",
      "\n",
      "1 Failed download:\n",
      "['WELLESLEY.BO']: YFTzMissingError('possibly delisted; no timezone found')\n",
      "Processing Stocks:  58%|█████▊    | 1691/2919 [20:47<17:13,  1.19it/s]"
     ]
    },
    {
     "name": "stdout",
     "output_type": "stream",
     "text": [
      "Error downloading data: No data found for WELLESLEY.BO in the given date range.\n"
     ]
    },
    {
     "name": "stderr",
     "output_type": "stream",
     "text": [
      "[*********************100%***********************]  1 of 1 completed\n",
      "\n",
      "1 Failed download:\n",
      "['SENBO.BO']: YFTzMissingError('possibly delisted; no timezone found')\n",
      "Processing Stocks:  58%|█████▊    | 1692/2919 [20:48<22:10,  1.08s/it]"
     ]
    },
    {
     "name": "stdout",
     "output_type": "stream",
     "text": [
      "Error downloading data: No data found for SENBO.BO in the given date range.\n"
     ]
    },
    {
     "name": "stderr",
     "output_type": "stream",
     "text": [
      "[*********************100%***********************]  1 of 1 completed\n",
      "\n",
      "1 Failed download:\n",
      "['RBGUPTA.BO']: YFTzMissingError('possibly delisted; no timezone found')\n",
      "Processing Stocks:  58%|█████▊    | 1693/2919 [20:50<28:07,  1.38s/it]"
     ]
    },
    {
     "name": "stdout",
     "output_type": "stream",
     "text": [
      "Error downloading data: No data found for RBGUPTA.BO in the given date range.\n"
     ]
    },
    {
     "name": "stderr",
     "output_type": "stream",
     "text": [
      "[*********************100%***********************]  1 of 1 completed\n",
      "[*********************100%***********************]  1 of 1 completedt]\n",
      "[*********************100%***********************]  1 of 1 completeds]\n",
      "\n",
      "1 Failed download:\n",
      "['SAFALHBS.BO']: YFTzMissingError('possibly delisted; no timezone found')\n",
      "Processing Stocks:  58%|█████▊    | 1696/2919 [20:53<22:36,  1.11s/it]"
     ]
    },
    {
     "name": "stdout",
     "output_type": "stream",
     "text": [
      "Error downloading data: No data found for SAFALHBS.BO in the given date range.\n"
     ]
    },
    {
     "name": "stderr",
     "output_type": "stream",
     "text": [
      "[*********************100%***********************]  1 of 1 completed\n",
      "[*********************100%***********************]  1 of 1 completeds]\n",
      "[*********************100%***********************]  1 of 1 completeds]\n",
      "[*********************100%***********************]  1 of 1 completeds]\n",
      "[*********************100%***********************]  1 of 1 completeds]\n",
      "[*********************100%***********************]  1 of 1 completeds]\n",
      "[*********************100%***********************]  1 of 1 completeds]\n",
      "[*********************100%***********************]  1 of 1 completeds]\n",
      "\n",
      "1 Failed download:\n",
      "['SHKALYN.BO']: YFTzMissingError('possibly delisted; no timezone found')\n",
      "Processing Stocks:  58%|█████▊    | 1704/2919 [20:57<14:45,  1.37it/s]"
     ]
    },
    {
     "name": "stdout",
     "output_type": "stream",
     "text": [
      "Error downloading data: No data found for SHKALYN.BO in the given date range.\n"
     ]
    },
    {
     "name": "stderr",
     "output_type": "stream",
     "text": [
      "[*********************100%***********************]  1 of 1 completed\n",
      "[*********************100%***********************]  1 of 1 completeds]\n",
      "\n",
      "1 Failed download:\n",
      "['MUKANDENGG.BO']: YFTzMissingError('possibly delisted; no timezone found')\n",
      "Processing Stocks:  58%|█████▊    | 1706/2919 [20:59<18:08,  1.11it/s]"
     ]
    },
    {
     "name": "stdout",
     "output_type": "stream",
     "text": [
      "Error downloading data: No data found for MUKANDENGG.BO in the given date range.\n"
     ]
    },
    {
     "name": "stderr",
     "output_type": "stream",
     "text": [
      "[*********************100%***********************]  1 of 1 completed\n",
      "[*********************100%***********************]  1 of 1 completeds]\n",
      "[*********************100%***********************]  1 of 1 completeds]\n",
      "\n",
      "1 Failed download:\n",
      "['AREALTY.BO']: YFTzMissingError('possibly delisted; no timezone found')\n",
      "Processing Stocks:  59%|█████▊    | 1709/2919 [21:01<22:27,  1.11s/it]"
     ]
    },
    {
     "name": "stdout",
     "output_type": "stream",
     "text": [
      "Error downloading data: No data found for AREALTY.BO in the given date range.\n"
     ]
    },
    {
     "name": "stderr",
     "output_type": "stream",
     "text": [
      "[*********************100%***********************]  1 of 1 completed\n",
      "\n",
      "1 Failed download:\n",
      "['DENABANK.BO']: YFTzMissingError('possibly delisted; no timezone found')\n",
      "Processing Stocks:  59%|█████▊    | 1710/2919 [21:03<24:55,  1.24s/it]"
     ]
    },
    {
     "name": "stdout",
     "output_type": "stream",
     "text": [
      "Error downloading data: No data found for DENABANK.BO in the given date range.\n"
     ]
    },
    {
     "name": "stderr",
     "output_type": "stream",
     "text": [
      "[*********************100%***********************]  1 of 1 completed\n",
      "\n",
      "1 Failed download:\n",
      "['BSELINFRA.BO']: YFTzMissingError('possibly delisted; no timezone found')\n",
      "Processing Stocks:  59%|█████▊    | 1711/2919 [21:04<25:44,  1.28s/it]"
     ]
    },
    {
     "name": "stdout",
     "output_type": "stream",
     "text": [
      "Error downloading data: No data found for BSELINFRA.BO in the given date range.\n"
     ]
    },
    {
     "name": "stderr",
     "output_type": "stream",
     "text": [
      "[*********************100%***********************]  1 of 1 completed\n",
      "\n",
      "1 Failed download:\n",
      "['HEXAWARE.BO']: YFTzMissingError('possibly delisted; no timezone found')\n",
      "Processing Stocks:  59%|█████▊    | 1712/2919 [21:06<26:32,  1.32s/it]"
     ]
    },
    {
     "name": "stdout",
     "output_type": "stream",
     "text": [
      "Error downloading data: No data found for HEXAWARE.BO in the given date range.\n"
     ]
    },
    {
     "name": "stderr",
     "output_type": "stream",
     "text": [
      "[*********************100%***********************]  1 of 1 completed\n",
      "[*********************100%***********************]  1 of 1 completedt]\n",
      "\n",
      "1 Failed download:\n",
      "['ANDHRACEMT.BO']: YFTzMissingError('possibly delisted; no timezone found')\n",
      "Processing Stocks:  59%|█████▊    | 1714/2919 [21:08<24:53,  1.24s/it]"
     ]
    },
    {
     "name": "stdout",
     "output_type": "stream",
     "text": [
      "Error downloading data: No data found for ANDHRACEMT.BO in the given date range.\n"
     ]
    },
    {
     "name": "stderr",
     "output_type": "stream",
     "text": [
      "[*********************100%***********************]  1 of 1 completed\n",
      "[*********************100%***********************]  1 of 1 completedt]\n",
      "[*********************100%***********************]  1 of 1 completeds]\n",
      "[*********************100%***********************]  1 of 1 completeds]\n",
      "[*********************100%***********************]  1 of 1 completeds]\n",
      "\n",
      "1 Failed download:\n",
      "['SUNSHINE.BO']: YFTzMissingError('possibly delisted; no timezone found')\n",
      "Processing Stocks:  59%|█████▉    | 1719/2919 [21:12<19:26,  1.03it/s]"
     ]
    },
    {
     "name": "stdout",
     "output_type": "stream",
     "text": [
      "Error downloading data: No data found for SUNSHINE.BO in the given date range.\n"
     ]
    },
    {
     "name": "stderr",
     "output_type": "stream",
     "text": [
      "[*********************100%***********************]  1 of 1 completed\n",
      "[*********************100%***********************]  1 of 1 completeds]\n",
      "[*********************100%***********************]  1 of 1 completeds]\n",
      "[*********************100%***********************]  1 of 1 completeds]\n",
      "[*********************100%***********************]  1 of 1 completeds]\n",
      "\n",
      "1 Failed download:\n",
      "['ALKASEC.BO']: YFTzMissingError('possibly delisted; no timezone found')\n",
      "Processing Stocks:  59%|█████▉    | 1724/2919 [21:16<17:49,  1.12it/s]"
     ]
    },
    {
     "name": "stdout",
     "output_type": "stream",
     "text": [
      "Error downloading data: No data found for ALKASEC.BO in the given date range.\n"
     ]
    },
    {
     "name": "stderr",
     "output_type": "stream",
     "text": [
      "[*********************100%***********************]  1 of 1 completed\n",
      "[*********************100%***********************]  1 of 1 completeds]\n",
      "\n",
      "1 Failed download:\n",
      "['SPHEREGSL.BO']: ValueError('Length mismatch: Expected axis has 2 elements, new values have 1 elements')\n",
      "Processing Stocks:  59%|█████▉    | 1726/2919 [21:17<13:58,  1.42it/s]"
     ]
    },
    {
     "name": "stdout",
     "output_type": "stream",
     "text": [
      "Error downloading data: No data found for SPHEREGSL.BO in the given date range.\n"
     ]
    },
    {
     "name": "stderr",
     "output_type": "stream",
     "text": [
      "[*********************100%***********************]  1 of 1 completed\n",
      "[*********************100%***********************]  1 of 1 completeds]\n",
      "[*********************100%***********************]  1 of 1 completeds]\n",
      "[*********************100%***********************]  1 of 1 completeds]\n",
      "[*********************100%***********************]  1 of 1 completeds]\n",
      "\n",
      "1 Failed download:\n",
      "['CORPBANK.BO']: YFTzMissingError('possibly delisted; no timezone found')\n",
      "Processing Stocks:  59%|█████▉    | 1731/2919 [21:21<18:11,  1.09it/s]"
     ]
    },
    {
     "name": "stdout",
     "output_type": "stream",
     "text": [
      "Error downloading data: No data found for CORPBANK.BO in the given date range.\n"
     ]
    },
    {
     "name": "stderr",
     "output_type": "stream",
     "text": [
      "[*********************100%***********************]  1 of 1 completed\n",
      "[*********************100%***********************]  1 of 1 completeds]\n",
      "[*********************100%***********************]  1 of 1 completeds]\n",
      "[*********************100%***********************]  1 of 1 completeds]\n",
      "[*********************100%***********************]  1 of 1 completeds]\n",
      "[*********************100%***********************]  1 of 1 completeds]\n",
      "\n",
      "1 Failed download:\n",
      "['J&AMP;KBANK.BO']: YFTzMissingError('possibly delisted; no timezone found')\n",
      "Processing Stocks:  60%|█████▉    | 1737/2919 [21:25<18:30,  1.06it/s]"
     ]
    },
    {
     "name": "stdout",
     "output_type": "stream",
     "text": [
      "Error downloading data: No data found for J&amp;KBANK.BO in the given date range.\n"
     ]
    },
    {
     "name": "stderr",
     "output_type": "stream",
     "text": [
      "[*********************100%***********************]  1 of 1 completed\n",
      "[*********************100%***********************]  1 of 1 completeds]\n",
      "[*********************100%***********************]  1 of 1 completeds]\n",
      "[*********************100%***********************]  1 of 1 completeds]\n",
      "\n",
      "1 Failed download:\n",
      "['HBSTOCK.BO']: YFTzMissingError('possibly delisted; no timezone found')\n",
      "Processing Stocks:  60%|█████▉    | 1741/2919 [21:29<21:29,  1.09s/it]"
     ]
    },
    {
     "name": "stdout",
     "output_type": "stream",
     "text": [
      "Error downloading data: No data found for HBSTOCK.BO in the given date range.\n"
     ]
    },
    {
     "name": "stderr",
     "output_type": "stream",
     "text": [
      "[*********************100%***********************]  1 of 1 completed\n",
      "[*********************100%***********************]  1 of 1 completeds]\n",
      "[*********************100%***********************]  1 of 1 completeds]\n",
      "[*********************100%***********************]  1 of 1 completeds]\n",
      "[*********************100%***********************]  1 of 1 completeds]\n",
      "[*********************100%***********************]  1 of 1 completeds]\n",
      "[*********************100%***********************]  1 of 1 completeds]\n",
      "[*********************100%***********************]  1 of 1 completeds]\n",
      "\n",
      "1 Failed download:\n",
      "['POLARIS.BO']: ValueError('Length mismatch: Expected axis has 2 elements, new values have 1 elements')\n",
      "Processing Stocks:  60%|█████▉    | 1749/2919 [21:33<09:23,  2.08it/s]"
     ]
    },
    {
     "name": "stdout",
     "output_type": "stream",
     "text": [
      "Error downloading data: No data found for POLARIS.BO in the given date range.\n"
     ]
    },
    {
     "name": "stderr",
     "output_type": "stream",
     "text": [
      "[*********************100%***********************]  1 of 1 completed\n",
      "[*********************100%***********************]  1 of 1 completeds]\n",
      "[*********************100%***********************]  1 of 1 completeds]\n",
      "[*********************100%***********************]  1 of 1 completeds]\n",
      "[*********************100%***********************]  1 of 1 completeds]\n",
      "\n",
      "1 Failed download:\n",
      "['SYNDIBANK.BO']: YFTzMissingError('possibly delisted; no timezone found')\n",
      "Processing Stocks:  60%|██████    | 1754/2919 [21:36<17:25,  1.11it/s]"
     ]
    },
    {
     "name": "stdout",
     "output_type": "stream",
     "text": [
      "Error downloading data: No data found for SYNDIBANK.BO in the given date range.\n"
     ]
    },
    {
     "name": "stderr",
     "output_type": "stream",
     "text": [
      "[*********************100%***********************]  1 of 1 completed\n",
      "[*********************100%***********************]  1 of 1 completeds]\n",
      "\n",
      "1 Failed download:\n",
      "['CASTEXTECH.BO']: YFTzMissingError('possibly delisted; no timezone found')\n",
      "Processing Stocks:  60%|██████    | 1756/2919 [21:38<18:43,  1.04it/s]"
     ]
    },
    {
     "name": "stdout",
     "output_type": "stream",
     "text": [
      "Error downloading data: No data found for CASTEXTECH.BO in the given date range.\n"
     ]
    },
    {
     "name": "stderr",
     "output_type": "stream",
     "text": [
      "[*********************100%***********************]  1 of 1 completed\n",
      "[*********************100%***********************]  1 of 1 completeds]\n",
      "[*********************100%***********************]  1 of 1 completeds]\n",
      "[*********************100%***********************]  1 of 1 completeds]\n",
      "[*********************100%***********************]  1 of 1 completeds]\n",
      "[*********************100%***********************]  1 of 1 completeds]\n",
      "[*********************100%***********************]  1 of 1 completeds]\n",
      "[*********************100%***********************]  1 of 1 completeds]\n",
      "[*********************100%***********************]  1 of 1 completeds]\n",
      "[*********************100%***********************]  1 of 1 completeds]\n",
      "[*********************100%***********************]  1 of 1 completeds]\n",
      "[*********************100%***********************]  1 of 1 completeds]\n",
      "\n",
      "1 Failed download:\n",
      "['SKUMAR.BO']: YFTzMissingError('possibly delisted; no timezone found')\n",
      "Processing Stocks:  61%|██████    | 1768/2919 [21:45<13:34,  1.41it/s]"
     ]
    },
    {
     "name": "stdout",
     "output_type": "stream",
     "text": [
      "Error downloading data: No data found for SKUMAR.BO in the given date range.\n"
     ]
    },
    {
     "name": "stderr",
     "output_type": "stream",
     "text": [
      "[*********************100%***********************]  1 of 1 completed\n",
      "\n",
      "1 Failed download:\n",
      "['GEMINI.BO']: YFTzMissingError('possibly delisted; no timezone found')\n",
      "Processing Stocks:  61%|██████    | 1769/2919 [21:47<20:38,  1.08s/it]"
     ]
    },
    {
     "name": "stdout",
     "output_type": "stream",
     "text": [
      "Error downloading data: No data found for GEMINI.BO in the given date range.\n"
     ]
    },
    {
     "name": "stderr",
     "output_type": "stream",
     "text": [
      "[*********************100%***********************]  1 of 1 completed\n",
      "\n",
      "1 Failed download:\n",
      "['CADILAHC.BO']: YFTzMissingError('possibly delisted; no timezone found')\n",
      "Processing Stocks:  61%|██████    | 1770/2919 [21:49<25:28,  1.33s/it]"
     ]
    },
    {
     "name": "stdout",
     "output_type": "stream",
     "text": [
      "Error downloading data: No data found for CADILAHC.BO in the given date range.\n"
     ]
    },
    {
     "name": "stderr",
     "output_type": "stream",
     "text": [
      "[*********************100%***********************]  1 of 1 completed\n",
      "[*********************100%***********************]  1 of 1 completedt]\n",
      "[*********************100%***********************]  1 of 1 completeds]\n",
      "[*********************100%***********************]  1 of 1 completeds]\n",
      "[*********************100%***********************]  1 of 1 completeds]\n",
      "[*********************100%***********************]  1 of 1 completeds]\n",
      "[*********************100%***********************]  1 of 1 completeds]\n",
      "[*********************100%***********************]  1 of 1 completeds]\n",
      "[*********************100%***********************]  1 of 1 completeds]\n",
      "[*********************100%***********************]  1 of 1 completeds]\n",
      "[*********************100%***********************]  1 of 1 completeds]\n",
      "[*********************100%***********************]  1 of 1 completeds]\n",
      "\n",
      "1 Failed download:\n",
      "['GATI.BO']: YFTzMissingError('possibly delisted; no timezone found')\n",
      "Processing Stocks:  61%|██████    | 1782/2919 [21:55<14:50,  1.28it/s]"
     ]
    },
    {
     "name": "stdout",
     "output_type": "stream",
     "text": [
      "Error downloading data: No data found for GATI.BO in the given date range.\n"
     ]
    },
    {
     "name": "stderr",
     "output_type": "stream",
     "text": [
      "[*********************100%***********************]  1 of 1 completed\n",
      "\n",
      "1 Failed download:\n",
      "['SUBEX.BO']: YFTzMissingError('possibly delisted; no timezone found')\n",
      "Processing Stocks:  61%|██████    | 1783/2919 [21:57<17:00,  1.11it/s]"
     ]
    },
    {
     "name": "stdout",
     "output_type": "stream",
     "text": [
      "Error downloading data: No data found for SUBEX.BO in the given date range.\n"
     ]
    },
    {
     "name": "stderr",
     "output_type": "stream",
     "text": [
      "[*********************100%***********************]  1 of 1 completed\n",
      "[*********************100%***********************]  1 of 1 completeds]\n",
      "[*********************100%***********************]  1 of 1 completeds]\n",
      "[*********************100%***********************]  1 of 1 completeds]\n",
      "[*********************100%***********************]  1 of 1 completeds]\n",
      "[*********************100%***********************]  1 of 1 completeds]\n",
      "[*********************100%***********************]  1 of 1 completeds]\n",
      "[*********************100%***********************]  1 of 1 completeds]\n",
      "[*********************100%***********************]  1 of 1 completeds]\n",
      "\n",
      "1 Failed download:\n",
      "['LYCOS.BO']: YFTzMissingError('possibly delisted; no timezone found')\n",
      "Processing Stocks:  61%|██████▏   | 1792/2919 [22:03<17:36,  1.07it/s]"
     ]
    },
    {
     "name": "stdout",
     "output_type": "stream",
     "text": [
      "Error downloading data: No data found for LYCOS.BO in the given date range.\n"
     ]
    },
    {
     "name": "stderr",
     "output_type": "stream",
     "text": [
      "[*********************100%***********************]  1 of 1 completed\n",
      "[*********************100%***********************]  1 of 1 completeds]\n",
      "[*********************100%***********************]  1 of 1 completeds]\n",
      "[*********************100%***********************]  1 of 1 completedt]\n",
      "\n",
      "1 Failed download:\n",
      "['STRTECH.BO']: YFTzMissingError('possibly delisted; no timezone found')\n",
      "Processing Stocks:  62%|██████▏   | 1796/2919 [22:09<30:21,  1.62s/it]"
     ]
    },
    {
     "name": "stdout",
     "output_type": "stream",
     "text": [
      "Error downloading data: No data found for STRTECH.BO in the given date range.\n"
     ]
    },
    {
     "name": "stderr",
     "output_type": "stream",
     "text": [
      "[*********************100%***********************]  1 of 1 completed\n",
      "\n",
      "1 Failed download:\n",
      "['TIPSINDLTD.BO']: YFTzMissingError('possibly delisted; no timezone found')\n",
      "Processing Stocks:  62%|██████▏   | 1797/2919 [22:11<31:35,  1.69s/it]"
     ]
    },
    {
     "name": "stdout",
     "output_type": "stream",
     "text": [
      "Error downloading data: No data found for TIPSINDLTD.BO in the given date range.\n"
     ]
    },
    {
     "name": "stderr",
     "output_type": "stream",
     "text": [
      "[*********************100%***********************]  1 of 1 completed\n",
      "[*********************100%***********************]  1 of 1 completedt]\n",
      "[*********************100%***********************]  1 of 1 completedt]\n",
      "[*********************100%***********************]  1 of 1 completeds]\n",
      "[*********************100%***********************]  1 of 1 completeds]\n",
      "[*********************100%***********************]  1 of 1 completeds]\n",
      "[*********************100%***********************]  1 of 1 completeds]\n",
      "[*********************100%***********************]  1 of 1 completeds]\n",
      "[*********************100%***********************]  1 of 1 completeds]\n",
      "[*********************100%***********************]  1 of 1 completeds]\n",
      "\n",
      "1 Failed download:\n",
      "['ARMSPAPER.BO']: YFTzMissingError('possibly delisted; no timezone found')\n",
      "Processing Stocks:  62%|██████▏   | 1807/2919 [22:17<14:19,  1.29it/s]"
     ]
    },
    {
     "name": "stdout",
     "output_type": "stream",
     "text": [
      "Error downloading data: No data found for ARMSPAPER.BO in the given date range.\n"
     ]
    },
    {
     "name": "stderr",
     "output_type": "stream",
     "text": [
      "[*********************100%***********************]  1 of 1 completed\n",
      "[*********************100%***********************]  1 of 1 completeds]\n",
      "\n",
      "1 Failed download:\n",
      "['KPIT.BO']: YFTzMissingError('possibly delisted; no timezone found')\n",
      "Processing Stocks:  62%|██████▏   | 1809/2919 [22:18<16:02,  1.15it/s]"
     ]
    },
    {
     "name": "stdout",
     "output_type": "stream",
     "text": [
      "Error downloading data: No data found for KPIT.BO in the given date range.\n"
     ]
    },
    {
     "name": "stderr",
     "output_type": "stream",
     "text": [
      "[*********************100%***********************]  1 of 1 completed\n",
      "\n",
      "1 Failed download:\n",
      "['VIJAYABANK.BO']: YFTzMissingError('possibly delisted; no timezone found')\n",
      "Processing Stocks:  62%|██████▏   | 1810/2919 [22:20<19:32,  1.06s/it]"
     ]
    },
    {
     "name": "stdout",
     "output_type": "stream",
     "text": [
      "Error downloading data: No data found for VIJAYABANK.BO in the given date range.\n"
     ]
    },
    {
     "name": "stderr",
     "output_type": "stream",
     "text": [
      "[*********************100%***********************]  1 of 1 completed\n",
      "[*********************100%***********************]  1 of 1 completeds]\n",
      "[*********************100%***********************]  1 of 1 completeds]\n",
      "[*********************100%***********************]  1 of 1 completeds]\n",
      "[*********************100%***********************]  1 of 1 completeds]\n",
      "\n",
      "1 Failed download:\n",
      "['ANDHRABANK.BO']: YFTzMissingError('possibly delisted; no timezone found')\n",
      "Processing Stocks:  62%|██████▏   | 1815/2919 [22:23<16:42,  1.10it/s]"
     ]
    },
    {
     "name": "stdout",
     "output_type": "stream",
     "text": [
      "Error downloading data: No data found for ANDHRABANK.BO in the given date range.\n"
     ]
    },
    {
     "name": "stderr",
     "output_type": "stream",
     "text": [
      "[*********************100%***********************]  1 of 1 completed\n",
      "[*********************100%***********************]  1 of 1 completedt]\n",
      "[*********************100%***********************]  1 of 1 completedt]\n",
      "\n",
      "1 Failed download:\n",
      "['GULCHEM.BO']: YFTzMissingError('possibly delisted; no timezone found')\n",
      "Processing Stocks:  62%|██████▏   | 1818/2919 [22:30<30:50,  1.68s/it]"
     ]
    },
    {
     "name": "stdout",
     "output_type": "stream",
     "text": [
      "Error downloading data: No data found for GULCHEM.BO in the given date range.\n"
     ]
    },
    {
     "name": "stderr",
     "output_type": "stream",
     "text": [
      "[*********************100%***********************]  1 of 1 completed\n",
      "[*********************100%***********************]  1 of 1 completedt]\n",
      "[*********************100%***********************]  1 of 1 completedt]\n",
      "\n",
      "1 Failed download:\n",
      "['GOLDINFRA.BO']: YFTzMissingError('possibly delisted; no timezone found')\n",
      "Processing Stocks:  62%|██████▏   | 1821/2919 [22:33<21:34,  1.18s/it]"
     ]
    },
    {
     "name": "stdout",
     "output_type": "stream",
     "text": [
      "Error downloading data: No data found for GOLDINFRA.BO in the given date range.\n"
     ]
    },
    {
     "name": "stderr",
     "output_type": "stream",
     "text": [
      "[*********************100%***********************]  1 of 1 completed\n",
      "[*********************100%***********************]  1 of 1 completeds]\n",
      "[*********************100%***********************]  1 of 1 completeds]\n",
      "[*********************100%***********************]  1 of 1 completeds]\n",
      "[*********************100%***********************]  1 of 1 completeds]\n",
      "\n",
      "1 Failed download:\n",
      "['COMPUAGE.BO']: YFTzMissingError('possibly delisted; no timezone found')\n",
      "Processing Stocks:  63%|██████▎   | 1826/2919 [22:40<38:58,  2.14s/it]"
     ]
    },
    {
     "name": "stdout",
     "output_type": "stream",
     "text": [
      "Error downloading data: No data found for COMPUAGE.BO in the given date range.\n"
     ]
    },
    {
     "name": "stderr",
     "output_type": "stream",
     "text": [
      "[*********************100%***********************]  1 of 1 completed\n",
      "[*********************100%***********************]  1 of 1 completedt]\n",
      "\n",
      "1 Failed download:\n",
      "['AUNDEIND.BO']: YFTzMissingError('possibly delisted; no timezone found')\n",
      "Processing Stocks:  63%|██████▎   | 1828/2919 [22:43<30:57,  1.70s/it]"
     ]
    },
    {
     "name": "stdout",
     "output_type": "stream",
     "text": [
      "Error downloading data: No data found for AUNDEIND.BO in the given date range.\n"
     ]
    },
    {
     "name": "stderr",
     "output_type": "stream",
     "text": [
      "[*********************100%***********************]  1 of 1 completed\n",
      "[*********************100%***********************]  1 of 1 completedt]\n",
      "[*********************100%***********************]  1 of 1 completedt]\n",
      "[*********************100%***********************]  1 of 1 completedt]\n",
      "[*********************100%***********************]  1 of 1 completeds]\n",
      "[*********************100%***********************]  1 of 1 completeds]\n",
      "[*********************100%***********************]  1 of 1 completeds]\n",
      "[*********************100%***********************]  1 of 1 completeds]\n",
      "\n",
      "1 Failed download:\n",
      "['ISMTLTD.BO']: YFTzMissingError('possibly delisted; no timezone found')\n",
      "Processing Stocks:  63%|██████▎   | 1836/2919 [22:49<20:02,  1.11s/it]"
     ]
    },
    {
     "name": "stdout",
     "output_type": "stream",
     "text": [
      "Error downloading data: No data found for ISMTLTD.BO in the given date range.\n"
     ]
    },
    {
     "name": "stderr",
     "output_type": "stream",
     "text": [
      "[*********************100%***********************]  1 of 1 completed\n",
      "\n",
      "1 Failed download:\n",
      "['ALBK.BO']: YFTzMissingError('possibly delisted; no timezone found')\n",
      "Processing Stocks:  63%|██████▎   | 1837/2919 [22:51<23:40,  1.31s/it]"
     ]
    },
    {
     "name": "stdout",
     "output_type": "stream",
     "text": [
      "Error downloading data: No data found for ALBK.BO in the given date range.\n"
     ]
    },
    {
     "name": "stderr",
     "output_type": "stream",
     "text": [
      "[*********************100%***********************]  1 of 1 completed\n",
      "[*********************100%***********************]  1 of 1 completedt]\n",
      "[*********************100%***********************]  1 of 1 completeds]\n",
      "[*********************100%***********************]  1 of 1 completeds]\n",
      "[*********************100%***********************]  1 of 1 completeds]\n",
      "[*********************100%***********************]  1 of 1 completeds]\n",
      "[*********************100%***********************]  1 of 1 completeds]\n",
      "[*********************100%***********************]  1 of 1 completeds]\n",
      "\n",
      "1 Failed download:\n",
      "['SHRIRAMCIT.BO']: YFTzMissingError('possibly delisted; no timezone found')\n",
      "Processing Stocks:  63%|██████▎   | 1845/2919 [22:58<20:25,  1.14s/it]"
     ]
    },
    {
     "name": "stdout",
     "output_type": "stream",
     "text": [
      "Error downloading data: No data found for SHRIRAMCIT.BO in the given date range.\n"
     ]
    },
    {
     "name": "stderr",
     "output_type": "stream",
     "text": [
      "[*********************100%***********************]  1 of 1 completed\n",
      "[*********************100%***********************]  1 of 1 completedt]\n",
      "[*********************100%***********************]  1 of 1 completeds]\n",
      "[*********************100%***********************]  1 of 1 completeds]\n",
      "[*********************100%***********************]  1 of 1 completeds]\n",
      "[*********************100%***********************]  1 of 1 completeds]\n",
      "[*********************100%***********************]  1 of 1 completeds]\n",
      "\n",
      "1 Failed download:\n",
      "['EXCELCROP.BO']: YFTzMissingError('possibly delisted; no timezone found')\n",
      "Processing Stocks:  63%|██████▎   | 1852/2919 [23:05<21:04,  1.18s/it]"
     ]
    },
    {
     "name": "stdout",
     "output_type": "stream",
     "text": [
      "Error downloading data: No data found for EXCELCROP.BO in the given date range.\n"
     ]
    },
    {
     "name": "stderr",
     "output_type": "stream",
     "text": [
      "[*********************100%***********************]  1 of 1 completed\n",
      "[*********************100%***********************]  1 of 1 completedt]\n",
      "[*********************100%***********************]  1 of 1 completeds]\n",
      "[*********************100%***********************]  1 of 1 completeds]\n",
      "\n",
      "1 Failed download:\n",
      "['PALRED.BO']: YFTzMissingError('possibly delisted; no timezone found')\n",
      "Processing Stocks:  64%|██████▎   | 1856/2919 [23:08<18:24,  1.04s/it]"
     ]
    },
    {
     "name": "stdout",
     "output_type": "stream",
     "text": [
      "Error downloading data: No data found for PALRED.BO in the given date range.\n"
     ]
    },
    {
     "name": "stderr",
     "output_type": "stream",
     "text": [
      "[*********************100%***********************]  1 of 1 completed\n",
      "[*********************100%***********************]  1 of 1 completeds]\n",
      "[*********************100%***********************]  1 of 1 completeds]\n",
      "[*********************100%***********************]  1 of 1 completeds]\n",
      "[*********************100%***********************]  1 of 1 completeds]\n",
      "[*********************100%***********************]  1 of 1 completeds]\n",
      "[*********************100%***********************]  1 of 1 completeds]\n",
      "[*********************100%***********************]  1 of 1 completeds]\n",
      "[*********************100%***********************]  1 of 1 completeds]\n",
      "[*********************100%***********************]  1 of 1 completeds]\n",
      "[*********************100%***********************]  1 of 1 completeds]\n",
      "\n",
      "1 Failed download:\n",
      "['MINDAIND.BO']: YFTzMissingError('possibly delisted; no timezone found')\n",
      "Processing Stocks:  64%|██████▍   | 1867/2919 [23:18<20:28,  1.17s/it]"
     ]
    },
    {
     "name": "stdout",
     "output_type": "stream",
     "text": [
      "Error downloading data: No data found for MINDAIND.BO in the given date range.\n"
     ]
    },
    {
     "name": "stderr",
     "output_type": "stream",
     "text": [
      "[*********************100%***********************]  1 of 1 completed\n",
      "[*********************100%***********************]  1 of 1 completedt]\n",
      "\n",
      "1 Failed download:\n",
      "['NIITTECH.BO']: YFTzMissingError('possibly delisted; no timezone found')\n",
      "Processing Stocks:  64%|██████▍   | 1869/2919 [23:21<22:57,  1.31s/it]"
     ]
    },
    {
     "name": "stdout",
     "output_type": "stream",
     "text": [
      "Error downloading data: No data found for NIITTECH.BO in the given date range.\n"
     ]
    },
    {
     "name": "stderr",
     "output_type": "stream",
     "text": [
      "[*********************100%***********************]  1 of 1 completed\n",
      "[*********************100%***********************]  1 of 1 completedt]\n",
      "[*********************100%***********************]  1 of 1 completeds]\n",
      "[*********************100%***********************]  1 of 1 completeds]\n",
      "[*********************100%***********************]  1 of 1 completeds]\n",
      "[*********************100%***********************]  1 of 1 completeds]\n",
      "[*********************100%***********************]  1 of 1 completedt]\n",
      "[*********************100%***********************]  1 of 1 completedt]\n",
      "[*********************100%***********************]  1 of 1 completeds]\n",
      "[*********************100%***********************]  1 of 1 completeds]\n",
      "[*********************100%***********************]  1 of 1 completeds]\n",
      "[*********************100%***********************]  1 of 1 completeds]\n",
      "[*********************100%***********************]  1 of 1 completeds]\n",
      "[*********************100%***********************]  1 of 1 completeds]\n",
      "\n",
      "1 Failed download:\n",
      "['GDL.BO']: YFTzMissingError('possibly delisted; no timezone found')\n",
      "Processing Stocks:  65%|██████▍   | 1883/2919 [23:33<15:59,  1.08it/s]"
     ]
    },
    {
     "name": "stdout",
     "output_type": "stream",
     "text": [
      "Error downloading data: No data found for GDL.BO in the given date range.\n"
     ]
    },
    {
     "name": "stderr",
     "output_type": "stream",
     "text": [
      "[*********************100%***********************]  1 of 1 completed\n",
      "[*********************100%***********************]  1 of 1 completeds]\n",
      "[*********************100%***********************]  1 of 1 completeds]\n",
      "\n",
      "1 Failed download:\n",
      "['3IINFOTECH.BO']: YFTzMissingError('possibly delisted; no timezone found')\n",
      "Processing Stocks:  65%|██████▍   | 1886/2919 [23:35<16:54,  1.02it/s]"
     ]
    },
    {
     "name": "stdout",
     "output_type": "stream",
     "text": [
      "Error downloading data: No data found for 3IINFOTECH.BO in the given date range.\n"
     ]
    },
    {
     "name": "stderr",
     "output_type": "stream",
     "text": [
      "[*********************100%***********************]  1 of 1 completed\n",
      "[*********************100%***********************]  1 of 1 completeds]\n",
      "[*********************100%***********************]  1 of 1 completeds]\n",
      "\n",
      "1 Failed download:\n",
      "['ALLSEC.BO']: YFTzMissingError('possibly delisted; no timezone found')\n",
      "Processing Stocks:  65%|██████▍   | 1889/2919 [23:39<21:16,  1.24s/it]"
     ]
    },
    {
     "name": "stdout",
     "output_type": "stream",
     "text": [
      "Error downloading data: No data found for ALLSEC.BO in the given date range.\n"
     ]
    },
    {
     "name": "stderr",
     "output_type": "stream",
     "text": [
      "[*********************100%***********************]  1 of 1 completed\n",
      "[*********************100%***********************]  1 of 1 completedt]\n",
      "[*********************100%***********************]  1 of 1 completeds]\n",
      "[*********************100%***********************]  1 of 1 completeds]\n",
      "[*********************100%***********************]  1 of 1 completeds]\n",
      "[*********************100%***********************]  1 of 1 completeds]\n",
      "[*********************100%***********************]  1 of 1 completeds]\n",
      "\n",
      "1 Failed download:\n",
      "['SGFL.BO']: YFTzMissingError('possibly delisted; no timezone found')\n",
      "Processing Stocks:  65%|██████▍   | 1896/2919 [23:43<15:42,  1.09it/s]"
     ]
    },
    {
     "name": "stdout",
     "output_type": "stream",
     "text": [
      "Error downloading data: No data found for SGFL.BO in the given date range.\n"
     ]
    },
    {
     "name": "stderr",
     "output_type": "stream",
     "text": [
      "[*********************100%***********************]  1 of 1 completed\n",
      "[*********************100%***********************]  1 of 1 completeds]\n",
      "[*********************100%***********************]  1 of 1 completeds]\n",
      "[*********************100%***********************]  1 of 1 completeds]\n",
      "\n",
      "1 Failed download:\n",
      "['PROVOGE.BO']: YFTzMissingError('possibly delisted; no timezone found')\n",
      "Processing Stocks:  65%|██████▌   | 1900/2919 [23:47<15:33,  1.09it/s]"
     ]
    },
    {
     "name": "stdout",
     "output_type": "stream",
     "text": [
      "Error downloading data: No data found for PROVOGE.BO in the given date range.\n"
     ]
    },
    {
     "name": "stderr",
     "output_type": "stream",
     "text": [
      "[*********************100%***********************]  1 of 1 completed\n",
      "[*********************100%***********************]  1 of 1 completeds]\n",
      "[*********************100%***********************]  1 of 1 completeds]\n",
      "[*********************100%***********************]  1 of 1 completeds]\n",
      "[*********************100%***********************]  1 of 1 completeds]\n",
      "[*********************100%***********************]  1 of 1 completeds]\n",
      "[*********************100%***********************]  1 of 1 completeds]\n",
      "[*********************100%***********************]  1 of 1 completeds]\n",
      "[*********************100%***********************]  1 of 1 completeds]\n",
      "\n",
      "1 Failed download:\n",
      "['IDFC.BO']: YFTzMissingError('possibly delisted; no timezone found')\n",
      "Processing Stocks:  65%|██████▌   | 1909/2919 [23:52<13:03,  1.29it/s]"
     ]
    },
    {
     "name": "stdout",
     "output_type": "stream",
     "text": [
      "Error downloading data: No data found for IDFC.BO in the given date range.\n"
     ]
    },
    {
     "name": "stderr",
     "output_type": "stream",
     "text": [
      "[*********************100%***********************]  1 of 1 completed\n",
      "[*********************100%***********************]  1 of 1 completeds]\n",
      "[*********************100%***********************]  1 of 1 completeds]\n",
      "[*********************100%***********************]  1 of 1 completeds]\n",
      "[*********************100%***********************]  1 of 1 completeds]\n",
      "[*********************100%***********************]  1 of 1 completeds]\n",
      "[*********************100%***********************]  1 of 1 completeds]\n",
      "[*********************100%***********************]  1 of 1 completeds]\n",
      "[*********************100%***********************]  1 of 1 completeds]\n",
      "[*********************100%***********************]  1 of 1 completeds]\n",
      "[*********************100%***********************]  1 of 1 completeds]\n",
      "[*********************100%***********************]  1 of 1 completeds]\n",
      "[*********************100%***********************]  1 of 1 completeds]\n",
      "\n",
      "1 Failed download:\n",
      "['SORILINFRA.BO']: YFTzMissingError('possibly delisted; no timezone found')\n",
      "Processing Stocks:  66%|██████▌   | 1922/2919 [24:00<14:28,  1.15it/s]"
     ]
    },
    {
     "name": "stdout",
     "output_type": "stream",
     "text": [
      "Error downloading data: No data found for SORILINFRA.BO in the given date range.\n"
     ]
    },
    {
     "name": "stderr",
     "output_type": "stream",
     "text": [
      "[*********************100%***********************]  1 of 1 completed\n",
      "\n",
      "1 Failed download:\n",
      "['ABGSHIP.BO']: YFTzMissingError('possibly delisted; no timezone found')\n",
      "Processing Stocks:  66%|██████▌   | 1923/2919 [24:01<16:39,  1.00s/it]"
     ]
    },
    {
     "name": "stdout",
     "output_type": "stream",
     "text": [
      "Error downloading data: No data found for ABGSHIP.BO in the given date range.\n"
     ]
    },
    {
     "name": "stderr",
     "output_type": "stream",
     "text": [
      "[*********************100%***********************]  1 of 1 completed\n",
      "[*********************100%***********************]  1 of 1 completeds]\n",
      "[*********************100%***********************]  1 of 1 completeds]\n",
      "[*********************100%***********************]  1 of 1 completeds]\n",
      "[*********************100%***********************]  1 of 1 completeds]\n",
      "\n",
      "1 Failed download:\n",
      "['PVR.BO']: YFTzMissingError('possibly delisted; no timezone found')\n",
      "Processing Stocks:  66%|██████▌   | 1928/2919 [24:06<17:25,  1.06s/it]"
     ]
    },
    {
     "name": "stdout",
     "output_type": "stream",
     "text": [
      "Error downloading data: No data found for PVR.BO in the given date range.\n"
     ]
    },
    {
     "name": "stderr",
     "output_type": "stream",
     "text": [
      "[*********************100%***********************]  1 of 1 completed\n",
      "\n",
      "1 Failed download:\n",
      "['RAMSARUP.BO']: YFTzMissingError('possibly delisted; no timezone found')\n",
      "Processing Stocks:  66%|██████▌   | 1929/2919 [24:07<20:22,  1.23s/it]"
     ]
    },
    {
     "name": "stdout",
     "output_type": "stream",
     "text": [
      "Error downloading data: No data found for RAMSARUP.BO in the given date range.\n"
     ]
    },
    {
     "name": "stderr",
     "output_type": "stream",
     "text": [
      "[*********************100%***********************]  1 of 1 completed\n",
      "[*********************100%***********************]  1 of 1 completeds]\n",
      "[*********************100%***********************]  1 of 1 completeds]\n",
      "\n",
      "1 Failed download:\n",
      "['BARTRONICS.BO']: YFTzMissingError('possibly delisted; no timezone found')\n",
      "Processing Stocks:  66%|██████▌   | 1932/2919 [24:10<18:39,  1.13s/it]"
     ]
    },
    {
     "name": "stdout",
     "output_type": "stream",
     "text": [
      "Error downloading data: No data found for BARTRONICS.BO in the given date range.\n"
     ]
    },
    {
     "name": "stderr",
     "output_type": "stream",
     "text": [
      "[*********************100%***********************]  1 of 1 completed\n",
      "[*********************100%***********************]  1 of 1 completeds]\n",
      "[*********************100%***********************]  1 of 1 completeds]\n",
      "[*********************100%***********************]  1 of 1 completeds]\n",
      "[*********************100%***********************]  1 of 1 completeds]\n",
      "[*********************100%***********************]  1 of 1 completeds]\n",
      "[*********************100%***********************]  1 of 1 completeds]\n",
      "[*********************100%***********************]  1 of 1 completeds]\n",
      "\n",
      "1 Failed download:\n",
      "['INOXLEISUR.BO']: YFTzMissingError('possibly delisted; no timezone found')\n",
      "Processing Stocks:  66%|██████▋   | 1940/2919 [24:15<14:13,  1.15it/s]"
     ]
    },
    {
     "name": "stdout",
     "output_type": "stream",
     "text": [
      "Error downloading data: No data found for INOXLEISUR.BO in the given date range.\n"
     ]
    },
    {
     "name": "stderr",
     "output_type": "stream",
     "text": [
      "[*********************100%***********************]  1 of 1 completed\n",
      "[*********************100%***********************]  1 of 1 completeds]\n",
      "[*********************100%***********************]  1 of 1 completeds]\n",
      "[*********************100%***********************]  1 of 1 completeds]\n",
      "\n",
      "1 Failed download:\n",
      "['SUNILHITEC.BO']: YFTzMissingError('possibly delisted; no timezone found')\n",
      "Processing Stocks:  67%|██████▋   | 1944/2919 [24:19<15:29,  1.05it/s]"
     ]
    },
    {
     "name": "stdout",
     "output_type": "stream",
     "text": [
      "Error downloading data: No data found for SUNILHITEC.BO in the given date range.\n"
     ]
    },
    {
     "name": "stderr",
     "output_type": "stream",
     "text": [
      "[*********************100%***********************]  1 of 1 completed\n",
      "[*********************100%***********************]  1 of 1 completeds]\n",
      "[*********************100%***********************]  1 of 1 completeds]\n",
      "[*********************100%***********************]  1 of 1 completeds]\n",
      "[*********************100%***********************]  1 of 1 completeds]\n",
      "[*********************100%***********************]  1 of 1 completeds]\n",
      "[*********************100%***********************]  1 of 1 completeds]\n",
      "[*********************100%***********************]  1 of 1 completeds]\n",
      "[*********************100%***********************]  1 of 1 completeds]\n",
      "\n",
      "1 Failed download:\n",
      "['M&AMP;MFIN.BO']: YFTzMissingError('possibly delisted; no timezone found')\n",
      "Processing Stocks:  67%|██████▋   | 1953/2919 [24:24<13:18,  1.21it/s]"
     ]
    },
    {
     "name": "stdout",
     "output_type": "stream",
     "text": [
      "Error downloading data: No data found for M&amp;MFIN.BO in the given date range.\n"
     ]
    },
    {
     "name": "stderr",
     "output_type": "stream",
     "text": [
      "[*********************100%***********************]  1 of 1 completed\n",
      "[*********************100%***********************]  1 of 1 completeds]\n",
      "[*********************100%***********************]  1 of 1 completeds]\n",
      "[*********************100%***********************]  1 of 1 completeds]\n",
      "\n",
      "1 Failed download:\n",
      "['ADHUNIK.BO']: YFTzMissingError('possibly delisted; no timezone found')\n",
      "Processing Stocks:  67%|██████▋   | 1957/2919 [24:27<14:38,  1.09it/s]"
     ]
    },
    {
     "name": "stdout",
     "output_type": "stream",
     "text": [
      "Error downloading data: No data found for ADHUNIK.BO in the given date range.\n"
     ]
    },
    {
     "name": "stderr",
     "output_type": "stream",
     "text": [
      "[*********************100%***********************]  1 of 1 completed\n",
      "[*********************100%***********************]  1 of 1 completeds]\n",
      "[*********************100%***********************]  1 of 1 completeds]\n",
      "[*********************100%***********************]  1 of 1 completeds]\n",
      "[*********************100%***********************]  1 of 1 completeds]\n",
      "[*********************100%***********************]  1 of 1 completeds]\n",
      "[*********************100%***********************]  1 of 1 completeds]\n",
      "\n",
      "1 Failed download:\n",
      "['RSYSTEMINT.BO']: YFTzMissingError('possibly delisted; no timezone found')\n",
      "Processing Stocks:  67%|██████▋   | 1964/2919 [24:31<13:45,  1.16it/s]"
     ]
    },
    {
     "name": "stdout",
     "output_type": "stream",
     "text": [
      "Error downloading data: No data found for RSYSTEMINT.BO in the given date range.\n"
     ]
    },
    {
     "name": "stderr",
     "output_type": "stream",
     "text": [
      "[*********************100%***********************]  1 of 1 completed\n",
      "[*********************100%***********************]  1 of 1 completeds]\n",
      "\n",
      "1 Failed download:\n",
      "['TANTIACONS.BO']: YFTzMissingError('possibly delisted; no timezone found')\n",
      "Processing Stocks:  67%|██████▋   | 1966/2919 [24:34<16:18,  1.03s/it]"
     ]
    },
    {
     "name": "stdout",
     "output_type": "stream",
     "text": [
      "Error downloading data: No data found for TANTIACONS.BO in the given date range.\n"
     ]
    },
    {
     "name": "stderr",
     "output_type": "stream",
     "text": [
      "[*********************100%***********************]  1 of 1 completed\n",
      "[*********************100%***********************]  1 of 1 completeds]\n",
      "[*********************100%***********************]  1 of 1 completeds]\n",
      "[*********************100%***********************]  1 of 1 completeds]\n",
      "[*********************100%***********************]  1 of 1 completeds]\n",
      "[*********************100%***********************]  1 of 1 completeds]\n",
      "[*********************100%***********************]  1 of 1 completeds]\n",
      "[*********************100%***********************]  1 of 1 completeds]\n",
      "[*********************100%***********************]  1 of 1 completeds]\n",
      "[*********************100%***********************]  1 of 1 completeds]\n",
      "\n",
      "1 Failed download:\n",
      "['GMRINFRA.BO']: YFTzMissingError('possibly delisted; no timezone found')\n",
      "Processing Stocks:  68%|██████▊   | 1976/2919 [24:39<12:59,  1.21it/s]"
     ]
    },
    {
     "name": "stdout",
     "output_type": "stream",
     "text": [
      "Error downloading data: No data found for GMRINFRA.BO in the given date range.\n"
     ]
    },
    {
     "name": "stderr",
     "output_type": "stream",
     "text": [
      "[*********************100%***********************]  1 of 1 completed\n",
      "[*********************100%***********************]  1 of 1 completeds]\n",
      "\n",
      "1 Failed download:\n",
      "['MAHINDCIE.BO']: YFTzMissingError('possibly delisted; no timezone found')\n",
      "Processing Stocks:  68%|██████▊   | 1978/2919 [24:41<17:26,  1.11s/it]"
     ]
    },
    {
     "name": "stdout",
     "output_type": "stream",
     "text": [
      "Error downloading data: No data found for MAHINDCIE.BO in the given date range.\n"
     ]
    },
    {
     "name": "stderr",
     "output_type": "stream",
     "text": [
      "[*********************100%***********************]  1 of 1 completed\n",
      "[*********************100%***********************]  1 of 1 completeds]\n",
      "\n",
      "1 Failed download:\n",
      "['ATLANTA.BO']: YFTzMissingError('possibly delisted; no timezone found')\n",
      "Processing Stocks:  68%|██████▊   | 1980/2919 [24:43<16:38,  1.06s/it]"
     ]
    },
    {
     "name": "stdout",
     "output_type": "stream",
     "text": [
      "Error downloading data: No data found for ATLANTA.BO in the given date range.\n"
     ]
    },
    {
     "name": "stderr",
     "output_type": "stream",
     "text": [
      "[*********************100%***********************]  1 of 1 completed\n",
      "\n",
      "1 Failed download:\n",
      "['DEEPIND.BO']: YFTzMissingError('possibly delisted; no timezone found')\n",
      "Processing Stocks:  68%|██████▊   | 1981/2919 [24:44<17:01,  1.09s/it]"
     ]
    },
    {
     "name": "stdout",
     "output_type": "stream",
     "text": [
      "Error downloading data: No data found for DEEPIND.BO in the given date range.\n"
     ]
    },
    {
     "name": "stderr",
     "output_type": "stream",
     "text": [
      "[*********************100%***********************]  1 of 1 completed\n",
      "[*********************100%***********************]  1 of 1 completeds]\n",
      "[*********************100%***********************]  1 of 1 completeds]\n",
      "[*********************100%***********************]  1 of 1 completeds]\n",
      "\n",
      "1 Failed download:\n",
      "['USHERAGRO.BO']: YFTzMissingError('possibly delisted; no timezone found')\n",
      "Processing Stocks:  68%|██████▊   | 1985/2919 [24:47<13:26,  1.16it/s]"
     ]
    },
    {
     "name": "stdout",
     "output_type": "stream",
     "text": [
      "Error downloading data: No data found for USHERAGRO.BO in the given date range.\n"
     ]
    },
    {
     "name": "stderr",
     "output_type": "stream",
     "text": [
      "[*********************100%***********************]  1 of 1 completed\n",
      "[*********************100%***********************]  1 of 1 completeds]\n",
      "[*********************100%***********************]  1 of 1 completeds]\n",
      "\n",
      "1 Failed download:\n",
      "['HANUNG.BO']: ValueError('Length mismatch: Expected axis has 2 elements, new values have 1 elements')\n",
      "Processing Stocks:  68%|██████▊   | 1988/2919 [24:48<08:56,  1.73it/s]"
     ]
    },
    {
     "name": "stdout",
     "output_type": "stream",
     "text": [
      "Error downloading data: No data found for HANUNG.BO in the given date range.\n"
     ]
    },
    {
     "name": "stderr",
     "output_type": "stream",
     "text": [
      "[*********************100%***********************]  1 of 1 completed\n",
      "[*********************100%***********************]  1 of 1 completeds]\n",
      "[*********************100%***********************]  1 of 1 completeds]\n",
      "[*********************100%***********************]  1 of 1 completeds]\n",
      "[*********************100%***********************]  1 of 1 completeds]\n",
      "[*********************100%***********************]  1 of 1 completeds]\n",
      "[*********************100%***********************]  1 of 1 completeds]\n",
      "\n",
      "1 Failed download:\n",
      "['LITL.BO']: YFTzMissingError('possibly delisted; no timezone found')\n",
      "Processing Stocks:  68%|██████▊   | 1995/2919 [24:52<11:32,  1.33it/s]"
     ]
    },
    {
     "name": "stdout",
     "output_type": "stream",
     "text": [
      "Error downloading data: No data found for LITL.BO in the given date range.\n"
     ]
    },
    {
     "name": "stderr",
     "output_type": "stream",
     "text": [
      "[*********************100%***********************]  1 of 1 completed\n",
      "[*********************100%***********************]  1 of 1 completeds]\n",
      "[*********************100%***********************]  1 of 1 completeds]\n",
      "[*********************100%***********************]  1 of 1 completeds]\n",
      "\n",
      "1 Failed download:\n",
      "['DAAWAT.BO']: YFTzMissingError('possibly delisted; no timezone found')\n",
      "Processing Stocks:  68%|██████▊   | 1999/2919 [24:55<11:55,  1.29it/s]"
     ]
    },
    {
     "name": "stdout",
     "output_type": "stream",
     "text": [
      "Error downloading data: No data found for DAAWAT.BO in the given date range.\n"
     ]
    },
    {
     "name": "stderr",
     "output_type": "stream",
     "text": [
      "[*********************100%***********************]  1 of 1 completed\n",
      "[*********************100%***********************]  1 of 1 completeds]\n",
      "[*********************100%***********************]  1 of 1 completeds]\n",
      "\n",
      "1 Failed download:\n",
      "['ESSDEE.BO']: YFTzMissingError('possibly delisted; no timezone found')\n",
      "Processing Stocks:  69%|██████▊   | 2002/2919 [24:58<16:32,  1.08s/it]"
     ]
    },
    {
     "name": "stdout",
     "output_type": "stream",
     "text": [
      "Error downloading data: No data found for ESSDEE.BO in the given date range.\n"
     ]
    },
    {
     "name": "stderr",
     "output_type": "stream",
     "text": [
      "[*********************100%***********************]  1 of 1 completed\n",
      "\n",
      "1 Failed download:\n",
      "['XLENERGY.BO']: YFTzMissingError('possibly delisted; no timezone found')\n",
      "Processing Stocks:  69%|██████▊   | 2003/2919 [25:00<19:30,  1.28s/it]"
     ]
    },
    {
     "name": "stdout",
     "output_type": "stream",
     "text": [
      "Error downloading data: No data found for XLENERGY.BO in the given date range.\n"
     ]
    },
    {
     "name": "stderr",
     "output_type": "stream",
     "text": [
      "[*********************100%***********************]  1 of 1 completed\n",
      "[*********************100%***********************]  1 of 1 completedt]\n",
      "[*********************100%***********************]  1 of 1 completeds]\n",
      "[*********************100%***********************]  1 of 1 completeds]\n",
      "[*********************100%***********************]  1 of 1 completeds]\n",
      "[*********************100%***********************]  1 of 1 completeds]\n",
      "[*********************100%***********************]  1 of 1 completeds]\n",
      "[*********************100%***********************]  1 of 1 completeds]\n",
      "\n",
      "1 Failed download:\n",
      "['TV18BRDCST.BO']: YFTzMissingError('possibly delisted; no timezone found')\n",
      "Processing Stocks:  69%|██████▉   | 2011/2919 [25:04<11:44,  1.29it/s]"
     ]
    },
    {
     "name": "stdout",
     "output_type": "stream",
     "text": [
      "Error downloading data: No data found for TV18BRDCST.BO in the given date range.\n"
     ]
    },
    {
     "name": "stderr",
     "output_type": "stream",
     "text": [
      "[*********************100%***********************]  1 of 1 completed\n",
      "[*********************100%***********************]  1 of 1 completeds]\n",
      "\n",
      "1 Failed download:\n",
      "['POCHIRAJU.BO']: YFTzMissingError('possibly delisted; no timezone found')\n",
      "Processing Stocks:  69%|██████▉   | 2013/2919 [25:07<15:30,  1.03s/it]"
     ]
    },
    {
     "name": "stdout",
     "output_type": "stream",
     "text": [
      "Error downloading data: No data found for POCHIRAJU.BO in the given date range.\n"
     ]
    },
    {
     "name": "stderr",
     "output_type": "stream",
     "text": [
      "[*********************100%***********************]  1 of 1 completed\n",
      "[*********************100%***********************]  1 of 1 completeds]\n",
      "[*********************100%***********************]  1 of 1 completeds]\n",
      "[*********************100%***********************]  1 of 1 completeds]\n",
      "[*********************100%***********************]  1 of 1 completeds]\n",
      "[*********************100%***********************]  1 of 1 completeds]\n",
      "[*********************100%***********************]  1 of 1 completeds]\n",
      "[*********************100%***********************]  1 of 1 completeds]\n",
      "[*********************100%***********************]  1 of 1 completeds]\n",
      "[*********************100%***********************]  1 of 1 completeds]\n",
      "[*********************100%***********************]  1 of 1 completeds]\n",
      "[*********************100%***********************]  1 of 1 completeds]\n",
      "[*********************100%***********************]  1 of 1 completeds]\n",
      "[*********************100%***********************]  1 of 1 completeds]\n",
      "\n",
      "1 Failed download:\n",
      "['MINDTREE.BO']: YFTzMissingError('possibly delisted; no timezone found')\n",
      "Processing Stocks:  69%|██████▉   | 2027/2919 [25:14<10:27,  1.42it/s]"
     ]
    },
    {
     "name": "stdout",
     "output_type": "stream",
     "text": [
      "Error downloading data: No data found for MINDTREE.BO in the given date range.\n"
     ]
    },
    {
     "name": "stderr",
     "output_type": "stream",
     "text": [
      "[*********************100%***********************]  1 of 1 completed\n",
      "[*********************100%***********************]  1 of 1 completeds]\n",
      "[*********************100%***********************]  1 of 1 completeds]\n",
      "[*********************100%***********************]  1 of 1 completeds]\n",
      "[*********************100%***********************]  1 of 1 completeds]\n",
      "[*********************100%***********************]  1 of 1 completeds]\n",
      "[*********************100%***********************]  1 of 1 completeds]\n",
      "[*********************100%***********************]  1 of 1 completeds]\n",
      "[*********************100%***********************]  1 of 1 completeds]\n",
      "\n",
      "1 Failed download:\n",
      "['IBREALEST.BO']: YFTzMissingError('possibly delisted; no timezone found')\n",
      "Processing Stocks:  70%|██████▉   | 2036/2919 [25:18<10:48,  1.36it/s]"
     ]
    },
    {
     "name": "stdout",
     "output_type": "stream",
     "text": [
      "Error downloading data: No data found for IBREALEST.BO in the given date range.\n"
     ]
    },
    {
     "name": "stderr",
     "output_type": "stream",
     "text": [
      "[*********************100%***********************]  1 of 1 completed\n",
      "\n",
      "1 Failed download:\n",
      "['CAMLINFIN.BO']: YFTzMissingError('possibly delisted; no timezone found')\n",
      "Processing Stocks:  70%|██████▉   | 2037/2919 [25:21<17:24,  1.18s/it]"
     ]
    },
    {
     "name": "stdout",
     "output_type": "stream",
     "text": [
      "Error downloading data: No data found for CAMLINFIN.BO in the given date range.\n"
     ]
    },
    {
     "name": "stderr",
     "output_type": "stream",
     "text": [
      "[*********************100%***********************]  1 of 1 completed\n",
      "[*********************100%***********************]  1 of 1 completeds]\n",
      "[*********************100%***********************]  1 of 1 completeds]\n",
      "[*********************100%***********************]  1 of 1 completeds]\n",
      "[*********************100%***********************]  1 of 1 completeds]\n",
      "[*********************100%***********************]  1 of 1 completeds]\n",
      "[*********************100%***********************]  1 of 1 completeds]\n",
      "[*********************100%***********************]  1 of 1 completeds]\n",
      "\n",
      "1 Failed download:\n",
      "['MIC.BO']: YFTzMissingError('possibly delisted; no timezone found')\n",
      "Processing Stocks:  70%|███████   | 2045/2919 [25:25<10:44,  1.36it/s]"
     ]
    },
    {
     "name": "stdout",
     "output_type": "stream",
     "text": [
      "Error downloading data: No data found for MIC.BO in the given date range.\n"
     ]
    },
    {
     "name": "stderr",
     "output_type": "stream",
     "text": [
      "[*********************100%***********************]  1 of 1 completed\n",
      "[*********************100%***********************]  1 of 1 completeds]\n",
      "[*********************100%***********************]  1 of 1 completeds]\n",
      "[*********************100%***********************]  1 of 1 completeds]\n",
      "[*********************100%***********************]  1 of 1 completeds]\n",
      "[*********************100%***********************]  1 of 1 completeds]\n",
      "[*********************100%***********************]  1 of 1 completeds]\n",
      "[*********************100%***********************]  1 of 1 completeds]\n",
      "\n",
      "1 Failed download:\n",
      "['MEGH.BO']: YFTzMissingError('possibly delisted; no timezone found')\n",
      "Processing Stocks:  70%|███████   | 2053/2919 [25:29<09:50,  1.47it/s]"
     ]
    },
    {
     "name": "stdout",
     "output_type": "stream",
     "text": [
      "Error downloading data: No data found for MEGH.BO in the given date range.\n"
     ]
    },
    {
     "name": "stderr",
     "output_type": "stream",
     "text": [
      "[*********************100%***********************]  1 of 1 completed\n",
      "[*********************100%***********************]  1 of 1 completeds]\n",
      "[*********************100%***********************]  1 of 1 completeds]\n",
      "[*********************100%***********************]  1 of 1 completeds]\n",
      "[*********************100%***********************]  1 of 1 completeds]\n",
      "[*********************100%***********************]  1 of 1 completeds]\n",
      "[*********************100%***********************]  1 of 1 completeds]\n",
      "[*********************100%***********************]  1 of 1 completeds]\n",
      "\n",
      "1 Failed download:\n",
      "['SURYACHAKRA.BO']: YFTzMissingError('possibly delisted; no timezone found')\n",
      "Processing Stocks:  71%|███████   | 2061/2919 [25:33<10:33,  1.36it/s]"
     ]
    },
    {
     "name": "stdout",
     "output_type": "stream",
     "text": [
      "Error downloading data: No data found for SURYACHAKRA.BO in the given date range.\n"
     ]
    },
    {
     "name": "stderr",
     "output_type": "stream",
     "text": [
      "[*********************100%***********************]  1 of 1 completed\n",
      "[*********************100%***********************]  1 of 1 completeds]\n",
      "\n",
      "1 Failed download:\n",
      "['SIMPLEX.BO']: YFTzMissingError('possibly delisted; no timezone found')\n",
      "Processing Stocks:  71%|███████   | 2063/2919 [25:36<15:59,  1.12s/it]"
     ]
    },
    {
     "name": "stdout",
     "output_type": "stream",
     "text": [
      "Error downloading data: No data found for SIMPLEX.BO in the given date range.\n"
     ]
    },
    {
     "name": "stderr",
     "output_type": "stream",
     "text": [
      "[*********************100%***********************]  1 of 1 completed\n",
      "[*********************100%***********************]  1 of 1 completeds]\n",
      "[*********************100%***********************]  1 of 1 completeds]\n",
      "\n",
      "1 Failed download:\n",
      "['ZYLOG.BO']: YFTzMissingError('possibly delisted; no timezone found')\n",
      "Processing Stocks:  71%|███████   | 2066/2919 [25:38<14:48,  1.04s/it]"
     ]
    },
    {
     "name": "stdout",
     "output_type": "stream",
     "text": [
      "Error downloading data: No data found for ZYLOG.BO in the given date range.\n"
     ]
    },
    {
     "name": "stderr",
     "output_type": "stream",
     "text": [
      "[*********************100%***********************]  1 of 1 completed\n",
      "[*********************100%***********************]  1 of 1 completeds]\n",
      "[*********************100%***********************]  1 of 1 completeds]\n",
      "\n",
      "1 Failed download:\n",
      "['SELMCL.BO']: YFTzMissingError('possibly delisted; no timezone found')\n",
      "Processing Stocks:  71%|███████   | 2069/2919 [25:41<12:59,  1.09it/s]"
     ]
    },
    {
     "name": "stdout",
     "output_type": "stream",
     "text": [
      "Error downloading data: No data found for SELMCL.BO in the given date range.\n"
     ]
    },
    {
     "name": "stderr",
     "output_type": "stream",
     "text": [
      "[*********************100%***********************]  1 of 1 completed\n",
      "[*********************100%***********************]  1 of 1 completeds]\n",
      "[*********************100%***********************]  1 of 1 completeds]\n",
      "[*********************100%***********************]  1 of 1 completeds]\n",
      "[*********************100%***********************]  1 of 1 completeds]\n",
      "[*********************100%***********************]  1 of 1 completeds]\n",
      "[*********************100%***********************]  1 of 1 completeds]\n",
      "[*********************100%***********************]  1 of 1 completeds]\n",
      "[*********************100%***********************]  1 of 1 completeds]\n",
      "[*********************100%***********************]  1 of 1 completeds]\n",
      "[*********************100%***********************]  1 of 1 completeds]\n",
      "[*********************100%***********************]  1 of 1 completeds]\n",
      "\n",
      "1 Failed download:\n",
      "['SEINV.BO']: YFTzMissingError('possibly delisted; no timezone found')\n",
      "Processing Stocks:  71%|███████▏  | 2081/2919 [25:48<11:55,  1.17it/s]"
     ]
    },
    {
     "name": "stdout",
     "output_type": "stream",
     "text": [
      "Error downloading data: No data found for SEINV.BO in the given date range.\n"
     ]
    },
    {
     "name": "stderr",
     "output_type": "stream",
     "text": [
      "[*********************100%***********************]  1 of 1 completed\n",
      "[*********************100%***********************]  1 of 1 completeds]\n",
      "[*********************100%***********************]  1 of 1 completeds]\n",
      "[*********************100%***********************]  1 of 1 completeds]\n",
      "\n",
      "1 Failed download:\n",
      "['IL&AMP;FSENGG.BO']: YFTzMissingError('possibly delisted; no timezone found')\n",
      "Processing Stocks:  71%|███████▏  | 2085/2919 [25:51<12:50,  1.08it/s]"
     ]
    },
    {
     "name": "stdout",
     "output_type": "stream",
     "text": [
      "Error downloading data: No data found for IL&amp;FSENGG.BO in the given date range.\n"
     ]
    },
    {
     "name": "stderr",
     "output_type": "stream",
     "text": [
      "[*********************100%***********************]  1 of 1 completed\n",
      "\n",
      "1 Failed download:\n",
      "['SHARONBIO.BO']: YFTzMissingError('possibly delisted; no timezone found')\n",
      "Processing Stocks:  71%|███████▏  | 2086/2919 [25:53<14:24,  1.04s/it]"
     ]
    },
    {
     "name": "stdout",
     "output_type": "stream",
     "text": [
      "Error downloading data: No data found for SHARONBIO.BO in the given date range.\n"
     ]
    },
    {
     "name": "stderr",
     "output_type": "stream",
     "text": [
      "[*********************100%***********************]  1 of 1 completed\n",
      "[*********************100%***********************]  1 of 1 completeds]\n",
      "[*********************100%***********************]  1 of 1 completeds]\n",
      "[*********************100%***********************]  1 of 1 completeds]\n",
      "\n",
      "1 Failed download:\n",
      "['EDL.BO']: YFTzMissingError('possibly delisted; no timezone found')\n",
      "Processing Stocks:  72%|███████▏  | 2090/2919 [25:55<11:15,  1.23it/s]"
     ]
    },
    {
     "name": "stdout",
     "output_type": "stream",
     "text": [
      "Error downloading data: No data found for EDL.BO in the given date range.\n"
     ]
    },
    {
     "name": "stderr",
     "output_type": "stream",
     "text": [
      "[*********************100%***********************]  1 of 1 completed\n",
      "[*********************100%***********************]  1 of 1 completeds]\n",
      "[*********************100%***********************]  1 of 1 completeds]\n",
      "\n",
      "1 Failed download:\n",
      "['RJL.BO']: YFTzMissingError('possibly delisted; no timezone found')\n",
      "Processing Stocks:  72%|███████▏  | 2093/2919 [25:58<14:02,  1.02s/it]"
     ]
    },
    {
     "name": "stdout",
     "output_type": "stream",
     "text": [
      "Error downloading data: No data found for RJL.BO in the given date range.\n"
     ]
    },
    {
     "name": "stderr",
     "output_type": "stream",
     "text": [
      "[*********************100%***********************]  1 of 1 completed\n",
      "[*********************100%***********************]  1 of 1 completeds]\n",
      "[*********************100%***********************]  1 of 1 completeds]\n",
      "[*********************100%***********************]  1 of 1 completeds]\n",
      "\n",
      "1 Failed download:\n",
      "['TRIL.BO']: YFTzMissingError('possibly delisted; no timezone found')\n",
      "Processing Stocks:  72%|███████▏  | 2097/2919 [26:01<12:51,  1.07it/s]"
     ]
    },
    {
     "name": "stdout",
     "output_type": "stream",
     "text": [
      "Error downloading data: No data found for TRIL.BO in the given date range.\n"
     ]
    },
    {
     "name": "stderr",
     "output_type": "stream",
     "text": [
      "[*********************100%***********************]  1 of 1 completed\n",
      "[*********************100%***********************]  1 of 1 completeds]\n",
      "[*********************100%***********************]  1 of 1 completeds]\n",
      "[*********************100%***********************]  1 of 1 completeds]\n",
      "[*********************100%***********************]  1 of 1 completeds]\n",
      "[*********************100%***********************]  1 of 1 completeds]\n",
      "[*********************100%***********************]  1 of 1 completeds]\n",
      "[*********************100%***********************]  1 of 1 completeds]\n",
      "\n",
      "1 Failed download:\n",
      "['CAPF.BO']: ValueError('Length mismatch: Expected axis has 2 elements, new values have 1 elements')\n",
      "Processing Stocks:  72%|███████▏  | 2105/2919 [26:06<07:44,  1.75it/s]"
     ]
    },
    {
     "name": "stdout",
     "output_type": "stream",
     "text": [
      "Error downloading data: No data found for CAPF.BO in the given date range.\n"
     ]
    },
    {
     "name": "stderr",
     "output_type": "stream",
     "text": [
      "[*********************100%***********************]  1 of 1 completed\n",
      "[*********************100%***********************]  1 of 1 completeds]\n",
      "[*********************100%***********************]  1 of 1 completeds]\n",
      "[*********************100%***********************]  1 of 1 completeds]\n",
      "[*********************100%***********************]  1 of 1 completeds]\n",
      "[*********************100%***********************]  1 of 1 completeds]\n",
      "\n",
      "1 Failed download:\n",
      "['SHRIRAMEPC.BO']: YFTzMissingError('possibly delisted; no timezone found')\n",
      "Processing Stocks:  72%|███████▏  | 2111/2919 [26:10<11:31,  1.17it/s]"
     ]
    },
    {
     "name": "stdout",
     "output_type": "stream",
     "text": [
      "Error downloading data: No data found for SHRIRAMEPC.BO in the given date range.\n"
     ]
    },
    {
     "name": "stderr",
     "output_type": "stream",
     "text": [
      "[*********************100%***********************]  1 of 1 completed\n",
      "[*********************100%***********************]  1 of 1 completeds]\n",
      "[*********************100%***********************]  1 of 1 completeds]\n",
      "[*********************100%***********************]  1 of 1 completeds]\n",
      "[*********************100%***********************]  1 of 1 completeds]\n",
      "[*********************100%***********************]  1 of 1 completeds]\n",
      "[*********************100%***********************]  1 of 1 completeds]\n",
      "[*********************100%***********************]  1 of 1 completeds]\n",
      "\n",
      "1 Failed download:\n",
      "['GAMMNINFRA.BO']: YFTzMissingError('possibly delisted; no timezone found')\n",
      "Processing Stocks:  73%|███████▎  | 2119/2919 [26:15<11:31,  1.16it/s]"
     ]
    },
    {
     "name": "stdout",
     "output_type": "stream",
     "text": [
      "Error downloading data: No data found for GAMMNINFRA.BO in the given date range.\n"
     ]
    },
    {
     "name": "stderr",
     "output_type": "stream",
     "text": [
      "[*********************100%***********************]  1 of 1 completed\n",
      "\n",
      "1 Failed download:\n",
      "['IBVENTURES.BO']: YFTzMissingError('possibly delisted; no timezone found')\n",
      "Processing Stocks:  73%|███████▎  | 2120/2919 [26:16<13:11,  1.01it/s]"
     ]
    },
    {
     "name": "stdout",
     "output_type": "stream",
     "text": [
      "Error downloading data: No data found for IBVENTURES.BO in the given date range.\n"
     ]
    },
    {
     "name": "stderr",
     "output_type": "stream",
     "text": [
      "[*********************100%***********************]  1 of 1 completed\n",
      "\n",
      "1 Failed download:\n",
      "['SITASHREE.BO']: YFTzMissingError('possibly delisted; no timezone found')\n",
      "Processing Stocks:  73%|███████▎  | 2121/2919 [26:18<14:47,  1.11s/it]"
     ]
    },
    {
     "name": "stdout",
     "output_type": "stream",
     "text": [
      "Error downloading data: No data found for SITASHREE.BO in the given date range.\n"
     ]
    },
    {
     "name": "stderr",
     "output_type": "stream",
     "text": [
      "[*********************100%***********************]  1 of 1 completed\n",
      "\n",
      "1 Failed download:\n",
      "['TWL.BO']: YFTzMissingError('possibly delisted; no timezone found')\n",
      "Processing Stocks:  73%|███████▎  | 2122/2919 [26:20<20:13,  1.52s/it]"
     ]
    },
    {
     "name": "stdout",
     "output_type": "stream",
     "text": [
      "Error downloading data: No data found for TWL.BO in the given date range.\n"
     ]
    },
    {
     "name": "stderr",
     "output_type": "stream",
     "text": [
      "[*********************100%***********************]  1 of 1 completed\n",
      "[*********************100%***********************]  1 of 1 completedt]\n",
      "[*********************100%***********************]  1 of 1 completeds]\n",
      "[*********************100%***********************]  1 of 1 completeds]\n",
      "[*********************100%***********************]  1 of 1 completeds]\n",
      "[*********************100%***********************]  1 of 1 completeds]\n",
      "[*********************100%***********************]  1 of 1 completeds]\n",
      "[*********************100%***********************]  1 of 1 completeds]\n",
      "\n",
      "1 Failed download:\n",
      "['KTKSENSEX.BO']: YFTzMissingError('possibly delisted; no timezone found')\n",
      "Processing Stocks:  73%|███████▎  | 2130/2919 [26:25<10:42,  1.23it/s]"
     ]
    },
    {
     "name": "stdout",
     "output_type": "stream",
     "text": [
      "Error downloading data: No data found for KTKSENSEX.BO in the given date range.\n"
     ]
    },
    {
     "name": "stderr",
     "output_type": "stream",
     "text": [
      "[*********************100%***********************]  1 of 1 completed\n",
      "[*********************100%***********************]  1 of 1 completeds]\n",
      "[*********************100%***********************]  1 of 1 completeds]\n",
      "\n",
      "1 Failed download:\n",
      "['BAFNAPHARM.BO']: YFTzMissingError('possibly delisted; no timezone found')\n",
      "Processing Stocks:  73%|███████▎  | 2133/2919 [26:28<13:36,  1.04s/it]"
     ]
    },
    {
     "name": "stdout",
     "output_type": "stream",
     "text": [
      "Error downloading data: No data found for BAFNAPHARM.BO in the given date range.\n"
     ]
    },
    {
     "name": "stderr",
     "output_type": "stream",
     "text": [
      "[*********************100%***********************]  1 of 1 completed\n",
      "[*********************100%***********************]  1 of 1 completeds]\n",
      "\n",
      "1 Failed download:\n",
      "['SEZAL.BO']: YFTzMissingError('possibly delisted; no timezone found')\n",
      "Processing Stocks:  73%|███████▎  | 2135/2919 [26:30<15:28,  1.18s/it]"
     ]
    },
    {
     "name": "stdout",
     "output_type": "stream",
     "text": [
      "Error downloading data: No data found for SEZAL.BO in the given date range.\n"
     ]
    },
    {
     "name": "stderr",
     "output_type": "stream",
     "text": [
      "[*********************100%***********************]  1 of 1 completed\n",
      "[*********************100%***********************]  1 of 1 completeds]\n",
      "[*********************100%***********************]  1 of 1 completeds]\n",
      "\n",
      "1 Failed download:\n",
      "['LEHIL.BO']: YFTzMissingError('possibly delisted; no timezone found')\n",
      "Processing Stocks:  73%|███████▎  | 2138/2919 [26:32<12:00,  1.08it/s]"
     ]
    },
    {
     "name": "stdout",
     "output_type": "stream",
     "text": [
      "Error downloading data: No data found for LEHIL.BO in the given date range.\n"
     ]
    },
    {
     "name": "stderr",
     "output_type": "stream",
     "text": [
      "[*********************100%***********************]  1 of 1 completed\n",
      "\n",
      "1 Failed download:\n",
      "['SOMICONV.BO']: YFTzMissingError('possibly delisted; no timezone found')\n",
      "Processing Stocks:  73%|███████▎  | 2139/2919 [26:34<15:00,  1.15s/it]"
     ]
    },
    {
     "name": "stdout",
     "output_type": "stream",
     "text": [
      "Error downloading data: No data found for SOMICONV.BO in the given date range.\n"
     ]
    },
    {
     "name": "stderr",
     "output_type": "stream",
     "text": [
      "[*********************100%***********************]  1 of 1 completed\n",
      "\n",
      "1 Failed download:\n",
      "['OISL.BO']: YFTzMissingError('possibly delisted; no timezone found')\n",
      "Processing Stocks:  73%|███████▎  | 2140/2919 [26:35<16:12,  1.25s/it]"
     ]
    },
    {
     "name": "stdout",
     "output_type": "stream",
     "text": [
      "Error downloading data: No data found for OISL.BO in the given date range.\n"
     ]
    },
    {
     "name": "stderr",
     "output_type": "stream",
     "text": [
      "[*********************100%***********************]  1 of 1 completed\n",
      "[*********************100%***********************]  1 of 1 completedt]\n",
      "[*********************100%***********************]  1 of 1 completeds]\n",
      "[*********************100%***********************]  1 of 1 completeds]\n",
      "[*********************100%***********************]  1 of 1 completeds]\n",
      "\n",
      "1 Failed download:\n",
      "['WABCOINDIA.BO']: YFTzMissingError('possibly delisted; no timezone found')\n",
      "Processing Stocks:  73%|███████▎  | 2145/2919 [26:38<10:24,  1.24it/s]"
     ]
    },
    {
     "name": "stdout",
     "output_type": "stream",
     "text": [
      "Error downloading data: No data found for WABCOINDIA.BO in the given date range.\n"
     ]
    },
    {
     "name": "stderr",
     "output_type": "stream",
     "text": [
      "[*********************100%***********************]  1 of 1 completed\n",
      "[*********************100%***********************]  1 of 1 completeds]\n",
      "[*********************100%***********************]  1 of 1 completeds]\n",
      "[*********************100%***********************]  1 of 1 completeds]\n",
      "\n",
      "1 Failed download:\n",
      "['GISOLUTION.BO']: YFTzMissingError('possibly delisted; no timezone found')\n",
      "Processing Stocks:  74%|███████▎  | 2149/2919 [26:41<10:57,  1.17it/s]"
     ]
    },
    {
     "name": "stdout",
     "output_type": "stream",
     "text": [
      "Error downloading data: No data found for GISOLUTION.BO in the given date range.\n"
     ]
    },
    {
     "name": "stderr",
     "output_type": "stream",
     "text": [
      "[*********************100%***********************]  1 of 1 completed\n",
      "\n",
      "1 Failed download:\n",
      "['ARROWTEX.BO']: YFTzMissingError('possibly delisted; no timezone found')\n",
      "Processing Stocks:  74%|███████▎  | 2150/2919 [26:43<14:00,  1.09s/it]"
     ]
    },
    {
     "name": "stdout",
     "output_type": "stream",
     "text": [
      "Error downloading data: No data found for ARROWTEX.BO in the given date range.\n"
     ]
    },
    {
     "name": "stderr",
     "output_type": "stream",
     "text": [
      "[*********************100%***********************]  1 of 1 completed\n",
      "[*********************100%***********************]  1 of 1 completeds]\n",
      "[*********************100%***********************]  1 of 1 completeds]\n",
      "[*********************100%***********************]  1 of 1 completeds]\n",
      "\n",
      "1 Failed download:\n",
      "['RAJOIL.BO']: YFTzMissingError('possibly delisted; no timezone found')\n",
      "Processing Stocks:  74%|███████▍  | 2154/2919 [26:46<12:30,  1.02it/s]"
     ]
    },
    {
     "name": "stdout",
     "output_type": "stream",
     "text": [
      "Error downloading data: No data found for RAJOIL.BO in the given date range.\n"
     ]
    },
    {
     "name": "stderr",
     "output_type": "stream",
     "text": [
      "[*********************100%***********************]  1 of 1 completed\n",
      "[*********************100%***********************]  1 of 1 completeds]\n",
      "[*********************100%***********************]  1 of 1 completeds]\n",
      "[*********************100%***********************]  1 of 1 completeds]\n",
      "[*********************100%***********************]  1 of 1 completeds]\n",
      "[*********************100%***********************]  1 of 1 completeds]\n",
      "[*********************100%***********************]  1 of 1 completeds]\n",
      "[*********************100%***********************]  1 of 1 completeds]\n",
      "[*********************100%***********************]  1 of 1 completeds]\n",
      "[*********************100%***********************]  1 of 1 completeds]\n",
      "\n",
      "1 Failed download:\n",
      "['SQSBFSI.BO']: YFTzMissingError('possibly delisted; no timezone found')\n",
      "Processing Stocks:  74%|███████▍  | 2164/2919 [26:52<10:53,  1.15it/s]"
     ]
    },
    {
     "name": "stdout",
     "output_type": "stream",
     "text": [
      "Error downloading data: No data found for SQSBFSI.BO in the given date range.\n"
     ]
    },
    {
     "name": "stderr",
     "output_type": "stream",
     "text": [
      "[*********************100%***********************]  1 of 1 completed\n",
      "[*********************100%***********************]  1 of 1 completeds]\n",
      "[*********************100%***********************]  1 of 1 completeds]\n",
      "[*********************100%***********************]  1 of 1 completeds]\n",
      "\n",
      "1 Failed download:\n",
      "['COX&AMP;KINGS.BO']: YFTzMissingError('possibly delisted; no timezone found')\n",
      "Processing Stocks:  74%|███████▍  | 2168/2919 [26:55<10:51,  1.15it/s]"
     ]
    },
    {
     "name": "stdout",
     "output_type": "stream",
     "text": [
      "Error downloading data: No data found for COX&amp;KINGS.BO in the given date range.\n"
     ]
    },
    {
     "name": "stderr",
     "output_type": "stream",
     "text": [
      "[*********************100%***********************]  1 of 1 completed\n",
      "[*********************100%***********************]  1 of 1 completeds]\n",
      "[*********************100%***********************]  1 of 1 completeds]\n",
      "[*********************100%***********************]  1 of 1 completeds]\n",
      "[*********************100%***********************]  1 of 1 completeds]\n",
      "[*********************100%***********************]  1 of 1 completeds]\n",
      "[*********************100%***********************]  1 of 1 completeds]\n",
      "[*********************100%***********************]  1 of 1 completeds]\n",
      "[*********************100%***********************]  1 of 1 completeds]\n",
      "\n",
      "1 Failed download:\n",
      "['SYNCOM.BO']: YFTzMissingError('possibly delisted; no timezone found')\n",
      "Processing Stocks:  75%|███████▍  | 2177/2919 [27:00<10:52,  1.14it/s]"
     ]
    },
    {
     "name": "stdout",
     "output_type": "stream",
     "text": [
      "Error downloading data: No data found for SYNCOM.BO in the given date range.\n"
     ]
    },
    {
     "name": "stderr",
     "output_type": "stream",
     "text": [
      "[*********************100%***********************]  1 of 1 completed\n",
      "[*********************100%***********************]  1 of 1 completeds]\n",
      "[*********************100%***********************]  1 of 1 completeds]\n",
      "[*********************100%***********************]  1 of 1 completeds]\n",
      "[*********************100%***********************]  1 of 1 completeds]\n",
      "[*********************100%***********************]  1 of 1 completeds]\n",
      "[*********************100%***********************]  1 of 1 completeds]\n",
      "[*********************100%***********************]  1 of 1 completeds]\n",
      "[*********************100%***********************]  1 of 1 completeds]\n",
      "[*********************100%***********************]  1 of 1 completeds]\n",
      "\n",
      "1 Failed download:\n",
      "['UNITEDBNK.BO']: YFTzMissingError('possibly delisted; no timezone found')\n",
      "Processing Stocks:  75%|███████▍  | 2187/2919 [27:05<08:29,  1.44it/s]"
     ]
    },
    {
     "name": "stdout",
     "output_type": "stream",
     "text": [
      "Error downloading data: No data found for UNITEDBNK.BO in the given date range.\n"
     ]
    },
    {
     "name": "stderr",
     "output_type": "stream",
     "text": [
      "[*********************100%***********************]  1 of 1 completed\n",
      "[*********************100%***********************]  1 of 1 completeds]\n",
      "\n",
      "1 Failed download:\n",
      "['IL&AMP;FSTRANS.BO']: YFTzMissingError('possibly delisted; no timezone found')\n",
      "Processing Stocks:  75%|███████▍  | 2189/2919 [27:07<10:07,  1.20it/s]"
     ]
    },
    {
     "name": "stdout",
     "output_type": "stream",
     "text": [
      "Error downloading data: No data found for IL&amp;FSTRANS.BO in the given date range.\n"
     ]
    },
    {
     "name": "stderr",
     "output_type": "stream",
     "text": [
      "[*********************100%***********************]  1 of 1 completed\n",
      "\n",
      "1 Failed download:\n",
      "['PRADIP.BO']: YFTzMissingError('possibly delisted; no timezone found')\n",
      "Processing Stocks:  75%|███████▌  | 2190/2919 [27:08<12:44,  1.05s/it]"
     ]
    },
    {
     "name": "stdout",
     "output_type": "stream",
     "text": [
      "Error downloading data: No data found for PRADIP.BO in the given date range.\n"
     ]
    },
    {
     "name": "stderr",
     "output_type": "stream",
     "text": [
      "[*********************100%***********************]  1 of 1 completed\n",
      "[*********************100%***********************]  1 of 1 completeds]\n",
      "[*********************100%***********************]  1 of 1 completeds]\n",
      "[*********************100%***********************]  1 of 1 completeds]\n",
      "[*********************100%***********************]  1 of 1 completeds]\n",
      "[*********************100%***********************]  1 of 1 completeds]\n",
      "[*********************100%***********************]  1 of 1 completeds]\n",
      "\n",
      "1 Failed download:\n",
      "['NITESHEST.BO']: YFTzMissingError('possibly delisted; no timezone found')\n",
      "Processing Stocks:  75%|███████▌  | 2197/2919 [27:12<08:16,  1.45it/s]"
     ]
    },
    {
     "name": "stdout",
     "output_type": "stream",
     "text": [
      "Error downloading data: No data found for NITESHEST.BO in the given date range.\n"
     ]
    },
    {
     "name": "stderr",
     "output_type": "stream",
     "text": [
      "[*********************100%***********************]  1 of 1 completed\n",
      "[*********************100%***********************]  1 of 1 completeds]\n",
      "\n",
      "1 Failed download:\n",
      "['MANDHANA.BO']: YFTzMissingError('possibly delisted; no timezone found')\n",
      "Processing Stocks:  75%|███████▌  | 2199/2919 [27:14<09:44,  1.23it/s]"
     ]
    },
    {
     "name": "stdout",
     "output_type": "stream",
     "text": [
      "Error downloading data: No data found for MANDHANA.BO in the given date range.\n"
     ]
    },
    {
     "name": "stderr",
     "output_type": "stream",
     "text": [
      "[*********************100%***********************]  1 of 1 completed\n",
      "[*********************100%***********************]  1 of 1 completeds]\n",
      "[*********************100%***********************]  1 of 1 completeds]\n",
      "\n",
      "1 Failed download:\n",
      "['PARABDRUGS.BO']: YFTzMissingError('possibly delisted; no timezone found')\n",
      "Processing Stocks:  75%|███████▌  | 2202/2919 [27:17<14:16,  1.19s/it]"
     ]
    },
    {
     "name": "stdout",
     "output_type": "stream",
     "text": [
      "Error downloading data: No data found for PARABDRUGS.BO in the given date range.\n"
     ]
    },
    {
     "name": "stderr",
     "output_type": "stream",
     "text": [
      "[*********************100%***********************]  1 of 1 completed\n",
      "[*********************100%***********************]  1 of 1 completeds]\n",
      "[*********************100%***********************]  1 of 1 completeds]\n",
      "[*********************100%***********************]  1 of 1 completeds]\n",
      "[*********************100%***********************]  1 of 1 completeds]\n",
      "[*********************100%***********************]  1 of 1 completeds]\n",
      "\n",
      "1 Failed download:\n",
      "['BHARATFIN.BO']: YFTzMissingError('possibly delisted; no timezone found')\n",
      "Processing Stocks:  76%|███████▌  | 2208/2919 [27:21<09:20,  1.27it/s]"
     ]
    },
    {
     "name": "stdout",
     "output_type": "stream",
     "text": [
      "Error downloading data: No data found for BHARATFIN.BO in the given date range.\n"
     ]
    },
    {
     "name": "stderr",
     "output_type": "stream",
     "text": [
      "[*********************100%***********************]  1 of 1 completed\n",
      "\n",
      "1 Failed download:\n",
      "['BAJAJCORP.BO']: YFTzMissingError('possibly delisted; no timezone found')\n",
      "Processing Stocks:  76%|███████▌  | 2209/2919 [27:22<10:50,  1.09it/s]"
     ]
    },
    {
     "name": "stdout",
     "output_type": "stream",
     "text": [
      "Error downloading data: No data found for BAJAJCORP.BO in the given date range.\n"
     ]
    },
    {
     "name": "stderr",
     "output_type": "stream",
     "text": [
      "[*********************100%***********************]  1 of 1 completed\n",
      "[*********************100%***********************]  1 of 1 completeds]\n",
      "[*********************100%***********************]  1 of 1 completeds]\n",
      "[*********************100%***********************]  1 of 1 completeds]\n",
      "[*********************100%***********************]  1 of 1 completeds]\n",
      "[*********************100%***********************]  1 of 1 completeds]\n",
      "[*********************100%***********************]  1 of 1 completeds]\n",
      "[*********************100%***********************]  1 of 1 completeds]\n",
      "[*********************100%***********************]  1 of 1 completeds]\n",
      "[*********************100%***********************]  1 of 1 completeds]\n",
      "[*********************100%***********************]  1 of 1 completeds]\n",
      "[*********************100%***********************]  1 of 1 completeds]\n",
      "[*********************100%***********************]  1 of 1 completeds]\n",
      "[*********************100%***********************]  1 of 1 completeds]\n",
      "\n",
      "1 Failed download:\n",
      "['CEBBCO.BO']: YFTzMissingError('possibly delisted; no timezone found')\n",
      "Processing Stocks:  76%|███████▌  | 2223/2919 [27:29<08:51,  1.31it/s]"
     ]
    },
    {
     "name": "stdout",
     "output_type": "stream",
     "text": [
      "Error downloading data: No data found for CEBBCO.BO in the given date range.\n"
     ]
    },
    {
     "name": "stderr",
     "output_type": "stream",
     "text": [
      "[*********************100%***********************]  1 of 1 completed\n",
      "[*********************100%***********************]  1 of 1 completeds]\n",
      "[*********************100%***********************]  1 of 1 completeds]\n",
      "\n",
      "1 Failed download:\n",
      "['GAL.BO']: YFTzMissingError('possibly delisted; no timezone found')\n",
      "Processing Stocks:  76%|███████▋  | 2226/2919 [27:31<09:21,  1.23it/s]"
     ]
    },
    {
     "name": "stdout",
     "output_type": "stream",
     "text": [
      "Error downloading data: No data found for GAL.BO in the given date range.\n"
     ]
    },
    {
     "name": "stderr",
     "output_type": "stream",
     "text": [
      "[*********************100%***********************]  1 of 1 completed\n",
      "\n",
      "1 Failed download:\n",
      "['BSLIMITED.BO']: YFTzMissingError('possibly delisted; no timezone found')\n",
      "Processing Stocks:  76%|███████▋  | 2227/2919 [27:33<12:10,  1.06s/it]"
     ]
    },
    {
     "name": "stdout",
     "output_type": "stream",
     "text": [
      "Error downloading data: No data found for BSLIMITED.BO in the given date range.\n"
     ]
    },
    {
     "name": "stderr",
     "output_type": "stream",
     "text": [
      "[*********************100%***********************]  1 of 1 completed\n",
      "[*********************100%***********************]  1 of 1 completeds]\n",
      "\n",
      "1 Failed download:\n",
      "['TECHNO.BO']: YFPricesMissingError('possibly delisted; no price data found  (1d 2012-01-01 -> 2025-01-01)')\n",
      "Processing Stocks:  76%|███████▋  | 2229/2919 [27:34<08:08,  1.41it/s]"
     ]
    },
    {
     "name": "stdout",
     "output_type": "stream",
     "text": [
      "Error downloading data: No data found for TECHNO.BO in the given date range.\n"
     ]
    },
    {
     "name": "stderr",
     "output_type": "stream",
     "text": [
      "[*********************100%***********************]  1 of 1 completed\n",
      "[*********************100%***********************]  1 of 1 completeds]\n",
      "[*********************100%***********************]  1 of 1 completeds]\n",
      "[*********************100%***********************]  1 of 1 completeds]\n",
      "[*********************100%***********************]  1 of 1 completeds]\n",
      "[*********************100%***********************]  1 of 1 completeds]\n",
      "\n",
      "1 Failed download:\n",
      "['CLARIS.BO']: ValueError('Length mismatch: Expected axis has 2 elements, new values have 1 elements')\n",
      "Processing Stocks:  77%|███████▋  | 2235/2919 [27:36<05:36,  2.03it/s]"
     ]
    },
    {
     "name": "stdout",
     "output_type": "stream",
     "text": [
      "Error downloading data: No data found for CLARIS.BO in the given date range.\n"
     ]
    },
    {
     "name": "stderr",
     "output_type": "stream",
     "text": [
      "[*********************100%***********************]  1 of 1 completed\n",
      "[*********************100%***********************]  1 of 1 completeds]\n",
      "[*********************100%***********************]  1 of 1 completeds]\n",
      "[*********************100%***********************]  1 of 1 completeds]\n",
      "[*********************100%***********************]  1 of 1 completeds]\n",
      "[*********************100%***********************]  1 of 1 completeds]\n",
      "[*********************100%***********************]  1 of 1 completeds]\n",
      "[*********************100%***********************]  1 of 1 completeds]\n",
      "\n",
      "1 Failed download:\n",
      "['SPYL.BO']: YFTzMissingError('possibly delisted; no timezone found')\n",
      "Processing Stocks:  77%|███████▋  | 2243/2919 [27:40<07:24,  1.52it/s]"
     ]
    },
    {
     "name": "stdout",
     "output_type": "stream",
     "text": [
      "Error downloading data: No data found for SPYL.BO in the given date range.\n"
     ]
    },
    {
     "name": "stderr",
     "output_type": "stream",
     "text": [
      "[*********************100%***********************]  1 of 1 completed\n",
      "[*********************100%***********************]  1 of 1 completeds]\n",
      "[*********************100%***********************]  1 of 1 completeds]\n",
      "[*********************100%***********************]  1 of 1 completeds]\n",
      "\n",
      "1 Failed download:\n",
      "['DALMIABHA.BO']: YFPricesMissingError('possibly delisted; no price data found  (1d 2012-01-01 -> 2025-01-01)')\n",
      "Processing Stocks:  77%|███████▋  | 2247/2919 [27:42<05:39,  1.98it/s]"
     ]
    },
    {
     "name": "stdout",
     "output_type": "stream",
     "text": [
      "Error downloading data: No data found for DALMIABHA.BO in the given date range.\n"
     ]
    },
    {
     "name": "stderr",
     "output_type": "stream",
     "text": [
      "[*********************100%***********************]  1 of 1 completed\n",
      "[*********************100%***********************]  1 of 1 completeds]\n",
      "[*********************100%***********************]  1 of 1 completeds]\n",
      "\n",
      "1 Failed download:\n",
      "['JUBLINDS.BO']: YFTzMissingError('possibly delisted; no timezone found')\n",
      "Processing Stocks:  77%|███████▋  | 2250/2919 [27:45<09:06,  1.23it/s]"
     ]
    },
    {
     "name": "stdout",
     "output_type": "stream",
     "text": [
      "Error downloading data: No data found for JUBLINDS.BO in the given date range.\n"
     ]
    },
    {
     "name": "stderr",
     "output_type": "stream",
     "text": [
      "[*********************100%***********************]  1 of 1 completed\n",
      "[*********************100%***********************]  1 of 1 completeds]\n",
      "[*********************100%***********************]  1 of 1 completeds]\n",
      "[*********************100%***********************]  1 of 1 completeds]\n",
      "[*********************100%***********************]  1 of 1 completeds]\n",
      "[*********************100%***********************]  1 of 1 completedt]\n",
      "[*********************100%***********************]  1 of 1 completedt]\n",
      "[*********************100%***********************]  1 of 1 completedt]\n",
      "[*********************100%***********************]  1 of 1 completeds]\n",
      "\n",
      "1 Failed download:\n",
      "['SHILPI.BO']: YFTzMissingError('possibly delisted; no timezone found')\n",
      "Processing Stocks:  77%|███████▋  | 2259/2919 [27:54<12:15,  1.11s/it]"
     ]
    },
    {
     "name": "stdout",
     "output_type": "stream",
     "text": [
      "Error downloading data: No data found for SHILPI.BO in the given date range.\n"
     ]
    },
    {
     "name": "stderr",
     "output_type": "stream",
     "text": [
      "[*********************100%***********************]  1 of 1 completed\n",
      "\n",
      "1 Failed download:\n",
      "['TCIDEVELOP.BO']: YFTzMissingError('possibly delisted; no timezone found')\n",
      "Processing Stocks:  77%|███████▋  | 2260/2919 [27:55<12:52,  1.17s/it]"
     ]
    },
    {
     "name": "stdout",
     "output_type": "stream",
     "text": [
      "Error downloading data: No data found for TCIDEVELOP.BO in the given date range.\n"
     ]
    },
    {
     "name": "stderr",
     "output_type": "stream",
     "text": [
      "[*********************100%***********************]  1 of 1 completed\n",
      "[*********************100%***********************]  1 of 1 completeds]\n",
      "[*********************100%***********************]  1 of 1 completeds]\n",
      "\n",
      "1 Failed download:\n",
      "['SERVALL.BO']: YFTzMissingError('possibly delisted; no timezone found')\n",
      "Processing Stocks:  78%|███████▊  | 2263/2919 [27:58<11:49,  1.08s/it]"
     ]
    },
    {
     "name": "stdout",
     "output_type": "stream",
     "text": [
      "Error downloading data: No data found for SERVALL.BO in the given date range.\n"
     ]
    },
    {
     "name": "stderr",
     "output_type": "stream",
     "text": [
      "[*********************100%***********************]  1 of 1 completed\n",
      "[*********************100%***********************]  1 of 1 completeds]\n",
      "\n",
      "1 Failed download:\n",
      "['SANGHVIFOR.BO']: YFTzMissingError('possibly delisted; no timezone found')\n",
      "Processing Stocks:  78%|███████▊  | 2265/2919 [28:00<12:46,  1.17s/it]"
     ]
    },
    {
     "name": "stdout",
     "output_type": "stream",
     "text": [
      "Error downloading data: No data found for SANGHVIFOR.BO in the given date range.\n"
     ]
    },
    {
     "name": "stderr",
     "output_type": "stream",
     "text": [
      "[*********************100%***********************]  1 of 1 completed\n",
      "[*********************100%***********************]  1 of 1 completeds]\n",
      "\n",
      "1 Failed download:\n",
      "['WEIZFOREX.BO']: YFTzMissingError('possibly delisted; no timezone found')\n",
      "Processing Stocks:  78%|███████▊  | 2267/2919 [28:03<14:39,  1.35s/it]"
     ]
    },
    {
     "name": "stdout",
     "output_type": "stream",
     "text": [
      "Error downloading data: No data found for WEIZFOREX.BO in the given date range.\n"
     ]
    },
    {
     "name": "stderr",
     "output_type": "stream",
     "text": [
      "[*********************100%***********************]  1 of 1 completed\n",
      "[*********************100%***********************]  1 of 1 completedt]\n",
      "\n",
      "1 Failed download:\n",
      "['KRIINFRA.BO']: YFTzMissingError('possibly delisted; no timezone found')\n",
      "Processing Stocks:  78%|███████▊  | 2269/2919 [28:05<13:41,  1.26s/it]"
     ]
    },
    {
     "name": "stdout",
     "output_type": "stream",
     "text": [
      "Error downloading data: No data found for KRIINFRA.BO in the given date range.\n"
     ]
    },
    {
     "name": "stderr",
     "output_type": "stream",
     "text": [
      "[*********************100%***********************]  1 of 1 completed\n",
      "[*********************100%***********************]  1 of 1 completedt]\n",
      "[*********************100%***********************]  1 of 1 completeds]\n",
      "\n",
      "1 Failed download:\n",
      "['L&AMP;TFH.BO']: YFTzMissingError('possibly delisted; no timezone found')\n",
      "Processing Stocks:  78%|███████▊  | 2272/2919 [28:08<12:17,  1.14s/it]"
     ]
    },
    {
     "name": "stdout",
     "output_type": "stream",
     "text": [
      "Error downloading data: No data found for L&amp;TFH.BO in the given date range.\n"
     ]
    },
    {
     "name": "stderr",
     "output_type": "stream",
     "text": [
      "[*********************100%***********************]  1 of 1 completed\n",
      "\n",
      "1 Failed download:\n",
      "['SORILHOLD.BO']: YFTzMissingError('possibly delisted; no timezone found')\n",
      "Processing Stocks:  78%|███████▊  | 2273/2919 [28:09<12:25,  1.15s/it]"
     ]
    },
    {
     "name": "stdout",
     "output_type": "stream",
     "text": [
      "Error downloading data: No data found for SORILHOLD.BO in the given date range.\n"
     ]
    },
    {
     "name": "stderr",
     "output_type": "stream",
     "text": [
      "[*********************100%***********************]  1 of 1 completed\n",
      "[*********************100%***********************]  1 of 1 completeds]\n",
      "[*********************100%***********************]  1 of 1 completeds]\n",
      "[*********************100%***********************]  1 of 1 completeds]\n",
      "[*********************100%***********************]  1 of 1 completeds]\n",
      "\n",
      "1 Failed download:\n",
      "['SRSLTD.BO']: YFTzMissingError('possibly delisted; no timezone found')\n",
      "Processing Stocks:  78%|███████▊  | 2278/2919 [28:13<11:28,  1.07s/it]"
     ]
    },
    {
     "name": "stdout",
     "output_type": "stream",
     "text": [
      "Error downloading data: No data found for SRSLTD.BO in the given date range.\n"
     ]
    },
    {
     "name": "stderr",
     "output_type": "stream",
     "text": [
      "[*********************100%***********************]  1 of 1 completed\n",
      "[*********************100%***********************]  1 of 1 completeds]\n",
      "[*********************100%***********************]  1 of 1 completeds]\n",
      "[*********************100%***********************]  1 of 1 completeds]\n",
      "\n",
      "1 Failed download:\n",
      "['PRAKASHCON.BO']: YFTzMissingError('possibly delisted; no timezone found')\n",
      "Processing Stocks:  78%|███████▊  | 2282/2919 [28:16<10:15,  1.03it/s]"
     ]
    },
    {
     "name": "stdout",
     "output_type": "stream",
     "text": [
      "Error downloading data: No data found for PRAKASHCON.BO in the given date range.\n"
     ]
    },
    {
     "name": "stderr",
     "output_type": "stream",
     "text": [
      "[*********************100%***********************]  1 of 1 completed\n",
      "[*********************100%***********************]  1 of 1 completeds]\n",
      "[*********************100%***********************]  1 of 1 completeds]\n",
      "[*********************100%***********************]  1 of 1 completeds]\n",
      "\n",
      "1 Failed download:\n",
      "['UJAAS.BO']: YFTzMissingError('possibly delisted; no timezone found')\n",
      "Processing Stocks:  78%|███████▊  | 2286/2919 [28:19<09:10,  1.15it/s]"
     ]
    },
    {
     "name": "stdout",
     "output_type": "stream",
     "text": [
      "Error downloading data: No data found for UJAAS.BO in the given date range.\n"
     ]
    },
    {
     "name": "stderr",
     "output_type": "stream",
     "text": [
      "[*********************100%***********************]  1 of 1 completed\n",
      "[*********************100%***********************]  1 of 1 completedt]\n",
      "[*********************100%***********************]  1 of 1 completedt]\n",
      "[*********************100%***********************]  1 of 1 completeds]\n",
      "[*********************100%***********************]  1 of 1 completeds]\n",
      "[*********************100%***********************]  1 of 1 completeds]\n",
      "[*********************100%***********************]  1 of 1 completeds]\n",
      "[*********************100%***********************]  1 of 1 completeds]\n",
      "[*********************100%***********************]  1 of 1 completeds]\n",
      "[*********************100%***********************]  1 of 1 completeds]\n",
      "\n",
      "1 Failed download:\n",
      "['ORIENTREF.BO']: YFTzMissingError('possibly delisted; no timezone found')\n",
      "Processing Stocks:  79%|███████▊  | 2296/2919 [28:26<07:59,  1.30it/s]"
     ]
    },
    {
     "name": "stdout",
     "output_type": "stream",
     "text": [
      "Error downloading data: No data found for ORIENTREF.BO in the given date range.\n"
     ]
    },
    {
     "name": "stderr",
     "output_type": "stream",
     "text": [
      "[*********************100%***********************]  1 of 1 completed\n",
      "[*********************100%***********************]  1 of 1 completeds]\n",
      "\n",
      "1 Failed download:\n",
      "['PYXISFIN.BO']: YFTzMissingError('possibly delisted; no timezone found')\n",
      "Processing Stocks:  79%|███████▊  | 2298/2919 [28:28<08:54,  1.16it/s]"
     ]
    },
    {
     "name": "stdout",
     "output_type": "stream",
     "text": [
      "Error downloading data: No data found for PYXISFIN.BO in the given date range.\n"
     ]
    },
    {
     "name": "stderr",
     "output_type": "stream",
     "text": [
      "[*********************100%***********************]  1 of 1 completed\n",
      "[*********************100%***********************]  1 of 1 completeds]\n",
      "\n",
      "1 Failed download:\n",
      "['NAGAROIL.BO']: YFTzMissingError('possibly delisted; no timezone found')\n",
      "Processing Stocks:  79%|███████▉  | 2300/2919 [28:31<12:10,  1.18s/it]"
     ]
    },
    {
     "name": "stdout",
     "output_type": "stream",
     "text": [
      "Error downloading data: No data found for NAGAROIL.BO in the given date range.\n"
     ]
    },
    {
     "name": "stderr",
     "output_type": "stream",
     "text": [
      "[*********************100%***********************]  1 of 1 completed\n",
      "[*********************100%***********************]  1 of 1 completedt]\n",
      "[*********************100%***********************]  1 of 1 completeds]\n",
      "[*********************100%***********************]  1 of 1 completeds]\n",
      "[*********************100%***********************]  1 of 1 completeds]\n",
      "[*********************100%***********************]  1 of 1 completeds]\n",
      "[*********************100%***********************]  1 of 1 completeds]\n",
      "[*********************100%***********************]  1 of 1 completeds]\n",
      "\n",
      "1 Failed download:\n",
      "['BGPL.BO']: YFPricesMissingError('possibly delisted; no price data found  (1d 2012-01-01 -> 2025-01-01)')\n",
      "Processing Stocks:  79%|███████▉  | 2308/2919 [28:35<04:59,  2.04it/s]"
     ]
    },
    {
     "name": "stdout",
     "output_type": "stream",
     "text": [
      "Error downloading data: No data found for BGPL.BO in the given date range.\n"
     ]
    },
    {
     "name": "stderr",
     "output_type": "stream",
     "text": [
      "[*********************100%***********************]  1 of 1 completed\n",
      "\n",
      "1 Failed download:\n",
      "['RTNINFRA.BO']: YFTzMissingError('possibly delisted; no timezone found')\n",
      "Processing Stocks:  79%|███████▉  | 2309/2919 [28:36<08:47,  1.16it/s]"
     ]
    },
    {
     "name": "stdout",
     "output_type": "stream",
     "text": [
      "Error downloading data: No data found for RTNINFRA.BO in the given date range.\n"
     ]
    },
    {
     "name": "stderr",
     "output_type": "stream",
     "text": [
      "[*********************100%***********************]  1 of 1 completed\n",
      "\n",
      "1 Failed download:\n",
      "['SEPOWER.BO']: YFTzMissingError('possibly delisted; no timezone found')\n",
      "Processing Stocks:  79%|███████▉  | 2310/2919 [28:38<12:09,  1.20s/it]"
     ]
    },
    {
     "name": "stdout",
     "output_type": "stream",
     "text": [
      "Error downloading data: No data found for SEPOWER.BO in the given date range.\n"
     ]
    },
    {
     "name": "stderr",
     "output_type": "stream",
     "text": [
      "[*********************100%***********************]  1 of 1 completed\n",
      "\n",
      "1 Failed download:\n",
      "['JTLINFRA.BO']: YFTzMissingError('possibly delisted; no timezone found')\n",
      "Processing Stocks:  79%|███████▉  | 2311/2919 [28:40<13:39,  1.35s/it]"
     ]
    },
    {
     "name": "stdout",
     "output_type": "stream",
     "text": [
      "Error downloading data: No data found for JTLINFRA.BO in the given date range.\n"
     ]
    },
    {
     "name": "stderr",
     "output_type": "stream",
     "text": [
      "[*********************100%***********************]  1 of 1 completed\n",
      "[*********************100%***********************]  1 of 1 completedt]\n",
      "\n",
      "1 Failed download:\n",
      "['SAL.BO']: YFTzMissingError('possibly delisted; no timezone found')\n",
      "Processing Stocks:  79%|███████▉  | 2313/2919 [28:42<12:08,  1.20s/it]"
     ]
    },
    {
     "name": "stdout",
     "output_type": "stream",
     "text": [
      "Error downloading data: No data found for SAL.BO in the given date range.\n"
     ]
    },
    {
     "name": "stderr",
     "output_type": "stream",
     "text": [
      "[*********************100%***********************]  1 of 1 completed\n",
      "[*********************100%***********************]  1 of 1 completeds]\n",
      "[*********************100%***********************]  1 of 1 completeds]\n",
      "\n",
      "1 Failed download:\n",
      "['PROZONINTU.BO']: YFTzMissingError('possibly delisted; no timezone found')\n",
      "Processing Stocks:  79%|███████▉  | 2316/2919 [28:44<09:55,  1.01it/s]"
     ]
    },
    {
     "name": "stdout",
     "output_type": "stream",
     "text": [
      "Error downloading data: No data found for PROZONINTU.BO in the given date range.\n"
     ]
    },
    {
     "name": "stderr",
     "output_type": "stream",
     "text": [
      "[*********************100%***********************]  1 of 1 completed\n",
      "\n",
      "1 Failed download:\n",
      "['LAKSHVILAS.BO']: YFTzMissingError('possibly delisted; no timezone found')\n",
      "Processing Stocks:  79%|███████▉  | 2317/2919 [28:46<10:46,  1.07s/it]"
     ]
    },
    {
     "name": "stdout",
     "output_type": "stream",
     "text": [
      "Error downloading data: No data found for LAKSHVILAS.BO in the given date range.\n"
     ]
    },
    {
     "name": "stderr",
     "output_type": "stream",
     "text": [
      "[*********************100%***********************]  1 of 1 completed\n",
      "[*********************100%***********************]  1 of 1 completeds]\n",
      "\n",
      "1 Failed download:\n",
      "['RCRL.BO']: YFTzMissingError('possibly delisted; no timezone found')\n",
      "Processing Stocks:  79%|███████▉  | 2319/2919 [28:47<09:52,  1.01it/s]"
     ]
    },
    {
     "name": "stdout",
     "output_type": "stream",
     "text": [
      "Error downloading data: No data found for RCRL.BO in the given date range.\n"
     ]
    },
    {
     "name": "stderr",
     "output_type": "stream",
     "text": [
      "[*********************100%***********************]  1 of 1 completed\n",
      "\n",
      "1 Failed download:\n",
      "['INTELLADV.BO']: YFTzMissingError('possibly delisted; no timezone found')\n",
      "Processing Stocks:  79%|███████▉  | 2320/2919 [28:48<10:30,  1.05s/it]"
     ]
    },
    {
     "name": "stdout",
     "output_type": "stream",
     "text": [
      "Error downloading data: No data found for INTELLADV.BO in the given date range.\n"
     ]
    },
    {
     "name": "stderr",
     "output_type": "stream",
     "text": [
      "[*********************100%***********************]  1 of 1 completed\n",
      "\n",
      "1 Failed download:\n",
      "['SUPREMEX.BO']: YFTzMissingError('possibly delisted; no timezone found')\n",
      "Processing Stocks:  80%|███████▉  | 2321/2919 [28:50<12:54,  1.30s/it]"
     ]
    },
    {
     "name": "stdout",
     "output_type": "stream",
     "text": [
      "Error downloading data: No data found for SUPREMEX.BO in the given date range.\n"
     ]
    },
    {
     "name": "stderr",
     "output_type": "stream",
     "text": [
      "[*********************100%***********************]  1 of 1 completed\n",
      "[*********************100%***********************]  1 of 1 completedt]\n",
      "[*********************100%***********************]  1 of 1 completeds]\n",
      "\n",
      "1 Failed download:\n",
      "['TARAJEWELS.BO']: YFTzMissingError('possibly delisted; no timezone found')\n",
      "Processing Stocks:  80%|███████▉  | 2324/2919 [28:53<10:42,  1.08s/it]"
     ]
    },
    {
     "name": "stdout",
     "output_type": "stream",
     "text": [
      "Error downloading data: No data found for TARAJEWELS.BO in the given date range.\n"
     ]
    },
    {
     "name": "stderr",
     "output_type": "stream",
     "text": [
      "[*********************100%***********************]  1 of 1 completed\n",
      "\n",
      "1 Failed download:\n",
      "['CIGNITI.BO']: YFTzMissingError('possibly delisted; no timezone found')\n",
      "Processing Stocks:  80%|███████▉  | 2325/2919 [28:54<11:28,  1.16s/it]"
     ]
    },
    {
     "name": "stdout",
     "output_type": "stream",
     "text": [
      "Error downloading data: No data found for CIGNITI.BO in the given date range.\n"
     ]
    },
    {
     "name": "stderr",
     "output_type": "stream",
     "text": [
      "[*********************100%***********************]  1 of 1 completed\n",
      "[*********************100%***********************]  1 of 1 completeds]\n",
      "[*********************100%***********************]  1 of 1 completeds]\n",
      "\n",
      "1 Failed download:\n",
      "['INFRATEL.BO']: YFTzMissingError('possibly delisted; no timezone found')\n",
      "Processing Stocks:  80%|███████▉  | 2328/2919 [28:57<12:08,  1.23s/it]"
     ]
    },
    {
     "name": "stdout",
     "output_type": "stream",
     "text": [
      "Error downloading data: No data found for INFRATEL.BO in the given date range.\n"
     ]
    },
    {
     "name": "stderr",
     "output_type": "stream",
     "text": [
      "[*********************100%***********************]  1 of 1 completed\n",
      "\n",
      "1 Failed download:\n",
      "['EFPL.BO']: YFPricesMissingError('possibly delisted; no price data found  (1d 2012-01-01 -> 2025-01-01)')\n",
      "Processing Stocks:  80%|███████▉  | 2329/2919 [28:58<09:32,  1.03it/s]"
     ]
    },
    {
     "name": "stdout",
     "output_type": "stream",
     "text": [
      "Error downloading data: No data found for EFPL.BO in the given date range.\n"
     ]
    },
    {
     "name": "stderr",
     "output_type": "stream",
     "text": [
      "[*********************100%***********************]  1 of 1 completed\n",
      "\n",
      "1 Failed download:\n",
      "['COVIDH.BO']: YFTzMissingError('possibly delisted; no timezone found')\n",
      "Processing Stocks:  80%|███████▉  | 2330/2919 [28:59<12:18,  1.25s/it]"
     ]
    },
    {
     "name": "stdout",
     "output_type": "stream",
     "text": [
      "Error downloading data: No data found for COVIDH.BO in the given date range.\n"
     ]
    },
    {
     "name": "stderr",
     "output_type": "stream",
     "text": [
      "[*********************100%***********************]  1 of 1 completed\n",
      "\n",
      "1 Failed download:\n",
      "['EBFL.BO']: YFTzMissingError('possibly delisted; no timezone found')\n",
      "Processing Stocks:  80%|███████▉  | 2331/2919 [29:01<12:37,  1.29s/it]"
     ]
    },
    {
     "name": "stdout",
     "output_type": "stream",
     "text": [
      "Error downloading data: No data found for EBFL.BO in the given date range.\n"
     ]
    },
    {
     "name": "stderr",
     "output_type": "stream",
     "text": [
      "[*********************100%***********************]  1 of 1 completed\n",
      "[*********************100%***********************]  1 of 1 completedt]\n",
      "\n",
      "1 Failed download:\n",
      "['KFL.BO']: YFTzMissingError('possibly delisted; no timezone found')\n",
      "Processing Stocks:  80%|███████▉  | 2333/2919 [29:03<11:30,  1.18s/it]"
     ]
    },
    {
     "name": "stdout",
     "output_type": "stream",
     "text": [
      "Error downloading data: No data found for KFL.BO in the given date range.\n"
     ]
    },
    {
     "name": "stderr",
     "output_type": "stream",
     "text": [
      "[*********************100%***********************]  1 of 1 completed\n",
      "\n",
      "1 Failed download:\n",
      "['SRDL.BO']: YFTzMissingError('possibly delisted; no timezone found')\n",
      "Processing Stocks:  80%|███████▉  | 2334/2919 [29:04<11:31,  1.18s/it]"
     ]
    },
    {
     "name": "stdout",
     "output_type": "stream",
     "text": [
      "Error downloading data: No data found for SRDL.BO in the given date range.\n"
     ]
    },
    {
     "name": "stderr",
     "output_type": "stream",
     "text": [
      "[*********************100%***********************]  1 of 1 completed\n",
      "\n",
      "1 Failed download:\n",
      "['CNEL.BO']: YFTzMissingError('possibly delisted; no timezone found')\n",
      "Processing Stocks:  80%|███████▉  | 2335/2919 [29:05<11:22,  1.17s/it]"
     ]
    },
    {
     "name": "stdout",
     "output_type": "stream",
     "text": [
      "Error downloading data: No data found for CNEL.BO in the given date range.\n"
     ]
    },
    {
     "name": "stderr",
     "output_type": "stream",
     "text": [
      "[*********************100%***********************]  1 of 1 completed\n",
      "\n",
      "1 Failed download:\n",
      "['HPCBL.BO']: YFTzMissingError('possibly delisted; no timezone found')\n",
      "Processing Stocks:  80%|████████  | 2336/2919 [29:07<11:49,  1.22s/it]"
     ]
    },
    {
     "name": "stdout",
     "output_type": "stream",
     "text": [
      "Error downloading data: No data found for HPCBL.BO in the given date range.\n"
     ]
    },
    {
     "name": "stderr",
     "output_type": "stream",
     "text": [
      "[*********************100%***********************]  1 of 1 completed\n",
      "[*********************100%***********************]  1 of 1 completeds]\n",
      "[*********************100%***********************]  1 of 1 completeds]\n",
      "[*********************100%***********************]  1 of 1 completeds]\n",
      "[*********************100%***********************]  1 of 1 completeds]\n",
      "[*********************100%***********************]  1 of 1 completeds]\n",
      "\n",
      "1 Failed download:\n",
      "['SRL.BO']: YFTzMissingError('possibly delisted; no timezone found')\n",
      "Processing Stocks:  80%|████████  | 2342/2919 [29:11<09:42,  1.01s/it]"
     ]
    },
    {
     "name": "stdout",
     "output_type": "stream",
     "text": [
      "Error downloading data: No data found for SRL.BO in the given date range.\n"
     ]
    },
    {
     "name": "stderr",
     "output_type": "stream",
     "text": [
      "[*********************100%***********************]  1 of 1 completed\n",
      "[*********************100%***********************]  1 of 1 completeds]\n",
      "[*********************100%***********************]  1 of 1 completeds]\n",
      "[*********************100%***********************]  1 of 1 completeds]\n",
      "\n",
      "1 Failed download:\n",
      "['SHARDA.BO']: YFTzMissingError('possibly delisted; no timezone found')\n",
      "Processing Stocks:  80%|████████  | 2346/2919 [29:14<09:56,  1.04s/it]"
     ]
    },
    {
     "name": "stdout",
     "output_type": "stream",
     "text": [
      "Error downloading data: No data found for SHARDA.BO in the given date range.\n"
     ]
    },
    {
     "name": "stderr",
     "output_type": "stream",
     "text": [
      "[*********************100%***********************]  1 of 1 completed\n",
      "\n",
      "1 Failed download:\n",
      "['OTML.BO']: YFTzMissingError('possibly delisted; no timezone found')\n",
      "Processing Stocks:  80%|████████  | 2347/2919 [29:16<12:05,  1.27s/it]"
     ]
    },
    {
     "name": "stdout",
     "output_type": "stream",
     "text": [
      "Error downloading data: No data found for OTML.BO in the given date range.\n"
     ]
    },
    {
     "name": "stderr",
     "output_type": "stream",
     "text": [
      "[*********************100%***********************]  1 of 1 completed\n",
      "[*********************100%***********************]  1 of 1 completedt]\n",
      "[*********************100%***********************]  1 of 1 completeds]\n",
      "[*********************100%***********************]  1 of 1 completeds]\n",
      "\n",
      "1 Failed download:\n",
      "['IBULHSGFIN.BO']: YFTzMissingError('possibly delisted; no timezone found')\n",
      "Processing Stocks:  81%|████████  | 2351/2919 [29:20<11:10,  1.18s/it]"
     ]
    },
    {
     "name": "stdout",
     "output_type": "stream",
     "text": [
      "Error downloading data: No data found for IBULHSGFIN.BO in the given date range.\n"
     ]
    },
    {
     "name": "stderr",
     "output_type": "stream",
     "text": [
      "[*********************100%***********************]  1 of 1 completed\n",
      "[*********************100%***********************]  1 of 1 completeds]\n",
      "[*********************100%***********************]  1 of 1 completeds]\n",
      "[*********************100%***********************]  1 of 1 completeds]\n",
      "\n",
      "1 Failed download:\n",
      "['INTEGRA.BO']: YFTzMissingError('possibly delisted; no timezone found')\n",
      "Processing Stocks:  81%|████████  | 2355/2919 [29:22<07:06,  1.32it/s]"
     ]
    },
    {
     "name": "stdout",
     "output_type": "stream",
     "text": [
      "Error downloading data: No data found for INTEGRA.BO in the given date range.\n"
     ]
    },
    {
     "name": "stderr",
     "output_type": "stream",
     "text": [
      "[*********************100%***********************]  1 of 1 completed\n",
      "[*********************100%***********************]  1 of 1 completeds]\n",
      "\n",
      "1 Failed download:\n",
      "['KUSHAL.BO']: YFTzMissingError('possibly delisted; no timezone found')\n",
      "Processing Stocks:  81%|████████  | 2357/2919 [29:24<08:37,  1.09it/s]"
     ]
    },
    {
     "name": "stdout",
     "output_type": "stream",
     "text": [
      "Error downloading data: No data found for KUSHAL.BO in the given date range.\n"
     ]
    },
    {
     "name": "stderr",
     "output_type": "stream",
     "text": [
      "[*********************100%***********************]  1 of 1 completed\n",
      "[*********************100%***********************]  1 of 1 completeds]\n",
      "\n",
      "1 Failed download:\n",
      "['RJBIOTECH.BO']: YFTzMissingError('possibly delisted; no timezone found')\n",
      "Processing Stocks:  81%|████████  | 2359/2919 [29:26<10:20,  1.11s/it]"
     ]
    },
    {
     "name": "stdout",
     "output_type": "stream",
     "text": [
      "Error downloading data: No data found for RJBIOTECH.BO in the given date range.\n"
     ]
    },
    {
     "name": "stderr",
     "output_type": "stream",
     "text": [
      "[*********************100%***********************]  1 of 1 completed\n",
      "[*********************100%***********************]  1 of 1 completeds]\n",
      "\n",
      "1 Failed download:\n",
      "['NEWEVER.BO']: YFTzMissingError('possibly delisted; no timezone found')\n",
      "Processing Stocks:  81%|████████  | 2361/2919 [29:28<10:09,  1.09s/it]"
     ]
    },
    {
     "name": "stdout",
     "output_type": "stream",
     "text": [
      "Error downloading data: No data found for NEWEVER.BO in the given date range.\n"
     ]
    },
    {
     "name": "stderr",
     "output_type": "stream",
     "text": [
      "[*********************100%***********************]  1 of 1 completed\n",
      "[*********************100%***********************]  1 of 1 completeds]\n",
      "[*********************100%***********************]  1 of 1 completeds]\n",
      "\n",
      "1 Failed download:\n",
      "['ACFSL.BO']: YFTzMissingError('possibly delisted; no timezone found')\n",
      "Processing Stocks:  81%|████████  | 2364/2919 [29:31<09:40,  1.05s/it]"
     ]
    },
    {
     "name": "stdout",
     "output_type": "stream",
     "text": [
      "Error downloading data: No data found for ACFSL.BO in the given date range.\n"
     ]
    },
    {
     "name": "stderr",
     "output_type": "stream",
     "text": [
      "[*********************100%***********************]  1 of 1 completed\n",
      "\n",
      "1 Failed download:\n",
      "['STELLAR.BO']: YFPricesMissingError('possibly delisted; no price data found  (1d 2012-01-01 -> 2025-01-01) (Yahoo error = \"Data doesn\\'t exist for startDate = 1325356200, endDate = 1735669800\")')\n",
      "Processing Stocks:  81%|████████  | 2365/2919 [29:32<11:01,  1.19s/it]"
     ]
    },
    {
     "name": "stdout",
     "output_type": "stream",
     "text": [
      "Error downloading data: No data found for STELLAR.BO in the given date range.\n"
     ]
    },
    {
     "name": "stderr",
     "output_type": "stream",
     "text": [
      "[*********************100%***********************]  1 of 1 completed\n",
      "[*********************100%***********************]  1 of 1 completeds]\n",
      "\n",
      "1 Failed download:\n",
      "['BOSTONTEK.BO']: YFTzMissingError('possibly delisted; no timezone found')\n",
      "Processing Stocks:  81%|████████  | 2367/2919 [29:35<11:23,  1.24s/it]"
     ]
    },
    {
     "name": "stdout",
     "output_type": "stream",
     "text": [
      "Error downloading data: No data found for BOSTONTEK.BO in the given date range.\n"
     ]
    },
    {
     "name": "stderr",
     "output_type": "stream",
     "text": [
      "[*********************100%***********************]  1 of 1 completed\n",
      "[*********************100%***********************]  1 of 1 completeds]\n",
      "[*********************100%***********************]  1 of 1 completeds]\n",
      "[*********************100%***********************]  1 of 1 completeds]\n",
      "\n",
      "1 Failed download:\n",
      "['TENTIMETAL.BO']: YFTzMissingError('possibly delisted; no timezone found')\n",
      "Processing Stocks:  81%|████████  | 2371/2919 [29:37<08:33,  1.07it/s]"
     ]
    },
    {
     "name": "stdout",
     "output_type": "stream",
     "text": [
      "Error downloading data: No data found for TENTIMETAL.BO in the given date range.\n"
     ]
    },
    {
     "name": "stderr",
     "output_type": "stream",
     "text": [
      "[*********************100%***********************]  1 of 1 completed\n",
      "[*********************100%***********************]  1 of 1 completeds]\n",
      "[*********************100%***********************]  1 of 1 completeds]\n",
      "[*********************100%***********************]  1 of 1 completeds]\n",
      "[*********************100%***********************]  1 of 1 completeds]\n",
      "[*********************100%***********************]  1 of 1 completeds]\n",
      "\n",
      "1 Failed download:\n",
      "['AGRIMONY.BO']: YFTzMissingError('possibly delisted; no timezone found')\n",
      "Processing Stocks:  81%|████████▏ | 2377/2919 [29:41<08:45,  1.03it/s]"
     ]
    },
    {
     "name": "stdout",
     "output_type": "stream",
     "text": [
      "Error downloading data: No data found for AGRIMONY.BO in the given date range.\n"
     ]
    },
    {
     "name": "stderr",
     "output_type": "stream",
     "text": [
      "[*********************100%***********************]  1 of 1 completed\n",
      "[*********************100%***********************]  1 of 1 completeds]\n",
      "[*********************100%***********************]  1 of 1 completeds]\n",
      "\n",
      "1 Failed download:\n",
      "['SIVI.BO']: YFTzMissingError('possibly delisted; no timezone found')\n",
      "Processing Stocks:  82%|████████▏ | 2380/2919 [29:43<08:31,  1.05it/s]"
     ]
    },
    {
     "name": "stdout",
     "output_type": "stream",
     "text": [
      "Error downloading data: No data found for SIVI.BO in the given date range.\n"
     ]
    },
    {
     "name": "stderr",
     "output_type": "stream",
     "text": [
      "[*********************100%***********************]  1 of 1 completed\n",
      "[*********************100%***********************]  1 of 1 completeds]\n",
      "[*********************100%***********************]  1 of 1 completeds]\n",
      "\n",
      "1 Failed download:\n",
      "['ANISHAIMPEX.BO']: YFTzMissingError('possibly delisted; no timezone found')\n",
      "Processing Stocks:  82%|████████▏ | 2383/2919 [29:46<08:06,  1.10it/s]"
     ]
    },
    {
     "name": "stdout",
     "output_type": "stream",
     "text": [
      "Error downloading data: No data found for ANISHAIMPEX.BO in the given date range.\n"
     ]
    },
    {
     "name": "stderr",
     "output_type": "stream",
     "text": [
      "[*********************100%***********************]  1 of 1 completed\n",
      "[*********************100%***********************]  1 of 1 completeds]\n",
      "\n",
      "1 Failed download:\n",
      "['VFL.BO']: YFTzMissingError('possibly delisted; no timezone found')\n",
      "Processing Stocks:  82%|████████▏ | 2385/2919 [29:47<07:54,  1.13it/s]"
     ]
    },
    {
     "name": "stdout",
     "output_type": "stream",
     "text": [
      "Error downloading data: No data found for VFL.BO in the given date range.\n"
     ]
    },
    {
     "name": "stderr",
     "output_type": "stream",
     "text": [
      "[*********************100%***********************]  1 of 1 completed\n",
      "\n",
      "1 Failed download:\n",
      "['NEGOTIUM.BO']: YFTzMissingError('possibly delisted; no timezone found')\n",
      "Processing Stocks:  82%|████████▏ | 2386/2919 [29:49<09:32,  1.07s/it]"
     ]
    },
    {
     "name": "stdout",
     "output_type": "stream",
     "text": [
      "Error downloading data: No data found for NEGOTIUM.BO in the given date range.\n"
     ]
    },
    {
     "name": "stderr",
     "output_type": "stream",
     "text": [
      "[*********************100%***********************]  1 of 1 completed\n",
      "[*********************100%***********************]  1 of 1 completeds]\n",
      "\n",
      "1 Failed download:\n",
      "['SKP.BO']: YFTzMissingError('possibly delisted; no timezone found')\n",
      "Processing Stocks:  82%|████████▏ | 2388/2919 [29:51<10:42,  1.21s/it]"
     ]
    },
    {
     "name": "stdout",
     "output_type": "stream",
     "text": [
      "Error downloading data: No data found for SKP.BO in the given date range.\n"
     ]
    },
    {
     "name": "stderr",
     "output_type": "stream",
     "text": [
      "[*********************100%***********************]  1 of 1 completed\n",
      "[*********************100%***********************]  1 of 1 completeds]\n",
      "\n",
      "1 Failed download:\n",
      "['OBIL.BO']: YFTzMissingError('possibly delisted; no timezone found')\n",
      "Processing Stocks:  82%|████████▏ | 2390/2919 [29:53<10:10,  1.15s/it]"
     ]
    },
    {
     "name": "stdout",
     "output_type": "stream",
     "text": [
      "Error downloading data: No data found for OBIL.BO in the given date range.\n"
     ]
    },
    {
     "name": "stderr",
     "output_type": "stream",
     "text": [
      "[*********************100%***********************]  1 of 1 completed\n",
      "\n",
      "1 Failed download:\n",
      "['JOONKTOLL.BO']: YFTzMissingError('possibly delisted; no timezone found')\n",
      "Processing Stocks:  82%|████████▏ | 2391/2919 [29:55<12:09,  1.38s/it]"
     ]
    },
    {
     "name": "stdout",
     "output_type": "stream",
     "text": [
      "Error downloading data: No data found for JOONKTOLL.BO in the given date range.\n"
     ]
    },
    {
     "name": "stderr",
     "output_type": "stream",
     "text": [
      "[*********************100%***********************]  1 of 1 completed\n",
      "[*********************100%***********************]  1 of 1 completedt]\n",
      "\n",
      "1 Failed download:\n",
      "['WOMENSNEXT.BO']: YFTzMissingError('possibly delisted; no timezone found')\n",
      "Processing Stocks:  82%|████████▏ | 2393/2919 [29:57<09:32,  1.09s/it]"
     ]
    },
    {
     "name": "stdout",
     "output_type": "stream",
     "text": [
      "Error downloading data: No data found for WOMENSNEXT.BO in the given date range.\n"
     ]
    },
    {
     "name": "stderr",
     "output_type": "stream",
     "text": [
      "[*********************100%***********************]  1 of 1 completed\n",
      "[*********************100%***********************]  1 of 1 completeds]\n",
      "[*********************100%***********************]  1 of 1 completeds]\n",
      "[*********************100%***********************]  1 of 1 completeds]\n",
      "\n",
      "1 Failed download:\n",
      "['ADHUNIKIND.BO']: YFTzMissingError('possibly delisted; no timezone found')\n",
      "Processing Stocks:  82%|████████▏ | 2397/2919 [30:00<09:03,  1.04s/it]"
     ]
    },
    {
     "name": "stdout",
     "output_type": "stream",
     "text": [
      "Error downloading data: No data found for ADHUNIKIND.BO in the given date range.\n"
     ]
    },
    {
     "name": "stderr",
     "output_type": "stream",
     "text": [
      "[*********************100%***********************]  1 of 1 completed\n",
      "[*********************100%***********************]  1 of 1 completeds]\n",
      "\n",
      "1 Failed download:\n",
      "['SPS.BO']: YFTzMissingError('possibly delisted; no timezone found')\n",
      "Processing Stocks:  82%|████████▏ | 2399/2919 [30:02<09:16,  1.07s/it]"
     ]
    },
    {
     "name": "stdout",
     "output_type": "stream",
     "text": [
      "Error downloading data: No data found for SPS.BO in the given date range.\n"
     ]
    },
    {
     "name": "stderr",
     "output_type": "stream",
     "text": [
      "[*********************100%***********************]  1 of 1 completed\n",
      "\n",
      "1 Failed download:\n",
      "['CCFCL.BO']: YFTzMissingError('possibly delisted; no timezone found')\n",
      "Processing Stocks:  82%|████████▏ | 2400/2919 [30:04<11:33,  1.34s/it]"
     ]
    },
    {
     "name": "stdout",
     "output_type": "stream",
     "text": [
      "Error downloading data: No data found for CCFCL.BO in the given date range.\n"
     ]
    },
    {
     "name": "stderr",
     "output_type": "stream",
     "text": [
      "[*********************100%***********************]  1 of 1 completed\n",
      "\n",
      "1 Failed download:\n",
      "['DHANUKACOM.BO']: YFTzMissingError('possibly delisted; no timezone found')\n",
      "Processing Stocks:  82%|████████▏ | 2401/2919 [30:05<12:06,  1.40s/it]"
     ]
    },
    {
     "name": "stdout",
     "output_type": "stream",
     "text": [
      "Error downloading data: No data found for DHANUKACOM.BO in the given date range.\n"
     ]
    },
    {
     "name": "stderr",
     "output_type": "stream",
     "text": [
      "[*********************100%***********************]  1 of 1 completed\n",
      "[*********************100%***********************]  1 of 1 completedt]\n",
      "[*********************100%***********************]  1 of 1 completeds]\n",
      "[*********************100%***********************]  1 of 1 completeds]\n",
      "\n",
      "1 Failed download:\n",
      "['TARINI.BO']: YFPricesMissingError('possibly delisted; no price data found  (1d 2012-01-01 -> 2025-01-01) (Yahoo error = \"Data doesn\\'t exist for startDate = 1325356200, endDate = 1735669800\")')\n",
      "Processing Stocks:  82%|████████▏ | 2405/2919 [30:08<08:28,  1.01it/s]"
     ]
    },
    {
     "name": "stdout",
     "output_type": "stream",
     "text": [
      "Error downloading data: No data found for TARINI.BO in the given date range.\n"
     ]
    },
    {
     "name": "stderr",
     "output_type": "stream",
     "text": [
      "[*********************100%***********************]  1 of 1 completed\n",
      "\n",
      "1 Failed download:\n",
      "['CROWNTOURS.BO']: YFTzMissingError('possibly delisted; no timezone found')\n",
      "Processing Stocks:  82%|████████▏ | 2406/2919 [30:10<10:12,  1.19s/it]"
     ]
    },
    {
     "name": "stdout",
     "output_type": "stream",
     "text": [
      "Error downloading data: No data found for CROWNTOURS.BO in the given date range.\n"
     ]
    },
    {
     "name": "stderr",
     "output_type": "stream",
     "text": [
      "[*********************100%***********************]  1 of 1 completed\n",
      "\n",
      "1 Failed download:\n",
      "['INCEPTUM.BO']: YFTzMissingError('possibly delisted; no timezone found')\n",
      "Processing Stocks:  82%|████████▏ | 2407/2919 [30:12<13:22,  1.57s/it]"
     ]
    },
    {
     "name": "stdout",
     "output_type": "stream",
     "text": [
      "Error downloading data: No data found for INCEPTUM.BO in the given date range.\n"
     ]
    },
    {
     "name": "stderr",
     "output_type": "stream",
     "text": [
      "[*********************100%***********************]  1 of 1 completed\n",
      "[*********************100%***********************]  1 of 1 completedt]\n",
      "[*********************100%***********************]  1 of 1 completeds]\n",
      "\n",
      "1 Failed download:\n",
      "['OASIS.BO']: YFTzMissingError('possibly delisted; no timezone found')\n",
      "Processing Stocks:  83%|████████▎ | 2410/2919 [30:14<08:47,  1.04s/it]"
     ]
    },
    {
     "name": "stdout",
     "output_type": "stream",
     "text": [
      "Error downloading data: No data found for OASIS.BO in the given date range.\n"
     ]
    },
    {
     "name": "stderr",
     "output_type": "stream",
     "text": [
      "[*********************100%***********************]  1 of 1 completed\n",
      "\n",
      "1 Failed download:\n",
      "['VITANAGRO.BO']: YFTzMissingError('possibly delisted; no timezone found')\n",
      "Processing Stocks:  83%|████████▎ | 2411/2919 [30:15<09:30,  1.12s/it]"
     ]
    },
    {
     "name": "stdout",
     "output_type": "stream",
     "text": [
      "Error downloading data: No data found for VITANAGRO.BO in the given date range.\n"
     ]
    },
    {
     "name": "stderr",
     "output_type": "stream",
     "text": [
      "[*********************100%***********************]  1 of 1 completed\n",
      "[*********************100%***********************]  1 of 1 completeds]\n",
      "[*********************100%***********************]  1 of 1 completeds]\n",
      "\n",
      "1 Failed download:\n",
      "['BESTSTEEL.BO']: YFTzMissingError('possibly delisted; no timezone found')\n",
      "Processing Stocks:  83%|████████▎ | 2414/2919 [30:17<07:59,  1.05it/s]"
     ]
    },
    {
     "name": "stdout",
     "output_type": "stream",
     "text": [
      "Error downloading data: No data found for BESTSTEEL.BO in the given date range.\n"
     ]
    },
    {
     "name": "stderr",
     "output_type": "stream",
     "text": [
      "[*********************100%***********************]  1 of 1 completed\n",
      "[*********************100%***********************]  1 of 1 completeds]\n",
      "[*********************100%***********************]  1 of 1 completeds]\n",
      "[*********************100%***********************]  1 of 1 completeds]\n",
      "\n",
      "1 Failed download:\n",
      "['ACHAL.BO']: YFTzMissingError('possibly delisted; no timezone found')\n",
      "Processing Stocks:  83%|████████▎ | 2418/2919 [30:20<07:11,  1.16it/s]"
     ]
    },
    {
     "name": "stdout",
     "output_type": "stream",
     "text": [
      "Error downloading data: No data found for ACHAL.BO in the given date range.\n"
     ]
    },
    {
     "name": "stderr",
     "output_type": "stream",
     "text": [
      "[*********************100%***********************]  1 of 1 completed\n",
      "\n",
      "1 Failed download:\n",
      "['SOLISMAR.BO']: YFTzMissingError('possibly delisted; no timezone found')\n",
      "Processing Stocks:  83%|████████▎ | 2419/2919 [30:21<08:36,  1.03s/it]"
     ]
    },
    {
     "name": "stdout",
     "output_type": "stream",
     "text": [
      "Error downloading data: No data found for SOLISMAR.BO in the given date range.\n"
     ]
    },
    {
     "name": "stderr",
     "output_type": "stream",
     "text": [
      "[*********************100%***********************]  1 of 1 completed\n",
      "[*********************100%***********************]  1 of 1 completeds]\n",
      "\n",
      "1 Failed download:\n",
      "['TRIVIKRAMA.BO']: YFTzMissingError('possibly delisted; no timezone found')\n",
      "Processing Stocks:  83%|████████▎ | 2421/2919 [30:26<15:06,  1.82s/it]"
     ]
    },
    {
     "name": "stdout",
     "output_type": "stream",
     "text": [
      "Error downloading data: No data found for TRIVIKRAMA.BO in the given date range.\n"
     ]
    },
    {
     "name": "stderr",
     "output_type": "stream",
     "text": [
      "[*********************100%***********************]  1 of 1 completed\n",
      "[*********************100%***********************]  1 of 1 completedt]\n",
      "[*********************100%***********************]  1 of 1 completedt]\n",
      "\n",
      "1 Failed download:\n",
      "['DWITIYA.BO']: YFTzMissingError('possibly delisted; no timezone found')\n",
      "Processing Stocks:  83%|████████▎ | 2424/2919 [30:30<13:08,  1.59s/it]"
     ]
    },
    {
     "name": "stdout",
     "output_type": "stream",
     "text": [
      "Error downloading data: No data found for DWITIYA.BO in the given date range.\n"
     ]
    },
    {
     "name": "stderr",
     "output_type": "stream",
     "text": [
      "[*********************100%***********************]  1 of 1 completed\n",
      "[*********************100%***********************]  1 of 1 completedt]\n",
      "[*********************100%***********************]  1 of 1 completeds]\n",
      "[*********************100%***********************]  1 of 1 completedt]\n",
      "[*********************100%***********************]  1 of 1 completedt]\n",
      "\n",
      "1 Failed download:\n",
      "['PARNAMI.BO']: YFTzMissingError('possibly delisted; no timezone found')\n",
      "Processing Stocks:  83%|████████▎ | 2429/2919 [30:36<11:55,  1.46s/it]"
     ]
    },
    {
     "name": "stdout",
     "output_type": "stream",
     "text": [
      "Error downloading data: No data found for PARNAMI.BO in the given date range.\n"
     ]
    },
    {
     "name": "stderr",
     "output_type": "stream",
     "text": [
      "[*********************100%***********************]  1 of 1 completed\n",
      "[*********************100%***********************]  1 of 1 completedt]\n",
      "[*********************100%***********************]  1 of 1 completeds]\n",
      "\n",
      "1 Failed download:\n",
      "['NAYSAA.BO']: YFTzMissingError('possibly delisted; no timezone found')\n",
      "Processing Stocks:  83%|████████▎ | 2432/2919 [30:38<08:50,  1.09s/it]"
     ]
    },
    {
     "name": "stdout",
     "output_type": "stream",
     "text": [
      "Error downloading data: No data found for NAYSAA.BO in the given date range.\n"
     ]
    },
    {
     "name": "stderr",
     "output_type": "stream",
     "text": [
      "[*********************100%***********************]  1 of 1 completed\n",
      "[*********************100%***********************]  1 of 1 completeds]\n",
      "[*********************100%***********************]  1 of 1 completedt]\n",
      "[*********************100%***********************]  1 of 1 completeds]\n",
      "[*********************100%***********************]  1 of 1 completeds]\n",
      "[*********************100%***********************]  1 of 1 completeds]\n",
      "\n",
      "1 Failed download:\n",
      "['SUCHITRA.BO']: YFTzMissingError('possibly delisted; no timezone found')\n",
      "Processing Stocks:  84%|████████▎ | 2438/2919 [30:42<06:16,  1.28it/s]"
     ]
    },
    {
     "name": "stdout",
     "output_type": "stream",
     "text": [
      "Error downloading data: No data found for SUCHITRA.BO in the given date range.\n"
     ]
    },
    {
     "name": "stderr",
     "output_type": "stream",
     "text": [
      "[*********************100%***********************]  1 of 1 completed\n",
      "[*********************100%***********************]  1 of 1 completeds]\n",
      "[*********************100%***********************]  1 of 1 completeds]\n",
      "\n",
      "1 Failed download:\n",
      "['PDSMFL.BO']: YFTzMissingError('possibly delisted; no timezone found')\n",
      "Processing Stocks:  84%|████████▎ | 2441/2919 [30:45<07:09,  1.11it/s]"
     ]
    },
    {
     "name": "stdout",
     "output_type": "stream",
     "text": [
      "Error downloading data: No data found for PDSMFL.BO in the given date range.\n"
     ]
    },
    {
     "name": "stderr",
     "output_type": "stream",
     "text": [
      "[*********************100%***********************]  1 of 1 completed\n",
      "\n",
      "1 Failed download:\n",
      "['POWERGYM.BO']: YFTzMissingError('possibly delisted; no timezone found')\n",
      "Processing Stocks:  84%|████████▎ | 2442/2919 [30:47<09:49,  1.24s/it]"
     ]
    },
    {
     "name": "stdout",
     "output_type": "stream",
     "text": [
      "Error downloading data: No data found for POWERGYM.BO in the given date range.\n"
     ]
    },
    {
     "name": "stderr",
     "output_type": "stream",
     "text": [
      "[*********************100%***********************]  1 of 1 completed\n",
      "[*********************100%***********************]  1 of 1 completeds]\n",
      "[*********************100%***********************]  1 of 1 completeds]\n",
      "[*********************100%***********************]  1 of 1 completeds]\n",
      "\n",
      "1 Failed download:\n",
      "['PANACHE.BO']: YFTzMissingError('possibly delisted; no timezone found')\n",
      "Processing Stocks:  84%|████████▍ | 2446/2919 [30:50<08:22,  1.06s/it]"
     ]
    },
    {
     "name": "stdout",
     "output_type": "stream",
     "text": [
      "Error downloading data: No data found for PANACHE.BO in the given date range.\n"
     ]
    },
    {
     "name": "stderr",
     "output_type": "stream",
     "text": [
      "[*********************100%***********************]  1 of 1 completed\n",
      "[*********************100%***********************]  1 of 1 completeds]\n",
      "[*********************100%***********************]  1 of 1 completeds]\n",
      "[*********************100%***********************]  1 of 1 completeds]\n",
      "[*********************100%***********************]  1 of 1 completeds]\n",
      "[*********************100%***********************]  1 of 1 completeds]\n",
      "[*********************100%***********************]  2 of 2 completeds]\n",
      "\n",
      "2 Failed downloads:\n",
      "['BUDGE.BO', 'BUDGE']: YFTzMissingError('possibly delisted; no timezone found')\n",
      "Processing Stocks:  84%|████████▍ | 2453/2919 [30:53<05:41,  1.36it/s]"
     ]
    },
    {
     "name": "stdout",
     "output_type": "stream",
     "text": [
      "Error downloading data: No data found for BUDGE BUDGE.BO in the given date range.\n"
     ]
    },
    {
     "name": "stderr",
     "output_type": "stream",
     "text": [
      "[*********************100%***********************]  1 of 1 completed\n",
      "\n",
      "1 Failed download:\n",
      "['JETINFRA.BO']: YFTzMissingError('possibly delisted; no timezone found')\n",
      "Processing Stocks:  84%|████████▍ | 2454/2919 [30:55<08:14,  1.06s/it]"
     ]
    },
    {
     "name": "stdout",
     "output_type": "stream",
     "text": [
      "Error downloading data: No data found for JETINFRA.BO in the given date range.\n"
     ]
    },
    {
     "name": "stderr",
     "output_type": "stream",
     "text": [
      "[*********************100%***********************]  1 of 1 completed\n",
      "[*********************100%***********************]  1 of 1 completeds]\n",
      "[*********************100%***********************]  1 of 1 completeds]\n",
      "\n",
      "1 Failed download:\n",
      "['ANUBHAV.BO']: YFTzMissingError('possibly delisted; no timezone found')\n",
      "Processing Stocks:  84%|████████▍ | 2457/2919 [30:58<09:05,  1.18s/it]"
     ]
    },
    {
     "name": "stdout",
     "output_type": "stream",
     "text": [
      "Error downloading data: No data found for ANUBHAV.BO in the given date range.\n"
     ]
    },
    {
     "name": "stderr",
     "output_type": "stream",
     "text": [
      "[*********************100%***********************]  1 of 1 completed\n",
      "[*********************100%***********************]  1 of 1 completeds]\n",
      "[*********************100%***********************]  1 of 1 completeds]\n",
      "[*********************100%***********************]  1 of 1 completeds]\n",
      "\n",
      "1 Failed download:\n",
      "['CAMSONBIO.BO']: YFTzMissingError('possibly delisted; no timezone found')\n",
      "Processing Stocks:  84%|████████▍ | 2461/2919 [31:01<08:21,  1.09s/it]"
     ]
    },
    {
     "name": "stdout",
     "output_type": "stream",
     "text": [
      "Error downloading data: No data found for CAMSONBIO.BO in the given date range.\n"
     ]
    },
    {
     "name": "stderr",
     "output_type": "stream",
     "text": [
      "[*********************100%***********************]  1 of 1 completed\n",
      "[*********************100%***********************]  1 of 1 completeds]\n",
      "\n",
      "1 Failed download:\n",
      "['NEXUSCOMMO.BO']: YFTzMissingError('possibly delisted; no timezone found')\n",
      "Processing Stocks:  84%|████████▍ | 2463/2919 [31:04<09:30,  1.25s/it]"
     ]
    },
    {
     "name": "stdout",
     "output_type": "stream",
     "text": [
      "Error downloading data: No data found for NEXUSCOMMO.BO in the given date range.\n"
     ]
    },
    {
     "name": "stderr",
     "output_type": "stream",
     "text": [
      "[*********************100%***********************]  1 of 1 completed\n",
      "[*********************100%***********************]  1 of 1 completeds]\n",
      "[*********************100%***********************]  1 of 1 completeds]\n",
      "\n",
      "1 Failed download:\n",
      "['SIPROJECTS.BO']: YFTzMissingError('possibly delisted; no timezone found')\n",
      "Processing Stocks:  84%|████████▍ | 2466/2919 [31:06<07:57,  1.05s/it]"
     ]
    },
    {
     "name": "stdout",
     "output_type": "stream",
     "text": [
      "Error downloading data: No data found for SIPROJECTS.BO in the given date range.\n"
     ]
    },
    {
     "name": "stderr",
     "output_type": "stream",
     "text": [
      "[*********************100%***********************]  1 of 1 completed\n",
      "[*********************100%***********************]  1 of 1 completeds]\n",
      "[*********************100%***********************]  1 of 1 completeds]\n",
      "[*********************100%***********************]  1 of 1 completeds]\n",
      "\n",
      "1 Failed download:\n",
      "['DHUNTEAIND.BO']: YFTzMissingError('possibly delisted; no timezone found')\n",
      "Processing Stocks:  85%|████████▍ | 2470/2919 [31:09<06:34,  1.14it/s]"
     ]
    },
    {
     "name": "stdout",
     "output_type": "stream",
     "text": [
      "Error downloading data: No data found for DHUNTEAIND.BO in the given date range.\n"
     ]
    },
    {
     "name": "stderr",
     "output_type": "stream",
     "text": [
      "[*********************100%***********************]  1 of 1 completed\n",
      "[*********************100%***********************]  1 of 1 completeds]\n",
      "\n",
      "1 Failed download:\n",
      "['SPACEAGE.BO']: YFTzMissingError('possibly delisted; no timezone found')\n",
      "Processing Stocks:  85%|████████▍ | 2472/2919 [31:11<07:33,  1.01s/it]"
     ]
    },
    {
     "name": "stdout",
     "output_type": "stream",
     "text": [
      "Error downloading data: No data found for SPACEAGE.BO in the given date range.\n"
     ]
    },
    {
     "name": "stderr",
     "output_type": "stream",
     "text": [
      "[*********************100%***********************]  1 of 1 completed\n",
      "[*********************100%***********************]  1 of 1 completeds]\n",
      "[*********************100%***********************]  1 of 1 completeds]\n",
      "[*********************100%***********************]  1 of 1 completeds]\n",
      "[*********************100%***********************]  1 of 1 completeds]\n",
      "[*********************100%***********************]  1 of 1 completeds]\n",
      "[*********************100%***********************]  1 of 1 completeds]\n",
      "[*********************100%***********************]  1 of 1 completeds]\n",
      "[*********************100%***********************]  1 of 1 completeds]\n",
      "[*********************100%***********************]  1 of 1 completeds]\n",
      "[*********************100%***********************]  1 of 1 completeds]\n",
      "\n",
      "1 Failed download:\n",
      "['MANVIJAY.BO']: YFTzMissingError('possibly delisted; no timezone found')\n",
      "Processing Stocks:  85%|████████▌ | 2483/2919 [31:17<06:42,  1.08it/s]"
     ]
    },
    {
     "name": "stdout",
     "output_type": "stream",
     "text": [
      "Error downloading data: No data found for MANVIJAY.BO in the given date range.\n"
     ]
    },
    {
     "name": "stderr",
     "output_type": "stream",
     "text": [
      "[*********************100%***********************]  1 of 1 completed\n",
      "\n",
      "1 Failed download:\n",
      "['GRNLAMIND.BO']: YFTzMissingError('possibly delisted; no timezone found')\n",
      "Processing Stocks:  85%|████████▌ | 2484/2919 [31:18<07:52,  1.09s/it]"
     ]
    },
    {
     "name": "stdout",
     "output_type": "stream",
     "text": [
      "Error downloading data: No data found for GRNLAMIND.BO in the given date range.\n"
     ]
    },
    {
     "name": "stderr",
     "output_type": "stream",
     "text": [
      "[*********************100%***********************]  1 of 1 completed\n",
      "[*********************100%***********************]  1 of 1 completeds]\n",
      "\n",
      "1 Failed download:\n",
      "['GBLIL.BO']: YFTzMissingError('possibly delisted; no timezone found')\n",
      "Processing Stocks:  85%|████████▌ | 2486/2919 [31:21<08:44,  1.21s/it]"
     ]
    },
    {
     "name": "stdout",
     "output_type": "stream",
     "text": [
      "Error downloading data: No data found for GBLIL.BO in the given date range.\n"
     ]
    },
    {
     "name": "stderr",
     "output_type": "stream",
     "text": [
      "[*********************100%***********************]  1 of 1 completed\n",
      "[*********************100%***********************]  1 of 1 completeds]\n",
      "[*********************100%***********************]  1 of 1 completeds]\n",
      "[*********************100%***********************]  1 of 1 completeds]\n",
      "\n",
      "1 Failed download:\n",
      "['ASHFL.BO']: YFTzMissingError('possibly delisted; no timezone found')\n",
      "Processing Stocks:  85%|████████▌ | 2490/2919 [31:24<07:38,  1.07s/it]"
     ]
    },
    {
     "name": "stdout",
     "output_type": "stream",
     "text": [
      "Error downloading data: No data found for ASHFL.BO in the given date range.\n"
     ]
    },
    {
     "name": "stderr",
     "output_type": "stream",
     "text": [
      "[*********************100%***********************]  1 of 1 completed\n",
      "[*********************100%***********************]  1 of 1 completeds]\n",
      "[*********************100%***********************]  1 of 1 completeds]\n",
      "\n",
      "1 Failed download:\n",
      "['SVPHOUSING.BO']: YFTzMissingError('possibly delisted; no timezone found')\n",
      "Processing Stocks:  85%|████████▌ | 2493/2919 [31:26<07:51,  1.11s/it]"
     ]
    },
    {
     "name": "stdout",
     "output_type": "stream",
     "text": [
      "Error downloading data: No data found for SVPHOUSING.BO in the given date range.\n"
     ]
    },
    {
     "name": "stderr",
     "output_type": "stream",
     "text": [
      "[*********************100%***********************]  1 of 1 completed\n",
      "[*********************100%***********************]  1 of 1 completeds]\n",
      "[*********************100%***********************]  1 of 1 completeds]\n",
      "\n",
      "1 Failed download:\n",
      "['MANAKSTELTD.BO']: YFTzMissingError('possibly delisted; no timezone found')\n",
      "Processing Stocks:  86%|████████▌ | 2496/2919 [31:29<07:10,  1.02s/it]"
     ]
    },
    {
     "name": "stdout",
     "output_type": "stream",
     "text": [
      "Error downloading data: No data found for MANAKSTELTD.BO in the given date range.\n"
     ]
    },
    {
     "name": "stderr",
     "output_type": "stream",
     "text": [
      "[*********************100%***********************]  1 of 1 completed\n",
      "\n",
      "1 Failed download:\n",
      "['MNKALCOLTD.BO']: YFTzMissingError('possibly delisted; no timezone found')\n",
      "Processing Stocks:  86%|████████▌ | 2497/2919 [31:31<08:50,  1.26s/it]"
     ]
    },
    {
     "name": "stdout",
     "output_type": "stream",
     "text": [
      "Error downloading data: No data found for MNKALCOLTD.BO in the given date range.\n"
     ]
    },
    {
     "name": "stderr",
     "output_type": "stream",
     "text": [
      "[*********************100%***********************]  1 of 1 completed\n",
      "\n",
      "1 Failed download:\n",
      "['MNKCMILTD.BO']: YFTzMissingError('possibly delisted; no timezone found')\n",
      "Processing Stocks:  86%|████████▌ | 2498/2919 [31:32<09:31,  1.36s/it]"
     ]
    },
    {
     "name": "stdout",
     "output_type": "stream",
     "text": [
      "Error downloading data: No data found for MNKCMILTD.BO in the given date range.\n"
     ]
    },
    {
     "name": "stderr",
     "output_type": "stream",
     "text": [
      "[*********************100%***********************]  1 of 1 completed\n",
      "\n",
      "1 Failed download:\n",
      "['ADLABS.BO']: YFTzMissingError('possibly delisted; no timezone found')\n",
      "Processing Stocks:  86%|████████▌ | 2499/2919 [31:35<11:15,  1.61s/it]"
     ]
    },
    {
     "name": "stdout",
     "output_type": "stream",
     "text": [
      "Error downloading data: No data found for ADLABS.BO in the given date range.\n"
     ]
    },
    {
     "name": "stderr",
     "output_type": "stream",
     "text": [
      "[*********************100%***********************]  1 of 1 completed\n",
      "[*********************100%***********************]  1 of 1 completedt]\n",
      "[*********************100%***********************]  1 of 1 completedt]\n",
      "[*********************100%***********************]  1 of 1 completeds]\n",
      "\n",
      "1 Failed download:\n",
      "['YOGYA.BO']: YFTzMissingError('possibly delisted; no timezone found')\n",
      "Processing Stocks:  86%|████████▌ | 2503/2919 [31:38<07:29,  1.08s/it]"
     ]
    },
    {
     "name": "stdout",
     "output_type": "stream",
     "text": [
      "Error downloading data: No data found for YOGYA.BO in the given date range.\n"
     ]
    },
    {
     "name": "stderr",
     "output_type": "stream",
     "text": [
      "[*********************100%***********************]  1 of 1 completed\n",
      "[*********************100%***********************]  1 of 1 completeds]\n",
      "[*********************100%***********************]  1 of 1 completeds]\n",
      "[*********************100%***********************]  1 of 1 completeds]\n",
      "\n",
      "1 Failed download:\n",
      "['HINDSECR.BO']: YFTzMissingError('possibly delisted; no timezone found')\n",
      "Processing Stocks:  86%|████████▌ | 2507/2919 [31:41<06:46,  1.01it/s]"
     ]
    },
    {
     "name": "stdout",
     "output_type": "stream",
     "text": [
      "Error downloading data: No data found for HINDSECR.BO in the given date range.\n"
     ]
    },
    {
     "name": "stderr",
     "output_type": "stream",
     "text": [
      "[*********************100%***********************]  1 of 1 completed\n",
      "[*********************100%***********************]  1 of 1 completeds]\n",
      "\n",
      "1 Failed download:\n",
      "['VRLLOG*.BO']: YFTzMissingError('possibly delisted; no timezone found')\n",
      "Processing Stocks:  86%|████████▌ | 2509/2919 [31:43<07:29,  1.10s/it]"
     ]
    },
    {
     "name": "stdout",
     "output_type": "stream",
     "text": [
      "Error downloading data: No data found for VRLLOG*.BO in the given date range.\n"
     ]
    },
    {
     "name": "stderr",
     "output_type": "stream",
     "text": [
      "[*********************100%***********************]  1 of 1 completed\n",
      "[*********************100%***********************]  1 of 1 completeds]\n",
      "\n",
      "1 Failed download:\n",
      "['BFFL.BO']: YFPricesMissingError('possibly delisted; no price data found  (1d 2012-01-01 -> 2025-01-01) (Yahoo error = \"Data doesn\\'t exist for startDate = 1325356200, endDate = 1735669800\")')\n",
      "Processing Stocks:  86%|████████▌ | 2511/2919 [31:46<10:13,  1.50s/it]"
     ]
    },
    {
     "name": "stdout",
     "output_type": "stream",
     "text": [
      "Error downloading data: No data found for BFFL.BO in the given date range.\n"
     ]
    },
    {
     "name": "stderr",
     "output_type": "stream",
     "text": [
      "[*********************100%***********************]  1 of 1 completed\n",
      "[*********************100%***********************]  1 of 1 completedt]\n",
      "[*********************100%***********************]  1 of 1 completedt]\n",
      "[*********************100%***********************]  1 of 1 completeds]\n",
      "\n",
      "1 Failed download:\n",
      "['CLLIMITED.BO']: YFTzMissingError('possibly delisted; no timezone found')\n",
      "Processing Stocks:  86%|████████▌ | 2515/2919 [31:50<07:50,  1.17s/it]"
     ]
    },
    {
     "name": "stdout",
     "output_type": "stream",
     "text": [
      "Error downloading data: No data found for CLLIMITED.BO in the given date range.\n"
     ]
    },
    {
     "name": "stderr",
     "output_type": "stream",
     "text": [
      "[*********************100%***********************]  1 of 1 completed\n",
      "[*********************100%***********************]  1 of 1 completedt]\n",
      "[*********************100%***********************]  1 of 1 completeds]\n",
      "[*********************100%***********************]  1 of 1 completeds]\n",
      "\n",
      "1 Failed download:\n",
      "['SPISYS.BO']: YFTzMissingError('possibly delisted; no timezone found')\n",
      "Processing Stocks:  86%|████████▋ | 2519/2919 [31:54<07:35,  1.14s/it]"
     ]
    },
    {
     "name": "stdout",
     "output_type": "stream",
     "text": [
      "Error downloading data: No data found for SPISYS.BO in the given date range.\n"
     ]
    },
    {
     "name": "stderr",
     "output_type": "stream",
     "text": [
      "[*********************100%***********************]  1 of 1 completed\n",
      "[*********************100%***********************]  1 of 1 completeds]\n",
      "[*********************100%***********************]  1 of 1 completeds]\n",
      "[*********************100%***********************]  1 of 1 completeds]\n",
      "[*********************100%***********************]  1 of 1 completeds]\n",
      "\n",
      "1 Failed download:\n",
      "['MOONGIPASEC.BO']: YFTzMissingError('possibly delisted; no timezone found')\n",
      "Processing Stocks:  86%|████████▋ | 2524/2919 [31:56<05:12,  1.26it/s]"
     ]
    },
    {
     "name": "stdout",
     "output_type": "stream",
     "text": [
      "Error downloading data: No data found for MOONGIPASEC.BO in the given date range.\n"
     ]
    },
    {
     "name": "stderr",
     "output_type": "stream",
     "text": [
      "[*********************100%***********************]  1 of 1 completed\n",
      "\n",
      "1 Failed download:\n",
      "['NOBPOL.BO']: YFTzMissingError('possibly delisted; no timezone found')\n",
      "Processing Stocks:  87%|████████▋ | 2525/2919 [31:58<06:34,  1.00s/it]"
     ]
    },
    {
     "name": "stdout",
     "output_type": "stream",
     "text": [
      "Error downloading data: No data found for NOBPOL.BO in the given date range.\n"
     ]
    },
    {
     "name": "stderr",
     "output_type": "stream",
     "text": [
      "[*********************100%***********************]  1 of 1 completed\n",
      "[*********************100%***********************]  1 of 1 completeds]\n",
      "[*********************100%***********************]  1 of 1 completeds]\n",
      "[*********************100%***********************]  1 of 1 completeds]\n",
      "\n",
      "1 Failed download:\n",
      "['JUNCTION.BO']: YFTzMissingError('possibly delisted; no timezone found')\n",
      "Processing Stocks:  87%|████████▋ | 2529/2919 [32:00<05:45,  1.13it/s]"
     ]
    },
    {
     "name": "stdout",
     "output_type": "stream",
     "text": [
      "Error downloading data: No data found for JUNCTION.BO in the given date range.\n"
     ]
    },
    {
     "name": "stderr",
     "output_type": "stream",
     "text": [
      "[*********************100%***********************]  1 of 1 completed\n",
      "[*********************100%***********************]  1 of 1 completeds]\n",
      "[*********************100%***********************]  1 of 1 completeds]\n",
      "[*********************100%***********************]  1 of 1 completeds]\n",
      "\n",
      "1 Failed download:\n",
      "['VMV.BO']: YFTzMissingError('possibly delisted; no timezone found')\n",
      "Processing Stocks:  87%|████████▋ | 2533/2919 [32:03<06:14,  1.03it/s]"
     ]
    },
    {
     "name": "stdout",
     "output_type": "stream",
     "text": [
      "Error downloading data: No data found for VMV.BO in the given date range.\n"
     ]
    },
    {
     "name": "stderr",
     "output_type": "stream",
     "text": [
      "[*********************100%***********************]  1 of 1 completed\n",
      "\n",
      "1 Failed download:\n",
      "['AMBITION.BO']: YFTzMissingError('possibly delisted; no timezone found')\n",
      "Processing Stocks:  87%|████████▋ | 2534/2919 [32:05<06:58,  1.09s/it]"
     ]
    },
    {
     "name": "stdout",
     "output_type": "stream",
     "text": [
      "Error downloading data: No data found for AMBITION.BO in the given date range.\n"
     ]
    },
    {
     "name": "stderr",
     "output_type": "stream",
     "text": [
      "[*********************100%***********************]  1 of 1 completed\n",
      "\n",
      "1 Failed download:\n",
      "['JIYAECO.BO']: YFTzMissingError('possibly delisted; no timezone found')\n",
      "Processing Stocks:  87%|████████▋ | 2535/2919 [32:06<07:39,  1.20s/it]"
     ]
    },
    {
     "name": "stdout",
     "output_type": "stream",
     "text": [
      "Error downloading data: No data found for JIYAECO.BO in the given date range.\n"
     ]
    },
    {
     "name": "stderr",
     "output_type": "stream",
     "text": [
      "[*********************100%***********************]  1 of 1 completed\n",
      "\n",
      "1 Failed download:\n",
      "['MDINDUCTO.BO']: YFTzMissingError('possibly delisted; no timezone found')\n",
      "Processing Stocks:  87%|████████▋ | 2536/2919 [32:08<08:27,  1.32s/it]"
     ]
    },
    {
     "name": "stdout",
     "output_type": "stream",
     "text": [
      "Error downloading data: No data found for MDINDUCTO.BO in the given date range.\n"
     ]
    },
    {
     "name": "stderr",
     "output_type": "stream",
     "text": [
      "[*********************100%***********************]  1 of 1 completed\n",
      "[*********************100%***********************]  1 of 1 completedt]\n",
      "[*********************100%***********************]  1 of 1 completeds]\n",
      "\n",
      "1 Failed download:\n",
      "['MRSS.BO']: YFTzMissingError('possibly delisted; no timezone found')\n",
      "Processing Stocks:  87%|████████▋ | 2539/2919 [32:10<06:11,  1.02it/s]"
     ]
    },
    {
     "name": "stdout",
     "output_type": "stream",
     "text": [
      "Error downloading data: No data found for MRSS.BO in the given date range.\n"
     ]
    },
    {
     "name": "stderr",
     "output_type": "stream",
     "text": [
      "[*********************100%***********************]  1 of 1 completed\n",
      "\n",
      "1 Failed download:\n",
      "['CHEMIESYNT.BO']: YFTzMissingError('possibly delisted; no timezone found')\n",
      "Processing Stocks:  87%|████████▋ | 2540/2919 [32:12<07:28,  1.18s/it]"
     ]
    },
    {
     "name": "stdout",
     "output_type": "stream",
     "text": [
      "Error downloading data: No data found for CHEMIESYNT.BO in the given date range.\n"
     ]
    },
    {
     "name": "stderr",
     "output_type": "stream",
     "text": [
      "[*********************100%***********************]  1 of 1 completed\n",
      "[*********************100%***********************]  1 of 1 completedt]\n",
      "[*********************100%***********************]  1 of 1 completeds]\n",
      "\n",
      "1 Failed download:\n",
      "['SCFL.BO']: YFTzMissingError('possibly delisted; no timezone found')\n",
      "Processing Stocks:  87%|████████▋ | 2543/2919 [32:15<07:17,  1.16s/it]"
     ]
    },
    {
     "name": "stdout",
     "output_type": "stream",
     "text": [
      "Error downloading data: No data found for SCFL.BO in the given date range.\n"
     ]
    },
    {
     "name": "stderr",
     "output_type": "stream",
     "text": [
      "[*********************100%***********************]  1 of 1 completed\n",
      "\n",
      "1 Failed download:\n",
      "['SURYAINDIA.BO']: YFTzMissingError('possibly delisted; no timezone found')\n",
      "Processing Stocks:  87%|████████▋ | 2544/2919 [32:16<07:48,  1.25s/it]"
     ]
    },
    {
     "name": "stdout",
     "output_type": "stream",
     "text": [
      "Error downloading data: No data found for SURYAINDIA.BO in the given date range.\n"
     ]
    },
    {
     "name": "stderr",
     "output_type": "stream",
     "text": [
      "[*********************100%***********************]  1 of 1 completed\n",
      "\n",
      "1 Failed download:\n",
      "['ADANITRANS.BO']: YFTzMissingError('possibly delisted; no timezone found')\n",
      "Processing Stocks:  87%|████████▋ | 2545/2919 [32:18<08:48,  1.41s/it]"
     ]
    },
    {
     "name": "stdout",
     "output_type": "stream",
     "text": [
      "Error downloading data: No data found for ADANITRANS.BO in the given date range.\n"
     ]
    },
    {
     "name": "stderr",
     "output_type": "stream",
     "text": [
      "[*********************100%***********************]  1 of 1 completed\n",
      "\n",
      "1 Failed download:\n",
      "['AMRAFIN.BO']: YFTzMissingError('possibly delisted; no timezone found')\n",
      "Processing Stocks:  87%|████████▋ | 2546/2919 [32:20<10:18,  1.66s/it]"
     ]
    },
    {
     "name": "stdout",
     "output_type": "stream",
     "text": [
      "Error downloading data: No data found for AMRAFIN.BO in the given date range.\n"
     ]
    },
    {
     "name": "stderr",
     "output_type": "stream",
     "text": [
      "[*********************100%***********************]  1 of 1 completed\n",
      "\n",
      "1 Failed download:\n",
      "['DRHABEEB.BO']: YFTzMissingError('possibly delisted; no timezone found')\n",
      "Processing Stocks:  87%|████████▋ | 2547/2919 [32:22<09:54,  1.60s/it]"
     ]
    },
    {
     "name": "stdout",
     "output_type": "stream",
     "text": [
      "Error downloading data: No data found for DRHABEEB.BO in the given date range.\n"
     ]
    },
    {
     "name": "stderr",
     "output_type": "stream",
     "text": [
      "[*********************100%***********************]  1 of 1 completed\n",
      "[*********************100%***********************]  1 of 1 completedt]\n",
      "[*********************100%***********************]  1 of 1 completedt]\n",
      "[*********************100%***********************]  1 of 1 completeds]\n",
      "[*********************100%***********************]  1 of 1 completeds]\n",
      "[*********************100%***********************]  1 of 1 completeds]\n",
      "\n",
      "1 Failed download:\n",
      "['ORTINLAABS.BO']: YFTzMissingError('possibly delisted; no timezone found')\n",
      "Processing Stocks:  87%|████████▋ | 2553/2919 [32:26<05:36,  1.09it/s]"
     ]
    },
    {
     "name": "stdout",
     "output_type": "stream",
     "text": [
      "Error downloading data: No data found for ORTINLAABS.BO in the given date range.\n"
     ]
    },
    {
     "name": "stderr",
     "output_type": "stream",
     "text": [
      "[*********************100%***********************]  1 of 1 completed\n",
      "[*********************100%***********************]  1 of 1 completeds]\n",
      "\n",
      "1 Failed download:\n",
      "['MJCO.BO']: YFTzMissingError('possibly delisted; no timezone found')\n",
      "Processing Stocks:  88%|████████▊ | 2555/2919 [32:27<05:38,  1.08it/s]"
     ]
    },
    {
     "name": "stdout",
     "output_type": "stream",
     "text": [
      "Error downloading data: No data found for MJCO.BO in the given date range.\n"
     ]
    },
    {
     "name": "stderr",
     "output_type": "stream",
     "text": [
      "[*********************100%***********************]  1 of 1 completed\n",
      "\n",
      "1 Failed download:\n",
      "['BINDALAGRO.BO']: YFTzMissingError('possibly delisted; no timezone found')\n",
      "Processing Stocks:  88%|████████▊ | 2556/2919 [32:29<06:54,  1.14s/it]"
     ]
    },
    {
     "name": "stdout",
     "output_type": "stream",
     "text": [
      "Error downloading data: No data found for BINDALAGRO.BO in the given date range.\n"
     ]
    },
    {
     "name": "stderr",
     "output_type": "stream",
     "text": [
      "[*********************100%***********************]  1 of 1 completed\n",
      "[*********************100%***********************]  1 of 1 completeds]\n",
      "[*********************100%***********************]  1 of 1 completeds]\n",
      "\n",
      "1 Failed download:\n",
      "['MINDAFIN.BO']: YFTzMissingError('possibly delisted; no timezone found')\n",
      "Processing Stocks:  88%|████████▊ | 2559/2919 [32:32<07:11,  1.20s/it]"
     ]
    },
    {
     "name": "stdout",
     "output_type": "stream",
     "text": [
      "Error downloading data: No data found for MINDAFIN.BO in the given date range.\n"
     ]
    },
    {
     "name": "stderr",
     "output_type": "stream",
     "text": [
      "[*********************100%***********************]  1 of 1 completed\n",
      "[*********************100%***********************]  1 of 1 completedt]\n",
      "\n",
      "1 Failed download:\n",
      "['OYEEEE.BO']: YFTzMissingError('possibly delisted; no timezone found')\n",
      "Processing Stocks:  88%|████████▊ | 2561/2919 [32:34<07:27,  1.25s/it]"
     ]
    },
    {
     "name": "stdout",
     "output_type": "stream",
     "text": [
      "Error downloading data: No data found for OYEEEE.BO in the given date range.\n"
     ]
    },
    {
     "name": "stderr",
     "output_type": "stream",
     "text": [
      "[*********************100%***********************]  1 of 1 completed\n",
      "\n",
      "1 Failed download:\n",
      "['NFIL.BO']: YFTzMissingError('possibly delisted; no timezone found')\n",
      "Processing Stocks:  88%|████████▊ | 2562/2919 [32:37<09:29,  1.60s/it]"
     ]
    },
    {
     "name": "stdout",
     "output_type": "stream",
     "text": [
      "Error downloading data: No data found for NFIL.BO in the given date range.\n"
     ]
    },
    {
     "name": "stderr",
     "output_type": "stream",
     "text": [
      "[*********************100%***********************]  1 of 1 completed\n",
      "[*********************100%***********************]  1 of 1 completedt]\n",
      "[*********************100%***********************]  1 of 1 completeds]\n",
      "[*********************100%***********************]  1 of 1 completeds]\n",
      "\n",
      "1 Failed download:\n",
      "['PENPEBS.BO']: YFTzMissingError('possibly delisted; no timezone found')\n",
      "Processing Stocks:  88%|████████▊ | 2566/2919 [32:40<06:21,  1.08s/it]"
     ]
    },
    {
     "name": "stdout",
     "output_type": "stream",
     "text": [
      "Error downloading data: No data found for PENPEBS.BO in the given date range.\n"
     ]
    },
    {
     "name": "stderr",
     "output_type": "stream",
     "text": [
      "[*********************100%***********************]  1 of 1 completed\n",
      "[*********************100%***********************]  1 of 1 completeds]\n",
      "\n",
      "1 Failed download:\n",
      "['CHPLIND.BO']: YFTzMissingError('possibly delisted; no timezone found')\n",
      "Processing Stocks:  88%|████████▊ | 2568/2919 [32:42<06:40,  1.14s/it]"
     ]
    },
    {
     "name": "stdout",
     "output_type": "stream",
     "text": [
      "Error downloading data: No data found for CHPLIND.BO in the given date range.\n"
     ]
    },
    {
     "name": "stderr",
     "output_type": "stream",
     "text": [
      "[*********************100%***********************]  1 of 1 completed\n",
      "\n",
      "1 Failed download:\n",
      "['GUJGAS.BO']: YFTzMissingError('possibly delisted; no timezone found')\n",
      "Processing Stocks:  88%|████████▊ | 2569/2919 [32:43<06:59,  1.20s/it]"
     ]
    },
    {
     "name": "stdout",
     "output_type": "stream",
     "text": [
      "Error downloading data: No data found for GUJGAS.BO in the given date range.\n"
     ]
    },
    {
     "name": "stderr",
     "output_type": "stream",
     "text": [
      "[*********************100%***********************]  1 of 1 completed\n",
      "[*********************100%***********************]  1 of 1 completeds]\n",
      "[*********************100%***********************]  1 of 1 completeds]\n",
      "\n",
      "1 Failed download:\n",
      "['PRABHAT.BO']: YFTzMissingError('possibly delisted; no timezone found')\n",
      "Processing Stocks:  88%|████████▊ | 2572/2919 [32:46<06:13,  1.08s/it]"
     ]
    },
    {
     "name": "stdout",
     "output_type": "stream",
     "text": [
      "Error downloading data: No data found for PRABHAT.BO in the given date range.\n"
     ]
    },
    {
     "name": "stderr",
     "output_type": "stream",
     "text": [
      "[*********************100%***********************]  1 of 1 completed\n",
      "\n",
      "1 Failed download:\n",
      "['PBFL.BO']: YFTzMissingError('possibly delisted; no timezone found')\n",
      "Processing Stocks:  88%|████████▊ | 2573/2919 [32:48<08:07,  1.41s/it]"
     ]
    },
    {
     "name": "stdout",
     "output_type": "stream",
     "text": [
      "Error downloading data: No data found for PBFL.BO in the given date range.\n"
     ]
    },
    {
     "name": "stderr",
     "output_type": "stream",
     "text": [
      "[*********************100%***********************]  1 of 1 completed\n",
      "[*********************100%***********************]  1 of 1 completedt]\n",
      "\n",
      "1 Failed download:\n",
      "['SKC.BO']: YFTzMissingError('possibly delisted; no timezone found')\n",
      "Processing Stocks:  88%|████████▊ | 2575/2919 [32:51<08:14,  1.44s/it]"
     ]
    },
    {
     "name": "stdout",
     "output_type": "stream",
     "text": [
      "Error downloading data: No data found for SKC.BO in the given date range.\n"
     ]
    },
    {
     "name": "stderr",
     "output_type": "stream",
     "text": [
      "[*********************100%***********************]  1 of 1 completed\n",
      "[*********************100%***********************]  1 of 1 completedt]\n",
      "[*********************100%***********************]  1 of 1 completeds]\n",
      "\n",
      "1 Failed download:\n",
      "['KCL.BO']: YFTzMissingError('possibly delisted; no timezone found')\n",
      "Processing Stocks:  88%|████████▊ | 2578/2919 [32:53<06:03,  1.07s/it]"
     ]
    },
    {
     "name": "stdout",
     "output_type": "stream",
     "text": [
      "Error downloading data: No data found for KCL.BO in the given date range.\n"
     ]
    },
    {
     "name": "stderr",
     "output_type": "stream",
     "text": [
      "[*********************100%***********************]  1 of 1 completed\n",
      "[*********************100%***********************]  1 of 1 completeds]\n",
      "[*********************100%***********************]  1 of 1 completeds]\n",
      "[*********************100%***********************]  1 of 1 completeds]\n",
      "\n",
      "1 Failed download:\n",
      "['VAL.BO']: YFTzMissingError('possibly delisted; no timezone found')\n",
      "Processing Stocks:  88%|████████▊ | 2582/2919 [32:55<04:38,  1.21it/s]"
     ]
    },
    {
     "name": "stdout",
     "output_type": "stream",
     "text": [
      "Error downloading data: No data found for VAL.BO in the given date range.\n"
     ]
    },
    {
     "name": "stderr",
     "output_type": "stream",
     "text": [
      "[*********************100%***********************]  1 of 1 completed\n",
      "\n",
      "1 Failed download:\n",
      "['ARAMBHAN.BO']: YFTzMissingError('possibly delisted; no timezone found')\n",
      "Processing Stocks:  88%|████████▊ | 2583/2919 [32:57<06:45,  1.21s/it]"
     ]
    },
    {
     "name": "stdout",
     "output_type": "stream",
     "text": [
      "Error downloading data: No data found for ARAMBHAN.BO in the given date range.\n"
     ]
    },
    {
     "name": "stderr",
     "output_type": "stream",
     "text": [
      "[*********************100%***********************]  1 of 1 completed\n",
      "[*********************100%***********************]  1 of 1 completeds]\n",
      "[*********************100%***********************]  1 of 1 completeds]\n",
      "[*********************100%***********************]  1 of 1 completeds]\n",
      "[*********************100%***********************]  1 of 1 completeds]\n",
      "[*********************100%***********************]  1 of 1 completeds]\n",
      "[*********************100%***********************]  1 of 1 completeds]\n",
      "[*********************100%***********************]  1 of 1 completeds]\n",
      "\n",
      "1 Failed download:\n",
      "['INDOGLOBAL.BO']: YFTzMissingError('possibly delisted; no timezone found')\n",
      "Processing Stocks:  89%|████████▉ | 2591/2919 [33:02<04:11,  1.30it/s]"
     ]
    },
    {
     "name": "stdout",
     "output_type": "stream",
     "text": [
      "Error downloading data: No data found for INDOGLOBAL.BO in the given date range.\n"
     ]
    },
    {
     "name": "stderr",
     "output_type": "stream",
     "text": [
      "[*********************100%***********************]  1 of 1 completed\n",
      "[*********************100%***********************]  1 of 1 completeds]\n",
      "\n",
      "1 Failed download:\n",
      "['IDFCBANK.BO']: YFTzMissingError('possibly delisted; no timezone found')\n",
      "Processing Stocks:  89%|████████▉ | 2593/2919 [33:04<06:22,  1.17s/it]"
     ]
    },
    {
     "name": "stdout",
     "output_type": "stream",
     "text": [
      "Error downloading data: No data found for IDFCBANK.BO in the given date range.\n"
     ]
    },
    {
     "name": "stderr",
     "output_type": "stream",
     "text": [
      "[*********************100%***********************]  1 of 1 completed\n",
      "\n",
      "1 Failed download:\n",
      "['BEARDSELL.BO']: YFTzMissingError('possibly delisted; no timezone found')\n",
      "Processing Stocks:  89%|████████▉ | 2594/2919 [33:06<07:03,  1.30s/it]"
     ]
    },
    {
     "name": "stdout",
     "output_type": "stream",
     "text": [
      "Error downloading data: No data found for BEARDSELL.BO in the given date range.\n"
     ]
    },
    {
     "name": "stderr",
     "output_type": "stream",
     "text": [
      "[*********************100%***********************]  1 of 1 completed\n",
      "[*********************100%***********************]  1 of 1 completedt]\n",
      "\n",
      "1 Failed download:\n",
      "['IGC.BO']: YFTzMissingError('possibly delisted; no timezone found')\n",
      "Processing Stocks:  89%|████████▉ | 2596/2919 [33:08<06:17,  1.17s/it]"
     ]
    },
    {
     "name": "stdout",
     "output_type": "stream",
     "text": [
      "Error downloading data: No data found for IGC.BO in the given date range.\n"
     ]
    },
    {
     "name": "stderr",
     "output_type": "stream",
     "text": [
      "[*********************100%***********************]  1 of 1 completed\n",
      "[*********************100%***********************]  1 of 1 completeds]\n",
      "\n",
      "1 Failed download:\n",
      "['DASL.BO']: YFTzMissingError('possibly delisted; no timezone found')\n",
      "Processing Stocks:  89%|████████▉ | 2598/2919 [33:10<06:21,  1.19s/it]"
     ]
    },
    {
     "name": "stdout",
     "output_type": "stream",
     "text": [
      "Error downloading data: No data found for DASL.BO in the given date range.\n"
     ]
    },
    {
     "name": "stderr",
     "output_type": "stream",
     "text": [
      "[*********************100%***********************]  1 of 1 completed\n",
      "\n",
      "1 Failed download:\n",
      "['APUNKA.BO']: YFTzMissingError('possibly delisted; no timezone found')\n",
      "Processing Stocks:  89%|████████▉ | 2599/2919 [33:12<07:28,  1.40s/it]"
     ]
    },
    {
     "name": "stdout",
     "output_type": "stream",
     "text": [
      "Error downloading data: No data found for APUNKA.BO in the given date range.\n"
     ]
    },
    {
     "name": "stderr",
     "output_type": "stream",
     "text": [
      "[*********************100%***********************]  1 of 1 completed\n",
      "\n",
      "1 Failed download:\n",
      "['PARIKSHA.BO']: YFTzMissingError('possibly delisted; no timezone found')\n",
      "Processing Stocks:  89%|████████▉ | 2600/2919 [33:14<08:39,  1.63s/it]"
     ]
    },
    {
     "name": "stdout",
     "output_type": "stream",
     "text": [
      "Error downloading data: No data found for PARIKSHA.BO in the given date range.\n"
     ]
    },
    {
     "name": "stderr",
     "output_type": "stream",
     "text": [
      "[*********************100%***********************]  1 of 1 completed\n",
      "[*********************100%***********************]  1 of 1 completedt]\n",
      "\n",
      "1 Failed download:\n",
      "['TFLL.BO']: YFPricesMissingError('possibly delisted; no price data found  (1d 2012-01-01 -> 2025-01-01)')\n",
      "Processing Stocks:  89%|████████▉ | 2602/2919 [33:15<04:58,  1.06it/s]"
     ]
    },
    {
     "name": "stdout",
     "output_type": "stream",
     "text": [
      "Error downloading data: No data found for TFLL.BO in the given date range.\n"
     ]
    },
    {
     "name": "stderr",
     "output_type": "stream",
     "text": [
      "[*********************100%***********************]  1 of 1 completed\n",
      "\n",
      "1 Failed download:\n",
      "['ADHARSHILA.BO']: YFTzMissingError('possibly delisted; no timezone found')\n",
      "Processing Stocks:  89%|████████▉ | 2603/2919 [33:17<06:50,  1.30s/it]"
     ]
    },
    {
     "name": "stdout",
     "output_type": "stream",
     "text": [
      "Error downloading data: No data found for ADHARSHILA.BO in the given date range.\n"
     ]
    },
    {
     "name": "stderr",
     "output_type": "stream",
     "text": [
      "[*********************100%***********************]  1 of 1 completed\n",
      "[*********************100%***********************]  1 of 1 completedt]\n",
      "[*********************100%***********************]  1 of 1 completeds]\n",
      "\n",
      "1 Failed download:\n",
      "['GMLM.BO']: YFTzMissingError('possibly delisted; no timezone found')\n",
      "Processing Stocks:  89%|████████▉ | 2606/2919 [33:20<06:11,  1.19s/it]"
     ]
    },
    {
     "name": "stdout",
     "output_type": "stream",
     "text": [
      "Error downloading data: No data found for GMLM.BO in the given date range.\n"
     ]
    },
    {
     "name": "stderr",
     "output_type": "stream",
     "text": [
      "[*********************100%***********************]  1 of 1 completed\n",
      "[*********************100%***********************]  1 of 1 completeds]\n",
      "[*********************100%***********************]  1 of 1 completeds]\n",
      "\n",
      "1 Failed download:\n",
      "['SHAILJA.BO']: YFTzMissingError('possibly delisted; no timezone found')\n",
      "Processing Stocks:  89%|████████▉ | 2609/2919 [33:22<05:44,  1.11s/it]"
     ]
    },
    {
     "name": "stdout",
     "output_type": "stream",
     "text": [
      "Error downloading data: No data found for SHAILJA.BO in the given date range.\n"
     ]
    },
    {
     "name": "stderr",
     "output_type": "stream",
     "text": [
      "[*********************100%***********************]  1 of 1 completed\n",
      "[*********************100%***********************]  1 of 1 completeds]\n",
      "[*********************100%***********************]  1 of 1 completeds]\n",
      "[*********************100%***********************]  1 of 1 completeds]\n",
      "[*********************100%***********************]  1 of 1 completeds]\n",
      "[*********************100%***********************]  1 of 1 completeds]\n",
      "\n",
      "1 Failed download:\n",
      "['KASHIRAM.BO']: YFTzMissingError('possibly delisted; no timezone found')\n",
      "Processing Stocks:  90%|████████▉ | 2615/2919 [33:26<04:10,  1.21it/s]"
     ]
    },
    {
     "name": "stdout",
     "output_type": "stream",
     "text": [
      "Error downloading data: No data found for KASHIRAM.BO in the given date range.\n"
     ]
    },
    {
     "name": "stderr",
     "output_type": "stream",
     "text": [
      "[*********************100%***********************]  1 of 1 completed\n",
      "[*********************100%***********************]  1 of 1 completeds]\n",
      "[*********************100%***********************]  1 of 1 completeds]\n",
      "[*********************100%***********************]  1 of 1 completeds]\n",
      "[*********************100%***********************]  1 of 1 completeds]\n",
      "[*********************100%***********************]  1 of 1 completeds]\n",
      "\n",
      "1 Failed download:\n",
      "['ABHIJIT.BO']: YFTzMissingError('possibly delisted; no timezone found')\n",
      "Processing Stocks:  90%|████████▉ | 2621/2919 [33:32<08:00,  1.61s/it]"
     ]
    },
    {
     "name": "stdout",
     "output_type": "stream",
     "text": [
      "Error downloading data: No data found for ABHIJIT.BO in the given date range.\n"
     ]
    },
    {
     "name": "stderr",
     "output_type": "stream",
     "text": [
      "[*********************100%***********************]  1 of 1 completed\n",
      "\n",
      "1 Failed download:\n",
      "['ROXY.BO']: YFTzMissingError('possibly delisted; no timezone found')\n",
      "Processing Stocks:  90%|████████▉ | 2622/2919 [33:35<09:16,  1.88s/it]"
     ]
    },
    {
     "name": "stdout",
     "output_type": "stream",
     "text": [
      "Error downloading data: No data found for ROXY.BO in the given date range.\n"
     ]
    },
    {
     "name": "stderr",
     "output_type": "stream",
     "text": [
      "[*********************100%***********************]  1 of 1 completed\n",
      "\n",
      "1 Failed download:\n",
      "['KAYEL.BO']: YFTzMissingError('possibly delisted; no timezone found')\n",
      "Processing Stocks:  90%|████████▉ | 2623/2919 [33:37<09:06,  1.85s/it]"
     ]
    },
    {
     "name": "stdout",
     "output_type": "stream",
     "text": [
      "Error downloading data: No data found for KAYEL.BO in the given date range.\n"
     ]
    },
    {
     "name": "stderr",
     "output_type": "stream",
     "text": [
      "[*********************100%***********************]  1 of 1 completed\n",
      "\n",
      "1 Failed download:\n",
      "['OFSTECH.BO']: YFTzMissingError('possibly delisted; no timezone found')\n",
      "Processing Stocks:  90%|████████▉ | 2624/2919 [33:38<08:15,  1.68s/it]"
     ]
    },
    {
     "name": "stdout",
     "output_type": "stream",
     "text": [
      "Error downloading data: No data found for OFSTECH.BO in the given date range.\n"
     ]
    },
    {
     "name": "stderr",
     "output_type": "stream",
     "text": [
      "[*********************100%***********************]  1 of 1 completed\n",
      "[*********************100%***********************]  1 of 1 completedt]\n",
      "[*********************100%***********************]  1 of 1 completedt]\n",
      "[*********************100%***********************]  1 of 1 completeds]\n",
      "[*********************100%***********************]  1 of 1 completeds]\n",
      "\n",
      "1 Failed download:\n",
      "['ORACLECR.BO']: YFTzMissingError('possibly delisted; no timezone found')\n",
      "Processing Stocks:  90%|█████████ | 2629/2919 [33:41<04:49,  1.00it/s]"
     ]
    },
    {
     "name": "stdout",
     "output_type": "stream",
     "text": [
      "Error downloading data: No data found for ORACLECR.BO in the given date range.\n"
     ]
    },
    {
     "name": "stderr",
     "output_type": "stream",
     "text": [
      "[*********************100%***********************]  1 of 1 completed\n",
      "[*********************100%***********************]  1 of 1 completeds]\n",
      "\n",
      "1 Failed download:\n",
      "['AINFRA.BO']: YFTzMissingError('possibly delisted; no timezone found')\n",
      "Processing Stocks:  90%|█████████ | 2631/2919 [33:43<04:43,  1.02it/s]"
     ]
    },
    {
     "name": "stdout",
     "output_type": "stream",
     "text": [
      "Error downloading data: No data found for AINFRA.BO in the given date range.\n"
     ]
    },
    {
     "name": "stderr",
     "output_type": "stream",
     "text": [
      "[*********************100%***********************]  1 of 1 completed\n",
      "[*********************100%***********************]  1 of 1 completeds]\n",
      "\n",
      "1 Failed download:\n",
      "['AARCOM.BO']: YFTzMissingError('possibly delisted; no timezone found')\n",
      "Processing Stocks:  90%|█████████ | 2633/2919 [33:45<04:49,  1.01s/it]"
     ]
    },
    {
     "name": "stdout",
     "output_type": "stream",
     "text": [
      "Error downloading data: No data found for AARCOM.BO in the given date range.\n"
     ]
    },
    {
     "name": "stderr",
     "output_type": "stream",
     "text": [
      "[*********************100%***********************]  1 of 1 completed\n",
      "[*********************100%***********************]  1 of 1 completeds]\n",
      "\n",
      "1 Failed download:\n",
      "['BVL.BO']: YFTzMissingError('possibly delisted; no timezone found')\n",
      "Processing Stocks:  90%|█████████ | 2635/2919 [33:47<05:16,  1.11s/it]"
     ]
    },
    {
     "name": "stdout",
     "output_type": "stream",
     "text": [
      "Error downloading data: No data found for BVL.BO in the given date range.\n"
     ]
    },
    {
     "name": "stderr",
     "output_type": "stream",
     "text": [
      "[*********************100%***********************]  1 of 1 completed\n",
      "[*********************100%***********************]  1 of 1 completedt]\n",
      "[*********************100%***********************]  1 of 1 completeds]\n",
      "\n",
      "1 Failed download:\n",
      "['SAHYOGMULT.BO']: YFTzMissingError('possibly delisted; no timezone found')\n",
      "Processing Stocks:  90%|█████████ | 2638/2919 [33:51<06:58,  1.49s/it]"
     ]
    },
    {
     "name": "stdout",
     "output_type": "stream",
     "text": [
      "Error downloading data: No data found for SAHYOGMULT.BO in the given date range.\n"
     ]
    },
    {
     "name": "stderr",
     "output_type": "stream",
     "text": [
      "[*********************100%***********************]  1 of 1 completed\n",
      "[*********************100%***********************]  1 of 1 completedt]\n",
      "[*********************100%***********************]  1 of 1 completeds]\n",
      "[*********************100%***********************]  1 of 1 completeds]\n",
      "[*********************100%***********************]  1 of 1 completeds]\n",
      "[*********************100%***********************]  1 of 1 completeds]\n",
      "\n",
      "1 Failed download:\n",
      "['GANGAPHARM.BO']: YFPricesMissingError('possibly delisted; no price data found  (1d 2012-01-01 -> 2025-01-01) (Yahoo error = \"Data doesn\\'t exist for startDate = 1325356200, endDate = 1735669800\")')\n",
      "Processing Stocks:  91%|█████████ | 2644/2919 [33:55<04:37,  1.01s/it]"
     ]
    },
    {
     "name": "stdout",
     "output_type": "stream",
     "text": [
      "Error downloading data: No data found for GANGAPHARM.BO in the given date range.\n"
     ]
    },
    {
     "name": "stderr",
     "output_type": "stream",
     "text": [
      "[*********************100%***********************]  1 of 1 completed\n",
      "\n",
      "1 Failed download:\n",
      "['DAL.BO']: YFTzMissingError('possibly delisted; no timezone found')\n",
      "Processing Stocks:  91%|█████████ | 2645/2919 [33:58<06:23,  1.40s/it]"
     ]
    },
    {
     "name": "stdout",
     "output_type": "stream",
     "text": [
      "Error downloading data: No data found for DAL.BO in the given date range.\n"
     ]
    },
    {
     "name": "stderr",
     "output_type": "stream",
     "text": [
      "[*********************100%***********************]  1 of 1 completed\n",
      "\n",
      "1 Failed download:\n",
      "['SESL.BO']: YFTzMissingError('possibly delisted; no timezone found')\n",
      "Processing Stocks:  91%|█████████ | 2646/2919 [33:59<06:29,  1.43s/it]"
     ]
    },
    {
     "name": "stdout",
     "output_type": "stream",
     "text": [
      "Error downloading data: No data found for SESL.BO in the given date range.\n"
     ]
    },
    {
     "name": "stderr",
     "output_type": "stream",
     "text": [
      "[*********************100%***********************]  1 of 1 completed\n",
      "\n",
      "1 Failed download:\n",
      "['SHIVKAMAL.BO']: YFPricesMissingError('possibly delisted; no price data found  (1d 2012-01-01 -> 2025-01-01)')\n",
      "Processing Stocks:  91%|█████████ | 2647/2919 [33:59<04:56,  1.09s/it]"
     ]
    },
    {
     "name": "stdout",
     "output_type": "stream",
     "text": [
      "Error downloading data: No data found for SHIVKAMAL.BO in the given date range.\n"
     ]
    },
    {
     "name": "stderr",
     "output_type": "stream",
     "text": [
      "[*********************100%***********************]  1 of 1 completed\n",
      "[*********************100%***********************]  1 of 1 completeds]\n",
      "[*********************100%***********************]  1 of 1 completeds]\n",
      "\n",
      "1 Failed download:\n",
      "['HYPERSOFT.BO']: YFPricesMissingError('possibly delisted; no price data found  (1d 2012-01-01 -> 2025-01-01) (Yahoo error = \"Data doesn\\'t exist for startDate = 1325356200, endDate = 1735669800\")')\n",
      "Processing Stocks:  91%|█████████ | 2650/2919 [34:01<03:50,  1.17it/s]"
     ]
    },
    {
     "name": "stdout",
     "output_type": "stream",
     "text": [
      "Error downloading data: No data found for HYPERSOFT.BO in the given date range.\n"
     ]
    },
    {
     "name": "stderr",
     "output_type": "stream",
     "text": [
      "[*********************100%***********************]  1 of 1 completed\n",
      "[*********************100%***********************]  1 of 1 completeds]\n",
      "[*********************100%***********************]  1 of 1 completeds]\n",
      "[*********************100%***********************]  1 of 1 completeds]\n",
      "[*********************100%***********************]  1 of 1 completeds]\n",
      "[*********************100%***********************]  1 of 1 completeds]\n",
      "\n",
      "1 Failed download:\n",
      "['MODCL.BO']: YFTzMissingError('possibly delisted; no timezone found')\n",
      "Processing Stocks:  91%|█████████ | 2656/2919 [34:05<03:34,  1.23it/s]"
     ]
    },
    {
     "name": "stdout",
     "output_type": "stream",
     "text": [
      "Error downloading data: No data found for MODCL.BO in the given date range.\n"
     ]
    },
    {
     "name": "stderr",
     "output_type": "stream",
     "text": [
      "[*********************100%***********************]  1 of 1 completed\n",
      "[*********************100%***********************]  1 of 1 completeds]\n",
      "[*********************100%***********************]  1 of 1 completeds]\n",
      "[*********************100%***********************]  1 of 1 completeds]\n",
      "[*********************100%***********************]  1 of 1 completeds]\n",
      "[*********************100%***********************]  1 of 1 completeds]\n",
      "[*********************100%***********************]  1 of 1 completeds]\n",
      "[*********************100%***********************]  1 of 1 completeds]\n",
      "[*********************100%***********************]  1 of 1 completeds]\n",
      "[*********************100%***********************]  1 of 1 completeds]\n",
      "[*********************100%***********************]  1 of 1 completeds]\n",
      "\n",
      "1 Failed download:\n",
      "['RADHEY.BO']: YFTzMissingError('possibly delisted; no timezone found')\n",
      "Processing Stocks:  91%|█████████▏| 2667/2919 [34:12<03:29,  1.20it/s]"
     ]
    },
    {
     "name": "stdout",
     "output_type": "stream",
     "text": [
      "Error downloading data: No data found for RADHEY.BO in the given date range.\n"
     ]
    },
    {
     "name": "stderr",
     "output_type": "stream",
     "text": [
      "[*********************100%***********************]  1 of 1 completed\n",
      "\n",
      "1 Failed download:\n",
      "['MUDRA.BO']: YFTzMissingError('possibly delisted; no timezone found')\n",
      "Processing Stocks:  91%|█████████▏| 2668/2919 [34:13<04:14,  1.01s/it]"
     ]
    },
    {
     "name": "stdout",
     "output_type": "stream",
     "text": [
      "Error downloading data: No data found for MUDRA.BO in the given date range.\n"
     ]
    },
    {
     "name": "stderr",
     "output_type": "stream",
     "text": [
      "[*********************100%***********************]  1 of 1 completed\n",
      "[*********************100%***********************]  1 of 1 completeds]\n",
      "\n",
      "1 Failed download:\n",
      "['RUBY.BO']: YFTzMissingError('possibly delisted; no timezone found')\n",
      "Processing Stocks:  91%|█████████▏| 2670/2919 [34:15<04:06,  1.01it/s]"
     ]
    },
    {
     "name": "stdout",
     "output_type": "stream",
     "text": [
      "Error downloading data: No data found for RUBY.BO in the given date range.\n"
     ]
    },
    {
     "name": "stderr",
     "output_type": "stream",
     "text": [
      "[*********************100%***********************]  1 of 1 completed\n",
      "[*********************100%***********************]  1 of 1 completeds]\n",
      "\n",
      "1 Failed download:\n",
      "['FRANKLIN.BO']: YFPricesMissingError('possibly delisted; no price data found  (1d 2012-01-01 -> 2025-01-01) (Yahoo error = \"Data doesn\\'t exist for startDate = 1325356200, endDate = 1735669800\")')\n",
      "Processing Stocks:  92%|█████████▏| 2672/2919 [34:16<03:57,  1.04it/s]"
     ]
    },
    {
     "name": "stdout",
     "output_type": "stream",
     "text": [
      "Error downloading data: No data found for FRANKLIN.BO in the given date range.\n"
     ]
    },
    {
     "name": "stderr",
     "output_type": "stream",
     "text": [
      "[*********************100%***********************]  1 of 1 completed\n",
      "[*********************100%***********************]  1 of 1 completeds]\n",
      "\n",
      "1 Failed download:\n",
      "['SYSCO.BO']: YFTzMissingError('possibly delisted; no timezone found')\n",
      "Processing Stocks:  92%|█████████▏| 2674/2919 [34:18<03:56,  1.04it/s]"
     ]
    },
    {
     "name": "stdout",
     "output_type": "stream",
     "text": [
      "Error downloading data: No data found for SYSCO.BO in the given date range.\n"
     ]
    },
    {
     "name": "stderr",
     "output_type": "stream",
     "text": [
      "[*********************100%***********************]  1 of 1 completed\n",
      "[*********************100%***********************]  1 of 1 completeds]\n",
      "\n",
      "1 Failed download:\n",
      "['EQUITAS.BO']: YFTzMissingError('possibly delisted; no timezone found')\n",
      "Processing Stocks:  92%|█████████▏| 2676/2919 [34:20<04:09,  1.03s/it]"
     ]
    },
    {
     "name": "stdout",
     "output_type": "stream",
     "text": [
      "Error downloading data: No data found for EQUITAS.BO in the given date range.\n"
     ]
    },
    {
     "name": "stderr",
     "output_type": "stream",
     "text": [
      "[*********************100%***********************]  1 of 1 completed\n",
      "\n",
      "1 Failed download:\n",
      "['GOLDENCAP.BO']: YFTzMissingError('possibly delisted; no timezone found')\n",
      "Processing Stocks:  92%|█████████▏| 2677/2919 [34:22<05:06,  1.27s/it]"
     ]
    },
    {
     "name": "stdout",
     "output_type": "stream",
     "text": [
      "Error downloading data: No data found for GOLDENCAP.BO in the given date range.\n"
     ]
    },
    {
     "name": "stderr",
     "output_type": "stream",
     "text": [
      "[*********************100%***********************]  1 of 1 completed\n",
      "[*********************100%***********************]  1 of 1 completeds]\n",
      "[*********************100%***********************]  1 of 1 completeds]\n",
      "\n",
      "1 Failed download:\n",
      "['GHUSHINE.BO']: YFTzMissingError('possibly delisted; no timezone found')\n",
      "Processing Stocks:  92%|█████████▏| 2680/2919 [34:24<04:08,  1.04s/it]"
     ]
    },
    {
     "name": "stdout",
     "output_type": "stream",
     "text": [
      "Error downloading data: No data found for GHUSHINE.BO in the given date range.\n"
     ]
    },
    {
     "name": "stderr",
     "output_type": "stream",
     "text": [
      "[*********************100%***********************]  1 of 1 completed\n",
      "[*********************100%***********************]  1 of 1 completeds]\n",
      "[*********************100%***********************]  1 of 1 completeds]\n",
      "\n",
      "1 Failed download:\n",
      "['BRONZE.BO']: YFTzMissingError('possibly delisted; no timezone found')\n",
      "Processing Stocks:  92%|█████████▏| 2683/2919 [34:27<04:17,  1.09s/it]"
     ]
    },
    {
     "name": "stdout",
     "output_type": "stream",
     "text": [
      "Error downloading data: No data found for BRONZE.BO in the given date range.\n"
     ]
    },
    {
     "name": "stderr",
     "output_type": "stream",
     "text": [
      "[*********************100%***********************]  1 of 1 completed\n",
      "\n",
      "1 Failed download:\n",
      "['UJJIVAN.BO']: YFTzMissingError('possibly delisted; no timezone found')\n",
      "Processing Stocks:  92%|█████████▏| 2684/2919 [34:29<04:42,  1.20s/it]"
     ]
    },
    {
     "name": "stdout",
     "output_type": "stream",
     "text": [
      "Error downloading data: No data found for UJJIVAN.BO in the given date range.\n"
     ]
    },
    {
     "name": "stderr",
     "output_type": "stream",
     "text": [
      "[*********************100%***********************]  1 of 1 completed\n",
      "[*********************100%***********************]  1 of 1 completeds]\n",
      "[*********************100%***********************]  1 of 1 completeds]\n",
      "[*********************100%***********************]  1 of 1 completeds]\n",
      "[*********************100%***********************]  1 of 1 completeds]\n",
      "[*********************100%***********************]  1 of 1 completeds]\n",
      "\n",
      "1 Failed download:\n",
      "['DIDL.BO']: YFTzMissingError('possibly delisted; no timezone found')\n",
      "Processing Stocks:  92%|█████████▏| 2690/2919 [34:32<03:28,  1.10it/s]"
     ]
    },
    {
     "name": "stdout",
     "output_type": "stream",
     "text": [
      "Error downloading data: No data found for DIDL.BO in the given date range.\n"
     ]
    },
    {
     "name": "stderr",
     "output_type": "stream",
     "text": [
      "[*********************100%***********************]  1 of 1 completed\n",
      "\n",
      "1 Failed download:\n",
      "['GCL.BO']: YFTzMissingError('possibly delisted; no timezone found')\n",
      "Processing Stocks:  92%|█████████▏| 2691/2919 [34:34<04:36,  1.21s/it]"
     ]
    },
    {
     "name": "stdout",
     "output_type": "stream",
     "text": [
      "Error downloading data: No data found for GCL.BO in the given date range.\n"
     ]
    },
    {
     "name": "stderr",
     "output_type": "stream",
     "text": [
      "[*********************100%***********************]  1 of 1 completed\n",
      "[*********************100%***********************]  1 of 1 completeds]\n",
      "\n",
      "1 Failed download:\n",
      "['NAGARFERT.BO']: YFTzMissingError('possibly delisted; no timezone found')\n",
      "Processing Stocks:  92%|█████████▏| 2693/2919 [34:36<04:00,  1.06s/it]"
     ]
    },
    {
     "name": "stdout",
     "output_type": "stream",
     "text": [
      "Error downloading data: No data found for NAGARFERT.BO in the given date range.\n"
     ]
    },
    {
     "name": "stderr",
     "output_type": "stream",
     "text": [
      "[*********************100%***********************]  1 of 1 completed\n",
      "[*********************100%***********************]  1 of 1 completeds]\n",
      "[*********************100%***********************]  1 of 1 completeds]\n",
      "\n",
      "1 Failed download:\n",
      "['ICLF.BO']: YFTzMissingError('possibly delisted; no timezone found')\n",
      "Processing Stocks:  92%|█████████▏| 2696/2919 [34:39<04:05,  1.10s/it]"
     ]
    },
    {
     "name": "stdout",
     "output_type": "stream",
     "text": [
      "Error downloading data: No data found for ICLF.BO in the given date range.\n"
     ]
    },
    {
     "name": "stderr",
     "output_type": "stream",
     "text": [
      "[*********************100%***********************]  1 of 1 completed\n",
      "[*********************100%***********************]  1 of 1 completeds]\n",
      "[*********************100%***********************]  1 of 1 completeds]\n",
      "[*********************100%***********************]  1 of 1 completeds]\n",
      "[*********************100%***********************]  1 of 1 completeds]\n",
      "[*********************100%***********************]  1 of 1 completeds]\n",
      "\n",
      "1 Failed download:\n",
      "['QFSL.BO']: YFTzMissingError('possibly delisted; no timezone found')\n",
      "Processing Stocks:  93%|█████████▎| 2702/2919 [34:42<02:52,  1.26it/s]"
     ]
    },
    {
     "name": "stdout",
     "output_type": "stream",
     "text": [
      "Error downloading data: No data found for QFSL.BO in the given date range.\n"
     ]
    },
    {
     "name": "stderr",
     "output_type": "stream",
     "text": [
      "[*********************100%***********************]  1 of 1 completed\n",
      "[*********************100%***********************]  1 of 1 completeds]\n",
      "[*********************100%***********************]  1 of 1 completeds]\n",
      "\n",
      "1 Failed download:\n",
      "['DIGJAMLTD.BO']: YFTzMissingError('possibly delisted; no timezone found')\n",
      "Processing Stocks:  93%|█████████▎| 2705/2919 [34:44<03:06,  1.15it/s]"
     ]
    },
    {
     "name": "stdout",
     "output_type": "stream",
     "text": [
      "Error downloading data: No data found for DIGJAMLTD.BO in the given date range.\n"
     ]
    },
    {
     "name": "stderr",
     "output_type": "stream",
     "text": [
      "[*********************100%***********************]  1 of 1 completed\n",
      "\n",
      "1 Failed download:\n",
      "['MAXINDIA.BO']: YFTzMissingError('possibly delisted; no timezone found')\n",
      "Processing Stocks:  93%|█████████▎| 2706/2919 [34:46<03:41,  1.04s/it]"
     ]
    },
    {
     "name": "stdout",
     "output_type": "stream",
     "text": [
      "Error downloading data: No data found for MAXINDIA.BO in the given date range.\n"
     ]
    },
    {
     "name": "stderr",
     "output_type": "stream",
     "text": [
      "[*********************100%***********************]  1 of 1 completed\n",
      "[*********************100%***********************]  1 of 1 completeds]\n",
      "\n",
      "1 Failed download:\n",
      "['SIDH.BO']: YFTzMissingError('possibly delisted; no timezone found')\n",
      "Processing Stocks:  93%|█████████▎| 2708/2919 [34:48<04:00,  1.14s/it]"
     ]
    },
    {
     "name": "stdout",
     "output_type": "stream",
     "text": [
      "Error downloading data: No data found for SIDH.BO in the given date range.\n"
     ]
    },
    {
     "name": "stderr",
     "output_type": "stream",
     "text": [
      "[*********************100%***********************]  1 of 1 completed\n",
      "[*********************100%***********************]  1 of 1 completeds]\n",
      "[*********************100%***********************]  1 of 1 completeds]\n",
      "[*********************100%***********************]  1 of 1 completeds]\n",
      "\n",
      "1 Failed download:\n",
      "['GLOBE.BO']: ValueError('Length mismatch: Expected axis has 2 elements, new values have 1 elements')\n",
      "Processing Stocks:  93%|█████████▎| 2712/2919 [34:50<02:07,  1.62it/s]"
     ]
    },
    {
     "name": "stdout",
     "output_type": "stream",
     "text": [
      "Error downloading data: No data found for GLOBE.BO in the given date range.\n"
     ]
    },
    {
     "name": "stderr",
     "output_type": "stream",
     "text": [
      "[*********************100%***********************]  1 of 1 completed\n",
      "\n",
      "1 Failed download:\n",
      "['LLOYDSTEEL.BO']: YFTzMissingError('possibly delisted; no timezone found')\n",
      "Processing Stocks:  93%|█████████▎| 2713/2919 [34:51<03:08,  1.09it/s]"
     ]
    },
    {
     "name": "stdout",
     "output_type": "stream",
     "text": [
      "Error downloading data: No data found for LLOYDSTEEL.BO in the given date range.\n"
     ]
    },
    {
     "name": "stderr",
     "output_type": "stream",
     "text": [
      "[*********************100%***********************]  1 of 1 completed\n",
      "[*********************100%***********************]  1 of 1 completeds]\n",
      "\n",
      "1 Failed download:\n",
      "['LTI.BO']: YFTzMissingError('possibly delisted; no timezone found')\n",
      "Processing Stocks:  93%|█████████▎| 2715/2919 [34:53<02:57,  1.15it/s]"
     ]
    },
    {
     "name": "stdout",
     "output_type": "stream",
     "text": [
      "Error downloading data: No data found for LTI.BO in the given date range.\n"
     ]
    },
    {
     "name": "stderr",
     "output_type": "stream",
     "text": [
      "[*********************100%***********************]  1 of 1 completed\n",
      "[*********************100%***********************]  1 of 1 completeds]\n",
      "[*********************100%***********************]  1 of 1 completeds]\n",
      "\n",
      "1 Failed download:\n",
      "['PTIL.BO']: YFTzMissingError('possibly delisted; no timezone found')\n",
      "Processing Stocks:  93%|█████████▎| 2718/2919 [34:55<03:09,  1.06it/s]"
     ]
    },
    {
     "name": "stdout",
     "output_type": "stream",
     "text": [
      "Error downloading data: No data found for PTIL.BO in the given date range.\n"
     ]
    },
    {
     "name": "stderr",
     "output_type": "stream",
     "text": [
      "[*********************100%***********************]  1 of 1 completed\n",
      "[*********************100%***********************]  1 of 1 completeds]\n",
      "[*********************100%***********************]  1 of 1 completeds]\n",
      "[*********************100%***********************]  1 of 1 completeds]\n",
      "[*********************100%***********************]  1 of 1 completeds]\n",
      "[*********************100%***********************]  1 of 1 completeds]\n",
      "[*********************100%***********************]  1 of 1 completeds]\n",
      "[*********************100%***********************]  1 of 1 completeds]\n",
      "\n",
      "1 Failed download:\n",
      "['SAIMOH.BO']: YFTzMissingError('possibly delisted; no timezone found')\n",
      "Processing Stocks:  93%|█████████▎| 2726/2919 [35:00<02:30,  1.28it/s]"
     ]
    },
    {
     "name": "stdout",
     "output_type": "stream",
     "text": [
      "Error downloading data: No data found for SAIMOH.BO in the given date range.\n"
     ]
    },
    {
     "name": "stderr",
     "output_type": "stream",
     "text": [
      "[*********************100%***********************]  1 of 1 completed\n",
      "[*********************100%***********************]  1 of 1 completeds]\n",
      "[*********************100%***********************]  1 of 1 completeds]\n",
      "[*********************100%***********************]  1 of 1 completeds]\n",
      "[*********************100%***********************]  1 of 1 completeds]\n",
      "\n",
      "1 Failed download:\n",
      "['NARAYANI.BO']: YFTzMissingError('possibly delisted; no timezone found')\n",
      "Processing Stocks:  94%|█████████▎| 2731/2919 [35:04<02:51,  1.09it/s]"
     ]
    },
    {
     "name": "stdout",
     "output_type": "stream",
     "text": [
      "Error downloading data: No data found for NARAYANI.BO in the given date range.\n"
     ]
    },
    {
     "name": "stderr",
     "output_type": "stream",
     "text": [
      "[*********************100%***********************]  1 of 1 completed\n",
      "\n",
      "1 Failed download:\n",
      "['GOVNOW.BO']: YFTzMissingError('possibly delisted; no timezone found')\n",
      "Processing Stocks:  94%|█████████▎| 2732/2919 [35:06<03:47,  1.22s/it]"
     ]
    },
    {
     "name": "stdout",
     "output_type": "stream",
     "text": [
      "Error downloading data: No data found for GOVNOW.BO in the given date range.\n"
     ]
    },
    {
     "name": "stderr",
     "output_type": "stream",
     "text": [
      "[*********************100%***********************]  1 of 1 completed\n",
      "[*********************100%***********************]  1 of 1 completeds]\n",
      "[*********************100%***********************]  1 of 1 completeds]\n",
      "\n",
      "1 Failed download:\n",
      "['SPICY.BO']: YFTzMissingError('possibly delisted; no timezone found')\n",
      "Processing Stocks:  94%|█████████▎| 2735/2919 [35:08<02:56,  1.05it/s]"
     ]
    },
    {
     "name": "stdout",
     "output_type": "stream",
     "text": [
      "Error downloading data: No data found for SPICY.BO in the given date range.\n"
     ]
    },
    {
     "name": "stderr",
     "output_type": "stream",
     "text": [
      "[*********************100%***********************]  1 of 1 completed\n",
      "[*********************100%***********************]  1 of 1 completeds]\n",
      "\n",
      "1 Failed download:\n",
      "['TAHL.BO']: YFTzMissingError('possibly delisted; no timezone found')\n",
      "Processing Stocks:  94%|█████████▍| 2737/2919 [35:10<03:08,  1.03s/it]"
     ]
    },
    {
     "name": "stdout",
     "output_type": "stream",
     "text": [
      "Error downloading data: No data found for TAHL.BO in the given date range.\n"
     ]
    },
    {
     "name": "stderr",
     "output_type": "stream",
     "text": [
      "[*********************100%***********************]  1 of 1 completed\n",
      "[*********************100%***********************]  1 of 1 completeds]\n",
      "[*********************100%***********************]  1 of 1 completeds]\n",
      "[*********************100%***********************]  1 of 1 completeds]\n",
      "[*********************100%***********************]  1 of 1 completeds]\n",
      "[*********************100%***********************]  1 of 1 completeds]\n",
      "[*********************100%***********************]  1 of 1 completeds]\n",
      "[*********************100%***********************]  1 of 1 completeds]\n",
      "[*********************100%***********************]  1 of 1 completeds]\n",
      "[*********************100%***********************]  1 of 1 completeds]\n",
      "[*********************100%***********************]  1 of 1 completeds]\n",
      "[*********************100%***********************]  1 of 1 completeds]\n",
      "\n",
      "1 Failed download:\n",
      "['BINDALEXPO.BO']: YFTzMissingError('possibly delisted; no timezone found')\n",
      "Processing Stocks:  94%|█████████▍| 2749/2919 [35:17<02:14,  1.26it/s]"
     ]
    },
    {
     "name": "stdout",
     "output_type": "stream",
     "text": [
      "Error downloading data: No data found for BINDALEXPO.BO in the given date range.\n"
     ]
    },
    {
     "name": "stderr",
     "output_type": "stream",
     "text": [
      "[*********************100%***********************]  1 of 1 completed\n",
      "[*********************100%***********************]  1 of 1 completeds]\n",
      "\n",
      "1 Failed download:\n",
      "['DIKSAT.BO']: YFPricesMissingError('possibly delisted; no price data found  (1d 2012-01-01 -> 2025-01-01) (Yahoo error = \"Data doesn\\'t exist for startDate = 1325356200, endDate = 1735669800\")')\n",
      "Processing Stocks:  94%|█████████▍| 2751/2919 [35:20<03:18,  1.18s/it]"
     ]
    },
    {
     "name": "stdout",
     "output_type": "stream",
     "text": [
      "Error downloading data: No data found for DIKSAT.BO in the given date range.\n"
     ]
    },
    {
     "name": "stderr",
     "output_type": "stream",
     "text": [
      "[*********************100%***********************]  1 of 1 completed\n",
      "\n",
      "1 Failed download:\n",
      "['IGRL.BO']: YFTzMissingError('possibly delisted; no timezone found')\n",
      "Processing Stocks:  94%|█████████▍| 2752/2919 [35:21<03:34,  1.29s/it]"
     ]
    },
    {
     "name": "stdout",
     "output_type": "stream",
     "text": [
      "Error downloading data: No data found for IGRL.BO in the given date range.\n"
     ]
    },
    {
     "name": "stderr",
     "output_type": "stream",
     "text": [
      "[*********************100%***********************]  1 of 1 completed\n",
      "[*********************100%***********************]  1 of 1 completedt]\n",
      "[*********************100%***********************]  1 of 1 completeds]\n",
      "[*********************100%***********************]  1 of 1 completeds]\n",
      "[*********************100%***********************]  1 of 1 completeds]\n",
      "[*********************100%***********************]  1 of 1 completeds]\n",
      "[*********************100%***********************]  1 of 1 completeds]\n",
      "\n",
      "1 Failed download:\n",
      "['CMBL.BO']: YFPricesMissingError('possibly delisted; no price data found  (1d 2012-01-01 -> 2025-01-01)')\n",
      "Processing Stocks:  95%|█████████▍| 2759/2919 [35:25<01:30,  1.76it/s]"
     ]
    },
    {
     "name": "stdout",
     "output_type": "stream",
     "text": [
      "Error downloading data: No data found for CMBL.BO in the given date range.\n"
     ]
    },
    {
     "name": "stderr",
     "output_type": "stream",
     "text": [
      "[*********************100%***********************]  1 of 1 completed\n",
      "[*********************100%***********************]  1 of 1 completeds]\n",
      "\n",
      "1 Failed download:\n",
      "['NIDL.BO']: YFTzMissingError('possibly delisted; no timezone found')\n",
      "Processing Stocks:  95%|█████████▍| 2761/2919 [35:27<02:05,  1.26it/s]"
     ]
    },
    {
     "name": "stdout",
     "output_type": "stream",
     "text": [
      "Error downloading data: No data found for NIDL.BO in the given date range.\n"
     ]
    },
    {
     "name": "stderr",
     "output_type": "stream",
     "text": [
      "[*********************100%***********************]  1 of 1 completed\n",
      "[*********************100%***********************]  1 of 1 completeds]\n",
      "\n",
      "1 Failed download:\n",
      "['TMRVL.BO']: YFTzMissingError('possibly delisted; no timezone found')\n",
      "Processing Stocks:  95%|█████████▍| 2763/2919 [35:29<02:52,  1.11s/it]"
     ]
    },
    {
     "name": "stdout",
     "output_type": "stream",
     "text": [
      "Error downloading data: No data found for TMRVL.BO in the given date range.\n"
     ]
    },
    {
     "name": "stderr",
     "output_type": "stream",
     "text": [
      "[*********************100%***********************]  1 of 1 completed\n",
      "\n",
      "1 Failed download:\n",
      "['SIFL.BO']: YFTzMissingError('possibly delisted; no timezone found')\n",
      "Processing Stocks:  95%|█████████▍| 2764/2919 [35:31<03:02,  1.18s/it]"
     ]
    },
    {
     "name": "stdout",
     "output_type": "stream",
     "text": [
      "Error downloading data: No data found for SIFL.BO in the given date range.\n"
     ]
    },
    {
     "name": "stderr",
     "output_type": "stream",
     "text": [
      "[*********************100%***********************]  1 of 1 completed\n",
      "[*********************100%***********************]  1 of 1 completedt]\n",
      "[*********************100%***********************]  1 of 1 completeds]\n",
      "[*********************100%***********************]  1 of 1 completeds]\n",
      "\n",
      "1 Failed download:\n",
      "['VOL.BO']: YFTzMissingError('possibly delisted; no timezone found')\n",
      "Processing Stocks:  95%|█████████▍| 2768/2919 [35:34<02:14,  1.12it/s]"
     ]
    },
    {
     "name": "stdout",
     "output_type": "stream",
     "text": [
      "Error downloading data: No data found for VOL.BO in the given date range.\n"
     ]
    },
    {
     "name": "stderr",
     "output_type": "stream",
     "text": [
      "[*********************100%***********************]  1 of 1 completed\n",
      "[*********************100%***********************]  1 of 1 completeds]\n",
      "[*********************100%***********************]  1 of 1 completeds]\n",
      "[*********************100%***********************]  1 of 1 completeds]\n",
      "\n",
      "1 Failed download:\n",
      "['DHANVARSHA.BO']: YFTzMissingError('possibly delisted; no timezone found')\n",
      "Processing Stocks:  95%|█████████▍| 2772/2919 [35:36<01:59,  1.23it/s]"
     ]
    },
    {
     "name": "stdout",
     "output_type": "stream",
     "text": [
      "Error downloading data: No data found for DHANVARSHA.BO in the given date range.\n"
     ]
    },
    {
     "name": "stderr",
     "output_type": "stream",
     "text": [
      "[*********************100%***********************]  1 of 1 completed\n",
      "[*********************100%***********************]  1 of 1 completeds]\n",
      "\n",
      "1 Failed download:\n",
      "['RAIDEEPIND.BO']: YFPricesMissingError('possibly delisted; no price data found  (1d 2012-01-01 -> 2025-01-01)')\n",
      "Processing Stocks:  95%|█████████▌| 2774/2919 [35:37<01:22,  1.76it/s]"
     ]
    },
    {
     "name": "stdout",
     "output_type": "stream",
     "text": [
      "Error downloading data: No data found for RAIDEEPIND.BO in the given date range.\n"
     ]
    },
    {
     "name": "stderr",
     "output_type": "stream",
     "text": [
      "[*********************100%***********************]  1 of 1 completed\n",
      "[*********************100%***********************]  1 of 1 completeds]\n",
      "[*********************100%***********************]  1 of 1 completeds]\n",
      "[*********************100%***********************]  1 of 1 completeds]\n",
      "\n",
      "1 Failed download:\n",
      "['SUERYAAKNI.BO']: YFPricesMissingError('possibly delisted; no price data found  (1d 2012-01-01 -> 2025-01-01)')\n",
      "Processing Stocks:  95%|█████████▌| 2778/2919 [35:39<01:20,  1.74it/s]"
     ]
    },
    {
     "name": "stdout",
     "output_type": "stream",
     "text": [
      "Error downloading data: No data found for SUERYAAKNI.BO in the given date range.\n"
     ]
    },
    {
     "name": "stderr",
     "output_type": "stream",
     "text": [
      "[*********************100%***********************]  1 of 1 completed\n",
      "[*********************100%***********************]  1 of 1 completeds]\n",
      "[*********************100%***********************]  1 of 1 completeds]\n",
      "[*********************100%***********************]  1 of 1 completeds]\n",
      "\n",
      "1 Failed download:\n",
      "['DWEKAM.BO']: YFTzMissingError('possibly delisted; no timezone found')\n",
      "Processing Stocks:  95%|█████████▌| 2782/2919 [35:42<02:04,  1.10it/s]"
     ]
    },
    {
     "name": "stdout",
     "output_type": "stream",
     "text": [
      "Error downloading data: No data found for DWEKAM.BO in the given date range.\n"
     ]
    },
    {
     "name": "stderr",
     "output_type": "stream",
     "text": [
      "[*********************100%***********************]  1 of 1 completed\n",
      "[*********************100%***********************]  1 of 1 completeds]\n",
      "[*********************100%***********************]  1 of 1 completeds]\n",
      "[*********************100%***********************]  1 of 1 completeds]\n",
      "\n",
      "1 Failed download:\n",
      "['VIATL.BO']: YFTzMissingError('possibly delisted; no timezone found')\n",
      "Processing Stocks:  95%|█████████▌| 2786/2919 [35:45<02:16,  1.03s/it]"
     ]
    },
    {
     "name": "stdout",
     "output_type": "stream",
     "text": [
      "Error downloading data: No data found for VIATL.BO in the given date range.\n"
     ]
    },
    {
     "name": "stderr",
     "output_type": "stream",
     "text": [
      "[*********************100%***********************]  1 of 1 completed\n",
      "[*********************100%***********************]  1 of 1 completeds]\n",
      "\n",
      "1 Failed download:\n",
      "['JDML.BO']: YFTzMissingError('possibly delisted; no timezone found')\n",
      "Processing Stocks:  96%|█████████▌| 2788/2919 [35:48<02:37,  1.20s/it]"
     ]
    },
    {
     "name": "stdout",
     "output_type": "stream",
     "text": [
      "Error downloading data: No data found for JDML.BO in the given date range.\n"
     ]
    },
    {
     "name": "stderr",
     "output_type": "stream",
     "text": [
      "[*********************100%***********************]  1 of 1 completed\n",
      "[*********************100%***********************]  1 of 1 completeds]\n",
      "[*********************100%***********************]  1 of 1 completeds]\n",
      "[*********************100%***********************]  1 of 1 completeds]\n",
      "\n",
      "1 Failed download:\n",
      "['MANAS.BO']: YFTzMissingError('possibly delisted; no timezone found')\n",
      "Processing Stocks:  96%|█████████▌| 2792/2919 [35:50<01:45,  1.21it/s]"
     ]
    },
    {
     "name": "stdout",
     "output_type": "stream",
     "text": [
      "Error downloading data: No data found for MANAS.BO in the given date range.\n"
     ]
    },
    {
     "name": "stderr",
     "output_type": "stream",
     "text": [
      "[*********************100%***********************]  1 of 1 completed\n",
      "[*********************100%***********************]  1 of 1 completeds]\n",
      "[*********************100%***********************]  1 of 1 completeds]\n",
      "[*********************100%***********************]  1 of 1 completeds]\n",
      "[*********************100%***********************]  1 of 1 completeds]\n",
      "\n",
      "1 Failed download:\n",
      "['RELSTRUCT.BO']: YFTzMissingError('possibly delisted; no timezone found')\n",
      "Processing Stocks:  96%|█████████▌| 2797/2919 [35:54<01:46,  1.14it/s]"
     ]
    },
    {
     "name": "stdout",
     "output_type": "stream",
     "text": [
      "Error downloading data: No data found for RELSTRUCT.BO in the given date range.\n"
     ]
    },
    {
     "name": "stderr",
     "output_type": "stream",
     "text": [
      "[*********************100%***********************]  1 of 1 completed\n",
      "\n",
      "1 Failed download:\n",
      "['ESCORP.BO']: YFPricesMissingError('possibly delisted; no price data found  (1d 2012-01-01 -> 2025-01-01) (Yahoo error = \"Data doesn\\'t exist for startDate = 1325356200, endDate = 1735669800\")')\n",
      "Processing Stocks:  96%|█████████▌| 2798/2919 [35:56<02:38,  1.31s/it]"
     ]
    },
    {
     "name": "stdout",
     "output_type": "stream",
     "text": [
      "Error downloading data: No data found for ESCORP.BO in the given date range.\n"
     ]
    },
    {
     "name": "stderr",
     "output_type": "stream",
     "text": [
      "[*********************100%***********************]  1 of 1 completed\n",
      "\n",
      "1 Failed download:\n",
      "['PARMSILK.BO']: YFPricesMissingError('possibly delisted; no price data found  (1d 2012-01-01 -> 2025-01-01)')\n",
      "Processing Stocks:  96%|█████████▌| 2799/2919 [35:56<02:03,  1.03s/it]"
     ]
    },
    {
     "name": "stdout",
     "output_type": "stream",
     "text": [
      "Error downloading data: No data found for PARMSILK.BO in the given date range.\n"
     ]
    },
    {
     "name": "stderr",
     "output_type": "stream",
     "text": [
      "[*********************100%***********************]  1 of 1 completed\n",
      "\n",
      "1 Failed download:\n",
      "['KMSMEDI.BO']: YFTzMissingError('possibly delisted; no timezone found')\n",
      "Processing Stocks:  96%|█████████▌| 2800/2919 [35:58<02:20,  1.18s/it]"
     ]
    },
    {
     "name": "stdout",
     "output_type": "stream",
     "text": [
      "Error downloading data: No data found for KMSMEDI.BO in the given date range.\n"
     ]
    },
    {
     "name": "stderr",
     "output_type": "stream",
     "text": [
      "[*********************100%***********************]  1 of 1 completed\n",
      "\n",
      "1 Failed download:\n",
      "['PGL.BO']: YFTzMissingError('possibly delisted; no timezone found')\n",
      "Processing Stocks:  96%|█████████▌| 2801/2919 [35:59<02:24,  1.22s/it]"
     ]
    },
    {
     "name": "stdout",
     "output_type": "stream",
     "text": [
      "Error downloading data: No data found for PGL.BO in the given date range.\n"
     ]
    },
    {
     "name": "stderr",
     "output_type": "stream",
     "text": [
      "[*********************100%***********************]  1 of 1 completed\n",
      "[*********************100%***********************]  1 of 1 completedt]\n",
      "[*********************100%***********************]  1 of 1 completeds]\n",
      "[*********************100%***********************]  1 of 1 completeds]\n",
      "[*********************100%***********************]  1 of 1 completeds]\n",
      "[*********************100%***********************]  1 of 1 completeds]\n",
      "[*********************100%***********************]  1 of 1 completeds]\n",
      "[*********************100%***********************]  1 of 1 completeds]\n",
      "\n",
      "1 Failed download:\n",
      "['SFIVL.BO']: YFTzMissingError('possibly delisted; no timezone found')\n",
      "Processing Stocks:  96%|█████████▌| 2809/2919 [36:04<01:26,  1.28it/s]"
     ]
    },
    {
     "name": "stdout",
     "output_type": "stream",
     "text": [
      "Error downloading data: No data found for SFIVL.BO in the given date range.\n"
     ]
    },
    {
     "name": "stderr",
     "output_type": "stream",
     "text": [
      "[*********************100%***********************]  1 of 1 completed\n",
      "[*********************100%***********************]  1 of 1 completeds]\n",
      "[*********************100%***********************]  1 of 1 completeds]\n",
      "[*********************100%***********************]  1 of 1 completeds]\n",
      "[*********************100%***********************]  1 of 1 completeds]\n",
      "[*********************100%***********************]  1 of 1 completeds]\n",
      "[*********************100%***********************]  1 of 1 completeds]\n",
      "[*********************100%***********************]  1 of 1 completeds]\n",
      "[*********************100%***********************]  1 of 1 completeds]\n",
      "[*********************100%***********************]  1 of 1 completeds]\n",
      "[*********************100%***********************]  1 of 1 completeds]\n",
      "\n",
      "1 Failed download:\n",
      "['ARTEMIS.BO']: YFTzMissingError('possibly delisted; no timezone found')\n",
      "Processing Stocks:  97%|█████████▋| 2820/2919 [36:09<01:12,  1.36it/s]"
     ]
    },
    {
     "name": "stdout",
     "output_type": "stream",
     "text": [
      "Error downloading data: No data found for ARTEMIS.BO in the given date range.\n"
     ]
    },
    {
     "name": "stderr",
     "output_type": "stream",
     "text": [
      "[*********************100%***********************]  1 of 1 completed\n",
      "\n",
      "1 Failed download:\n",
      "['BHAGYAPROP.BO']: YFTzMissingError('possibly delisted; no timezone found')\n",
      "Processing Stocks:  97%|█████████▋| 2821/2919 [36:11<01:43,  1.06s/it]"
     ]
    },
    {
     "name": "stdout",
     "output_type": "stream",
     "text": [
      "Error downloading data: No data found for BHAGYAPROP.BO in the given date range.\n"
     ]
    },
    {
     "name": "stderr",
     "output_type": "stream",
     "text": [
      "[*********************100%***********************]  1 of 1 completed\n",
      "[*********************100%***********************]  1 of 1 completeds]\n",
      "[*********************100%***********************]  1 of 1 completeds]\n",
      "\n",
      "1 Failed download:\n",
      "['MAGADHSUGAR.BO']: YFTzMissingError('possibly delisted; no timezone found')\n",
      "Processing Stocks:  97%|█████████▋| 2824/2919 [36:13<01:32,  1.03it/s]"
     ]
    },
    {
     "name": "stdout",
     "output_type": "stream",
     "text": [
      "Error downloading data: No data found for MAGADHSUGAR.BO in the given date range.\n"
     ]
    },
    {
     "name": "stderr",
     "output_type": "stream",
     "text": [
      "[*********************100%***********************]  1 of 1 completed\n",
      "[*********************100%***********************]  1 of 1 completeds]\n",
      "[*********************100%***********************]  1 of 1 completeds]\n",
      "\n",
      "1 Failed download:\n",
      "['SINTEXPLAST.BO']: YFTzMissingError('possibly delisted; no timezone found')\n",
      "Processing Stocks:  97%|█████████▋| 2827/2919 [36:15<01:18,  1.18it/s]"
     ]
    },
    {
     "name": "stdout",
     "output_type": "stream",
     "text": [
      "Error downloading data: No data found for SINTEXPLAST.BO in the given date range.\n"
     ]
    },
    {
     "name": "stderr",
     "output_type": "stream",
     "text": [
      "[*********************100%***********************]  1 of 1 completed\n",
      "[*********************100%***********************]  1 of 1 completeds]\n",
      "[*********************100%***********************]  1 of 1 completeds]\n",
      "[*********************100%***********************]  1 of 1 completeds]\n",
      "\n",
      "1 Failed download:\n",
      "['AMML.BO']: YFTzMissingError('possibly delisted; no timezone found')\n",
      "Processing Stocks:  97%|█████████▋| 2831/2919 [36:18<01:11,  1.23it/s]"
     ]
    },
    {
     "name": "stdout",
     "output_type": "stream",
     "text": [
      "Error downloading data: No data found for AMML.BO in the given date range.\n"
     ]
    },
    {
     "name": "stderr",
     "output_type": "stream",
     "text": [
      "[*********************100%***********************]  1 of 1 completed\n",
      "[*********************100%***********************]  1 of 1 completeds]\n",
      "[*********************100%***********************]  1 of 1 completeds]\n",
      "[*********************100%***********************]  1 of 1 completeds]\n",
      "[*********************100%***********************]  1 of 1 completeds]\n",
      "[*********************100%***********************]  1 of 1 completeds]\n",
      "\n",
      "1 Failed download:\n",
      "['RUCHINDLTD.BO']: YFTzMissingError('possibly delisted; no timezone found')\n",
      "Processing Stocks:  97%|█████████▋| 2837/2919 [36:21<00:57,  1.42it/s]"
     ]
    },
    {
     "name": "stdout",
     "output_type": "stream",
     "text": [
      "Error downloading data: No data found for RUCHINDLTD.BO in the given date range.\n"
     ]
    },
    {
     "name": "stderr",
     "output_type": "stream",
     "text": [
      "[*********************100%***********************]  1 of 1 completed\n",
      "\n",
      "1 Failed download:\n",
      "['AMFL.BO']: YFTzMissingError('possibly delisted; no timezone found')\n",
      "Processing Stocks:  97%|█████████▋| 2838/2919 [36:23<01:30,  1.11s/it]"
     ]
    },
    {
     "name": "stdout",
     "output_type": "stream",
     "text": [
      "Error downloading data: No data found for AMFL.BO in the given date range.\n"
     ]
    },
    {
     "name": "stderr",
     "output_type": "stream",
     "text": [
      "[*********************100%***********************]  1 of 1 completed\n",
      "\n",
      "1 Failed download:\n",
      "['NEL.BO']: YFTzMissingError('possibly delisted; no timezone found')\n",
      "Processing Stocks:  97%|█████████▋| 2839/2919 [36:25<01:48,  1.36s/it]"
     ]
    },
    {
     "name": "stdout",
     "output_type": "stream",
     "text": [
      "Error downloading data: No data found for NEL.BO in the given date range.\n"
     ]
    },
    {
     "name": "stderr",
     "output_type": "stream",
     "text": [
      "[*********************100%***********************]  1 of 1 completed\n",
      "[*********************100%***********************]  1 of 1 completedt]\n",
      "[*********************100%***********************]  1 of 1 completeds]\n",
      "[*********************100%***********************]  1 of 1 completeds]\n",
      "[*********************100%***********************]  1 of 1 completeds]\n",
      "[*********************100%***********************]  1 of 1 completeds]\n",
      "\n",
      "1 Failed download:\n",
      "['RELHOME.BO']: YFTzMissingError('possibly delisted; no timezone found')\n",
      "Processing Stocks:  97%|█████████▋| 2845/2919 [36:30<01:15,  1.02s/it]"
     ]
    },
    {
     "name": "stdout",
     "output_type": "stream",
     "text": [
      "Error downloading data: No data found for RELHOME.BO in the given date range.\n"
     ]
    },
    {
     "name": "stderr",
     "output_type": "stream",
     "text": [
      "[*********************100%***********************]  1 of 1 completed\n",
      "[*********************100%***********************]  1 of 1 completeds]\n",
      "[*********************100%***********************]  1 of 1 completeds]\n",
      "[*********************100%***********************]  1 of 1 completeds]\n",
      "[*********************100%***********************]  1 of 1 completeds]\n",
      "\n",
      "1 Failed download:\n",
      "['AKM.BO']: YFTzMissingError('possibly delisted; no timezone found')\n",
      "Processing Stocks:  98%|█████████▊| 2850/2919 [36:35<01:31,  1.33s/it]"
     ]
    },
    {
     "name": "stdout",
     "output_type": "stream",
     "text": [
      "Error downloading data: No data found for AKM.BO in the given date range.\n"
     ]
    },
    {
     "name": "stderr",
     "output_type": "stream",
     "text": [
      "[*********************100%***********************]  1 of 1 completed\n",
      "[*********************100%***********************]  1 of 1 completedt]\n",
      "[*********************100%***********************]  1 of 1 completeds]\n",
      "[*********************100%***********************]  1 of 1 completeds]\n",
      "[*********************100%***********************]  1 of 1 completeds]\n",
      "[*********************100%***********************]  1 of 1 completeds]\n",
      "[*********************100%***********************]  1 of 1 completeds]\n",
      "[*********************100%***********************]  1 of 1 completeds]\n",
      "[*********************100%***********************]  1 of 1 completeds]\n",
      "[*********************100%***********************]  1 of 1 completeds]\n",
      "\n",
      "1 Failed download:\n",
      "['SIDDH.BO']: YFTzMissingError('possibly delisted; no timezone found')\n",
      "Processing Stocks:  98%|█████████▊| 2860/2919 [36:41<00:46,  1.28it/s]"
     ]
    },
    {
     "name": "stdout",
     "output_type": "stream",
     "text": [
      "Error downloading data: No data found for SIDDH.BO in the given date range.\n"
     ]
    },
    {
     "name": "stderr",
     "output_type": "stream",
     "text": [
      "[*********************100%***********************]  1 of 1 completed\n",
      "[*********************100%***********************]  1 of 1 completeds]\n",
      "[*********************100%***********************]  1 of 1 completeds]\n",
      "[*********************100%***********************]  1 of 1 completeds]\n",
      "[*********************100%***********************]  1 of 1 completeds]\n",
      "[*********************100%***********************]  1 of 1 completeds]\n",
      "[*********************100%***********************]  1 of 1 completeds]\n",
      "[*********************100%***********************]  1 of 1 completeds]\n",
      "\n",
      "1 Failed download:\n",
      "['RNAM.BO']: YFTzMissingError('possibly delisted; no timezone found')\n",
      "Processing Stocks:  98%|█████████▊| 2868/2919 [36:45<00:41,  1.23it/s]"
     ]
    },
    {
     "name": "stdout",
     "output_type": "stream",
     "text": [
      "Error downloading data: No data found for RNAM.BO in the given date range.\n"
     ]
    },
    {
     "name": "stderr",
     "output_type": "stream",
     "text": [
      "[*********************100%***********************]  1 of 1 completed\n",
      "[*********************100%***********************]  1 of 1 completeds]\n",
      "[*********************100%***********************]  1 of 1 completeds]\n",
      "[*********************100%***********************]  1 of 1 completeds]\n",
      "[*********************100%***********************]  1 of 1 completeds]\n",
      "[*********************100%***********************]  1 of 1 completeds]\n",
      "[*********************100%***********************]  1 of 1 completeds]\n",
      "[*********************100%***********************]  1 of 1 completeds]\n",
      "\n",
      "1 Failed download:\n",
      "['SENSEXIWIN.BO']: ValueError('Length mismatch: Expected axis has 2 elements, new values have 1 elements')\n",
      "Processing Stocks:  99%|█████████▊| 2876/2919 [36:50<00:22,  1.92it/s]"
     ]
    },
    {
     "name": "stdout",
     "output_type": "stream",
     "text": [
      "Error downloading data: No data found for SENSEXIWIN.BO in the given date range.\n"
     ]
    },
    {
     "name": "stderr",
     "output_type": "stream",
     "text": [
      "[*********************100%***********************]  1 of 1 completed\n",
      "\n",
      "1 Failed download:\n",
      "['TATAMTRDVR.BO']: YFTzMissingError('possibly delisted; no timezone found')\n",
      "Processing Stocks:  99%|█████████▊| 2877/2919 [36:51<00:32,  1.28it/s]"
     ]
    },
    {
     "name": "stdout",
     "output_type": "stream",
     "text": [
      "Error downloading data: No data found for TATAMTRDVR.BO in the given date range.\n"
     ]
    },
    {
     "name": "stderr",
     "output_type": "stream",
     "text": [
      "[*********************100%***********************]  1 of 1 completed\n",
      "[*********************100%***********************]  1 of 1 completeds]\n",
      "\n",
      "1 Failed download:\n",
      "['GUJNREDVR.BO']: YFTzMissingError('possibly delisted; no timezone found')\n",
      "Processing Stocks:  99%|█████████▊| 2879/2919 [36:53<00:36,  1.10it/s]"
     ]
    },
    {
     "name": "stdout",
     "output_type": "stream",
     "text": [
      "Error downloading data: No data found for GUJNREDVR.BO in the given date range.\n"
     ]
    },
    {
     "name": "stderr",
     "output_type": "stream",
     "text": [
      "[*********************100%***********************]  1 of 1 completed\n",
      "[*********************100%***********************]  1 of 1 completeds]\n",
      "\n",
      "1 Failed download:\n",
      "['STAN.BO']: YFTzMissingError('possibly delisted; no timezone found')\n",
      "Processing Stocks:  99%|█████████▊| 2881/2919 [36:55<00:36,  1.04it/s]"
     ]
    },
    {
     "name": "stdout",
     "output_type": "stream",
     "text": [
      "Error downloading data: No data found for STAN.BO in the given date range.\n"
     ]
    },
    {
     "name": "stderr",
     "output_type": "stream",
     "text": [
      "[*********************100%***********************]  1 of 1 completed\n",
      "[*********************100%***********************]  1 of 1 completeds]\n",
      "\n",
      "1 Failed download:\n",
      "['TIDEWATER.BO']: YFTzMissingError('possibly delisted; no timezone found')\n",
      "Processing Stocks:  99%|█████████▉| 2883/2919 [36:57<00:44,  1.22s/it]"
     ]
    },
    {
     "name": "stdout",
     "output_type": "stream",
     "text": [
      "Error downloading data: No data found for TIDEWATER.BO in the given date range.\n"
     ]
    },
    {
     "name": "stderr",
     "output_type": "stream",
     "text": [
      "[*********************100%***********************]  1 of 1 completed\n",
      "[*********************100%***********************]  1 of 1 completedt]\n",
      "[*********************100%***********************]  1 of 1 completeds]\n",
      "\n",
      "1 Failed download:\n",
      "['HISARMET.BO']: YFTzMissingError('possibly delisted; no timezone found')\n",
      "Processing Stocks:  99%|█████████▉| 2886/2919 [37:00<00:35,  1.06s/it]"
     ]
    },
    {
     "name": "stdout",
     "output_type": "stream",
     "text": [
      "Error downloading data: No data found for HISARMET.BO in the given date range.\n"
     ]
    },
    {
     "name": "stderr",
     "output_type": "stream",
     "text": [
      "[*********************100%***********************]  1 of 1 completed\n",
      "[*********************100%***********************]  1 of 1 completeds]\n",
      "[*********************100%***********************]  1 of 1 completeds]\n",
      "[*********************100%***********************]  1 of 1 completeds]\n",
      "[*********************100%***********************]  1 of 1 completeds]\n",
      "[*********************100%***********************]  1 of 1 completeds]\n",
      "[*********************100%***********************]  1 of 1 completeds]\n",
      "[*********************100%***********************]  1 of 1 completeds]\n",
      "\n",
      "1 Failed download:\n",
      "['HARITASEAT.BO']: YFTzMissingError('possibly delisted; no timezone found')\n",
      "Processing Stocks:  99%|█████████▉| 2894/2919 [37:05<00:20,  1.23it/s]"
     ]
    },
    {
     "name": "stdout",
     "output_type": "stream",
     "text": [
      "Error downloading data: No data found for HARITASEAT.BO in the given date range.\n"
     ]
    },
    {
     "name": "stderr",
     "output_type": "stream",
     "text": [
      "[*********************100%***********************]  1 of 1 completed\n",
      "[*********************100%***********************]  1 of 1 completeds]\n",
      "\n",
      "1 Failed download:\n",
      "['SALONACOT.BO']: YFTzMissingError('possibly delisted; no timezone found')\n",
      "Processing Stocks:  99%|█████████▉| 2896/2919 [37:07<00:24,  1.06s/it]"
     ]
    },
    {
     "name": "stdout",
     "output_type": "stream",
     "text": [
      "Error downloading data: No data found for SALONACOT.BO in the given date range.\n"
     ]
    },
    {
     "name": "stderr",
     "output_type": "stream",
     "text": [
      "[*********************100%***********************]  1 of 1 completed\n",
      "[*********************100%***********************]  1 of 1 completeds]\n",
      "[*********************100%***********************]  1 of 1 completeds]\n",
      "[*********************100%***********************]  1 of 1 completeds]\n",
      "[*********************100%***********************]  1 of 1 completeds]\n",
      "[*********************100%***********************]  1 of 1 completeds]\n",
      "[*********************100%***********************]  1 of 1 completeds]\n",
      "[*********************100%***********************]  1 of 1 completeds]\n",
      "[*********************100%***********************]  1 of 1 completeds]\n",
      "[*********************100%***********************]  1 of 1 completeds]\n",
      "[*********************100%***********************]  1 of 1 completeds]\n",
      "\n",
      "1 Failed download:\n",
      "['LOHIASEC.BO']: YFTzMissingError('possibly delisted; no timezone found')\n",
      "Processing Stocks: 100%|█████████▉| 2907/2919 [37:14<00:10,  1.11it/s]"
     ]
    },
    {
     "name": "stdout",
     "output_type": "stream",
     "text": [
      "Error downloading data: No data found for LOHIASEC.BO in the given date range.\n"
     ]
    },
    {
     "name": "stderr",
     "output_type": "stream",
     "text": [
      "[*********************100%***********************]  1 of 1 completed\n",
      "[*********************100%***********************]  1 of 1 completeds]\n",
      "[*********************100%***********************]  1 of 1 completeds]\n",
      "[*********************100%***********************]  1 of 1 completeds]\n",
      "[*********************100%***********************]  1 of 1 completeds]\n",
      "\n",
      "1 Failed download:\n",
      "['KOTAKPSUBK.BO']: YFTzMissingError('possibly delisted; no timezone found')\n",
      "Processing Stocks: 100%|█████████▉| 2912/2919 [37:17<00:05,  1.22it/s]"
     ]
    },
    {
     "name": "stdout",
     "output_type": "stream",
     "text": [
      "Error downloading data: No data found for KOTAKPSUBK.BO in the given date range.\n"
     ]
    },
    {
     "name": "stderr",
     "output_type": "stream",
     "text": [
      "[*********************100%***********************]  1 of 1 completed\n",
      "[*********************100%***********************]  1 of 1 completeds]\n",
      "[*********************100%***********************]  1 of 1 completeds]\n",
      "[*********************100%***********************]  1 of 1 completeds]\n",
      "\n",
      "1 Failed download:\n",
      "['M50.BO']: YFTzMissingError('possibly delisted; no timezone found')\n",
      "Processing Stocks: 100%|█████████▉| 2916/2919 [37:21<00:03,  1.02s/it]"
     ]
    },
    {
     "name": "stdout",
     "output_type": "stream",
     "text": [
      "Error downloading data: No data found for M50.BO in the given date range.\n"
     ]
    },
    {
     "name": "stderr",
     "output_type": "stream",
     "text": [
      "[*********************100%***********************]  1 of 1 completed\n",
      "\n",
      "1 Failed download:\n",
      "['GRADIENTE.BO']: YFTzMissingError('possibly delisted; no timezone found')\n",
      "Processing Stocks: 100%|█████████▉| 2917/2919 [37:22<00:02,  1.15s/it]"
     ]
    },
    {
     "name": "stdout",
     "output_type": "stream",
     "text": [
      "Error downloading data: No data found for GRADIENTE.BO in the given date range.\n"
     ]
    },
    {
     "name": "stderr",
     "output_type": "stream",
     "text": [
      "[*********************100%***********************]  1 of 1 completed\n",
      "[*********************100%***********************]  1 of 1 completeds]\n",
      "Processing Stocks: 100%|██████████| 2919/2919 [37:23<00:00,  1.30it/s]"
     ]
    },
    {
     "name": "stdout",
     "output_type": "stream",
     "text": [
      "Total delisted stocks: 822\n"
     ]
    },
    {
     "name": "stderr",
     "output_type": "stream",
     "text": [
      "\n"
     ]
    }
   ],
   "source": [
    "import yfinance as yf\n",
    "import pandas as pd\n",
    "from tqdm import tqdm\n",
    "\n",
    "start_date = '2012-01-01'\n",
    "end_date = '2025-01-01'\n",
    "\n",
    "list_of_close_price = []\n",
    "delisted_stocks = []\n",
    "\n",
    "for idx in tqdm(range(data_equity_active.shape[0]), desc=\"Processing Stocks\"):\n",
    "    equity = data_equity_active.loc[idx, 'Security Id'] + '.BO'\n",
    "\n",
    "    stock_data = download_data(equity, start_date, end_date)\n",
    "\n",
    "    if stock_data is None:\n",
    "        delisted_stocks.append(equity.split('.')[0])\n",
    "    else:\n",
    "        close_prices = stock_data['Close'].dropna().values.tolist()\n",
    "\n",
    "        if not close_prices:\n",
    "            delisted_stocks.append(equity.split('.')[0])\n",
    "        else:\n",
    "            list_of_close_price.append(close_prices)\n",
    "\n",
    "delisted_stocks_df = pd.DataFrame(delisted_stocks, columns=[\"Delisted Stocks\"])\n",
    "print(f\"Total delisted stocks: {len(delisted_stocks)}\")"
   ]
  },
  {
   "cell_type": "code",
   "execution_count": 8,
   "metadata": {},
   "outputs": [],
   "source": [
    "for del_stock in delisted_stocks:\n",
    "    data_equity_active = data_equity_active[data_equity_active['Security Id'] !=del_stock ]\n",
    "data_equity_active.to_csv('assets/Stock_data_only_listed.csv')"
   ]
  },
  {
   "cell_type": "code",
   "execution_count": 9,
   "metadata": {},
   "outputs": [],
   "source": [
    "data_equity_active = pd.read_csv('assets/Stock_data_only_listed.csv')\n",
    "data_equity_active  = data_equity_active.drop(['Unnamed: 0'],axis=1)\n",
    "ticker  = list(data_equity_active['Security Id'] +'.BO')"
   ]
  },
  {
   "cell_type": "code",
   "execution_count": 10,
   "metadata": {},
   "outputs": [
    {
     "name": "stdout",
     "output_type": "stream",
     "text": [
      "2097\n"
     ]
    }
   ],
   "source": [
    "print(len(data_equity_active))"
   ]
  },
  {
   "cell_type": "code",
   "execution_count": 11,
   "metadata": {},
   "outputs": [
    {
     "name": "stderr",
     "output_type": "stream",
     "text": [
      "[*********************100%***********************]  2097 of 2097 completed\n"
     ]
    }
   ],
   "source": [
    "start_date = '2012-01-01'\n",
    "end_date = '2025-01-01'\n",
    "\n",
    "stock_data_close = yf.download(ticker,start_date,end_date).Close\n",
    "stock_data_close = stock_data_close.T\n",
    "\n",
    "pd.DataFrame(stock_data_close).to_csv('assets/Closing_price.csv')"
   ]
  },
  {
   "cell_type": "code",
   "execution_count": 12,
   "metadata": {},
   "outputs": [
    {
     "name": "stdout",
     "output_type": "stream",
     "text": [
      "Total Deleted Rows (more than 20% NaN): 978\n",
      "Columns removed (more than 20% NaN): 196\n"
     ]
    }
   ],
   "source": [
    "df = pd.read_csv('assets/Closing_price.csv')\n",
    "total_rows = df.shape[0]\n",
    "\n",
    "row_threshold = int(0.2 * df.shape[1])\n",
    "df = df[df.isnull().sum(axis=1) <= row_threshold]\n",
    "\n",
    "removed_rows = total_rows - df.shape[0]\n",
    "print(f\"Total Deleted Rows (more than 20% NaN): {removed_rows}\")\n",
    "\n",
    "col_threshold = int(0.2 * df.shape[0])\n",
    "empty_columns = df.columns[df.isnull().sum() > col_threshold]\n",
    "print(f\"Columns removed (more than 20% NaN): {len(empty_columns)}\")\n",
    "\n",
    "df = df.drop(columns=empty_columns)\n",
    "\n",
    "df.iloc[:, 1:] = df.iloc[:, 1:].apply(pd.to_numeric, errors='coerce')\n",
    "df.iloc[:, 1:] = df.iloc[:, 1:].interpolate(method='linear', axis=1, limit_direction='both')\n",
    "\n",
    "df.to_csv('assets/Closing_price_combined.csv', index=False)\n"
   ]
  },
  {
   "cell_type": "code",
   "execution_count": 13,
   "metadata": {},
   "outputs": [
    {
     "name": "stdout",
     "output_type": "stream",
     "text": [
      "Split complete!\n"
     ]
    }
   ],
   "source": [
    "df = pd.read_csv('assets/Closing_price_combined.csv')\n",
    "all_columns = df.columns.tolist()\n",
    "ticker_column = all_columns[0] \n",
    "date_columns = all_columns[1:] \n",
    "date_columns_dt = pd.to_datetime(date_columns)\n",
    "\n",
    "dates_upto_2022 = date_columns_dt[date_columns_dt.year <= 2022].strftime('%Y-%m-%d').tolist()\n",
    "dates_from_2023 = date_columns_dt[date_columns_dt.year >= 2023].strftime('%Y-%m-%d').tolist()\n",
    "df_upto_2022 = df[['Ticker'] + dates_upto_2022]\n",
    "df_from_2023 = df[['Ticker'] + dates_from_2023]\n",
    "\n",
    "df_upto_2022.to_csv('assets/Closing_price_upto_2022.csv', index=False)\n",
    "df_from_2023.to_csv('assets/Closing_price_from_2023.csv', index=False)\n",
    "\n",
    "print(\"Split complete!\")\n"
   ]
  }
 ],
 "metadata": {
  "kernelspec": {
   "display_name": "virtual",
   "language": "python",
   "name": "python3"
  },
  "language_info": {
   "codemirror_mode": {
    "name": "ipython",
    "version": 3
   },
   "file_extension": ".py",
   "mimetype": "text/x-python",
   "name": "python",
   "nbconvert_exporter": "python",
   "pygments_lexer": "ipython3",
   "version": "3.10.8"
  }
 },
 "nbformat": 4,
 "nbformat_minor": 2
}
